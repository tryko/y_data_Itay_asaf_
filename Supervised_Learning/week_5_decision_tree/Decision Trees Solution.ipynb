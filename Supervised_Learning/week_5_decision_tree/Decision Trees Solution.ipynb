{
 "cells": [
  {
   "cell_type": "markdown",
   "metadata": {
    "id": "Cg047ujRBmtU"
   },
   "source": [
    "# Decision Trees Exercise\n",
    "In this exercise you will show that ID3 is sub-optimal. Implement a simple version of Decision Tree, and will then apply a Decision Tree classsifier on the MNIST hand written digits dataset that we already saw."
   ]
  },
  {
   "cell_type": "markdown",
   "metadata": {
    "id": "osXAmT5y4iM8"
   },
   "source": [
    "## Suboptimality of ID3\n",
    "Consider the following training set, where $\\mathcal{X} = \\{0, 1\\}^3$ and $\\mathcal{Y} =\\{0, 1\\}$:\n",
    "\n",
    "$$\n",
    "\\begin{aligned}\n",
    "((1, 1, 1), 1)\\\\\n",
    "((1, 0, 0), 1)\\\\\n",
    "((1, 1, 0), 0)\\\\\n",
    "((0, 0, 1), 0)\n",
    "\\end{aligned}\n",
    "$$\n",
    "\n",
    "Suppose we wish to use this training set in order to build a decision tree of depth 2 (i.e. for each\n",
    "input we are allowed to ask two questions of the form \"$x_i = 0$?\" before deciding on the label).\n",
    "\n",
    "1. Suppose we run the ID3 algorithm up to depth 2 (namely, we pick the root node and its\n",
    "children according to the algorithm, but instead of keeping on with the recursion, we stop\n",
    "and pick leaves according to the majority label in each subtree, once we reach depth 2). \n",
    "Assume that the subroutine used to measure the quality of each feature is based on the information gain, and that if two features get the same score, one of them is picked arbitrarily. \n",
    "Show that the training error of the resulting decision tree is at least 1/4.\n",
    "2. Find a decision tree of depth 2, which attains zero training error.\n"
   ]
  },
  {
   "cell_type": "markdown",
   "metadata": {
    "id": "xC7Anlwu50XD"
   },
   "source": [
    "#### Answer\n",
    "The **entropy** of a given node with a sample set $S$ is defined as \n",
    "\n",
    "$$\n",
    "\\Pr(y|S)=p \\quad\\Longrightarrow\\quad H(S)=-p\\log p-(1-p)\\log (1-p)\n",
    "$$\n",
    "\n",
    "\n",
    "The **information gain** is defined as the weighted reduction in entropy.\n",
    "\n",
    "Assume that the set at the current node we wish to split is denoted $S_\\text{parent}$, its subset of samples with property $i$ being 1 is denoted $S_{x_i}$, and its subset of samples with property $i$ being 0 is denoted $S_{\\lnot x_i}$.\n",
    "\n",
    "So, the gain of splitting based on property $i$, it is defined as follows\n",
    "\n",
    "$$\n",
    "\\text{Gain}(S_\\text{parent}, i) = H(S_\\text{parent}) - \\left(\\Pr(x_i|S_\\text{parent})H(S_{x_i}) + \\Pr(\\lnot x_i|S_\\text{parent})H(S_{\\lnot x_i})\\right)\n",
    "$$\n",
    "\n",
    "But the first term is constant for all attributes $i$, so we just need to choose the attribute $i$ which minimizes the weighted entropy of the sub-sets. Let's mark this as $H_\\mathrm{w}(S,i)$, so \n",
    "\n",
    "$$\n",
    "\\text{Gain}(S_\\text{parent}, i) = H(S_\\text{parent}) - H_\\mathrm{w}(S_\\text{parent},i)\n",
    "$$\n",
    "\n",
    "and we want to find in each split \n",
    "$$i = \\arg\\min_i H_\\mathrm{w}(S_\\text{parent},i)$$\n",
    "\n",
    "Last, we note that if the subset is completly pure (all labels of the subset are the same), the entropy is defined as zero.\n",
    "\n",
    "---\n",
    "1.   Root split:\n",
    "\n",
    "  We have that\n",
    "  $$\n",
    "  H_\\mathrm{w}(S_\\text{root},1) = \\tfrac{3}{4}(-\\tfrac{2}{3}\\log \\tfrac{2}{3} - \\tfrac{1}{3}\\log \\tfrac{1}{3}) + \\tfrac{1}{4}(0) \\approx 0.688\\\\\n",
    "  H_\\mathrm{w}(S_\\text{root},2) = H_\\mathrm{w}(S_\\text{root},3) = \\tfrac{1}{2}(-\\tfrac{1}{2}\\log \\tfrac{1}{2} - \\tfrac{1}{2}\\log \\tfrac{1}{2}) + \\tfrac{1}{2}(-\\tfrac{1}{2}\\log \\tfrac{1}{2} - \\tfrac{1}{2}\\log \\tfrac{1}{2})=1\n",
    "  $$\n",
    "\n",
    "  and since $H_\\mathrm{w}(S_\\text{root},1) < H_\\mathrm{w}(S_\\text{root},2) = H_\\mathrm{w}(S_\\text{root},3)$ we choose to first split on attribute 1.\n",
    "\n",
    "\n",
    "2.   Now, we have two sets: $S_{\\lnot x_1}$ which contains only one sample (so we will not split it anymore (it is pure by definition) - if you reach that leaf you will get the label 0. The other set is $S_{x_1}$ which contains all the samples with first coordinate set to 1. Let's check how we will split this node.\n",
    "\n",
    "  $$\n",
    "  H_\\mathrm{w}(S_{x_1},2) = \\tfrac{2}{3}(-\\tfrac{1}{2}\\log \\tfrac{1}{2} - \\tfrac{1}{2}\\log \\tfrac{1}{2}) + \\tfrac{1}{3}(0) = \\tfrac{2}{3}\\\\\n",
    "  H_\\mathrm{w}(S_{x_1},3) = \\tfrac{1}{3}(0) + \\tfrac{2}{3}(-\\tfrac{1}{2}\\log \\tfrac{1}{2} - \\tfrac{1}{2}\\log \\tfrac{1}{2}) = \\tfrac{2}{3}\n",
    "  $$\n",
    "  \n",
    "  This is the same, so we can randomly choose to split on attribute 2 (one of the nodes will have one sample, and hence also one label, while the other node will have two samples with different labels).\n",
    "\n",
    "3. There are no more splits since we got to depth 2 as requiered.\n",
    "\n",
    "---\n",
    "Now, let's test what is the training error of the tree we created. The train error is simply the number of samples in terminal nodes which have a label other than the majority vote in this leaf. In our case, we have 3 terminal nodes, two of which hold one sample (hence are pure and have no training error), and one terminal node which has two samples in it: \n",
    "\n",
    "$$\n",
    "\\begin{aligned}\n",
    "((1, 1, 1), 1)\\\\\\\n",
    "((1, 1, 0), 0)\n",
    "\\end{aligned}\n",
    "$$\n",
    "\n",
    "In this case, the label for this terminal node is picked arbitrarily to be either 0 or 1, but whatever we choose, we will be left with one example on which we make an error. So the overall train error rate for this tree is $1/4$ (as was required to show).\n",
    "\n",
    "---\n",
    "Last, let's describe a tree of depth 2 which has zero train error rate:\n",
    "\n",
    "  *\"First, split on attribute 2, then, in each sub-node, split on attribute 3. Ignore attribute 1 completely.\"*\n",
    "\n",
    "Verify that indeed this tree has zero train error rate."
   ]
  },
  {
   "cell_type": "code",
   "execution_count": 1,
   "metadata": {
    "colab": {
     "base_uri": "https://localhost:8080/"
    },
    "executionInfo": {
     "elapsed": 1872,
     "status": "ok",
     "timestamp": 1611434732172,
     "user": {
      "displayName": "Slava Mironov",
      "photoUrl": "",
      "userId": "13726909368929337564"
     },
     "user_tz": -120
    },
    "id": "fR1RJoi4OBJz",
    "outputId": "9a2157b8-5626-4afb-bc80-babde726c1bc"
   },
   "outputs": [
    {
     "name": "stdout",
     "output_type": "stream",
     "text": [
      "0.6887218755408672 1.0 0.6666666666666666\n"
     ]
    }
   ],
   "source": [
    "import numpy as np\n",
    "hw1 = 3/4 * (-2/3 * np.log2(2/3) - 1/3 * np.log2(1/3)) + 1/4*0\n",
    "hw2 = 1/2 * (-1/2 * np.log2(1/2) - 1/2 * np.log2(1/2)) * 2\n",
    "hw3 = 2/3 * (-1/2 * np.log2(1/2) - 1/2 * np.log2(1/2)) + 1/3*0\n",
    "print(hw1, hw2, hw3)"
   ]
  },
  {
   "cell_type": "markdown",
   "metadata": {
    "id": "tLXpoHg64HlD"
   },
   "source": [
    "## Implementing Decision Tree From Scratch\n",
    "In this exercise you will need to implement a simple version of Random Forest from scratch. Your decision tree will handle **continuous input and output** (this should actually work also for binary input attributes). \n",
    "\n",
    "* Compelete the skeleton class below (hint: you should also create a `DecisionTree` class that the `TreeEnsemble` will use)\n",
    "  - `X` is a matrix of data values (rows are samples, columns are attributes)\n",
    "  - `y` is a vector of corresponding target values\n",
    "  - `min_leaf` is the minimal number of samples in each leaf node of each tree in the forest\n",
    "  \n",
    "* For splitting criterion, use either **\"Train Squared Error Minimization (Reduction in Variance)\"** or **\"Train Absolute Error Minimization\"** (choose one). Whatever you choose, make sure you implement the splitting point decision efficiently (in $O(n\\log n)$ time, where $n$ is the number of samples in the current node).\n",
    "\n",
    "* The `predict` function will use mean of the target values in the leaf node matching each row of the given `X`. The result is a vector of predictions matching the number of rows in `X`.\n",
    "\n",
    "* To check your random forest implementation, use the bostom dataset (`from sklearn.datasets import load_boston`)\n",
    "\n",
    "  - Use the following to estimate what are the best hyper parameters to use for your model\n",
    "```\n",
    "    for min_leaf in [1,5]:\n",
    "      forest = TreeEnsemble(X, y, n, sz, min_leaf)\n",
    "      mse = forest.oob_mse()\n",
    "      print(\"n_trees:{0}, sz:{1}, min_leaf:{2} --- oob mse: {3}\".format(n, sz, min_leaf, mse))\n",
    "```\n",
    "  \n",
    "  - Using your chosen hyperparameters as a final model, plot the predictions vs. true values of all the samples in the training set . Use something like:\n",
    "  ```\n",
    "  y_hat = forest.predict(X)  # forest is the chosen model\n",
    "  plt.scatter(y_hat, y)\n",
    "  ```\n",
    "  \n",
    "\n"
   ]
  },
  {
   "cell_type": "markdown",
   "metadata": {
    "id": "-Js-GI2eMOr7"
   },
   "source": [
    "#### Answer"
   ]
  },
  {
   "cell_type": "code",
   "execution_count": 166,
   "metadata": {
    "executionInfo": {
     "elapsed": 2349,
     "status": "ok",
     "timestamp": 1611434732656,
     "user": {
      "displayName": "Slava Mironov",
      "photoUrl": "",
      "userId": "13726909368929337564"
     },
     "user_tz": -120
    },
    "id": "_GTTE4uV4UY6"
   },
   "outputs": [],
   "source": [
    "class DecisionTree():\n",
    "  def __init__(self, X, y, attribute_names, min_leaf=5, reset_node_id=False):\n",
    "    self.X, self.y, self.attribute_names, self.min_leaf = \\\n",
    "      X, y, attribute_names, min_leaf\n",
    "    self.n, self.c = X.shape\n",
    "    assert self.c == len(attribute_names)\n",
    "    self.value = np.mean(y)\n",
    "    self.score = float('inf')\n",
    "    self._find_varsplit()\n",
    "    \n",
    "  def _find_varsplit(self):\n",
    "    for j in range(self.c): \n",
    "      self._find_better_split(j)\n",
    "    if self.score == float('inf'): \n",
    "      return\n",
    "    Xj = self.split_col\n",
    "    lhs = np.nonzero(Xj <= self.split_value)[0]\n",
    "    rhs = np.nonzero(Xj > self.split_value)[0]\n",
    "    self.lhs = DecisionTree(self.X[lhs], self.y[lhs], self.attribute_names)\n",
    "    self.rhs = DecisionTree(self.X[rhs], self.y[rhs], self.attribute_names)\n",
    "\n",
    "  def _find_better_split(self, attribute_idx):\n",
    "    # x is the j'th column (j = attribute_idx)\n",
    "    x, y = self.X[:, attribute_idx], self.y\n",
    "    sort_idx = np.argsort(x)\n",
    "    sort_y, sort_x = y[sort_idx], x[sort_idx]\n",
    "    rhs_cnt, rhs_sum, rhs_sum2 = self.n, sort_y.sum(), (sort_y**2).sum()\n",
    "    lhs_cnt, lhs_sum, lhs_sum2 = 0, 0., 0.\n",
    "\n",
    "    for i in range(0, self.n - self.min_leaf - 1):\n",
    "      # set the i'th sample, in the j'th arrtibute\n",
    "      xi, yi = sort_x[i], sort_y[i]  \n",
    "      # apply incremental updates to save score computation time\n",
    "      lhs_cnt += 1; rhs_cnt -= 1\n",
    "      lhs_sum += yi; rhs_sum -= yi\n",
    "      lhs_sum2 += yi**2; rhs_sum2 -= yi**2\n",
    "      # calculate current split point i if needed\n",
    "      if i < self.min_leaf or xi == sort_x[i+1]:\n",
    "          continue\n",
    "      lhs_std = std_agg(lhs_cnt, lhs_sum, lhs_sum2)\n",
    "      rhs_std = std_agg(rhs_cnt, rhs_sum, rhs_sum2)\n",
    "      curr_score = lhs_std*lhs_cnt + rhs_std*rhs_cnt\n",
    "      if curr_score < self.score: \n",
    "        self.attribute_idx, self.score, self.split_value = attribute_idx, curr_score, xi\n",
    "\n",
    "  def _predict_row(self, xi):\n",
    "    if self.is_leaf:\n",
    "      return self.value\n",
    "    t = self.lhs if xi[self.attribute_idx] <= self.split_value else self.rhs\n",
    "    return t._predict_row(xi)\n",
    "  \n",
    "  def predict(self, X):\n",
    "    return np.array([self._predict_row(xi) for xi in X])\n",
    "  \n",
    "  @property\n",
    "  def split_name(self): return self.attribute_names[self.attribute_idx]\n",
    "\n",
    "  @property\n",
    "  def split_col(self): return self.X[:, self.attribute_idx]\n",
    "\n",
    "  @property  # TODO: could return a heatmap color based on self.value\n",
    "  def color(self): return '#e58139ff' if self.is_leaf else '#eff13955'\n",
    "  \n",
    "  @property\n",
    "  def is_leaf(self): return self.score == float('inf')\n",
    "\n",
    "  def __str__(self):\n",
    "    \"\"\" Representation of the root node of this tree \"\"\"\n",
    "    if self.is_leaf:\n",
    "      s = 'LEAF'\n",
    "    else:\n",
    "      s = f'{self.split_name} <= {self.split_value:.2f}\\\\nscore = {self.score:.2f}'\n",
    "    s += f'\\\\nsamples = {self.n}\\\\nvalue = {self.value:.2f}'\n",
    "    return s"
   ]
  },
  {
   "cell_type": "code",
   "execution_count": 167,
   "metadata": {
    "colab": {
     "base_uri": "https://localhost:8080/"
    },
    "executionInfo": {
     "elapsed": 865,
     "status": "ok",
     "timestamp": 1611435097010,
     "user": {
      "displayName": "Slava Mironov",
      "photoUrl": "",
      "userId": "13726909368929337564"
     },
     "user_tz": -120
    },
    "id": "pzUoN4mz84iR",
    "outputId": "07bbbabe-8ba8-4195-f024-29624a6401f4"
   },
   "outputs": [
    {
     "name": "stdout",
     "output_type": "stream",
     "text": [
      "Loaded Boston: 506 samples with 13 attributes\n"
     ]
    }
   ],
   "source": [
    "import numpy as np\n",
    "import pandas as pd\n",
    "from sklearn.datasets import load_boston\n",
    "from sklearn.model_selection import train_test_split\n",
    "boston = load_boston()\n",
    "# X = pd.DataFrame(data=boston.data, columns=boston.feature_names)\n",
    "X = boston.data\n",
    "y = boston.target\n",
    "attribute_names = boston.feature_names\n",
    "print(\"Loaded Boston:\", X.shape[0],\"samples with\",X.shape[1],\"attributes\")\n",
    "X_train, X_test, y_train, y_test  = train_test_split(X, y, test_size=0.2, random_state=444)"
   ]
  },
  {
   "cell_type": "code",
   "execution_count": 168,
   "metadata": {
    "colab": {
     "base_uri": "https://localhost:8080/"
    },
    "executionInfo": {
     "elapsed": 103781,
     "status": "ok",
     "timestamp": 1611435452327,
     "user": {
      "displayName": "Slava Mironov",
      "photoUrl": "",
      "userId": "13726909368929337564"
     },
     "user_tz": -120
    },
    "id": "pPzrMjuPCWHx",
    "outputId": "53616269-fe01-4260-d65e-f88af0c400b1"
   },
   "outputs": [
    {
     "name": "stdout",
     "output_type": "stream",
     "text": [
      "min_leaf:1 --- mse: 25.152522295037045\n",
      "min_leaf:5 --- mse: 25.152522295037045\n",
      "min_leaf:10 --- mse: 25.152522295037045\n",
      "min_leaf:100 --- mse: 17.644934876310987\n"
     ]
    }
   ],
   "source": [
    "# Applying manual grid search to find optimal params using mse\n",
    "# (could also use sklearn.model_selection.GridSearchCV)\n",
    "for min_leaf in [1,5,10,100]:\n",
    "      dt = DecisionTree(X_train, y_train, attribute_names, min_leaf)\n",
    "      mse = sum((dt.predict(X_test) - y_test) ** 2) / len(X_test)\n",
    "      print(\"min_leaf:{0} --- mse: {1}\".format(min_leaf, mse))"
   ]
  },
  {
   "cell_type": "code",
   "execution_count": 169,
   "metadata": {
    "colab": {
     "base_uri": "https://localhost:8080/",
     "height": 279
    },
    "executionInfo": {
     "elapsed": 108199,
     "status": "ok",
     "timestamp": 1611435460411,
     "user": {
      "displayName": "Slava Mironov",
      "photoUrl": "",
      "userId": "13726909368929337564"
     },
     "user_tz": -120
    },
    "id": "pSWD4W6NPIvP",
    "outputId": "5cc8a360-4b43-4654-a0be-1cb1eb0991b5"
   },
   "outputs": [
    {
     "data": {
      "image/png": "[encoded data removed]",
      "text/plain": [
       "<Figure size 432x288 with 1 Axes>"
      ]
     },
     "metadata": {
      "needs_background": "light"
     },
     "output_type": "display_data"
    }
   ],
   "source": [
    "# Plotting the performance of the chosen model\n",
    "dt = DecisionTree(X_train, y_train, attribute_names, min_leaf=100)\n",
    "y_hat = dt.predict(X_test)\n",
    "plt.figure()\n",
    "plt.scatter(y_hat, y_test, alpha=0.5, s=10)\n",
    "plt.xlabel('prediction')\n",
    "plt.ylabel('true outcome');"
   ]
  },
  {
   "cell_type": "markdown",
   "metadata": {
    "id": "TF5TjNuvTKof"
   },
   "source": [
    "## Using Decision Tree \n",
    "Remeber the MNIST dataset used - you will now test the power of decision trees on this problem.\n",
    "This time you are given a free hand in choosing the test and train set sizes, model parameters (such as gain function and constraints over the trees) and features (whether to use binary pixel values or the original continous gray value).\n",
    "- Choose which model parameters you wish to optimize, explain how would you do that, and find a model which you believe would have the minimal generalization error --- do this for both a single decision tree model, and a random forest.\n",
    "  - You can use `sklearn.tree.DecisionTreeClassifier`\n",
    "- Once you are satisfied with the model parameters, plot for each of the models (a single decision tree and random forest) the importance of each of the pixels to the final decision.\n",
    "- Last, estimate the class assignment probabilities for all the correctly classified and misclassified examples in your test data.\n",
    "- Discuss your results."
   ]
  },
  {
   "cell_type": "markdown",
   "metadata": {
    "id": "P2FybnkDTOVv"
   },
   "source": [
    "## Answer\n",
    "The way to optimize the hyper-parameters is to use a validation set. For this, we can use for example the score of our model on a 5-fold cross-validation test perfromed on our train data. Below are the results.\n",
    "Due to a relatively long running time, we use only 2000 sample. Using a grid search over a few hyperparameters values and reviewin their 5-fold CV scores, we see the difference between the models is very low. However, based on the maximal score, we chose to use the 'entropy' criterion, with max depth of 32, and 200 as the max number of features (a better test would be to run the CV several times and on much bigger sample set). Once we trained the model over the entire train data set, this resulted in a totoal accuracy of ~0.87 (not too bad, but not too good either).\n",
    "\n",
    "For the Random Forest we decided only to try and optimize the number of trees in the forest and the criterion, and to use the default values for all other hyperparameters. Looking at the 5-fold CV scores, we decided to use the 'gini' criterion with 200 trees in the forest (where running time was also a consideration). We then train the model over the entire train data set, which resulted in a very good total accuracy of ~0.97. This shows how powerful predictors random forests are.\n",
    "\n",
    "When plotting the pixels importance we can see that both algorithms found the center much more important than the pixels near the edges, and we can see a few specific areas which were much more critical to reach the final predicition (specifically, a \"line\" going from the center towards the bottom left corner, and two spots to the left and above this line).\n",
    "However, the random forest model found many more important pixels - this is probably since those features are important to reach the final prediction once we need to get the correct classification also for the \"hard\" cases.\n",
    "\n",
    "Reminder: \"The predicted class probabilities of an input sample are computed as the mean predicted class probabilities of the trees in the forest, where the class probability of a single tree is the fraction of samples of the same class in a leaf.\" (see [`RandomForestClassifier.predict_proba`](http://scikit-learn.org/stable/modules/generated/sklearn.ensemble.RandomForestClassifier.html#sklearn.ensemble.RandomForestClassifier.predict_proba)).\n",
    "So, using the estimated class probability, for both the error classifications and the correct classifications, we see that the classifier clearly has low confidence in the results which turned out to be error predictions. The probablity of a class assignment which turned out to be a missclassification was 0.41 (+/- 0.07), compared with the probability of a correct class assignment, which was 0.84 (+/- 0.09)."
   ]
  },
  {
   "cell_type": "markdown",
   "metadata": {
    "id": "MV3-bZPJTR_H"
   },
   "source": [
    "### Loading the data\n",
    "Same as we did in previous exercise..."
   ]
  },
  {
   "cell_type": "code",
   "execution_count": 111,
   "metadata": {
    "executionInfo": {
     "elapsed": 857,
     "status": "ok",
     "timestamp": 1611436795693,
     "user": {
      "displayName": "Slava Mironov",
      "photoUrl": "",
      "userId": "13726909368929337564"
     },
     "user_tz": -120
    },
    "id": "oBwl1a0hRxAa"
   },
   "outputs": [],
   "source": [
    "from sklearn.datasets import load_digits\n",
    "# Optinally, set data_home to where you want to download your data\n",
    "mnist = load_digits()"
   ]
  },
  {
   "cell_type": "code",
   "execution_count": 112,
   "metadata": {
    "executionInfo": {
     "elapsed": 845,
     "status": "ok",
     "timestamp": 1611436820980,
     "user": {
      "displayName": "Slava Mironov",
      "photoUrl": "",
      "userId": "13726909368929337564"
     },
     "user_tz": -120
    },
    "id": "jftsVQ_ZTFo9"
   },
   "outputs": [],
   "source": [
    "import numpy as np \n",
    "import matplotlib.pyplot as plt\n",
    "import seaborn as sns\n",
    "from sklearn.metrics import confusion_matrix\n",
    "\n",
    "def show_digit_image(digit_data, digit_label=None, title=\"\"):\n",
    "  plt.imshow(np.reshape(digit_data, (8,8)), cmap=plt.cm.gray)\n",
    "  plt.title(title, fontsize = 12)\n",
    "  plt.axis('off')\n",
    "  plt.grid(False)\n",
    "\n",
    "def calc_confusion_matrix(true_lables, predicted_labels, normalize=False, show_plot=True, title=\"\"):\n",
    "  cm = confusion_matrix(true_lables, predicted_labels)\n",
    "\n",
    "  if normalize:\n",
    "    cm = cm.astype('float') / cm.sum(axis=1)[:, np.newaxis]\n",
    "\n",
    "  if show_plot:\n",
    "    num_labels = np.unique([true_lables, predicted_labels]).size\n",
    "    plt.figure(figsize=(num_labels, num_labels))\n",
    "    sns.heatmap(cm, annot=True, fmt=\".3f\" if normalize else \"d\", linewidths=.5, square = True, cmap = 'Blues_r');\n",
    "    plt.ylabel('Actual label');\n",
    "    plt.xlabel('Predicted label');\n",
    "    plt.title(title, size = 15)\n",
    "   \n",
    "  return cm"
   ]
  },
  {
   "cell_type": "code",
   "execution_count": 113,
   "metadata": {
    "colab": {
     "base_uri": "https://localhost:8080/",
     "height": 147
    },
    "executionInfo": {
     "elapsed": 963,
     "status": "ok",
     "timestamp": 1611436824258,
     "user": {
      "displayName": "Slava Mironov",
      "photoUrl": "",
      "userId": "13726909368929337564"
     },
     "user_tz": -120
    },
    "id": "iPZaUgbbTaO1",
    "outputId": "0ba3307e-4eb5-4a76-bd87-cfa9a1084020"
   },
   "outputs": [
    {
     "name": "stdout",
     "output_type": "stream",
     "text": [
      "Image Data Shape(1797, 64)\n",
      "Label Data Shape(1797,)\n"
     ]
    },
    {
     "data": {
      "image/png": "[encoded data removed]",
      "text/plain": [
       "<Figure size 1008x144 with 10 Axes>"
      ]
     },
     "metadata": {
      "needs_background": "light"
     },
     "output_type": "display_data"
    }
   ],
   "source": [
    "# Print to image data and labels data shapes\n",
    "print(\"Image Data Shape\" + str(mnist.data.shape))\n",
    "print(\"Label Data Shape\" + str(mnist.target.shape))\n",
    "\n",
    "# Print a sample of each digits\n",
    "plt.figure(figsize=(14,2))\n",
    "for digit in range(10):\n",
    "  first_item_index = np.argwhere(mnist.target==digit)[0]\n",
    "  (image, label) = (mnist.data[first_item_index], mnist.target[first_item_index])\n",
    "  plt.subplot(1, 10, digit + 1)\n",
    "  show_digit_image(image, label, title='Label: %i' % digit)"
   ]
  },
  {
   "cell_type": "code",
   "execution_count": 114,
   "metadata": {
    "executionInfo": {
     "elapsed": 992,
     "status": "ok",
     "timestamp": 1611436835334,
     "user": {
      "displayName": "Slava Mironov",
      "photoUrl": "",
      "userId": "13726909368929337564"
     },
     "user_tz": -120
    },
    "id": "TCPWvJ52TMEw"
   },
   "outputs": [],
   "source": [
    "# Split the data into training and test sets (we set random_state so that we fix\n",
    "# the splitting, so not every time we run this notebook a different split would be made)\n",
    "from sklearn.model_selection import train_test_split\n",
    "train_img, test_img, train_lbl, test_lbl = train_test_split(mnist.data, mnist.target, test_size=1/7.0, random_state=0)"
   ]
  },
  {
   "cell_type": "markdown",
   "metadata": {
    "id": "a2K1mL6SUEbT"
   },
   "source": [
    "### Decision Tree"
   ]
  },
  {
   "cell_type": "code",
   "execution_count": 115,
   "metadata": {
    "colab": {
     "base_uri": "https://localhost:8080/"
    },
    "executionInfo": {
     "elapsed": 5338,
     "status": "ok",
     "timestamp": 1611436842557,
     "user": {
      "displayName": "Slava Mironov",
      "photoUrl": "",
      "userId": "13726909368929337564"
     },
     "user_tz": -120
    },
    "id": "TZqFc9nCUC-N",
    "outputId": "7a276ee2-6abf-47a7-b326-bce7012ced5d"
   },
   "outputs": [
    {
     "name": "stdout",
     "output_type": "stream",
     "text": [
      "cv5 score mean = 0.8564563391419974 for criterion gini max_depth=8 max_features=10\n",
      "cv5 score mean = 0.843994786258173 for criterion gini max_depth=8 max_features=20\n",
      "cv5 score mean = 0.8537427427664163 for criterion gini max_depth=8 max_features=40\n",
      "cv5 score mean = 0.8452586293347872 for criterion gini max_depth=8 max_features=64\n",
      "cv5 score mean = 0.8544636104925687 for criterion gini max_depth=16 max_features=10\n",
      "cv5 score mean = 0.8563176951154267 for criterion gini max_depth=16 max_features=20\n",
      "cv5 score mean = 0.8602443581739587 for criterion gini max_depth=16 max_features=40\n",
      "cv5 score mean = 0.8388542852603663 for criterion gini max_depth=16 max_features=64\n",
      "cv5 score mean = 0.8564396577690694 for criterion gini max_depth=24 max_features=10\n",
      "cv5 score mean = 0.8472216937551285 for criterion gini max_depth=24 max_features=20\n",
      "cv5 score mean = 0.8531108464294883 for criterion gini max_depth=24 max_features=40\n",
      "cv5 score mean = 0.8441072735425628 for criterion gini max_depth=24 max_features=64\n",
      "cv5 score mean = 0.8375830911588285 for criterion gini max_depth=32 max_features=10\n",
      "cv5 score mean = 0.8505320762028872 for criterion gini max_depth=32 max_features=20\n",
      "cv5 score mean = 0.8478541215989315 for criterion gini max_depth=32 max_features=40\n",
      "cv5 score mean = 0.8511206922240822 for criterion gini max_depth=32 max_features=64\n",
      "cv5 score mean = 0.8498337860629702 for criterion entropy max_depth=8 max_features=10\n",
      "cv5 score mean = 0.8485291045107566 for criterion entropy max_depth=8 max_features=20\n",
      "cv5 score mean = 0.8473011853809542 for criterion entropy max_depth=8 max_features=40\n",
      "cv5 score mean = 0.8531020202447619 for criterion entropy max_depth=8 max_features=64\n",
      "cv5 score mean = 0.8452585885922206 for criterion entropy max_depth=16 max_features=10\n",
      "cv5 score mean = 0.8485432140726848 for criterion entropy max_depth=16 max_features=20\n",
      "cv5 score mean = 0.8525411121107835 for criterion entropy max_depth=16 max_features=40\n",
      "cv5 score mean = 0.8472765781006378 for criterion entropy max_depth=16 max_features=64\n",
      "cv5 score mean = 0.8426838016905969 for criterion entropy max_depth=24 max_features=10\n",
      "cv5 score mean = 0.8452772562836399 for criterion entropy max_depth=24 max_features=20\n",
      "cv5 score mean = 0.8479215713885022 for criterion entropy max_depth=24 max_features=40\n",
      "cv5 score mean = 0.8590333184741142 for criterion entropy max_depth=24 max_features=64\n",
      "cv5 score mean = 0.8525136509222326 for criterion entropy max_depth=32 max_features=10\n",
      "cv5 score mean = 0.8383094863278254 for criterion entropy max_depth=32 max_features=20\n",
      "cv5 score mean = 0.848581742518091 for criterion entropy max_depth=32 max_features=40\n",
      "cv5 score mean = 0.8466370689579799 for criterion entropy max_depth=32 max_features=64\n"
     ]
    }
   ],
   "source": [
    "from sklearn import tree\n",
    "from sklearn import metrics\n",
    "from sklearn.model_selection import cross_val_score\n",
    "#import StringIO, pydot\n",
    "\n",
    "num_sample = 2000\n",
    "\n",
    "for criterion in ['gini', 'entropy']:\n",
    "  for max_depth in [8, 16, 24, 32]:\n",
    "    for max_features in [10, 20, 40, 64]:\n",
    "      clf = tree.DecisionTreeClassifier(criterion=\"gini\", max_depth=32, max_features=63)\n",
    "      clf = clf.fit(train_img[:num_sample], train_lbl[:num_sample])\n",
    "      scores = cross_val_score(clf, train_img[:num_sample], train_lbl[:num_sample].tolist(), cv=5)\n",
    "      print('cv5 score mean = ' + str(scores.mean()) + ' for criterion ' + criterion + ' max_depth=' + str(max_depth)+ ' max_features=' + str(max_features))\n",
    "      #print(\"Accuracy: %0.2f (+/- %0.2f)\" % (scores.mean(), scores.std() / 2)) # Cross Validation Results for Decision Tree"
   ]
  },
  {
   "cell_type": "code",
   "execution_count": 116,
   "metadata": {
    "colab": {
     "base_uri": "https://localhost:8080/",
     "height": 569
    },
    "executionInfo": {
     "elapsed": 930,
     "status": "ok",
     "timestamp": 1611436946702,
     "user": {
      "displayName": "Slava Mironov",
      "photoUrl": "",
      "userId": "13726909368929337564"
     },
     "user_tz": -120
    },
    "id": "kKgNFRR0XytB",
    "outputId": "0093da43-6343-4207-bef7-a9f71936d5a6"
   },
   "outputs": [
    {
     "name": "stdout",
     "output_type": "stream",
     "text": [
      "              precision    recall  f1-score   support\n",
      "\n",
      "           0     0.8000    0.9412    0.8649        17\n",
      "           1     0.7097    0.8462    0.7719        26\n",
      "           2     0.9545    0.8400    0.8936        25\n",
      "           3     0.7143    0.9091    0.8000        22\n",
      "           4     0.8000    1.0000    0.8889        16\n",
      "           5     0.8519    0.7931    0.8214        29\n",
      "           6     0.9143    0.9697    0.9412        33\n",
      "           7     0.7667    0.7419    0.7541        31\n",
      "           8     0.9286    0.4815    0.6341        27\n",
      "           9     0.8000    0.7742    0.7869        31\n",
      "\n",
      "   micro avg     0.8171    0.8171    0.8171       257\n",
      "   macro avg     0.8240    0.8297    0.8157       257\n",
      "weighted avg     0.8286    0.8171    0.8121       257\n",
      "\n",
      "Totoal accuracy: 0.8171206225680934\n"
     ]
    },
    {
     "data": {
      "image/png": "[encoded data removed]",
      "text/plain": [
       "<Figure size 288x288 with 2 Axes>"
      ]
     },
     "metadata": {
      "needs_background": "light"
     },
     "output_type": "display_data"
    }
   ],
   "source": [
    "# final decision tree model\n",
    "clf = tree.DecisionTreeClassifier(criterion=\"entropy\", max_depth=32, max_features=64)\n",
    "clf = clf.fit(train_img, train_lbl)\n",
    "predictions = clf.predict(test_img)\n",
    "print(metrics.classification_report(test_lbl.tolist(), predictions, digits=4))\n",
    "print('Totoal accuracy: ' + str(clf.score(test_img, test_lbl)))\n",
    "\n",
    "# Pixel importances on 8*8 image\n",
    "importances = clf.feature_importances_\n",
    "importances = importances.reshape((8, 8))\n",
    "\n",
    "# Plot pixel importances\n",
    "plt.matshow(importances, cmap=plt.cm.hot)\n",
    "plt.colorbar()\n",
    "plt.title(\"Pixel importances for decision tree\")\n",
    "plt.show()\n"
   ]
  }
 ],
 "metadata": {
  "colab": {
   "collapsed_sections": [],
   "name": "Decision Trees Solution 2020.ipynb",
   "provenance": []
  },
  "kernelspec": {
   "display_name": "Python 3",
   "language": "python",
   "name": "python3"
  },
  "language_info": {
   "codemirror_mode": {
    "name": "ipython",
    "version": 3
   },
   "file_extension": ".py",
   "mimetype": "text/x-python",
   "name": "python",
   "nbconvert_exporter": "python",
   "pygments_lexer": "ipython3",
   "version": "3.7.3"
  }
 },
 "nbformat": 4,
 "nbformat_minor": 1
}