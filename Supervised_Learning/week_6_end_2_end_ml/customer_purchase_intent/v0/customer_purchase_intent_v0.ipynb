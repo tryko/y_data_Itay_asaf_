{
 "cells": [
  {
   "cell_type": "markdown",
   "metadata": {},
   "source": [
    "# Customer Purchase Intent"
   ]
  },
  {
   "cell_type": "code",
   "execution_count": 1,
   "metadata": {},
   "outputs": [],
   "source": [
    "import pandas as pd\n",
    "import os"
   ]
  },
  {
   "cell_type": "code",
   "execution_count": 2,
   "metadata": {},
   "outputs": [],
   "source": [
    "artifact_path = os.path.join(os.getcwd(), '..', \"artifacts\")\n",
    "events = pd.read_csv(os.path.join(artifact_path,\"data\",\"events.csv\"))"
   ]
  },
  {
   "cell_type": "code",
   "execution_count": 3,
   "metadata": {},
   "outputs": [
    {
     "data": {
      "text/html": [
       "<div>\n",
       "<style scoped>\n",
       "    .dataframe tbody tr th:only-of-type {\n",
       "        vertical-align: middle;\n",
       "    }\n",
       "\n",
       "    .dataframe tbody tr th {\n",
       "        vertical-align: top;\n",
       "    }\n",
       "\n",
       "    .dataframe thead th {\n",
       "        text-align: right;\n",
       "    }\n",
       "</style>\n",
       "<table border=\"1\" class=\"dataframe\">\n",
       "  <thead>\n",
       "    <tr style=\"text-align: right;\">\n",
       "      <th></th>\n",
       "      <th>event_time</th>\n",
       "      <th>event_type</th>\n",
       "      <th>product_id</th>\n",
       "      <th>category_id</th>\n",
       "      <th>category_code</th>\n",
       "      <th>brand</th>\n",
       "      <th>price</th>\n",
       "      <th>user_id</th>\n",
       "      <th>user_session</th>\n",
       "    </tr>\n",
       "  </thead>\n",
       "  <tbody>\n",
       "    <tr>\n",
       "      <th>0</th>\n",
       "      <td>2020-09-24 11:57:06 UTC</td>\n",
       "      <td>view</td>\n",
       "      <td>1996170</td>\n",
       "      <td>2144415922528452715</td>\n",
       "      <td>electronics.telephone</td>\n",
       "      <td>NaN</td>\n",
       "      <td>31.90</td>\n",
       "      <td>1515915625519388267</td>\n",
       "      <td>LJuJVLEjPT</td>\n",
       "    </tr>\n",
       "    <tr>\n",
       "      <th>1</th>\n",
       "      <td>2020-09-24 11:57:26 UTC</td>\n",
       "      <td>view</td>\n",
       "      <td>139905</td>\n",
       "      <td>2144415926932472027</td>\n",
       "      <td>computers.components.cooler</td>\n",
       "      <td>zalman</td>\n",
       "      <td>17.16</td>\n",
       "      <td>1515915625519380411</td>\n",
       "      <td>tdicluNnRY</td>\n",
       "    </tr>\n",
       "    <tr>\n",
       "      <th>2</th>\n",
       "      <td>2020-09-24 11:57:27 UTC</td>\n",
       "      <td>view</td>\n",
       "      <td>215454</td>\n",
       "      <td>2144415927158964449</td>\n",
       "      <td>NaN</td>\n",
       "      <td>NaN</td>\n",
       "      <td>9.81</td>\n",
       "      <td>1515915625513238515</td>\n",
       "      <td>4TMArHtXQy</td>\n",
       "    </tr>\n",
       "    <tr>\n",
       "      <th>3</th>\n",
       "      <td>2020-09-24 11:57:33 UTC</td>\n",
       "      <td>view</td>\n",
       "      <td>635807</td>\n",
       "      <td>2144415923107266682</td>\n",
       "      <td>computers.peripherals.printer</td>\n",
       "      <td>pantum</td>\n",
       "      <td>113.81</td>\n",
       "      <td>1515915625519014356</td>\n",
       "      <td>aGFYrNgC08</td>\n",
       "    </tr>\n",
       "    <tr>\n",
       "      <th>4</th>\n",
       "      <td>2020-09-24 11:57:36 UTC</td>\n",
       "      <td>view</td>\n",
       "      <td>3658723</td>\n",
       "      <td>2144415921169498184</td>\n",
       "      <td>NaN</td>\n",
       "      <td>cameronsino</td>\n",
       "      <td>15.87</td>\n",
       "      <td>1515915625510743344</td>\n",
       "      <td>aa4mmk0kwQ</td>\n",
       "    </tr>\n",
       "    <tr>\n",
       "      <th>...</th>\n",
       "      <td>...</td>\n",
       "      <td>...</td>\n",
       "      <td>...</td>\n",
       "      <td>...</td>\n",
       "      <td>...</td>\n",
       "      <td>...</td>\n",
       "      <td>...</td>\n",
       "      <td>...</td>\n",
       "      <td>...</td>\n",
       "    </tr>\n",
       "    <tr>\n",
       "      <th>885124</th>\n",
       "      <td>2021-02-28 23:55:01 UTC</td>\n",
       "      <td>view</td>\n",
       "      <td>953226</td>\n",
       "      <td>2144415927553229037</td>\n",
       "      <td>NaN</td>\n",
       "      <td>NaN</td>\n",
       "      <td>219.94</td>\n",
       "      <td>1515915625611023730</td>\n",
       "      <td>FRLqIttxKU</td>\n",
       "    </tr>\n",
       "    <tr>\n",
       "      <th>885125</th>\n",
       "      <td>2021-02-28 23:58:05 UTC</td>\n",
       "      <td>view</td>\n",
       "      <td>1715907</td>\n",
       "      <td>2144415927049912542</td>\n",
       "      <td>electronics.video.tv</td>\n",
       "      <td>starwind</td>\n",
       "      <td>80.03</td>\n",
       "      <td>1515915625611024014</td>\n",
       "      <td>g6WqPf50Ma</td>\n",
       "    </tr>\n",
       "    <tr>\n",
       "      <th>885126</th>\n",
       "      <td>2021-02-28 23:58:09 UTC</td>\n",
       "      <td>view</td>\n",
       "      <td>4170534</td>\n",
       "      <td>2144415939364389423</td>\n",
       "      <td>electronics.clocks</td>\n",
       "      <td>amazfit</td>\n",
       "      <td>64.92</td>\n",
       "      <td>1515915625611024020</td>\n",
       "      <td>xNIJBqZdkd</td>\n",
       "    </tr>\n",
       "    <tr>\n",
       "      <th>885127</th>\n",
       "      <td>2021-02-28 23:58:14 UTC</td>\n",
       "      <td>view</td>\n",
       "      <td>888273</td>\n",
       "      <td>2144415921932861531</td>\n",
       "      <td>electronics.telephone</td>\n",
       "      <td>NaN</td>\n",
       "      <td>10.16</td>\n",
       "      <td>1515915625611024030</td>\n",
       "      <td>9pCbKMIcSx</td>\n",
       "    </tr>\n",
       "    <tr>\n",
       "      <th>885128</th>\n",
       "      <td>2021-02-28 23:59:09 UTC</td>\n",
       "      <td>view</td>\n",
       "      <td>743182</td>\n",
       "      <td>2144415935631458761</td>\n",
       "      <td>construction.tools.soldering</td>\n",
       "      <td>kada</td>\n",
       "      <td>65.08</td>\n",
       "      <td>1515915625556087775</td>\n",
       "      <td>BejOXRngEW</td>\n",
       "    </tr>\n",
       "  </tbody>\n",
       "</table>\n",
       "<p>885129 rows × 9 columns</p>\n",
       "</div>"
      ],
      "text/plain": [
       "                     event_time event_type  product_id          category_id  \\\n",
       "0       2020-09-24 11:57:06 UTC       view     1996170  2144415922528452715   \n",
       "1       2020-09-24 11:57:26 UTC       view      139905  2144415926932472027   \n",
       "2       2020-09-24 11:57:27 UTC       view      215454  2144415927158964449   \n",
       "3       2020-09-24 11:57:33 UTC       view      635807  2144415923107266682   \n",
       "4       2020-09-24 11:57:36 UTC       view     3658723  2144415921169498184   \n",
       "...                         ...        ...         ...                  ...   \n",
       "885124  2021-02-28 23:55:01 UTC       view      953226  2144415927553229037   \n",
       "885125  2021-02-28 23:58:05 UTC       view     1715907  2144415927049912542   \n",
       "885126  2021-02-28 23:58:09 UTC       view     4170534  2144415939364389423   \n",
       "885127  2021-02-28 23:58:14 UTC       view      888273  2144415921932861531   \n",
       "885128  2021-02-28 23:59:09 UTC       view      743182  2144415935631458761   \n",
       "\n",
       "                        category_code        brand   price  \\\n",
       "0               electronics.telephone          NaN   31.90   \n",
       "1         computers.components.cooler       zalman   17.16   \n",
       "2                                 NaN          NaN    9.81   \n",
       "3       computers.peripherals.printer       pantum  113.81   \n",
       "4                                 NaN  cameronsino   15.87   \n",
       "...                               ...          ...     ...   \n",
       "885124                            NaN          NaN  219.94   \n",
       "885125           electronics.video.tv     starwind   80.03   \n",
       "885126             electronics.clocks      amazfit   64.92   \n",
       "885127          electronics.telephone          NaN   10.16   \n",
       "885128   construction.tools.soldering         kada   65.08   \n",
       "\n",
       "                    user_id user_session  \n",
       "0       1515915625519388267   LJuJVLEjPT  \n",
       "1       1515915625519380411   tdicluNnRY  \n",
       "2       1515915625513238515   4TMArHtXQy  \n",
       "3       1515915625519014356   aGFYrNgC08  \n",
       "4       1515915625510743344   aa4mmk0kwQ  \n",
       "...                     ...          ...  \n",
       "885124  1515915625611023730   FRLqIttxKU  \n",
       "885125  1515915625611024014   g6WqPf50Ma  \n",
       "885126  1515915625611024020   xNIJBqZdkd  \n",
       "885127  1515915625611024030   9pCbKMIcSx  \n",
       "885128  1515915625556087775   BejOXRngEW  \n",
       "\n",
       "[885129 rows x 9 columns]"
      ]
     },
     "execution_count": 3,
     "metadata": {},
     "output_type": "execute_result"
    }
   ],
   "source": [
    "events"
   ]
  },
  {
   "cell_type": "code",
   "execution_count": 4,
   "metadata": {},
   "outputs": [],
   "source": [
    "def split_data(df):\n",
    "    df_ = df.copy()\n",
    "    \n",
    "    #Radom split\n",
    "    user_sessions = df_.sample(frac=1)['user_session'].unique()\n",
    "    train_size = len(user_sessions)*60 // 100\n",
    "    train_df = df_[df_['user_session'].isin(user_sessions[:train_size])]\n",
    "    test_df = df_[df_['user_session'].isin(user_sessions[train_size:])]\n",
    "    \n",
    "    return train_df, test_df\n",
    "\n",
    "train_df, test_df = split_data(events)"
   ]
  },
  {
   "cell_type": "code",
   "execution_count": 6,
   "metadata": {},
   "outputs": [],
   "source": [
    "def feature_extraction(df):\n",
    "    df_ = df.copy()\n",
    "    \n",
    "    #Clean missing values\n",
    "    df_ = df_.dropna()\n",
    "    \n",
    "    #Extract features\n",
    "    df_agg = df_.groupby('user_session').agg({'price' : ['sum', 'min'], 'brand' : ['count'], \n",
    "                                               'category_code' : ['count'],'product_id' : ['count'],\n",
    "                                               'event_time' : ['count']}, axis=\"columns\")\n",
    "    df_agg['unique_event_type'] = df_.groupby('user_session')['event_type'].nunique()\n",
    "    \n",
    "    #Labeling\n",
    "    df_agg['label'] =  df_.groupby('user_session')['event_type'].apply(lambda x: x.eq('cart').any() | x.eq('purchase').any()).astype(int)\n",
    "    \n",
    "    X_features = df_agg.drop(['label'], axis = 1)\n",
    "    y_agg = df_agg['label']\n",
    "    \n",
    "    return X_features, y_agg\n",
    "\n",
    "train_features, train_y = feature_extraction(train_df)\n",
    "test_features, test_y = feature_extraction(test_df)"
   ]
  },
  {
   "cell_type": "code",
   "execution_count": 7,
   "metadata": {},
   "outputs": [
    {
     "name": "stderr",
     "output_type": "stream",
     "text": [
      "/Users/liorsidi/.conda/envs/customer_purchase_intent/lib/python3.7/site-packages/sklearn/utils/validation.py:1679: FutureWarning: Feature names only support names that are all strings. Got feature names with dtypes: ['tuple']. An error will be raised in 1.2.\n",
      "  FutureWarning,\n"
     ]
    }
   ],
   "source": [
    "from sklearn.linear_model import LogisticRegression\n",
    "def fit_model(X, y):\n",
    "    lr = LogisticRegression()\n",
    "    lr.fit(X,y)\n",
    "    return lr\n",
    "\n",
    "model = fit_model(train_features, train_y)"
   ]
  },
  {
   "cell_type": "code",
   "execution_count": 8,
   "metadata": {},
   "outputs": [
    {
     "name": "stderr",
     "output_type": "stream",
     "text": [
      "/Users/liorsidi/.conda/envs/customer_purchase_intent/lib/python3.7/site-packages/sklearn/utils/validation.py:1679: FutureWarning: Feature names only support names that are all strings. Got feature names with dtypes: ['tuple']. An error will be raised in 1.2.\n",
      "  FutureWarning,\n"
     ]
    }
   ],
   "source": [
    "from sklearn.metrics import accuracy_score\n",
    "def evaluate(y, preds):\n",
    "    accuracy = accuracy_score(y, preds)\n",
    "    return accuracy\n",
    "\n",
    "test_preds = model.predict(test_features)\n",
    "accuracy = evaluate(test_y,test_preds)"
   ]
  },
  {
   "cell_type": "code",
   "execution_count": 9,
   "metadata": {},
   "outputs": [
    {
     "data": {
      "text/plain": [
       "0.9949830547199269"
      ]
     },
     "execution_count": 9,
     "metadata": {},
     "output_type": "execute_result"
    }
   ],
   "source": [
    "accuracy"
   ]
  },
  {
   "cell_type": "code",
   "execution_count": 10,
   "metadata": {},
   "outputs": [
    {
     "data": {
      "image/jpeg": "[encoded data removed]",
      "text/plain": [
       "<IPython.core.display.Image object>"
      ]
     },
     "execution_count": 10,
     "metadata": {},
     "output_type": "execute_result"
    }
   ],
   "source": [
    "from IPython import display\n",
    "display.Image(\"https://pyxis.nymag.com/v1/imgs/879/d0a/f23ba0be00e71b5d88731977b3ca4905d2-13-everything-is-awesom.rhorizontal.w700.jpg\")"
   ]
  },
  {
   "cell_type": "code",
   "execution_count": 11,
   "metadata": {},
   "outputs": [
    {
     "ename": "NameError",
     "evalue": "name 'df' is not defined",
     "output_type": "error",
     "traceback": [
      "\u001b[0;31m---------------------------------------------------------------------------\u001b[0m",
      "\u001b[0;31mNameError\u001b[0m                                 Traceback (most recent call last)",
      "\u001b[0;32m/var/folders/rz/451bh08d1bbfqxxb879xxbnr0000gn/T/ipykernel_4171/485924158.py\u001b[0m in \u001b[0;36m<module>\u001b[0;34m\u001b[0m\n\u001b[0;32m----> 1\u001b[0;31m \u001b[0mtrain_X\u001b[0m\u001b[0;34m,\u001b[0m \u001b[0mtrain_y\u001b[0m\u001b[0;34m,\u001b[0m \u001b[0mtest_X\u001b[0m\u001b[0;34m,\u001b[0m \u001b[0mtest_y\u001b[0m \u001b[0;34m=\u001b[0m \u001b[0msplit_data\u001b[0m\u001b[0;34m(\u001b[0m\u001b[0mdf\u001b[0m\u001b[0;34m)\u001b[0m\u001b[0;34m\u001b[0m\u001b[0;34m\u001b[0m\u001b[0m\n\u001b[0m\u001b[1;32m      2\u001b[0m \u001b[0;34m\u001b[0m\u001b[0m\n\u001b[1;32m      3\u001b[0m \u001b[0mtrain_features\u001b[0m \u001b[0;34m=\u001b[0m \u001b[0mfeature_extraction\u001b[0m\u001b[0;34m(\u001b[0m\u001b[0mtrain_X\u001b[0m\u001b[0;34m)\u001b[0m\u001b[0;34m\u001b[0m\u001b[0;34m\u001b[0m\u001b[0m\n\u001b[1;32m      4\u001b[0m \u001b[0;34m\u001b[0m\u001b[0m\n\u001b[1;32m      5\u001b[0m \u001b[0mmodel\u001b[0m \u001b[0;34m=\u001b[0m \u001b[0mfit_model\u001b[0m\u001b[0;34m(\u001b[0m\u001b[0mtrain_features\u001b[0m\u001b[0;34m,\u001b[0m \u001b[0mtrain_y\u001b[0m\u001b[0;34m)\u001b[0m\u001b[0;34m\u001b[0m\u001b[0;34m\u001b[0m\u001b[0m\n",
      "\u001b[0;31mNameError\u001b[0m: name 'df' is not defined"
     ]
    }
   ],
   "source": [
    "train_X, train_y, test_X, test_y = split_data(df)\n",
    "\n",
    "train_features = feature_extraction(train_X)\n",
    "\n",
    "model = fit_model(train_features, train_y)\n",
    "\n",
    "test_features = feature_extraction(test_X)\n",
    "\n",
    "test_preds = model.predict(test_features)\n",
    "\n",
    "accuracy = evaluate(test_preds, test_y)"
   ]
  },
  {
   "cell_type": "code",
   "execution_count": null,
   "metadata": {},
   "outputs": [],
   "source": []
  }
 ],
 "metadata": {
  "kernelspec": {
   "display_name": "Python 3 (ipykernel)",
   "language": "python",
   "name": "python3"
  },
  "language_info": {
   "codemirror_mode": {
    "name": "ipython",
    "version": 3
   },
   "file_extension": ".py",
   "mimetype": "text/x-python",
   "name": "python",
   "nbconvert_exporter": "python",
   "pygments_lexer": "ipython3",
   "version": "3.7.11"
  }
 },
 "nbformat": 4,
 "nbformat_minor": 2
}
