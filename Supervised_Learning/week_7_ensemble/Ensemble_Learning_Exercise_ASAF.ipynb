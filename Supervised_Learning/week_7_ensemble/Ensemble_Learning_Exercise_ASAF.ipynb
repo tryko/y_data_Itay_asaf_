{
  "cells": [
    {
      "cell_type": "markdown",
      "metadata": {
        "id": "HxuOSmJ4mdfp"
      },
      "source": [
        "# Ensemble Learning Exercise"
      ]
    },
    {
      "cell_type": "markdown",
      "metadata": {
        "id": "AYTXX2E6mdfr"
      },
      "source": [
        "## 1. Implementing Random Forest From Scratch (30 points)\n",
        "In this exercise you will need to implement a simple version of Random Forest Regressor from scratch. Your model will handle **continuous input and output**. \n",
        "\n",
        "1.1. Compelete the skeleton class below (you should use scikit-learn's `DecisionTreeRegressor` model that the `TreeEnsemble` will use)\n",
        "  - `X` is a matrix of data values (rows are samples, columns are attributes)\n",
        "  - `y` is a vector of corresponding target values\n",
        "  - `n_trees` is the number of trees to create\n",
        "  - `sample_sz` is the size of the sample set to use of each of the trees in the forest (chose the samples randomly, with or without repetition)\n",
        "  - `n_features` is the size of features to sample. This can be a natrual number > 0, or a ratio of the features as a number in range (0,1]\n",
        "  - `min_leaf` is the minimal number of samples in each leaf node of each tree in the forest\n",
        "  \n",
        "\n",
        "1.2. The `predict` function will use mean of the target values of the trees. The result is a vector of predictions matching the number of rows in `X`.\n",
        "\n",
        "1.3. The `oob_mse` function will compute the mean squared error over all **out of bag (oob)** samples. That is, for each sample calculate the squared error using  predictions from the trees that do not contain x in their respective bootstrap sample, then average this score for all samples. See:  [OOB Errors for Random Forests](https://scikit-learn.org/stable/auto_examples/ensemble/plot_ensemble_oob.html).\n",
        "\n",
        "1.4. To check your random forest implementation, use the boston dataset (`from sklearn.datasets import load_boston`)\n",
        "\n",
        "  - Use the following to estimate what are the best hyper parameters to use for your model\n",
        "```\n",
        "for n in [1,5,10,20,50,100]:\n",
        "  for sz in [50,100,300,500]:\n",
        "    for min_leaf in [1,5]:\n",
        "      forest = TreeEnsemble(X, y, n, sz, min_leaf)\n",
        "      mse = forest.oob_mse()\n",
        "      print(\"n_trees:{0}, sz:{1}, min_leaf:{2} --- oob mse: {3}\".format(n, sz, min_leaf, mse))\n",
        "```\n",
        "  \n",
        "  - Using your chosen hyperparameters as a final model, plot the predictions vs. true values of all the samples in the training set . Use something like:\n",
        "  ```\n",
        "  y_hat = forest.predict(X)  # forest is the chosen model\n",
        "  plt.scatter(y_hat, y)\n",
        "  ```\n",
        " \n"
      ]
    },
    {
      "attachments": {},
      "cell_type": "markdown",
      "metadata": {},
      "source": [
        "## LOAD DATA "
      ]
    },
    {
      "cell_type": "code",
      "execution_count": 34,
      "metadata": {},
      "outputs": [],
      "source": [
        "from sklearn.datasets import load_boston\n",
        "import pandas as pd\n",
        "import warnings\n",
        "warnings.simplefilter(action='ignore', category=FutureWarning)\n",
        "\n",
        "# Load the Boston Housing dataset\n",
        "boston = load_boston()\n",
        "\n",
        "# Convert the dataset to a DataFrame\n",
        "X = pd.DataFrame(boston.data, columns=boston.feature_names)\n",
        "\n",
        "# Add the target variable (median value of the houses) to the DataFrame\n",
        "y = pd.Series(boston.target)\n"
      ]
    },
    {
      "attachments": {},
      "cell_type": "markdown",
      "metadata": {},
      "source": [
        "## IMPLEMENT FOREST"
      ]
    },
    {
      "cell_type": "code",
      "execution_count": 43,
      "metadata": {
        "id": "sHamBoBemdfs"
      },
      "outputs": [],
      "source": [
        "import numpy as np\n",
        "import pandas as pd\n",
        "from sklearn.tree import DecisionTreeRegressor\n",
        "from sklearn.model_selection import train_test_split\n",
        "class TreeEnsemble():\n",
        "    def __init__(self, X, y, n_trees, sample_sz, n_features, min_leaf):\n",
        "        \n",
        "        self.samples = X\n",
        "        self.targets = y\n",
        "        self.n_trees = n_trees\n",
        "        \n",
        "        self.sample_sz =  sample_sz #int(sample_sz*X.shape[0])\n",
        "        self.n_features =  int(n_features *  X.shape[1])\n",
        "        self.min_leaf = min_leaf\n",
        "        self.trees = [] # List holding all the trees.\n",
        "        self.oob_scores = [] # List holding OOB score for each tree, used to calculate oob_mse.\n",
        "        self.create_trees()\n",
        "    def create_trees(self):\n",
        "        \n",
        "        for i in range(self.n_trees): # loop creating trees n_trees times\n",
        "\n",
        "            # partition data by rows and features (in bag data)\n",
        "            ib_X,ib_y,oob_X,oob_y = self.bootstrap()\n",
        "            \n",
        "            # generate tree\n",
        "            tree = DecisionTreeRegressor(min_samples_leaf=self.min_leaf)\n",
        "            tree.fit(ib_X, ib_y)\n",
        "            self.trees.append(tree)\n",
        "            \n",
        "            # calculate oob_error and append oob_scores list\n",
        "            self.oob_scores.append(self.calculate_oob_error(tree,oob_X,oob_y))\n",
        "            \n",
        "    def calculate_oob_error(self,tree,X,y):\n",
        "        y_pred = tree.predict(X)\n",
        "        return np.mean((y_pred - y)**2)\n",
        "        \n",
        "    def bootstrap(self): # generates bootstrapped data\n",
        "             # choose random rows\n",
        "             # convert sample_sz to int\n",
        "            \n",
        "            \n",
        "            rows = np.random.choice(self.samples.shape[0], self.sample_sz, replace=False) # Change replace = True for repetiton of samples\n",
        "            data = self.samples.iloc[rows]\n",
        "            \n",
        "            ib_y = self.targets[rows] # ib stands for in_bag\n",
        "\n",
        "\n",
        "            # choose random columns\n",
        "\n",
        "            cols =  np.random.choice(self.samples.shape[1], self.n_features, replace=False)\n",
        "\n",
        "            # create datasubset (bootstrap)\n",
        "            ib_X =  data.iloc[:,cols]\n",
        "\n",
        "           \n",
        "            oob_X = self.samples.drop(rows).iloc[:,cols]\n",
        "            oob_y = self.targets.drop(rows,axis=0)\n",
        "\n",
        "            return ib_X ,ib_y, oob_X,oob_y\n",
        "        \n",
        "    def predict(self, X):\n",
        "        y_pred = []\n",
        "        for indx,sample in X.iterows():\n",
        "            preds = [] # holds predictions of all trees for specific samples.\n",
        "            for tree in self.trees:\n",
        "                preds.append(tree.predict(sample))\n",
        "            \n",
        "            y_pred.append(np.mean(preds))\n",
        "  \n",
        "        \n",
        "    def oob_mse(self):\n",
        "        return np.mean(self.oob_scores)\n",
        " "
      ]
    },
    {
      "cell_type": "code",
      "execution_count": 51,
      "metadata": {},
      "outputs": [],
      "source": [
        "best_mse = np.inf\n",
        "best_hyper = []\n",
        "for n in [1,5,10,20,50,100]:\n",
        "  for sz in [50,100,300,500]:\n",
        "    for n_features in np.linspace(0.1,1,10):\n",
        "      for min_leaf in [1,5]:\n",
        "        forest = TreeEnsemble(X, y, n, sz,n_features, min_leaf)\n",
        "        mse = forest.oob_mse()\n",
        "        if best_mse > mse:\n",
        "          best_mse = mse\n",
        "          best_hyper = [n,sz,n_features,min_leaf]"
      ]
    },
    {
      "cell_type": "code",
      "execution_count": 52,
      "metadata": {},
      "outputs": [],
      "source": [
        "BEST_FOREST = TreeEnsemble(X,y,*best_hyper)"
      ]
    },
    {
      "cell_type": "markdown",
      "metadata": {
        "id": "kt7N2c7tmdfs"
      },
      "source": [
        "## 2. Implementing AdaBoost From Scratch (30 points)\n",
        "\n",
        "\n",
        "2.1.   Implement the AdaBoost algorithm for classification task. Your `AdaBoost` class should receive a method for creating a weak learner, which has a fit and predict methods (**hint**: you can simulate re-weighting of the samples by an appropriate re-sampling of the train set).\n",
        "\n",
        "2.2.   Use your model to find a strong classifier on the sample set given below, using $n$ weak learners:\n",
        "\n",
        "2.2.1. For the base weak learners, use any classifier you want (check different types with different configuration, keep them simple = Weak). \n",
        "\n",
        "2.2.2. Split the sample set into train and test sets.\n",
        "\n",
        "2.2.3 Plot the final decision plane of your classifier for $n\\in \\{1, 2, 3, 5, 10, 50\\}$, and visualize the final iteration weights of the samples in those plots.\n",
        "    - How does the overall train set accuracy changes with $n$?\n",
        "    - Does you model starts to overfit at some point?\n",
        "\n",
        "\n",
        "\n"
      ]
    },
    {
      "cell_type": "code",
      "execution_count": null,
      "metadata": {
        "id": "Hw1uXpshmdft"
      },
      "outputs": [],
      "source": [
        "from sklearn.datasets import make_circles\n",
        "from matplotlib import pyplot\n",
        "from pandas import DataFrame\n",
        "\n",
        "# generate 2d classification dataset\n",
        "X, y = make_circles(n_samples=1500, noise=0.2, random_state=101, factor=0.5)\n",
        "\n",
        "# scatter plot, dots colored by class value\n",
        "df = DataFrame(dict(x=X[:,0], y=X[:,1], label=y))\n",
        "colors = {0:'red', 1:'blue'}\n",
        "fig, ax = pyplot.subplots()\n",
        "grouped = df.groupby('label')\n",
        "for key, group in grouped:\n",
        "    group.plot(ax=ax, kind='scatter', x='x', y='y', label=key, color=colors[key])\n",
        "pyplot.show()"
      ]
    },
    {
      "cell_type": "code",
      "execution_count": null,
      "metadata": {
        "id": "oEutkwR2mdft"
      },
      "outputs": [],
      "source": []
    },
    {
      "cell_type": "markdown",
      "metadata": {
        "id": "_WA2heXLmdft"
      },
      "source": [
        "## 3. Boosting Trees from Scratch (40 points)\n",
        "1. Use the scikit-learn's DecisionTreeRegressor (again :) with `max_depth = 1` (stumps)  to write a L2Boost model which minimize the L2 square loss iteration by iteration.\n",
        "Reminder: in each step, build a decision tree to minimize the error between the true label and the accumulated (sum) of the previous step predictions.\n",
        "![alt text](https://explained.ai/gradient-boosting/images/latex-321A7951E78381FB73D2A6874916134D.svg)\n",
        "2. Use the Boston dataset to plot the MSE as a function of the number of trees for a logspace of `n_trees` up to 1,000. What is the optimal value of `n_trees`? of learning rate?\n",
        "3. Compare the performance with a deep DecisionTreeRegressor (find the optimal `max_depth`).  Who wins?\n",
        "4. Add an early-stopping mechanisim to the GBTL2 model to use a validation set to detect over-fit."
      ]
    },
    {
      "cell_type": "code",
      "execution_count": null,
      "metadata": {
        "id": "mKIhqCTEmdft"
      },
      "outputs": [],
      "source": []
    }
  ],
  "metadata": {
    "colab": {
      "provenance": []
    },
    "kernelspec": {
      "display_name": "base",
      "language": "python",
      "name": "python3"
    },
    "language_info": {
      "codemirror_mode": {
        "name": "ipython",
        "version": 3
      },
      "file_extension": ".py",
      "mimetype": "text/x-python",
      "name": "python",
      "nbconvert_exporter": "python",
      "pygments_lexer": "ipython3",
      "version": "3.9.15"
    },
    "vscode": {
      "interpreter": {
        "hash": "5e2ac3774ab32f260f9760d004fae9073803f03c7ce8e55cd71c8539f29de38d"
      }
    }
  },
  "nbformat": 4,
  "nbformat_minor": 0
}
