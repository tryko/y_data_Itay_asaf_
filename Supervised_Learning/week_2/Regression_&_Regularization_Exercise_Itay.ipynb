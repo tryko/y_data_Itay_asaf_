{
 "cells": [
  {
   "cell_type": "markdown",
   "metadata": {
    "id": "chEqqJbLzFew"
   },
   "source": [
    "# Yandex Data Science School\n",
    "## Linear Regression & Regularization Exercise.\n",
    "\n",
    "\n",
    "## Outline\n",
    "In this exercise you will learn the following topics:\n",
    "\n",
    "1. Refresher on how linear regression is solved in batch and in Gradient Descent \n",
    "2. Implementation of Ridge Regression\n",
    "3. Comparing Ridge, Lasso and vanila Linear Regression on a dataset"
   ]
  },
  {
   "cell_type": "markdown",
   "metadata": {},
   "source": [
    "# Git Exercise\n",
    "In this exercise you will also experience working with github.\n",
    "\n",
    "You might need to install local python enviroment.\n",
    "Installation Instruction for ex2 - working on a local python environment:\n",
    "https://docs.google.com/document/d/1G0rBo36ff_9JzKy0EkCalK4m_ThNUuJ2bRz463EHK9I\n",
    "\n",
    "## please add the github link of your work below:\n"
   ]
  },
  {
   "cell_type": "markdown",
   "metadata": {},
   "source": [
    "example: https://github.com/username/exercise_name"
   ]
  },
  {
   "cell_type": "markdown",
   "metadata": {
    "id": "mR9UFmk2greT"
   },
   "source": [
    "## Refresher on Ordinary Least Square (OLS) aka Linear Regeression\n",
    "\n",
    "### Lecture Note\n",
    "\n",
    "In Matrix notation, the matrix $X$ is of dimensions $n \\times p$ where each row is an example and each column is a feature dimension. \n",
    "\n",
    "Similarily, $y$ is of dimension $n \\times 1$ and $w$ is of dimensions $p \\times 1$.\n",
    "\n",
    "The model is $\\hat{y}=X\\cdot w$ where we assume for simplicity that $X$'s first columns equals to 1 (one padding), to account for the bias term.\n",
    "\n",
    "Our objective is to optimize the loss $L$ defines as resiudal sum of squares (RSS): \n",
    "\n",
    "$L_{RSS}=\\frac{1}{N}\\left\\Vert Xw-y \\right\\Vert^2$ (notice that in matrix notation this means summing over all examples, so $L$ is scalar.)\n",
    "\n",
    "To find the optimal $w$ one needs to derive the loss with respect to $w$.\n",
    "\n",
    "$\\frac{\\partial{L_{RSS}}}{\\partial{w}}=\\frac{2}{N}X^T(Xw-y)$ (to see why, read about [matrix derivatives](http://www.gatsby.ucl.ac.uk/teaching/courses/sntn/sntn-2017/resources/Matrix_derivatives_cribsheet.pdf) or see class notes )\n",
    "\n",
    "Thus, the gardient descent solution is $w'=w-\\alpha \\frac{2}{N}X^T(Xw-y)$.\n",
    "\n",
    "Solving $\\frac{\\partial{L_{RSS}}}{\\partial{w}}=0$ for $w$ one can also get analytical solution:\n",
    "\n",
    "$w_{OLS}=(X^TX)^{-1}X^Ty$\n",
    "\n",
    "The first term, $(X^TX)^{-1}X^T$ is also called the pseudo inverse of $X$.\n",
    "\n",
    "See [lecture note from Stanford](https://web.stanford.edu/~mrosenfe/soc_meth_proj3/matrix_OLS_NYU_notes.pdf) for more details.\n"
   ]
  },
  {
   "cell_type": "markdown",
   "metadata": {
    "id": "JA3MEKz80vdy"
   },
   "source": [
    "## Exercise 1 - Ordinary Least Square\n",
    "* Get the boston housing dataset by using the scikit-learn package. hint: [load_boston](http://scikit-learn.org/stable/modules/generated/sklearn.datasets.load_boston.html)\n",
    "\n",
    "* What is $p$? what is $n$ in the above notation? hint: [shape](https://docs.scipy.org/doc/numpy-1.15.0/reference/generated/numpy.ndarray.shape.html)\n",
    "\n",
    "* write a model `OrdinaryLinearRegression` which has a propoery $w$ and 3 methods: `fit`, `predict` and `score` (which returns the MSE on a given sample set). Hint: use [numpy.linalg.pinv](https://docs.scipy.org/doc/numpy-1.15.1/reference/generated/numpy.linalg.pinv.html) to be more efficient.\n",
    "\n",
    "* Fit the model. What is the training MSE?\n",
    "\n",
    "* Plot a scatter plot where on x-axis plot $Y$ and in the y-axis $\\hat{Y}_{OLS}$\n",
    "\n",
    "* Split the data to 75% train and 25% test 20 times. What is the average MSE now for train and test? Hint: use [train_test_split](http://scikit-learn.org/stable/modules/generated/sklearn.model_selection.train_test_split.html) or [ShuffleSplit](http://scikit-learn.org/stable/modules/generated/sklearn.model_selection.ShuffleSplit.html).\n",
    "\n",
    "* Use a t-test to proove that the MSE for training is significantly smaller than for testing. What is the p-value? Hint: use [scipy.stats.ttest_rel](https://docs.scipy.org/doc/scipy-0.14.0/reference/generated/scipy.stats.ttest_rel.html). \n",
    "\n",
    "* Write a new class `OrdinaryLinearRegressionGradientDescent` which inherits from `OrdinaryLinearRegression` and solves the problem using gradinet descent. The class should get as a parameter the learning rate and number of iteration. Plot the class convergance. What is the effect of learning rate? How would you find number of iteration automatically? Note: Gradient Descent does not work well when features are not scaled evenly (why?!). Be sure to normalize your features first.\n",
    "\n",
    "* The following parameters are optional (not mandatory to use):\n",
    "    * early_stop - True / False boolean to indicate to stop running when loss stops decaying and False to continue.\n",
    "    * verbose- True/False boolean to turn on / off logging, e.g. print details like iteration number and loss (https://en.wikipedia.org/wiki/Verbose_mode)\n",
    "    * track_loss - True / False boolean when to save loss results to present later in learning curve graphs"
   ]
  },
  {
   "cell_type": "code",
   "execution_count": 1,
   "metadata": {},
   "outputs": [],
   "source": [
    "import numpy as np\n",
    "import matplotlib.pyplot as plt\n",
    "from sklearn.datasets import load_boston\n",
    "from  sklearn.model_selection import train_test_split\n",
    "from sklearn.preprocessing import normalize\n",
    "import warnings\n",
    "\n",
    "\n",
    "# Ignore all warnings\n",
    "warnings.filterwarnings(\"ignore\")\n",
    "\n",
    "\n",
    "# Load the Boston dataset\n",
    "data, labels = load_boston(return_X_y=True)\n",
    "# p = data.shape[0]\n",
    "# n = labels.shape[1]"
   ]
  },
  {
   "cell_type": "code",
   "execution_count": 2,
   "metadata": {
    "id": "ZuSS8LhcfZdn"
   },
   "outputs": [
    {
     "name": "stdout",
     "output_type": "stream",
     "text": [
      "Average train MSE: 21.41697535438405\n",
      "Average test MSE: 24.57097637045856\n"
     ]
    },
    {
     "data": {
      "image/png": "[encoded data removed]",
      "text/plain": [
       "<Figure size 640x480 with 1 Axes>"
      ]
     },
     "metadata": {},
     "output_type": "display_data"
    }
   ],
   "source": [
    "# * write a model `Ols` which has a propoery $w$ and 3 methods: `fit`, `predict` and `score`.? hint: use [numpy.linalg.pinv](https://docs.scipy.org/doc/numpy-1.15.1/reference/generated/numpy.linalg.pinv.html) to be more efficient.\n",
    "\n",
    "class Ols(object):\n",
    "  def __init__(self):\n",
    "    self.w = None\n",
    "    self.X = None\n",
    "    \n",
    "  @staticmethod\n",
    "  def pad(X):\n",
    "    return np.insert(X, 0, 1, axis=1)\n",
    "  \n",
    "  def fit(self, X, Y):\n",
    "    #remeber pad with 1 before fitting\n",
    "    X = self.pad(X)\n",
    "    self.w = np.linalg.pinv(X.T@X)@X.T@Y\n",
    "  \n",
    "  def predict(self, X):\n",
    "    X = self.pad(X)\n",
    "    return X@self.w\n",
    "    \n",
    "  def score(self, X, Y):\n",
    "    y_pred = self.predict(X)\n",
    "    return np.mean((y_pred - Y)**2, axis=0)\n",
    "\n",
    "\n",
    "  # Plot a scatter plot where on x-axis plot y and in the y-axis Y-ols\n",
    "model = Ols()\n",
    "model.fit(data,labels)\n",
    "y_pred = model.predict(data)\n",
    "\n",
    "plt.scatter(labels,y_pred,c='red')\n",
    "plt.xlabel('Y')\n",
    "plt.ylabel('Y_OLS')\n",
    "\n",
    "\n",
    "# Split the data to 75% train and 25% test 20 times. What is the average MSE now for train and test?\n",
    "test_MSE = []\n",
    "train_MSE = []\n",
    "\n",
    "\n",
    "for i in range(200):\n",
    "  X_train,X_test,y_train,y_test = train_test_split(data,labels,test_size=0.25,shuffle=True)\n",
    "  model.fit(X_train,y_train)\n",
    "  train_MSE.append(model.score(X_train,y_train))\n",
    "  test_MSE.append(model.score(X_test,y_test))\n",
    "  \n",
    "print('Average train MSE:',np.mean(train_MSE))\n",
    "print('Average test MSE:',np.mean(test_MSE))"
   ]
  },
  {
   "cell_type": "code",
   "execution_count": 3,
   "metadata": {},
   "outputs": [
    {
     "name": "stdout",
     "output_type": "stream",
     "text": [
      "[6.3200e-03 0.0000e+00 4.6000e-01 0.0000e+00 3.8500e-01 3.5610e+00\n",
      " 2.9000e+00 1.1296e+00 1.0000e+00 1.8700e+02 1.2600e+01 3.2000e-01\n",
      " 1.7300e+00] [ 88.9762 100.      27.74     1.       0.871    8.78   100.      12.1265\n",
      "  24.     711.      22.     396.9     37.97  ]\n"
     ]
    },
    {
     "data": {
      "text/plain": [
       "array([[0.00000000e+00, 1.80000000e-01, 6.78152493e-02, ...,\n",
       "        2.87234043e-01, 1.00000000e+00, 8.96799117e-02],\n",
       "       [2.35922539e-04, 0.00000000e+00, 2.42302053e-01, ...,\n",
       "        5.53191489e-01, 1.00000000e+00, 2.04470199e-01],\n",
       "       [2.35697744e-04, 0.00000000e+00, 2.42302053e-01, ...,\n",
       "        5.53191489e-01, 9.89737254e-01, 6.34657837e-02],\n",
       "       ...,\n",
       "       [6.11892474e-04, 0.00000000e+00, 4.20454545e-01, ...,\n",
       "        8.93617021e-01, 1.00000000e+00, 1.07891832e-01],\n",
       "       [1.16072990e-03, 0.00000000e+00, 4.20454545e-01, ...,\n",
       "        8.93617021e-01, 9.91300620e-01, 1.31070640e-01],\n",
       "       [4.61841693e-04, 0.00000000e+00, 4.20454545e-01, ...,\n",
       "        8.93617021e-01, 1.00000000e+00, 1.69701987e-01]])"
      ]
     },
     "execution_count": 3,
     "metadata": {},
     "output_type": "execute_result"
    }
   ],
   "source": [
    "x = np.array([2,4])\n",
    "X = np.array([[1,2],\n",
    "              [1,2]])\n",
    "\n",
    "\n",
    "# v = np.array([1,1])\n",
    "# y_pred = np.array([[10,11]])\n",
    "# np.insert(X, 0, 1, axis=1)\n",
    "# print(X.T- np.mean(X, axis=1))\n",
    "# print((X.T - np.mean(X, axis=1))/np.std(X,axis=1))\n",
    "\n",
    "\n",
    "# normalize(x)\n",
    "\n",
    "mins = np.min(data, axis = 0)\n",
    "maxs = np.max(data, axis= 0)\n",
    "print(mins,maxs)\n",
    "norm = (data - mins)/(maxs - mins)\n",
    "norm\n",
    "\n",
    "\n",
    "# means = np.mean(data, axis = 0)\n",
    "# stds = np.std(data, axis= 0)\n",
    "# norm = (data - means)/stds\n",
    "# print(np.isnan(norm).sum())"
   ]
  },
  {
   "cell_type": "code",
   "execution_count": 7,
   "metadata": {},
   "outputs": [],
   "source": [
    "# # Write a new class OlsGd which solves the problem using gradinet descent. \n",
    "# # The class should get as a parameter the learning rate and number of iteration. \n",
    "# # Plot the loss convergance. for each alpha, learning rate plot the MSE with respect to number of iterations.\n",
    "# # What is the effect of learning rate? \n",
    "# # How would you find number of iteration automatically? \n",
    "# # Note: Gradient Descent does not work well when features are not scaled evenly (why?!). Be sure to normalize your feature first.\n",
    "# class Normalizer():\n",
    "#   def __init__(self):\n",
    "#     pass\n",
    "\n",
    "#   def fit(self, X):\n",
    "#     pass\n",
    "\n",
    "#   def predict(self, X):\n",
    "#     #apply normalization\n",
    "#     pass\n",
    "    \n",
    "# class OlsGd(Ols):\n",
    "  \n",
    "#   def __init__(self, learning_rate=.05, \n",
    "#                num_iteration=1000, \n",
    "#                normalize=True,\n",
    "#                early_stop=True,\n",
    "#                verbose=True):\n",
    "    \n",
    "#     super(OlsGd, self).__init__()\n",
    "#     self.learning_rate = learning_rate\n",
    "#     self.num_iteration = num_iteration\n",
    "#     self.early_stop = early_stop\n",
    "#     self.normalize = normalize\n",
    "#     self.normalizer = Normalizer()    \n",
    "#     self.verbose = verbose\n",
    "    \n",
    "#   def _fit(self, X, Y, reset=True, track_loss=True):\n",
    "#     #remeber to normalize the data before starting\n",
    "#     pass\n",
    "        \n",
    "#   def _predict(self, X):\n",
    "#     #remeber to normalize the data before starting\n",
    "#     pass\n",
    "      \n",
    "#   def _step(self, X, Y):\n",
    "#     # use w update for gradient descent\n",
    "#     pass"
   ]
  },
  {
   "cell_type": "code",
   "execution_count": 55,
   "metadata": {},
   "outputs": [],
   "source": [
    "# Write a new class OlsGd which solves the problem using gradinet descent. \n",
    "# The class should get as a parameter the learning rate and number of iteration. \n",
    "# Plot the loss convergance. for each alpha, learning rate plot the MSE with respect to number of iterations.\n",
    "# What is the effect of learning rate? \n",
    "# How would you find number of iteration automatically? \n",
    "# Note: Gradient Descent does not work well when features are not scaled evenly (why?!).\n",
    "# Be sure to normalize your feature first.\n",
    "class Normalizer():\n",
    "    def __init__(self):\n",
    "        self.means = None\n",
    "        self.stds = None\n",
    "        pass\n",
    "    \n",
    "    # fit data mu and sigma will be used for normalizing\n",
    "    def fit(self, X):\n",
    "        self.means = np.mean(X, axis = 0)\n",
    "        self.stds = np.std(X, axis= 0)\n",
    "        norm = (X - self.means)/self.stds\n",
    "        return norm\n",
    "\n",
    "    def predict(self, X):\n",
    "        #apply normalization\n",
    "        norm = (X - self.means)/self.stds\n",
    "        return norm\n",
    "    \n",
    "class OlsGd_our(Ols):\n",
    "  \n",
    "    def __init__(self, learning_rate=.05, \n",
    "                num_iteration=1000, \n",
    "                normalize=True,\n",
    "                early_stop=True,\n",
    "                verbose=True):\n",
    "    \n",
    "        super(OlsGd_our, self).__init__()\n",
    "        self.learning_rate = learning_rate\n",
    "        self.num_iteration = num_iteration\n",
    "        self.early_stop = early_stop\n",
    "        self.normalize = normalize\n",
    "        self.normalizer = Normalizer()    \n",
    "        self.verbose = verbose\n",
    "        self.delta = 0.000000001\n",
    "    \n",
    "    def fit(self, X, Y, reset=True, track_loss=True):\n",
    "        #remeber to normalize the data before starting\n",
    "        if self.normalize:\n",
    "            X = self.normalizer.fit(X)\n",
    "\n",
    "        X = self.pad(X)\n",
    "        self.w = np.zeros(X.shape[1]) \n",
    "        self.mse = []\n",
    "        self.finish = False\n",
    "        \n",
    "        for i in range(self.num_iteration): \n",
    "            # stopping condition\n",
    "            if i > 2 and self.early_stop and (self.mse[-2] - self.mse[-1] < self.delta):\n",
    "                break\n",
    "            \n",
    "            self._step(X, Y)\n",
    "            \n",
    "            # print iteration number and loss\n",
    "            if self.verbose and (i+1) % 200 == 0:\n",
    "                print(\"Num iteration: \"+str(i)+ \"MSE score:\" + str(self.mse[-1]))\n",
    "        \n",
    "        return self\n",
    "        \n",
    "    def predict(self, X):\n",
    "        #remeber to normalize the data before starting\n",
    "        if self.normalize:\n",
    "            X = self.normalizer.predict(X)\n",
    "        \n",
    "        X = self.pad(X)\n",
    "        return np.dot(X,self.w)\n",
    "      \n",
    "    def _step(self, X, Y, ):\n",
    "        # use w update for gradient descent\n",
    "        Y_pred = np.dot(X,self.w)\n",
    "        mse_score = np.sum(((Y_pred-Y) ** 2)) / (2 * Y.shape[0])\n",
    "        self.mse.append(mse_score)\n",
    "\n",
    "        self.w = self.w - (1/Y.shape[0]) * self.learning_rate * (X.T.dot(Y_pred - Y))\n",
    "            \n",
    "        return self"
   ]
  },
  {
   "cell_type": "code",
   "execution_count": null,
   "metadata": {},
   "outputs": [],
   "source": []
  },
  {
   "cell_type": "code",
   "execution_count": 56,
   "metadata": {},
   "outputs": [
    {
     "name": "stdout",
     "output_type": "stream",
     "text": [
      "Cost at iteration 200: 11.082878045803083\n",
      "Cost at iteration 400: 10.977088973446149\n",
      "Cost at iteration 600: 10.955474753169518\n",
      "Cost at iteration 800: 10.94966570253954\n",
      "Cost at iteration 1000: 10.948045835581196\n",
      "<__main__.OlsGd object at 0x00000262E9EE28E0>\n",
      "\n",
      "Num iteration: 199MSE score:11.082878045803083\n",
      "Num iteration: 399MSE score:10.977088973446149\n",
      "Num iteration: 599MSE score:10.955474753169518\n",
      "Num iteration: 799MSE score:10.94966570253954\n",
      "Num iteration: 999MSE score:10.948045835581196\n",
      "<__main__.OlsGd_our object at 0x00000262E1DE2E80>\n"
     ]
    }
   ],
   "source": [
    "our_model = OlsGd_our()\n",
    "print(our_model.fit(data,labels))\n"
   ]
  },
  {
   "cell_type": "markdown",
   "metadata": {
    "id": "7HVfnXvZFi98"
   },
   "source": [
    "## Exercise 2 - Ridge Linear Regression\n",
    "\n",
    "Recall that ridge regression is identical to OLS but with a L2 penalty over the weights:\n",
    "\n",
    "$L(y,\\hat{y})=\\sum_{i=1}^{i=N}{(y^{(i)}-\\hat{y}^{(i)})^2} + \\lambda \\left\\Vert w \\right\\Vert_2^2$\n",
    "\n",
    "where $y^{(i)}$ is the **true** value and $\\hat{y}^{(i)}$ is the **predicted** value of the $i_{th}$ example, and $N$ is the number of examples\n",
    "\n",
    "* Show, by differentiating the above loss, that the analytical solution is $w_{Ridge}=(X^TX+\\lambda I)^{-1}X^Ty$\n",
    "* Change `OrdinaryLinearRegression` and `OrdinaryLinearRegressionGradientDescent` classes to work also for ridge regression (do not use the random noise analogy but use the analytical derivation). Either add a parameter, or use inheritance.\n",
    "* **Bonus: Noise as a regularizer**: Show that OLS (ordinary least square), if one adds multiplicative noise to the features the **average** solution for $W$ is equivalent to Ridge regression. In other words, if $X'= X*G$ where $G$ is an uncorrelated noise with variance $\\sigma$ and mean 1, then solving for $X'$ with OLS is like solving Ridge for $X$. What is the interpretation? \n",
    "\n"
   ]
  },
  {
   "cell_type": "code",
   "execution_count": null,
   "metadata": {},
   "outputs": [],
   "source": [
    "class RidgeLs(Ols):\n",
    "  def __init__(self, ridge_lambda, *wargs, **kwargs):\n",
    "    super(RidgeLs,self).__init__(*wargs, **kwargs)\n",
    "    self.ridge_lambda = ridge_lambda\n",
    "    \n",
    "  def _fit(self, X, Y):\n",
    "    #Closed form of ridge regression\n",
    "    pass"
   ]
  },
  {
   "cell_type": "markdown",
   "metadata": {},
   "source": [
    "### Use scikitlearn implementation for OLS, Ridge and Lasso"
   ]
  },
  {
   "cell_type": "code",
   "execution_count": null,
   "metadata": {},
   "outputs": [],
   "source": []
  }
 ],
 "metadata": {
  "colab": {
   "collapsed_sections": [],
   "name": "Regression & Regularization - Exercise.ipynb",
   "provenance": []
  },
  "kernelspec": {
   "display_name": "base",
   "language": "python",
   "name": "python3"
  },
  "language_info": {
   "codemirror_mode": {
    "name": "ipython",
    "version": 3
   },
   "file_extension": ".py",
   "mimetype": "text/x-python",
   "name": "python",
   "nbconvert_exporter": "python",
   "pygments_lexer": "ipython3",
   "version": "3.9.13"
  },
  "vscode": {
   "interpreter": {
    "hash": "97bf5cac092693491f9f0c093044444828bd281c57f8a7f0d4a6df9d6c416292"
   }
  }
 },
 "nbformat": 4,
 "nbformat_minor": 1
}
