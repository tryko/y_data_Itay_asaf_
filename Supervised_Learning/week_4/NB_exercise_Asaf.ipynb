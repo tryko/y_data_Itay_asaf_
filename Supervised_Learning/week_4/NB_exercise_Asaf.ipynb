{
 "cells": [
  {
   "cell_type": "markdown",
   "metadata": {
    "id": "Uq_3t_tluNmU"
   },
   "source": [
    "# Naive Bayes"
   ]
  },
  {
   "attachments": {},
   "cell_type": "markdown",
   "metadata": {
    "id": "TQVMUZkQHlm2"
   },
   "source": [
    "\n",
    "## 1. Classifying Digits\n",
    "In this part we will test digits classification on the MNIST dataset, using Bernoulli Naive Bayes (a generative model).\n",
    "\n",
    "The MNIST dataset contains 28x28 grayscale images of handwritten digits between 0 and 9 (10 classes). For mathmatical analysis clarity, and for matching expected API, flatten each image to create a 1D array with 784 elements.\n",
    "\n",
    "* The fuck is EXPECTED API?!\n"
   ]
  },
  {
   "cell_type": "markdown",
   "metadata": {
    "id": "Cjwjk6pzLE-y"
   },
   "source": [
    "### Loading the MNIST dataset\n",
    "Load the MNIST data set. The digits dataset is one of datasets scikit-learn comes with that do not require the downloading of any file from some external website. Use \n",
    ">```\n",
    "from sklearn.datasets import fetch_openml\n",
    "X, y = fetch_openml('mnist_784', version=1, return_X_y=True)\n",
    "```\n",
    "\n",
    "Plot a single sample of each digit as the original image, so you get a feeling how the data looks like.\n",
    "\n",
    "Finally, divide your data into train and test sets, using 1/7 of the data for testing.\n"
   ]
  },
  {
   "cell_type": "code",
   "execution_count": 295,
   "metadata": {},
   "outputs": [],
   "source": [
    "from sklearn.datasets import fetch_openml\n",
    "import sklearn as sk\n",
    "from sklearn.model_selection import train_test_split\n",
    "from sklearn.naive_bayes import BernoulliNB\n",
    "import numpy as np\n",
    "from sklearn.metrics import accuracy_score\n",
    "import matplotlib.pyplot as plt\n",
    "from sklearn.metrics import confusion_matrix\n",
    "from sklearn.datasets import fetch_20newsgroups\n",
    "from sklearn.feature_extraction.text import CountVectorizer\n",
    "from sklearn.pipeline import make_pipeline\n",
    "from sklearn.base import BaseEstimator\n",
    "from sklearn.base import ClassifierMixin\n",
    "newsgroups_data_train = fetch_20newsgroups(subset='train',remove= ('headers', 'footers', 'quotes'))\n",
    "newsgroups_data_test = fetch_20newsgroups(subset='test',remove= ('headers', 'footers', 'quotes'))\n",
    "from scipy.sparse import csr_matrix"
   ]
  },
  {
   "cell_type": "code",
   "execution_count": 144,
   "metadata": {},
   "outputs": [],
   "source": [
    "\n",
    "# Fetch data\n",
    "X, y = fetch_openml('mnist_784', version=1, return_X_y=True)\n",
    "# Split the data into train and test\n",
    "X_train, X_test, y_train, y_test = train_test_split(X, y, test_size=1/7, random_state=42)\n"
   ]
  },
  {
   "cell_type": "markdown",
   "metadata": {
    "id": "WTGjjSKaFfE6"
   },
   "source": [
    "### Bernoulli Naive Bayes\n",
    "If we know how the digits are generated, then we know how to classify them (simply choose the digit class which will maximize the posterior probability) --- but which model should we use for describing the digits generation?\n",
    "\n",
    "In this part we will try a very simplified model of digits creation (which is obviously not the same as the \"real\" model), using a Naive Bayes over an underlying Bernoulli distribution --- that is, we will assume that given a digit class, the pixels of the images are the result of independent coin flips, each with its own \"head\" probability.\n",
    "\n",
    "Note that since we assume each pixl is either 0 (black) or 1 (white), we will need to adjust (preprocess) our data accrodingly (see below).\n",
    "\n",
    "So, the model is stated as follows:\n",
    "$$\n",
    "\\begin{align}\n",
    "\\text{Domain} && x \\in \\{0,1\\}^{784} \\\\\n",
    "\\text{Prior} && \\pi_j = \\Pr(y=j) \\\\\n",
    "\\text{Likelihood} && P_j(x) = \\Pr(x | y=j) \\\\\n",
    "\\end{align}\n",
    "$$\n",
    "\n",
    "Where for each $i\\in 0\\ldots 784$ it holds that\n",
    "$$\n",
    "P_{ji}(x_i) = \\Pr(x_i | y=j) =\n",
    "\\begin{cases}\n",
    "p_{ji} & \\text{if } x_i=1 \\\\\n",
    "1-p_{ji} & \\text{if } x_i=0 \\\\\n",
    "\\end{cases}\n",
    "$$\n"
   ]
  },
  {
   "cell_type": "markdown",
   "metadata": {
    "id": "WNjhD3IpL5bC"
   },
   "source": [
    "#### Question 1\n",
    "Write the classification rule based on this Naive Bayes model. \n",
    "How would you esitmate each of the parameters of the model based on the trainning data? \n",
    "\n",
    "\n",
    "**Bonus:** Think of edge cases which may effect your estimator in an undesired way."
   ]
  },
  {
   "attachments": {},
   "cell_type": "markdown",
   "metadata": {
    "id": "0pN1prGcMqwZ"
   },
   "source": [
    "#### Answer 1\n",
    "The parameters of the model are:\n",
    "1. Prior , The probability of each digit(class) occuring: Calculated for each class by dividing the occurence of each class (sum(y[y==i]))  by the total number of labels len(y). Final equation will be [ sum(y[y==i]) / len(y)].\n",
    "2. Liklihood , the probability of each pixel having the value it has in the input: We calculate the probability of each pixel  having value of 1, for each class,  by summing the number of times a specific pixel had the value 1 and divide it by the total number of that class occuring. p(pixel == 1) = sum(X[y==j,pixel] ==1) / sum(y==digit), for each pixel in (0,784), for each digit in (0,9).\n",
    "\n",
    "Probability of a pixel having value 0 is equal to 1 - p(digit==1).\n",
    "\n",
    "Since the probability of an input belonging to a digit is calculated by : P(y=digitm, x=input) = likelihood * prior\n",
    "We can calculate the probability of a given input belonging to each class and choose the class with the maximal likelihood.\n",
    "\n",
    "\n",
    "Classification rule:\n",
    "1. Calculate the probability of getting the input given each class. \n",
    "2. pick the class that recieved the highest probability.\n",
    "3. classify input as that class.\n",
    "\n",
    "To calculate the probability in (1) : p(y= class | x = input) = p(class) * p(x=input|y=class) / p(x = input|y= all classes)\n",
    "\n",
    "p(class) is the  prior , which we calculate from the training set\n",
    "p(x = input|y= all classes) is also calculated from the training set, since we know the probability of having 0 or 1 in each class (digit).\n",
    "\n"
   ]
  },
  {
   "cell_type": "markdown",
   "metadata": {
    "id": "nOnkgDIXTMCQ"
   },
   "source": [
    "#### Question 2\n",
    "Run a Naive Bayes classifier on the training data and apply predictions on the test data. Use the [sklearn.naive_bayes.BernoulliNB](http://scikit-learn.org/stable/modules/generated/sklearn.naive_bayes.BernoulliNB.html) implementation (see the [source code for sklearn.naive_bayes](https://github.com/scikit-learn/scikit-learn/blob/master/sklearn/naive_bayes.py) for details).\n",
    "\n",
    "Remember we need to preprocess the data in this case such that each pixel would become either black (0) or white (1). For this, use the `binarize` parameter of the implementation. Set this value to $0$ (this is the default), which in this case would mean every pixel with non-zero value will be set to 1.\n",
    "\n",
    "1. Plot the mean image of each class (estimated $\\hat{p}_{ji}$) and generate one sample of each class (remember, you can do this since this is a generative model). You will need to access the `feature_log_prob_` attribute of the trained model.\n",
    "\n",
    "2. Plot the confusion matrix of your classifier, as claculated on the test data (it is recommended to use [sklearn.metrics.confusion_matrix](http://scikit-learn.org/stable/modules/generated/sklearn.metrics.confusion_matrix.html)). Calculate the total accuracy (fraction of correctly classified images), and summarize the results in your own words.\n",
    "\n",
    "3. Think of a way you can find the optimal threshold of the binarization part. **There is no need to actually perform this task --- just describe what you would have done.**\n"
   ]
  },
  {
   "cell_type": "markdown",
   "metadata": {
    "id": "ZKdsdegDWaO_"
   },
   "source": [
    "#### Answer 2\n",
    "Put you answer here..."
   ]
  },
  {
   "cell_type": "code",
   "execution_count": 145,
   "metadata": {
    "id": "XalqjRWXWS-Y"
   },
   "outputs": [
    {
     "name": "stdout",
     "output_type": "stream",
     "text": [
      "Confusion matrix:\n",
      "\n",
      " [[ 881    0    6   12    1   39   21    1   20    2]\n",
      " [   0 1110    6    6    0   12    3    0   12    3]\n",
      " [  13   16  805   26   17    6   41    5   36    2]\n",
      " [   5   30   49  830    2   23    8   14   45   28]\n",
      " [   2    7    6    0  724    6   16    5   18  122]\n",
      " [  20   17    7  139   24  680   20    3   13   14]\n",
      " [  12   33   21    1   13   25  855    0    1    0]\n",
      " [   5   22    8    2   27    3    0  890   19   79]\n",
      " [  16   39   19   80   10   33    5    5  720   42]\n",
      " [   6   21    4    9   77    4    0   33   29  853]] \n",
      "\n",
      "\n",
      "Accuracy, calculated as sum of confusion matrix diagonal divided by total sum of confusion matrix: 0.83 \n",
      "\n",
      "\n",
      "To optimize the 'binarize' hyperparameter, we would train the model with a range of values for that parameter, and calculate the accuracy of each value. finally, we would choose the value that maximizes the accuracy\n"
     ]
    },
    {
     "data": {
      "text/plain": [
       "<Figure size 640x480 with 0 Axes>"
      ]
     },
     "metadata": {},
     "output_type": "display_data"
    },
    {
     "data": {
      "image/png": "[encoded data removed]",
      "text/plain": [
       "<Figure size 640x480 with 10 Axes>"
      ]
     },
     "metadata": {},
     "output_type": "display_data"
    }
   ],
   "source": [
    "######## 1 ##########\n",
    "\n",
    "# Create a BernoulliNB classifier\n",
    "clf = BernoulliNB()\n",
    "\n",
    "# Train the model on the training data\n",
    "clf.fit(X_train, y_train)\n",
    "\n",
    "# Make predictions on the test data\n",
    "y_pred = clf.predict(X_test)\n",
    "\n",
    "\n",
    "\n",
    "\n",
    "\n",
    "\n",
    "\n",
    "\n",
    "plt.figure();\n",
    "\n",
    "### WITH feature_log_prob_\n",
    "\n",
    "# Set the number of rows and columns for the subplots\n",
    "nrows = 2\n",
    "ncols = 5\n",
    "\n",
    "# Create a figure and an array of subplots\n",
    "fig, axes = plt.subplots(nrows, ncols);\n",
    "# Use a for loop to plot the images\n",
    "for i, ax in enumerate(axes.flat):\n",
    "\n",
    "    # Plot the image and set the title\n",
    "    ax.imshow(np.reshape((clf.feature_log_prob_[i]),(28,28)));\n",
    "    \n",
    "\n",
    "# Remove the ticks from the plot\n",
    "plt.setp(axes, xticks=[], yticks=[]);\n",
    "\n",
    "# ## plot MEAN image\n",
    "# fig, axes = plt.subplots(nrows, ncols);\n",
    "# # Use a for loop to plot the images\n",
    "# for i, ax in enumerate(axes.flat):\n",
    "\n",
    "#     # Plot the image and set the title\n",
    "#     ax.imshow(np.reshape(np.mean(X[y==i]),(28,28)));\n",
    "    \n",
    "\n",
    "# # Remove the ticks from the plot\n",
    "# plt.setp(axes, xticks=[], yticks=[]);\n",
    "\n",
    "\n",
    "\n",
    "##### 2 #######\n",
    "\n",
    "cm = confusion_matrix(y_test, y_pred)\n",
    "\n",
    "# Print the confusion matrix\n",
    "print('Confusion matrix:\\n\\n',cm,'\\n\\n')\n",
    "\n",
    "# Calculate the accuracy of the model\n",
    "accuracy = accuracy_score(y_test, y_pred)\n",
    "print(\"Accuracy, calculated as sum of confusion matrix diagonal divided by total sum of confusion matrix: {:.2f}\".format(accuracy),'\\n\\n')\n",
    "\n",
    "\n",
    "#### 3 ####\n",
    "\n",
    "print(\"To optimize the 'binarize' hyperparameter, we would train the model with a range of values for that parameter, and calculate the accuracy of each value. finally, we would choose the value that maximizes the accuracy\")\n",
    "\n",
    "\n"
   ]
  },
  {
   "attachments": {},
   "cell_type": "markdown",
   "metadata": {
    "id": "lKSgnectrTJ1"
   },
   "source": [
    "## 2. Classifing Text Documents using Multinomial Naive Bayes\n",
    "In this exercise you will classify the \"20 newsgroups\" data set using your own naive bayes classifier and compare to the scikit learn built in version.\n",
    "\n",
    "The 20 newsgroups dataset comprises around 18000 newsgroups posts on 20 topics split in two subsets: one for training (or development) and the other one for testing (or for performance evaluation). The split between the train and test set is based upon messages posted before and after a specific date.\n",
    "\n",
    "\n",
    "\n",
    "* Load the **train** data using `from sklearn.datasets import fetch_20newsgroups`. remove headers, footers and quotes (see documentation)\n",
    "* Use `sklearn.feature_extraction.text import CountVectorizer` to count words (stop_words='english')\n",
    "* Write a class `NaiveBayes(BaseEstimator, ClassifierMixin)` and implement its `fit`, `predict` and `predict_proba` methods.\n",
    "* use `sklearn.pipeline.make_pipeline` to chain the vectroizer and model.\n",
    "* note: limit the vocuabolary size if you suffer memory issues\n",
    "* compare the accuracy over the **test** data. You can use `accuracy_score, classification_report`\n",
    "* compare to the built in `sklearn.naive_bayes.MultinomialNB`. If there are differences try to think why\n",
    "* plot the learning curve - is the model in the bias or variance regime (you can use the built in model for doing the analysis)\n",
    "* optimize performance in respect to vectorizer hyper parameters (e.g. max_features, max_df etc.).\n",
    "\n",
    "### Optional: Model interpretability\n",
    "Find the most important features for a **specific** decision of a NB classifier.\n",
    "Because the model has learned the prior $p(x_i|c)$ during the training, the contribution of an individual feature value can be easily measured by the posterior, $p(c|x_i)=p(c)p(x_i|c)/p(x_i)$\n",
    "Implement a function which gets a scikit-learn NB model as input and returns $P(c|x_i)$:\n",
    "\n",
    "`def calc_p_c_given_xi(model)`\n",
    "\n",
    "Hint: Use the following model properties:\n",
    "\n",
    "* `model.class_log_prior_`\n",
    "* `model.feature_log_prob_`\n",
    "\n",
    "Note: remember these are logs and you need to use np.exp and normalize to get $P(c|x_i)$ \n",
    "Another hint: use numpy built-in broadcasting property.\n",
    "\n",
    "* Use the interpretation to examine errors of the classifier where $\\hat{c}\\ne c$. Which top words support the correct class and which support the wrong class? You can use the `print_txt` below to color words. \n",
    "\n",
    "Bonus: How can you correct the analyzed error? \n",
    "\n",
    "To read more about model interpretation, see the blogpost below and my tutorial:\n",
    "* https://lilianweng.github.io/lil-log/2017/08/01/how-to-explain-the-prediction-of-a-machine-learning-model.html\n",
    "* https://github.com/chanansh/right_but_why"
   ]
  },
  {
   "cell_type": "code",
   "execution_count": 146,
   "metadata": {
    "colab": {
     "base_uri": "https://localhost:8080/",
     "height": 35
    },
    "id": "WrTOhkHV9msW",
    "outputId": "c69cb41c-5ed6-4e43-ef3f-6ccaa4980c1d"
   },
   "outputs": [
    {
     "name": "stdout",
     "output_type": "stream",
     "text": [
      "This \u001b[42;37mword\u001b[0m support the first class but this the \u001b[41;37mother\u001b[0m\n"
     ]
    }
   ],
   "source": [
    "import string\n",
    "def print_txt(txt, hot, cold):\n",
    "  \"\"\"\n",
    "  print the text, coloring hot and cold words with colors\n",
    "  \"\"\"\n",
    "  cold_color='\\x1b[41;37m{}\\x1b[0m'\n",
    "  hot_color='\\x1b[42;37m{}\\x1b[0m'\n",
    "  def color(token):\n",
    "    lower = str(token).lower()\n",
    "    lower = lower.replace('\\t','').replace('\\n','')\n",
    "    lower = lower.translate(string.punctuation)\n",
    "    if (lower in hot) and (lower in cold):\n",
    "      return mid_color.format(token)\n",
    "    elif lower in hot:\n",
    "      return hot_color.format(token)\n",
    "    elif lower in cold:\n",
    "      return cold_color.format(token)\n",
    "    else:\n",
    "      return token\n",
    "  colored_txt = \" \".join([color(token) for token in txt.split(' ')])\n",
    "  print(colored_txt)\n",
    "print_txt('This word support the first class but this the other', ['word'],['other'])"
   ]
  },
  {
   "cell_type": "code",
   "execution_count": 301,
   "metadata": {},
   "outputs": [],
   "source": [
    "# Load train data #\n",
    "X_train = newsgroups_data_train.data\n",
    "y_train = newsgroups_data_train.target\n",
    "X_test = newsgroups_data_test.data\n",
    "y_test = newsgroups_data_test.target\n",
    "# initialize the CountVectorizer object\n",
    "vectorizer = CountVectorizer(stop_words='english')\n",
    "\n",
    "\n",
    "# fit the data to the vectorizer\n",
    "vectorizer.fit(X_train)\n",
    "X_train = vectorizer.transform(X_train)\n",
    "X_test = vectorizer.transform(X_test)\n",
    "\n",
    "\n",
    "\n"
   ]
  },
  {
   "cell_type": "code",
   "execution_count": 268,
   "metadata": {},
   "outputs": [
    {
     "name": "stdout",
     "output_type": "stream",
     "text": [
      "[0 0 2 1 1] \n",
      "\n",
      "\n",
      "[[0. 1. 0. 2. 1.]\n",
      " [0. 0. 0. 1. 0.]\n",
      " [0. 0. 0. 0. 1.]\n",
      " [0. 1. 1. 0. 0.]\n",
      " [1. 0. 1. 0. 0.]]\n"
     ]
    }
   ],
   "source": [
    "## SMALL SMAPLE FOR TESTING\n",
    "np.random.seed(41)\n",
    "sparse_matrix = np.zeros((5,5))\n",
    "for i in range(10):\n",
    "    sparse_matrix[np.random.choice(5),np.random.choice(5)] += 1\n",
    "\n",
    "sparse_matrix = csr_matrix(sparse_matrix)\n",
    "\n",
    "labels = np.array([np.random.choice(3) for i in range(5)])\n",
    "\n",
    "print(labels,'\\n\\n')\n",
    "print(sparse_matrix.toarray())"
   ]
  },
  {
   "cell_type": "code",
   "execution_count": 307,
   "metadata": {},
   "outputs": [
    {
     "data": {
      "text/plain": [
       "0.623473181093999"
      ]
     },
     "execution_count": 307,
     "metadata": {},
     "output_type": "execute_result"
    }
   ],
   "source": [
    "class NaiveBayes(BaseEstimator, ClassifierMixin):\n",
    "    def fit(self, X, y, alpha=1):\n",
    "        # Determine the number of classes and the total number of samples\n",
    "        self.num_classes = len(set(y))\n",
    "        self.num_samples = X.shape[0]\n",
    "        self.num_features = X.shape[1]\n",
    "        # Calculate the class prior probabilities\n",
    "        self.class_priors = np.array([np.sum(y == c) / self.num_samples for c in range(self.num_classes)])\n",
    "        \n",
    "        # Calculate the feature probabilities for each class\n",
    "        feature_probs = []\n",
    "        for c in range(self.num_classes):\n",
    "            # Calculate the mean of the feature values for each class\n",
    "            c_samples = X[y == c]\n",
    "            word_count = np.sum(c_samples, axis=0) # count how many times each word appeard in class\n",
    "            \n",
    "            # Append the feature probabilities for this class to the list\n",
    "            feature_probs.append(np.array(word_count))\n",
    "\n",
    "        # Apply lidstone smoothing and log the probability\n",
    "        feature_probs = np.array(feature_probs)\n",
    "        feature_probs = feature_probs + alpha\n",
    "        for indx,row in enumerate(feature_probs): \n",
    "            \n",
    "            feature_probs[indx] = np.log(row/ np.sum(row))\n",
    "        \n",
    "        self.feature_probs = feature_probs[:,-1,:]\n",
    "        \n",
    "    \n",
    "    def predict(self, X):\n",
    "        # Initialize a list to store the predictions\n",
    "        y_pred = []\n",
    "\n",
    "        # Iterate over each sample and predict the class\n",
    "        for x in X:\n",
    "            # Convert x from sparse data type to numpy\n",
    "            x = x.toarray().flatten() \n",
    "            # Calculate the class scores\n",
    "            scores = []\n",
    "            for c, prior in enumerate(self.class_priors):\n",
    "               \n",
    "                # Calculate the class score using the feature probabilities and the class prior\n",
    "                \n",
    "               \n",
    "                score = np.sum(self.feature_probs[c] * x) + np.log(prior)\n",
    "                scores.append(score)\n",
    "                \n",
    "            # Predict the class with the highest score\n",
    "            y_pred.append(np.argmax(scores))\n",
    "\n",
    "        return y_pred\n",
    "\n",
    "\n",
    "\n",
    "clf = NaiveBayes()\n",
    "clf.fit(X_train,y_train)\n",
    "y_pred = clf.predict(X_test)\n",
    "accuracy_score(y_pred,y_test)\n",
    "\n",
    "\n",
    "# TESTS ##\n",
    "\n",
    "# clf = MultinomialNaiveBayes()\n",
    "# clf.fit(sparse_matrix,labels)\n",
    "# y_pred = clf.predict(sparse_matrix)\n",
    "# accuracy_score(y_pred,labels)\n",
    "\n",
    "\n"
   ]
  },
  {
   "cell_type": "code",
   "execution_count": 306,
   "metadata": {},
   "outputs": [
    {
     "data": {
      "text/plain": [
       "0.6343600637280935"
      ]
     },
     "execution_count": 306,
     "metadata": {},
     "output_type": "execute_result"
    }
   ],
   "source": [
    "from sklearn.naive_bayes import MultinomialNB\n",
    "from sklearn.feature_extraction.text import CountVectorizer\n",
    "\n",
    "# # Create an instance of the CountVectorizer class\n",
    "# vectorizer = CountVectorizer()\n",
    "\n",
    "# Convert the training data into numerical feature vectors\n",
    "# X_train = vectorizer.fit_transform(X_train)\n",
    "\n",
    "# Create an instance of the MultinomialNB class\n",
    "classifier = MultinomialNB()\n",
    "\n",
    "# Train the classifier\n",
    "classifier.fit(X_train, y_train)\n",
    "\n",
    "# Convert the test data into numerical feature vectors\n",
    "# X_test = vectorizer.transform(X_test)\n",
    "\n",
    "# Make predictions on the test data\n",
    "y_pred = classifier.predict(X_test)\n",
    "accuracy_score(y_pred,y_test)\n"
   ]
  }
 ],
 "metadata": {
  "colab": {
   "collapsed_sections": [],
   "name": "NB exercise.ipynb",
   "provenance": []
  },
  "kernelspec": {
   "display_name": "base",
   "language": "python",
   "name": "python3"
  },
  "language_info": {
   "codemirror_mode": {
    "name": "ipython",
    "version": 3
   },
   "file_extension": ".py",
   "mimetype": "text/x-python",
   "name": "python",
   "nbconvert_exporter": "python",
   "pygments_lexer": "ipython3",
   "version": "3.9.15"
  },
  "vscode": {
   "interpreter": {
    "hash": "5e2ac3774ab32f260f9760d004fae9073803f03c7ce8e55cd71c8539f29de38d"
   }
  }
 },
 "nbformat": 4,
 "nbformat_minor": 1
}
