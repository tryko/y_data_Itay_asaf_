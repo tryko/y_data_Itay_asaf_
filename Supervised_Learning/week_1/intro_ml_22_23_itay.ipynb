{
  "cells": [
    {
      "cell_type": "markdown",
      "metadata": {
        "id": "nq4P4a3arI_D"
      },
      "source": [
        "# Introduction to Machine Learning via Nearest Neighbours\n"
      ]
    },
    {
      "cell_type": "markdown",
      "metadata": {
        "id": "Jea5opSRvd0C"
      },
      "source": [
        "## Part 1 - Implement k-Nearest Neighbours (kNN) - 30 points\n",
        "\n",
        "### Note:\n",
        "This exercise closely follows the post by Scott Fortmann-Roe about bias-variance tradeoff (see references below). It is recommended that you think about each of the questions before referring to that essay.\n",
        "\n",
        "In this exercise you will get familiar with a **non-parapmetric** learning algorithm called k-Nearest Neighbours (kNN), and will implement it. You will then analyse the bias-variance tradeoff and try to come up with the optimal kNN classifier for the given data.\n",
        "\n",
        "For this exercise we will use hypothetical and artificial generated data.\n",
        "### Nearest Neighbours\n",
        "The kNN algorithm is simple - given a labeled sample set data, and a new sample, predict the label of this sample by using majority vote (or averaging) over the labels of the k-nearest neighbour of the new data in the sample set.\n",
        "\n",
        "For this task, assume each data point is an n-dimensional point in $\\mathbb{R}^n$, and each label is either 0 or 1.\n",
        "\n",
        "Implement a class called KNNClassifier and two methods:\n",
        "- `fit`: should recieve the training data (an array of shape [n_samples, n_features]) and their labels (array of shape [n_samples]). \n",
        "- `predict`: should recieve a set of data (an array of shape [n_samples, n_features]) and **return** their predicted labels (array of shape [n_samples]).\n",
        "\n",
        "Use simple Euclidean distance to measure the distance between two points. In case two points in the training have the same distance from a given point to predict, the nearest would be the one appearing first in the training set. \n",
        "\n",
        "Use majority vote between all kNN of a point to predict its label. In case the vote of all kNN is tied, you may predict whichever label you wish.\n",
        "\n",
        "You may look up [sklearn.neighbors.KNeighborsClassifier](http://scikit-learn.org/stable/modules/generated/sklearn.neighbors.KNeighborsClassifier.html) for reference.\n",
        "\n",
        "* Bonus for nurdes: use kd-tree for efficiency, see [nearest neighbour search in wiki](https://en.wikipedia.org/wiki/Nearest_neighbor_search)\n",
        "\n",
        "* Bonus for lazy nurdes: use [scipy's kd implementation](https://docs.scipy.org/doc/scipy-0.14.0/reference/generated/scipy.spatial.KDTree.html)"
      ]
    },
    {
      "cell_type": "code",
      "execution_count": 18,
      "metadata": {},
      "outputs": [],
      "source": [
        "import numpy as np\n",
        "from sklearn import datasets\n",
        "from sklearn.model_selection import train_test_split\n",
        "import matplotlib.pyplot as plt\n"
      ]
    },
    {
      "cell_type": "code",
      "execution_count": 19,
      "metadata": {},
      "outputs": [],
      "source": [
        "arr = np.array(([0,0], [2,2], [3,3],[1,1],[6,6]))\n",
        "X = np.array(([8,8],[1,1], [3,3],[5,5], [10,10]))\n",
        "y = np.array([0,1,1, 0, 0])\n",
        "\n",
        "# np.sqrt(( - )**2)"
      ]
    },
    {
      "cell_type": "code",
      "execution_count": 20,
      "metadata": {},
      "outputs": [
        {
          "name": "stdout",
          "output_type": "stream",
          "text": [
            "[[128   2  18  50 200]\n",
            " [ 72   2   2  18 128]\n",
            " [ 50   8   0   8  98]\n",
            " [ 98   0   8  32 162]\n",
            " [  8  50  18   2  32]]\n",
            "[[11.3137085   1.41421356  4.24264069  7.07106781 14.14213562]\n",
            " [ 8.48528137  1.41421356  1.41421356  4.24264069 11.3137085 ]\n",
            " [ 7.07106781  2.82842712  0.          2.82842712  9.89949494]\n",
            " [ 9.89949494  0.          2.82842712  5.65685425 12.72792206]\n",
            " [ 2.82842712  7.07106781  4.24264069  1.41421356  5.65685425]]\n",
            "[1 2 3 0 4]\n",
            "[1 2] [1 1]\n",
            "1\n",
            "[1 2 3 0 4]\n",
            "[1 2] [1 1]\n",
            "1\n",
            "[2 1 3 0 4]\n",
            "[2 1] [1 1]\n",
            "1\n",
            "[1 2 3 0 4]\n",
            "[1 2] [1 1]\n",
            "1\n",
            "[3 0 2 4 1]\n",
            "[3 0] [0 0]\n",
            "0\n"
          ]
        },
        {
          "data": {
            "text/plain": [
              "[1, 1, 1, 1, 0]"
            ]
          },
          "execution_count": 20,
          "metadata": {},
          "output_type": "execute_result"
        }
      ],
      "source": [
        "distances_sq = np.square(np.expand_dims(X,axis=0) - np.expand_dims(arr,axis=1))\n",
        "distances_sum = np.sum(distances_sq,axis=2)\n",
        "distance_root = np.sqrt(distances_sum)\n",
        "print(distances_sum)\n",
        "print(distance_root)\n",
        "y_pred = []\n",
        "idx = distance_root.argsort(axis=1)[:, [0,1]]\n",
        "idx\n",
        "y[idx]\n",
        "for r in np.arange(0, distance_root.shape[0]):\n",
        "    idx = distance_root[r].argsort()[:2]\n",
        "    # print(distance_root[:,c].argsort(), distance_root[:,c])\n",
        "    print(distance_root[r].argsort())\n",
        "    print(idx,y[idx])\n",
        "    print(np.bincount(y[idx]).argmax())\n",
        "    y_pred.append(np.bincount(y[idx]).argmax())\n",
        "\n",
        "y_pred\n"
      ]
    },
    {
      "cell_type": "code",
      "execution_count": 21,
      "metadata": {},
      "outputs": [],
      "source": [
        "iris = datasets.load_iris()\n",
        "X, y = iris.data, iris.target"
      ]
    },
    {
      "cell_type": "code",
      "execution_count": 22,
      "metadata": {},
      "outputs": [
        {
          "data": {
            "image/png": "[encoded data removed]",
            "text/plain": [
              "<Figure size 640x480 with 1 Axes>"
            ]
          },
          "metadata": {},
          "output_type": "display_data"
        }
      ],
      "source": [
        "X_train, X_test, y_train,y_test = train_test_split(X, y, test_size=0.2, random_state=1234)\n",
        "plt.figure()\n",
        "plt.scatter(X[:,0], X[:,1], c=y)\n",
        "plt.show()"
      ]
    },
    {
      "cell_type": "code",
      "execution_count": 23,
      "metadata": {
        "colab": {
          "base_uri": "https://localhost:8080/",
          "height": 134
        },
        "id": "aYhDJRDPrH7f",
        "outputId": "24283ab7-ae89-46be-c57b-35b05e4af292"
      },
      "outputs": [],
      "source": [
        "class kNNClassifier:\n",
        "  def __init__(self, n_neighbors):\n",
        "    self.n_neighbors = n_neighbors\n",
        "    \n",
        "  def fit(self, X, y):\n",
        "    self.X = X\n",
        "    self.y = y\n",
        "\n",
        "  def predict(self, X):\n",
        "    # calculating euclidean distance\n",
        "    dist_sq = np.square( np.expand_dims(self.X,axis=0) - np.expand_dims(X,axis=1))\n",
        "    dist_sum = np.sum(dist_sq,axis=2)\n",
        "    dist_root = np.sqrt(dist_sum)  \n",
        "\n",
        "    y_pred = []\n",
        "    # going over all the points and comparing distance\n",
        "    for r in np.arange(0, distance_root.shape[0]):\n",
        "      idx = dist_root[r].argsort()[:2]\n",
        "      y_pred.append(np.bincount(y[idx]).argmax())\n",
        "\n",
        "    return y_pred\n",
        "\n",
        "    \n",
        "  "
      ]
    },
    {
      "cell_type": "markdown",
      "metadata": {
        "id": "D0vc5yNF0fcP"
      },
      "source": [
        "## Part 2 - Learn and evaluate kNN algorithm on artificial data\n",
        "\n",
        "kNN is a **non-parametric** in the sense that no inner parameter of the model is learned by the sample training set (or maybe you could say that the number of parameters increases with the size of the sample set). However, the number of neighbours **k is considered a hyper-parameter**, and choosing the optimal value for it, is choosing the balance between bias and variance as discussed in class.\n",
        "\n",
        "\n"
      ]
    },
    {
      "cell_type": "markdown",
      "metadata": {
        "id": "lagz0mWyIXMY"
      },
      "source": [
        "### An applied example: voter party registration\n",
        "\n",
        "In this example, each voter is described by a vector of two features $(x_0, x_1)$, where $x_0$ describes how wealthy that voter is, and $x_1$ describes how religious the voter is. Label $y=1$ represents a Republican voter, and $y=-1$ represents a Democrat voter.\n",
        "\n",
        "Use the given function `generate_data(m)` to create m samples with m labels. The labels are created using the following function:\n",
        "\n",
        "$$\n",
        "y = \\text{sign}\\left(x_1 - 0.1\\times((x_0-5)^3-x_0^2+(x_0 − 6)^2+80)\\right)\n",
        "$$\n",
        "\n",
        "and then a small fraction of the labels (chosen randomly, up to 10%) are flipped to represent unknown effect of features which are not measured. The sign of 0 is defined as 1 for this case.\n",
        "\n",
        "\n",
        "Below is an example of generating 500 samples, and plotting them."
      ]
    },
    {
      "cell_type": "code",
      "execution_count": 24,
      "metadata": {
        "id": "eWtEiM4-4zGV"
      },
      "outputs": [],
      "source": [
        "def true_boundary_voting_pred(wealth, religiousness):\n",
        "  return religiousness-0.1*((wealth-5)**3-wealth**2+(wealth-6)**2+80)\n",
        "\n",
        "def generate_data(m, seed=None):\n",
        "  # if seed is not None, this function will always generate the same data\n",
        "  np.random.seed(seed) \n",
        "  \n",
        "  X = np.random.uniform(low=0.0, high=10.0, size=(m,2))\n",
        "  y = np.sign(true_boundary_voting_pred(X[:,0], X[:,1]))\n",
        "  y[y==0] = 1\n",
        "  samples_to_flip = np.random.randint(0,m//10)\n",
        "  flip_ind = np.random.choice(m, samples_to_flip, replace=False)\n",
        "  y[flip_ind] = -y[flip_ind]\n",
        "  return X, y\n",
        "\n",
        "def plot_labeled_data(X, y, no_titles=False):\n",
        "  republicans = (y==1)\n",
        "  democrats = (y==-1)\n",
        "  plt.scatter(X[republicans,0], X[republicans,1], c='r')\n",
        "  plt.scatter(X[democrats,0], X[democrats,1], c='b')\n",
        "  if not no_titles:\n",
        "    plt.xlabel('Wealth')\n",
        "    plt.ylabel('Religiousness')\n",
        "    plt.title('Red circles represent Republicans, Blues Democrats')\n",
        "    \n",
        "  plt.xlim([0, 10]);\n",
        "  plt.ylim([0, 10]);\n",
        "  plt.plot(np.linspace(0,10,1000), -true_boundary_voting_pred(np.linspace(0,10,1000), np.zeros(1000)), linewidth=2, c='k');"
      ]
    },
    {
      "cell_type": "code",
      "execution_count": 25,
      "metadata": {},
      "outputs": [],
      "source": [
        "from scipy import spatial\n",
        "\n",
        "class kNNClassifier:\n",
        "    def __init__(self, n_neighbors):\n",
        "        self.n_neighbors = n_neighbors\n",
        "        \n",
        "    def fit(self, X, y):\n",
        "        self.tree = spatial.KDTree(X)\n",
        "        self.labels=y\n",
        "\n",
        "    def predict(self, X):\n",
        "        d, indices = self.tree.query(X,self.n_neighbors, p=2)\n",
        "        if self.n_neighbors==1:\n",
        "            return self.labels[indices]\n",
        "        return  np.percentile(self.labels[indices], 50,axis=1, interpolation='nearest')\n",
        "  \n",
        "    def change_k(self,k):\n",
        "        self.n_neighbors =k"
      ]
    },
    {
      "cell_type": "markdown",
      "metadata": {
        "id": "hbU1ivU23EJO"
      },
      "source": [
        "\n",
        "### 1. Analyse the properties of kNN - 30 points\n",
        "Generate multiple sample data sets of size 500 (use the given function above), and plot the decision plane for increasing values of k (e.g.: 1, 3, 5, 11, 21, 51, 99).\n",
        "\n",
        "The decision plane should cover the range [0,10] for both axes, coloring the patches that would be classified as Republicans or Democrats in two colors. It should look something like this:\n",
        "\n",
        "![decision plane](https://doc-14-14-docs.googleusercontent.com/docs/securesc/flg80o8vb463a3nd3i6da8hemig5me1b/hvii8ll4dscju8o17vuo2aab9aei8hgr/1543334400000/11934753179242311747/03422859225809857490/1chmyojft_R6ftfBhoPZuGN9AykyUS-cw?e=view&nonce=4i4j8lssjk6kc&user=03422859225809857490&hash=k9ogjg94ssot1vocu8uoeg4okkeekg6f)\n",
        "\n",
        "https://drive.google.com/file/d/1chmyojft_R6ftfBhoPZuGN9AykyUS-cw/view?usp=sharing\n",
        "\n",
        "Answer the following questions:\n",
        "- How is the decision plain affected from changes in the sample set, as a function of k?\n",
        "- Can you describe when do you underfit or overfit the data? \n",
        "- How does the complexity of this model depends on k?\n",
        "\n",
        "* Bonus for nurdes:\n",
        "Use interactive slider for k to see the effect [see [interact](https://ipywidgets.readthedocs.io/en/stable/examples/Using%20Interact.html)]"
      ]
    },
    {
      "cell_type": "code",
      "execution_count": null,
      "metadata": {},
      "outputs": [
        {
          "name": "stdout",
          "output_type": "stream",
          "text": [
            "(500, 500)\n"
          ]
        },
        {
          "data": {
            "image/png": "[encoded data removed]",
            "text/plain": [
              "<Figure size 640x480 with 1 Axes>"
            ]
          },
          "metadata": {},
          "output_type": "display_data"
        }
      ],
      "source": [
        "x = np.arange(0,500)\n",
        "y = np.arange(0,500)\n",
        "z = np.array([[i+j for i in x] for j in y])\n",
        "print(z.shape)\n",
        "# Create the pcolormesh plot\n",
        "plt.pcolormesh(x, y, z)\n",
        "plt.show()"
      ]
    },
    {
      "cell_type": "code",
      "execution_count": 27,
      "metadata": {},
      "outputs": [
        {
          "name": "stderr",
          "output_type": "stream",
          "text": [
            "C:\\Users\\itay8\\AppData\\Local\\Temp\\ipykernel_4996\\3248168082.py:6: UserWarning: The input coordinates to pcolormesh are interpreted as cell centers, but are not monotonically increasing or decreasing. This may lead to incorrectly calculated cell edges, in which case, please supply explicit cell edges to pcolormesh.\n",
            "  plt.pcolormesh(X[:,0], X[:,1], z)\n"
          ]
        },
        {
          "data": {
            "image/png": "[encoded data removed]",
            "text/plain": [
              "<Figure size 640x480 with 1 Axes>"
            ]
          },
          "metadata": {},
          "output_type": "display_data"
        },
        {
          "data": {
            "text/plain": [
              "(500, 2)"
            ]
          },
          "execution_count": 27,
          "metadata": {},
          "output_type": "execute_result"
        }
      ],
      "source": [
        "x = np.arange(0,500)\n",
        "y = np.arange(0,500)\n",
        "z = np.array([[i+j for i in x] for j in y])\n",
        "X, y = generate_data(m=500,seed=1)\n",
        "y = np.array([y,y]).T\n",
        "plt.pcolormesh(X[:,0], X[:,1], z)\n",
        "plt.show()\n",
        "y.shape\n",
        "\n"
      ]
    },
    {
      "cell_type": "code",
      "execution_count": null,
      "metadata": {
        "id": "DHJTKo8RMSfA"
      },
      "outputs": [],
      "source": [
        "# code goes here\n",
        "X,y = generate_data(m=500, seed=42)\n",
        "for k in range([1, 3, 5, 11, 21, 51, 99]):\n",
        "    \n",
        "    plot_labeled_data(X, y)"
      ]
    },
    {
      "cell_type": "markdown",
      "metadata": {
        "id": "syIXUqP-MSfK"
      },
      "source": [
        "Text goes here..."
      ]
    },
    {
      "cell_type": "markdown",
      "metadata": {
        "id": "9FAvgN2R28F9"
      },
      "source": [
        "### 2. Finding the optimal k - 15 points\n",
        "Sample a single sample set of size 1000 and divide it randomly to train (0.6) / validation (0.2) / test (0.2) sets. Plot the train vs validation error for several k values, and choose the best k. Where do you underfit/overfit the data? Finally, estimate the generalization error of your chosen classifier using the test set. What would happen if you optimize directly on test? is the optimal k the same?\n"
      ]
    },
    {
      "cell_type": "code",
      "execution_count": null,
      "metadata": {
        "id": "J7XNvwa-K1sQ"
      },
      "outputs": [],
      "source": [
        "# code goes here"
      ]
    },
    {
      "cell_type": "markdown",
      "metadata": {
        "id": "d5bS6ekxK14_"
      },
      "source": [
        "Text goes here..."
      ]
    },
    {
      "cell_type": "markdown",
      "metadata": {
        "id": "2uHY-ECb2-nt"
      },
      "source": [
        "### 3. Using cross validation - 25 points\n",
        "This time, put the test data aside (0.2 of the data), and apply 5-fold CV on the remaining data to evaluate the performance of each k value. \n",
        "What is the size of the validation and train set now, in each CV iteration?\n",
        "Did your final model selection change? Explain why."
      ]
    },
    {
      "cell_type": "code",
      "execution_count": null,
      "metadata": {
        "id": "BVMhcG3UMOgM"
      },
      "outputs": [],
      "source": [
        "# code goes here"
      ]
    },
    {
      "cell_type": "markdown",
      "metadata": {
        "id": "4pNy88oY1fIR"
      },
      "source": [
        "## References\n",
        "- http://scott.fortmann-roe.com/docs/BiasVariance.html\n",
        "- http://scott.fortmann-roe.com/docs/MeasuringError.html\n",
        "- http://scikit-learn.org/stable/modules/cross_validation.html"
      ]
    }
  ],
  "metadata": {
    "colab": {
      "provenance": []
    },
    "kernelspec": {
      "display_name": "Python 3.9.15 ('pytorchbook')",
      "language": "python",
      "name": "python3"
    },
    "language_info": {
      "codemirror_mode": {
        "name": "ipython",
        "version": 3
      },
      "file_extension": ".py",
      "mimetype": "text/x-python",
      "name": "python",
      "nbconvert_exporter": "python",
      "pygments_lexer": "ipython3",
      "version": "3.9.15"
    },
    "vscode": {
      "interpreter": {
        "hash": "e81386ddb2834ac3d14789c51ee679bf33ed44306bcea5ba5b9a46fc49554baa"
      }
    }
  },
  "nbformat": 4,
  "nbformat_minor": 0
}
