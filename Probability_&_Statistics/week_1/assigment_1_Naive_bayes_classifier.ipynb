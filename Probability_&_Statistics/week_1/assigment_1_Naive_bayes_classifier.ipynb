{
  "cells": [
    {
      "cell_type": "markdown",
      "metadata": {
        "id": "N7jn3RRSSGbb"
      },
      "source": [
        "# Probabilistic classifier of texts into spam / ham"
      ]
    },
    {
      "cell_type": "markdown",
      "metadata": {
        "id": "1XGIBQPBSGbi"
      },
      "source": [
        "## Intro"
      ]
    },
    {
      "cell_type": "markdown",
      "metadata": {
        "id": "GArFA9f2SGbk"
      },
      "source": [
        "Here is a classical \"complete the notebook\" assignment. \n",
        "\n",
        "You can run all the cells in the notebook, and some of them you have to complete. \n",
        "\n",
        "The code you have to complete is marked with `#TODO` comments. The cells containing such code also contain assertions that you should fulfill. \n",
        "\n",
        "If the cells produce no errors, you can be pretty sure you do everything OK. \n",
        "\n",
        "Let's try it!"
      ]
    },
    {
      "cell_type": "code",
      "execution_count": null,
      "metadata": {
        "id": "UoWcpibiSGbu"
      },
      "outputs": [],
      "source": [
        "def square_root(x):\n",
        "    \"\"\" This is a function that takes a non-negative numeric argument x and produces its square root. \"\"\"\n",
        "    # TODO: calculate the square root of x and put it into the y variable instead of None. \n",
        "    # If you are not sure, have a look on the list of Python basic operators\n",
        "    # https://www.tutorialspoint.com/python/python_basic_operators.htm\n",
        "    y = x**0.5\n",
        "    return y\n",
        "\n",
        "assert square_root(144) == 12"
      ]
    },
    {
      "cell_type": "markdown",
      "metadata": {
        "id": "bhdue65hSGb8"
      },
      "source": [
        "Now that you understand the format, let's have look at a [Naive Bayes classifier](https://en.wikipedia.org/wiki/Naive_Bayes_classifier) of short messages into spam and not-spam.\n",
        "\n",
        "The main idea behind it is that $$P(spam|text) = \\frac{P(spam)P(text|spam)}{P(text)}$$\n",
        "\n",
        "You will have to implement this formula along with some hacks to make its application more robust."
      ]
    },
    {
      "cell_type": "markdown",
      "metadata": {
        "id": "OA3FpI3BSGb_"
      },
      "source": [
        "![](https://pics.me.me/suppose-you-have-one-rabbit-now-suppose-someone-gives-you-21826742.png)"
      ]
    },
    {
      "cell_type": "markdown",
      "metadata": {
        "id": "8Bb-0QvpSGcA"
      },
      "source": [
        "## Loading the data"
      ]
    },
    {
      "cell_type": "markdown",
      "metadata": {
        "id": "tbW707TKUlqq"
      },
      "source": [
        "The cell below loads the file with messages. \n",
        "\n",
        "If you run this notebook locally on Windows, you have to download the file manually. "
      ]
    },
    {
      "cell_type": "code",
      "execution_count": 1,
      "metadata": {
        "colab": {
          "background_save": true
        },
        "id": "AmmPwJzlSRm9",
        "outputId": "a29853f5-89e5-4b01-d160-6e691bdd9e54"
      },
      "outputs": [
        {
          "name": "stderr",
          "output_type": "stream",
          "text": [
            "'wget' is not recognized as an internal or external command,\n",
            "operable program or batch file.\n"
          ]
        }
      ],
      "source": [
        "!wget https://raw.githubusercontent.com/avidale/ps4ds2019/master/homework/week1/spam_classifier/SMSSpamCollection"
      ]
    },
    {
      "cell_type": "markdown",
      "metadata": {
        "id": "PX3xYoFQSGcC"
      },
      "source": [
        "The following cell imports some Python libraries. It is possible that you have some of them not installed (namely, `pandas`). In this case, you have to install them using package manager from command line. The command would look like `pip install pandas` or `conda install pandas`.\n",
        "\n",
        "If you run this notebook from Google Colab, then the libraries are already installed"
      ]
    },
    {
      "cell_type": "code",
      "execution_count": 78,
      "metadata": {
        "id": "Tld2ItvwSGcD"
      },
      "outputs": [],
      "source": [
        "# load some useful Python libratries\n",
        "\n",
        "import pandas as pd # the library for working with data tables\n",
        "import re\n",
        "from collections import Counter # a class for counting objects (words and text labels, in our case)"
      ]
    },
    {
      "cell_type": "code",
      "execution_count": 79,
      "metadata": {
        "colab": {
          "base_uri": "https://localhost:8080/",
          "height": 387
        },
        "id": "_yol8UpISGcG",
        "outputId": "a57f5c2f-36a0-4c68-dc22-0b6439475be9"
      },
      "outputs": [],
      "source": [
        "# load the data from disk to a tabular format, and give readable names to its columns\n",
        "data = pd.read_csv('./SMSSpamCollection.csv', sep='\\t', header=None)\n",
        "data.columns = ['target', 'text']"
      ]
    },
    {
      "cell_type": "markdown",
      "metadata": {
        "id": "7dAaMxDESGcP"
      },
      "source": [
        "In this dataset, \"ham\" is a good text, and \"spam\" is, well, spam. "
      ]
    },
    {
      "cell_type": "code",
      "execution_count": 80,
      "metadata": {
        "colab": {
          "base_uri": "https://localhost:8080/",
          "height": 212
        },
        "id": "OPRYIT4uSGcQ",
        "outputId": "058af54d-9db7-4f01-8ab9-a9feb37e5cc5"
      },
      "outputs": [
        {
          "name": "stdout",
          "output_type": "stream",
          "text": [
            "(5572, 2)\n"
          ]
        },
        {
          "data": {
            "text/html": [
              "<div>\n",
              "<style scoped>\n",
              "    .dataframe tbody tr th:only-of-type {\n",
              "        vertical-align: middle;\n",
              "    }\n",
              "\n",
              "    .dataframe tbody tr th {\n",
              "        vertical-align: top;\n",
              "    }\n",
              "\n",
              "    .dataframe thead th {\n",
              "        text-align: right;\n",
              "    }\n",
              "</style>\n",
              "<table border=\"1\" class=\"dataframe\">\n",
              "  <thead>\n",
              "    <tr style=\"text-align: right;\">\n",
              "      <th></th>\n",
              "      <th>target</th>\n",
              "      <th>text</th>\n",
              "    </tr>\n",
              "  </thead>\n",
              "  <tbody>\n",
              "    <tr>\n",
              "      <th>0</th>\n",
              "      <td>ham</td>\n",
              "      <td>Go until jurong point, crazy.. Available only in bugis n great world la e buffet... Cine there got amore wat...</td>\n",
              "    </tr>\n",
              "    <tr>\n",
              "      <th>1</th>\n",
              "      <td>ham</td>\n",
              "      <td>Ok lar... Joking wif u oni...</td>\n",
              "    </tr>\n",
              "    <tr>\n",
              "      <th>2</th>\n",
              "      <td>spam</td>\n",
              "      <td>Free entry in 2 a wkly comp to win FA Cup final tkts 21st May 2005. Text FA to 87121 to receive entry question(std txt rate)T&amp;C's apply 08452810075over18's</td>\n",
              "    </tr>\n",
              "    <tr>\n",
              "      <th>3</th>\n",
              "      <td>ham</td>\n",
              "      <td>U dun say so early hor... U c already then say...</td>\n",
              "    </tr>\n",
              "    <tr>\n",
              "      <th>4</th>\n",
              "      <td>ham</td>\n",
              "      <td>Nah I don't think he goes to usf, he lives around here though</td>\n",
              "    </tr>\n",
              "  </tbody>\n",
              "</table>\n",
              "</div>"
            ],
            "text/plain": [
              "  target  \\\n",
              "0    ham   \n",
              "1    ham   \n",
              "2   spam   \n",
              "3    ham   \n",
              "4    ham   \n",
              "\n",
              "                                                                                                                                                          text  \n",
              "0                                              Go until jurong point, crazy.. Available only in bugis n great world la e buffet... Cine there got amore wat...  \n",
              "1                                                                                                                                Ok lar... Joking wif u oni...  \n",
              "2  Free entry in 2 a wkly comp to win FA Cup final tkts 21st May 2005. Text FA to 87121 to receive entry question(std txt rate)T&C's apply 08452810075over18's  \n",
              "3                                                                                                            U dun say so early hor... U c already then say...  \n",
              "4                                                                                                Nah I don't think he goes to usf, he lives around here though  "
            ]
          },
          "execution_count": 80,
          "metadata": {},
          "output_type": "execute_result"
        }
      ],
      "source": [
        "# enable pandas to display large texts and look into our data\n",
        "pd.options.display.max_colwidth = 300\n",
        "\n",
        "print(data.shape) # number of rows and columns\n",
        "data.head(5)"
      ]
    },
    {
      "cell_type": "markdown",
      "metadata": {
        "id": "-UkoK7Y5SGcW"
      },
      "source": [
        "## Preprocessing the data"
      ]
    },
    {
      "cell_type": "markdown",
      "metadata": {
        "id": "4RJ3Q_BBSGcZ"
      },
      "source": [
        "In a minute we will have to estimate probabilites of different texts. \n",
        "\n",
        "We could use *language models* using e.g. n-grams or recurrent neural networks, to calculate probability of original texts. \n",
        "\n",
        "But for our problem, it will be sufficient to represent each text with the set of words (and other symbols) that occur in it. This representation ignores word order and number of words.\n",
        "\n",
        "That is, we will not make difference between texts \n",
        "\n",
        "> this one is a long message. \n",
        "\n",
        "and \n",
        "\n",
        "> this message is a long long long long long long one.\n",
        "\n",
        "Both will be represented as a set of tokens:"
      ]
    },
    {
      "cell_type": "code",
      "execution_count": 82,
      "metadata": {
        "colab": {
          "base_uri": "https://localhost:8080/",
          "height": 34
        },
        "id": "0jl-tp0jSGcd",
        "outputId": "31ba75d2-4273-4eb3-cd38-bdd4f5c7be4f"
      },
      "outputs": [
        {
          "data": {
            "text/plain": [
              "{'a', 'is', 'long', 'message', 'one', 'this'}"
            ]
          },
          "execution_count": 82,
          "metadata": {},
          "output_type": "execute_result"
        }
      ],
      "source": [
        "def get_words(text):\n",
        "    \"\"\" This function converts the given text into an unordered and uncounted bag of words. \"\"\"\n",
        "    return set(re.split('\\W+', text.lower())).difference({''})\n",
        "\n",
        "# just an example\n",
        "get_words(\"This message is a long, long, long, long long long one.\")"
      ]
    },
    {
      "cell_type": "markdown",
      "metadata": {
        "id": "-3Gs7xsLSGch"
      },
      "source": [
        "This simplified approach will allow us to train the probabilistic model of texts using a modest amount of data."
      ]
    },
    {
      "cell_type": "code",
      "execution_count": 83,
      "metadata": {
        "id": "vJbmpGfSSGci"
      },
      "outputs": [],
      "source": [
        "# apply this logic to texts of all messages\n",
        "bags_of_words = [get_words(text) for text in data.text]"
      ]
    },
    {
      "cell_type": "markdown",
      "metadata": {
        "id": "woVdtF5PSGcm"
      },
      "source": [
        "To evaluate how well our model classifies messages, let's train it on the first 3000 texts, and measure accuracy on the rest."
      ]
    },
    {
      "cell_type": "code",
      "execution_count": 84,
      "metadata": {
        "id": "A2iDe2FLSGcn"
      },
      "outputs": [
        {
          "data": {
            "text/plain": [
              "0        ham\n",
              "1        ham\n",
              "2       spam\n",
              "3        ham\n",
              "4        ham\n",
              "        ... \n",
              "2995     ham\n",
              "2996     ham\n",
              "2997     ham\n",
              "2998     ham\n",
              "2999     ham\n",
              "Name: target, Length: 3000, dtype: object"
            ]
          },
          "execution_count": 84,
          "metadata": {},
          "output_type": "execute_result"
        }
      ],
      "source": [
        "n_train = 3000\n",
        "train_x, test_x, train_y, test_y = bags_of_words[:n_train], bags_of_words[n_train:], data.target[:n_train], data.target[n_train:]\n",
        "train_y"
      ]
    },
    {
      "cell_type": "markdown",
      "metadata": {
        "id": "0pWrcoUWSGcu"
      },
      "source": [
        "## The basic classifier"
      ]
    },
    {
      "cell_type": "markdown",
      "metadata": {
        "id": "2t_aDhsOSGcv"
      },
      "source": [
        "In the cell below, we will count occurences of words under different labels.\n",
        "\n",
        "We are going to use `Counter` objects. If you are not sure how they work, please look at [the documentation](https://docs.python.org/3.6/library/collections.html#collections.Counter). "
      ]
    },
    {
      "cell_type": "code",
      "execution_count": 85,
      "metadata": {
        "id": "syP02W9jSGcw"
      },
      "outputs": [],
      "source": [
        "# this counter will keep the number of spam and ham texts\n",
        "label_counter = Counter()\n",
        "\n",
        "# these counters will keep the frequency of each word in ham and spam texts\n",
        "word_counters = {\n",
        "    'spam': Counter(), \n",
        "    'ham': Counter()\n",
        "}\n",
        "\n",
        "all_words = set()\n",
        "for label, words in zip(train_y, train_x):\n",
        "    all_words.update(words)\n",
        "    # TODO: use the `update` methods of all 3 counters, to calculate total number of \n",
        "    label_counter.update([label])\n",
        "    word_counters[label].update(words)\n",
        "    \n",
        "assert label_counter['spam'] == 409\n",
        "assert word_counters['ham']['hello'] >= 2"
      ]
    },
    {
      "cell_type": "markdown",
      "metadata": {
        "id": "32trpvYkSGc0"
      },
      "source": [
        "Now let's calculate different probabilities of words, texts, and labels for our classifier"
      ]
    },
    {
      "cell_type": "code",
      "execution_count": 87,
      "metadata": {
        "id": "-58zZ0MdSGc1"
      },
      "outputs": [],
      "source": [
        "def prior_probability_of_label(label):\n",
        "    \"\"\" This function evaluates probability of the given label (it can be 'spam' or 'ham'), using the counters. \"\"\"\n",
        "    # TODO: calculate and return this probability as ratio of number of texts with this labels to number all texts\n",
        "    return label_counter[label] / (label_counter['ham'] + label_counter['spam'])\n",
        "\n",
        "assert round(prior_probability_of_label('spam'), 2) == 0.14\n",
        "assert round(prior_probability_of_label('ham'), 2) == 0.86"
      ]
    },
    {
      "cell_type": "code",
      "execution_count": 64,
      "metadata": {
        "id": "RB4bvSGjSGc5"
      },
      "outputs": [],
      "source": [
        "\n",
        "def word_probability_given_label(word, label):\n",
        "    \"\"\" This function calculates probability of a word occurence in text, conditional on the label of this text. \"\"\"\n",
        "    # TODO: calculate and return this probability \n",
        "    # as ratio of number of texts with this word and label to number of texts with this label\n",
        "    alpha = 10**(-3)\n",
        "    p = 0.1\n",
        "    return (word_counters[label][word] + alpha*p) / (label_counter[label] + p)\n",
        "\n",
        "assert round(word_probability_given_label(\"99\", \"spam\"), 3) == 0.002"
      ]
    },
    {
      "cell_type": "markdown",
      "metadata": {
        "id": "l0MQSlyxSGdA"
      },
      "source": [
        "Here we encounter the first practical problem: some words have never occurred in our training data. \n",
        "\n",
        "But they can probably occur in the texts to which our model will be applied in the future. \n",
        "\n",
        "To assign a non-zero probability to such texts, we can slightly modify the `word_probability_given_label`. For example, instead of original estimate, \n",
        "\n",
        "$$\\hat{p}(word|label) = \\frac{count(word, label)}{count(label)}$$\n",
        "\n",
        "we could use a \"smoothed\" version\n",
        "\n",
        "$$\\hat{p}(word|label) = \\frac{count(word, label) + \\alpha\\times p}{count(label) + p}$$\n",
        "\n",
        "where $alpha\\in(0, 1)$ is the anchor probability towards which we move our estimate, and $p$ is the step size towards this anchor. \n",
        "\n",
        "Values like $p=0.1$ and $\\alpha=10^{-3}$ would do.  "
      ]
    },
    {
      "cell_type": "code",
      "execution_count": 65,
      "metadata": {
        "id": "63mpxYPlSGdC"
      },
      "outputs": [],
      "source": [
        "# TODO: modify the `word_probability_given_label` function, by moving each probability towards a small positive constant\n",
        "assert word_probability_given_label(\"999\", \"spam\") > 0\n",
        "assert word_probability_given_label(\"999\", \"spam\") < 0.005"
      ]
    },
    {
      "cell_type": "markdown",
      "metadata": {
        "id": "-LeclJfNSGdG"
      },
      "source": [
        "Now we can move from words to texts. \n",
        "\n",
        "Here is where we apply our naive assumption that occurrences of each word are independent:\n",
        "$$ P(text|label) = \\prod_{word \\in text} P(word|label) \\times \\prod_{word \\notin text} (1-P(word|label)) $$"
      ]
    },
    {
      "cell_type": "code",
      "execution_count": 66,
      "metadata": {
        "id": "iVZdBCwYSGdH"
      },
      "outputs": [],
      "source": [
        "def text_probability_given_label(text, label):\n",
        "    \"\"\" This function calculates probability of the text conditional on its label. \"\"\"\n",
        "    if isinstance(text, str):\n",
        "        text = get_words(text)\n",
        "    probability = 1.0\n",
        "    # TODO: calculate the probability of text given label. \n",
        "    # use a function defined above and the naive assumption of word independence\n",
        "    for word in all_words:\n",
        "        if word in text:\n",
        "            probability = probability * word_probability_given_label(word,label)\n",
        "        else:\n",
        "            probability = probability * (1 - word_probability_given_label(word,label))\n",
        "    return probability\n",
        "\n",
        "greeting1 = 'hello how are you'\n",
        "greeting2 = 'hello teacher how are you'\n",
        "\n",
        "assert text_probability_given_label(greeting1, 'ham') > 0\n",
        "assert text_probability_given_label(greeting1, 'ham') < 0.0001\n",
        "assert text_probability_given_label(greeting2, 'ham') < text_probability_given_label(greeting1, 'ham')"
      ]
    },
    {
      "cell_type": "markdown",
      "metadata": {
        "id": "XQgZXCuDSGdM"
      },
      "source": [
        "Now you have all the components to compile your first probabilistic classifier!\n",
        "\n",
        "$$P(spam|text) = \\frac{P(spam)P(text|spam)}{P(spam)P(text|spam) + P(ham)P(text|ham)}$$\n"
      ]
    },
    {
      "cell_type": "code",
      "execution_count": 67,
      "metadata": {
        "id": "6OrHsTALSGdO"
      },
      "outputs": [],
      "source": [
        "def label_probability_given_text(text, label):\n",
        "    \"\"\" This function calculates probability of the label (spam or ham) conditional on the text. \"\"\"\n",
        "    # TODO: calculate label probability conditional on text\n",
        "    # use the Bayes rule and the functions defined above\n",
        "    comp_label = 'spam' if 'ham' == label else 'ham'\n",
        "    label_p = prior_probability_of_label(label)\n",
        "    text_given_label_p = text_probability_given_label(text,label)\n",
        "    label_complimentary_p = prior_probability_of_label(comp_label)\n",
        "    text_given_label_complimentary_p = text_probability_given_label(text,comp_label)\n",
        "    # something is missing, how do I calculate text probability?\n",
        "    return (label_p * text_given_label_p)/(label_p * text_given_label_p + label_complimentary_p * text_given_label_complimentary_p)\n",
        "\n",
        "\n",
        "text1 = 'hello how r you'\n",
        "text2 = 'only today you can buy our book with 50% discount!'\n",
        "\n",
        "assert label_probability_given_text(text1, 'ham') + label_probability_given_text(text1, 'spam') == 1.0\n",
        "assert label_probability_given_text(text1, 'ham') > label_probability_given_text(text1, 'spam')\n",
        "assert label_probability_given_text(text1, 'ham') > label_probability_given_text(text2, 'ham')"
      ]
    },
    {
      "cell_type": "markdown",
      "metadata": {
        "id": "25DmEePrSGdR"
      },
      "source": [
        "## Tuning the classifier"
      ]
    },
    {
      "cell_type": "markdown",
      "metadata": {
        "id": "SVNJNZimSGdS"
      },
      "source": [
        "Now we have the classifier, but we don't know how well it works on the unseen data. \n",
        "\n",
        "Let's see what fraction of test messages are classified correctly:"
      ]
    },
    {
      "cell_type": "code",
      "execution_count": 68,
      "metadata": {
        "colab": {
          "base_uri": "https://localhost:8080/",
          "height": 34
        },
        "id": "1ZxEYeFGSGdT",
        "outputId": "953e492a-bf4f-442e-fdc8-7c5a277af61e"
      },
      "outputs": [
        {
          "name": "stdout",
          "output_type": "stream",
          "text": [
            "0.9840590979782271\n"
          ]
        }
      ],
      "source": [
        "threshold = 0.5\n",
        "test_spam_probabilities = [label_probability_given_text(text, 'spam') for text in test_x]\n",
        "test_predictions = ['spam' if spamness > threshold else 'ham' for spamness in test_spam_probabilities]\n",
        "\n",
        "accuracy = sum(1 if pred == fact else 0 for pred, fact in zip(test_predictions, test_y)) / len(test_y)\n",
        "print(accuracy)\n",
        "\n",
        "assert accuracy > 0.9"
      ]
    },
    {
      "cell_type": "markdown",
      "metadata": {},
      "source": [
        "Trying to lower case"
      ]
    },
    {
      "cell_type": "code",
      "execution_count": 88,
      "metadata": {},
      "outputs": [
        {
          "name": "stdout",
          "output_type": "stream",
          "text": [
            "0.9840590979782271\n"
          ]
        }
      ],
      "source": [
        "threshold = 0.5\n",
        "test_spam_probabilities = [label_probability_given_text(text, 'spam') for text in test_x]\n",
        "test_predictions = ['spam' if spamness > threshold else 'ham' for spamness in test_spam_probabilities]\n",
        "\n",
        "accuracy = sum(1 if pred == fact else 0 for pred, fact in zip(test_predictions, test_y)) / len(test_y)\n",
        "print(accuracy)\n",
        "\n",
        "assert accuracy > 0.9"
      ]
    },
    {
      "cell_type": "markdown",
      "metadata": {
        "id": "qorvR9XvSGdo"
      },
      "source": [
        "This is a good accuracy, but you can achieve better results by tuning the algorithm. \n",
        "\n",
        "What you can do:\n",
        "* play with the different values of the threshold\n",
        "* play with the regularization constants that you used in `word_probability_given_label`\n",
        "* experiment with different implementations of `get_words` - e.g. ignore the word case, or use word lemmas\n",
        "* use your imagination\n",
        "\n",
        "Can you beat 99% accuracy?"
      ]
    },
    {
      "cell_type": "markdown",
      "metadata": {
        "id": "sGSStXnGSGd3"
      },
      "source": [
        "Have a good time! (-:"
      ]
    },
    {
      "cell_type": "code",
      "execution_count": null,
      "metadata": {
        "id": "Y0eQuYMyZM7f"
      },
      "outputs": [],
      "source": []
    }
  ],
  "metadata": {
    "colab": {
      "collapsed_sections": [],
      "provenance": []
    },
    "kernelspec": {
      "display_name": "Python 3.9.12 ('base')",
      "language": "python",
      "name": "python3"
    },
    "language_info": {
      "codemirror_mode": {
        "name": "ipython",
        "version": 3
      },
      "file_extension": ".py",
      "mimetype": "text/x-python",
      "name": "python",
      "nbconvert_exporter": "python",
      "pygments_lexer": "ipython3",
      "version": "3.9.12"
    },
    "vscode": {
      "interpreter": {
        "hash": "ad2bdc8ecc057115af97d19610ffacc2b4e99fae6737bb82f5d7fb13d2f2c186"
      }
    }
  },
  "nbformat": 4,
  "nbformat_minor": 0
}
