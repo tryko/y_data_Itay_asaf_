{
  "cells": [
    {
      "cell_type": "markdown",
      "metadata": {
        "id": "N7jn3RRSSGbb"
      },
      "source": [
        "# Probabilistic classifier of texts into spam / ham"
      ]
    },
    {
      "cell_type": "markdown",
      "metadata": {
        "id": "1XGIBQPBSGbi"
      },
      "source": [
        "## Intro"
      ]
    },
    {
      "cell_type": "markdown",
      "metadata": {
        "id": "GArFA9f2SGbk"
      },
      "source": [
        "Here is a classical \"complete the notebook\" assignment. \n",
        "\n",
        "You can run all the cells in the notebook, and some of them you have to complete. \n",
        "\n",
        "The code you have to complete is marked with `#TODO` comments. The cells containing such code also contain assertions that you should fulfill. \n",
        "\n",
        "If the cells produce no errors, you can be pretty sure you do everything OK. \n",
        "\n",
        "Let's try it!"
      ]
    },
    {
      "cell_type": "code",
      "execution_count": 21,
      "metadata": {
        "id": "UoWcpibiSGbu"
      },
      "outputs": [],
      "source": [
        "def square_root(x):\n",
        "    \"\"\" This is a function that takes a non-negative numeric argument x and produces its square root. \"\"\"\n",
        "    # TODO: calculate the square root of x and put it into the y variable instead of None. \n",
        "    # If you are not sure, have a look on the list of Python basic operators\n",
        "    # https://www.tutorialspoint.com/python/python_basic_operators.htm\n",
        "    y = x**0.5\n",
        "    return y\n",
        "\n",
        "assert square_root(144) == 12"
      ]
    },
    {
      "cell_type": "markdown",
      "metadata": {
        "id": "bhdue65hSGb8"
      },
      "source": [
        "Now that you understand the format, let's have look at a [Naive Bayes classifier](https://en.wikipedia.org/wiki/Naive_Bayes_classifier) of short messages into spam and not-spam.\n",
        "\n",
        "The main idea behind it is that $$P(spam|text) = \\frac{P(spam)P(text|spam)}{P(text)}$$\n",
        "\n",
        "You will have to implement this formula along with some hacks to make its application more robust."
      ]
    },
    {
      "cell_type": "markdown",
      "metadata": {
        "id": "OA3FpI3BSGb_"
      },
      "source": [
        "![](https://pics.me.me/suppose-you-have-one-rabbit-now-suppose-someone-gives-you-21826742.png)"
      ]
    },
    {
      "cell_type": "markdown",
      "metadata": {
        "id": "8Bb-0QvpSGcA"
      },
      "source": [
        "## Loading the data"
      ]
    },
    {
      "cell_type": "markdown",
      "metadata": {
        "id": "tbW707TKUlqq"
      },
      "source": [
        "The cell below loads the file with messages. \n",
        "\n",
        "If you run this notebook locally on Windows, you have to download the file manually. "
      ]
    },
    {
      "cell_type": "code",
      "execution_count": 22,
      "metadata": {
        "colab": {
          "background_save": true
        },
        "id": "AmmPwJzlSRm9",
        "outputId": "a29853f5-89e5-4b01-d160-6e691bdd9e54"
      },
      "outputs": [],
      "source": [
        "# !wget https://raw.githubusercontent.com/avidale/ps4ds2019/master/homework/week1/spam_classifier/SMSSpamCollection # skipped this to use url"
      ]
    },
    {
      "cell_type": "markdown",
      "metadata": {
        "id": "PX3xYoFQSGcC"
      },
      "source": [
        "The following cell imports some Python libraries. It is possible that you have some of them not installed (namely, `pandas`). In this case, you have to install them using package manager from command line. The command would look like `pip install pandas` or `conda install pandas`.\n",
        "\n",
        "If you run this notebook from Google Colab, then the libraries are already installed"
      ]
    },
    {
      "cell_type": "code",
      "execution_count": 23,
      "metadata": {
        "id": "Tld2ItvwSGcD"
      },
      "outputs": [],
      "source": [
        "# load some useful Python libratries\n",
        "\n",
        "import pandas as pd # the library for working with data tables\n",
        "import re\n",
        "from collections import Counter # a class for counting objects (words and text labels, in our case)"
      ]
    },
    {
      "cell_type": "code",
      "execution_count": 24,
      "metadata": {
        "colab": {
          "base_uri": "https://localhost:8080/",
          "height": 387
        },
        "id": "_yol8UpISGcG",
        "outputId": "a57f5c2f-36a0-4c68-dc22-0b6439475be9"
      },
      "outputs": [],
      "source": [
        "# load the data from disk to a tabular format, and give readable names to its columns\n",
        "SMSSpamCollection_url = 'https://raw.githubusercontent.com/avidale/ps4ds2019/master/homework/week1/spam_classifier/SMSSpamCollection'\n",
        "data = pd.read_csv(SMSSpamCollection_url, sep='\\t', header=None)\n",
        "data.columns = ['target', 'text']"
      ]
    },
    {
      "cell_type": "markdown",
      "metadata": {
        "id": "7dAaMxDESGcP"
      },
      "source": [
        "In this dataset, \"ham\" is a good text, and \"spam\" is, well, spam. "
      ]
    },
    {
      "cell_type": "code",
      "execution_count": 25,
      "metadata": {
        "colab": {
          "base_uri": "https://localhost:8080/",
          "height": 212
        },
        "id": "OPRYIT4uSGcQ",
        "outputId": "058af54d-9db7-4f01-8ab9-a9feb37e5cc5"
      },
      "outputs": [
        {
          "name": "stdout",
          "output_type": "stream",
          "text": [
            "(5572, 2)\n"
          ]
        },
        {
          "data": {
            "text/html": [
              "<div>\n",
              "<style scoped>\n",
              "    .dataframe tbody tr th:only-of-type {\n",
              "        vertical-align: middle;\n",
              "    }\n",
              "\n",
              "    .dataframe tbody tr th {\n",
              "        vertical-align: top;\n",
              "    }\n",
              "\n",
              "    .dataframe thead th {\n",
              "        text-align: right;\n",
              "    }\n",
              "</style>\n",
              "<table border=\"1\" class=\"dataframe\">\n",
              "  <thead>\n",
              "    <tr style=\"text-align: right;\">\n",
              "      <th></th>\n",
              "      <th>target</th>\n",
              "      <th>text</th>\n",
              "    </tr>\n",
              "  </thead>\n",
              "  <tbody>\n",
              "    <tr>\n",
              "      <th>0</th>\n",
              "      <td>ham</td>\n",
              "      <td>Go until jurong point, crazy.. Available only in bugis n great world la e buffet... Cine there got amore wat...</td>\n",
              "    </tr>\n",
              "    <tr>\n",
              "      <th>1</th>\n",
              "      <td>ham</td>\n",
              "      <td>Ok lar... Joking wif u oni...</td>\n",
              "    </tr>\n",
              "    <tr>\n",
              "      <th>2</th>\n",
              "      <td>spam</td>\n",
              "      <td>Free entry in 2 a wkly comp to win FA Cup final tkts 21st May 2005. Text FA to 87121 to receive entry question(std txt rate)T&amp;C's apply 08452810075over18's</td>\n",
              "    </tr>\n",
              "    <tr>\n",
              "      <th>3</th>\n",
              "      <td>ham</td>\n",
              "      <td>U dun say so early hor... U c already then say...</td>\n",
              "    </tr>\n",
              "    <tr>\n",
              "      <th>4</th>\n",
              "      <td>ham</td>\n",
              "      <td>Nah I don't think he goes to usf, he lives around here though</td>\n",
              "    </tr>\n",
              "  </tbody>\n",
              "</table>\n",
              "</div>"
            ],
            "text/plain": [
              "  target  \\\n",
              "0    ham   \n",
              "1    ham   \n",
              "2   spam   \n",
              "3    ham   \n",
              "4    ham   \n",
              "\n",
              "                                                                                                                                                          text  \n",
              "0                                              Go until jurong point, crazy.. Available only in bugis n great world la e buffet... Cine there got amore wat...  \n",
              "1                                                                                                                                Ok lar... Joking wif u oni...  \n",
              "2  Free entry in 2 a wkly comp to win FA Cup final tkts 21st May 2005. Text FA to 87121 to receive entry question(std txt rate)T&C's apply 08452810075over18's  \n",
              "3                                                                                                            U dun say so early hor... U c already then say...  \n",
              "4                                                                                                Nah I don't think he goes to usf, he lives around here though  "
            ]
          },
          "execution_count": 25,
          "metadata": {},
          "output_type": "execute_result"
        }
      ],
      "source": [
        "# enable pandas to display large texts and look into our data\n",
        "pd.options.display.max_colwidth = 300\n",
        "\n",
        "print(data.shape) # number of rows and columns\n",
        "data.head(5)"
      ]
    },
    {
      "cell_type": "markdown",
      "metadata": {
        "id": "-UkoK7Y5SGcW"
      },
      "source": [
        "## Preprocessing the data"
      ]
    },
    {
      "cell_type": "markdown",
      "metadata": {
        "id": "4RJ3Q_BBSGcZ"
      },
      "source": [
        "In a minute we will have to estimate probabilites of different texts. \n",
        "\n",
        "We could use *language models* using e.g. n-grams or recurrent neural networks, to calculate probability of original texts. \n",
        "\n",
        "But for our problem, it will be sufficient to represent each text with the set of words (and other symbols) that occur in it. This representation ignores word order and number of words.\n",
        "\n",
        "That is, we will not make difference between texts \n",
        "\n",
        "> this one is a long message. \n",
        "\n",
        "and \n",
        "\n",
        "> this message is a long long long long long long one.\n",
        "\n",
        "Both will be represented as a set of tokens:"
      ]
    },
    {
      "cell_type": "code",
      "execution_count": 26,
      "metadata": {
        "colab": {
          "base_uri": "https://localhost:8080/",
          "height": 34
        },
        "id": "0jl-tp0jSGcd",
        "outputId": "31ba75d2-4273-4eb3-cd38-bdd4f5c7be4f"
      },
      "outputs": [
        {
          "data": {
            "text/plain": [
              "{'a', 'is', 'long', 'message', 'one', 'this'}"
            ]
          },
          "execution_count": 26,
          "metadata": {},
          "output_type": "execute_result"
        }
      ],
      "source": [
        "def get_words(text):\n",
        "    \"\"\" This function converts the given text into an unordered and uncounted bag of words. \"\"\"\n",
        "    return set(re.split('\\W+', text)).difference({''})\n",
        "\n",
        "# just an example\n",
        "get_words(\"this message is a long, long, long, long long long one.\")"
      ]
    },
    {
      "cell_type": "markdown",
      "metadata": {
        "id": "-3Gs7xsLSGch"
      },
      "source": [
        "This simplified approach will allow us to train the probabilistic model of texts using a modest amount of data."
      ]
    },
    {
      "cell_type": "code",
      "execution_count": 27,
      "metadata": {
        "id": "vJbmpGfSSGci"
      },
      "outputs": [],
      "source": [
        "# apply this logic to texts of all messages\n",
        "bags_of_words = [get_words(text) for text in data.text] "
      ]
    },
    {
      "cell_type": "markdown",
      "metadata": {
        "id": "woVdtF5PSGcm"
      },
      "source": [
        "To evaluate how well our model classifies messages, let's train it on the first 3000 texts, and measure accuracy on the rest."
      ]
    },
    {
      "cell_type": "code",
      "execution_count": 28,
      "metadata": {
        "id": "A2iDe2FLSGcn"
      },
      "outputs": [],
      "source": [
        "n_train = 3000\n",
        "train_x, test_x, train_y, test_y = bags_of_words[:n_train], bags_of_words[n_train:], data.target[:n_train], data.target[n_train:] #This is not stratified "
      ]
    },
    {
      "cell_type": "markdown",
      "metadata": {
        "id": "0pWrcoUWSGcu"
      },
      "source": [
        "## The basic classifier"
      ]
    },
    {
      "cell_type": "markdown",
      "metadata": {
        "id": "2t_aDhsOSGcv"
      },
      "source": [
        "In the cell below, we will count occurences of words under different labels.\n",
        "\n",
        "We are going to use `Counter` objects. If you are not sure how they work, please look at [the documentation](https://docs.python.org/3.6/library/collections.html#collections.Counter). "
      ]
    },
    {
      "cell_type": "code",
      "execution_count": 29,
      "metadata": {
        "id": "syP02W9jSGcw"
      },
      "outputs": [],
      "source": [
        "# this counter will keep the number of spam and ham texts\n",
        "label_counter = Counter()\n",
        "\n",
        "# these counters will keep the frequency of each word in ham and spam texts\n",
        "word_counters = {\n",
        "    'spam': Counter(), \n",
        "    'ham': Counter()\n",
        "}\n",
        "\n",
        "all_words = set()\n",
        "\n",
        "for label, words in zip(train_y, train_x):\n",
        "    all_words.update(words)\n",
        "    # TODO: use the `update` methods of all 3 counters, to calculate total number of \n",
        "    label_counter.update([label])\n",
        "    word_counters[label].update(words)\n",
        "    \n",
        "assert label_counter['spam'] == 409\n",
        "assert word_counters['ham']['hello'] >= 2"
      ]
    },
    {
      "cell_type": "markdown",
      "metadata": {
        "id": "32trpvYkSGc0"
      },
      "source": [
        "Now let's calculate different probabilities of words, texts, and labels for our classifier"
      ]
    },
    {
      "cell_type": "code",
      "execution_count": 30,
      "metadata": {
        "id": "-58zZ0MdSGc1"
      },
      "outputs": [],
      "source": [
        "def prior_probability_of_label(label):\n",
        "    \"\"\" This function evaluates probability of the given label (it can be 'spam' or 'ham'), using the counters. \"\"\"\n",
        "    # TODO: calculate and return this probability as ratio of number of texts with this labels to number all texts\n",
        "    return label_counter[label]/sum(label_counter.values())\n",
        "\n",
        "assert round(prior_probability_of_label('spam'), 2) == 0.14\n",
        "assert round(prior_probability_of_label('ham'), 2) == 0.86"
      ]
    },
    {
      "cell_type": "code",
      "execution_count": 31,
      "metadata": {
        "id": "RB4bvSGjSGc5"
      },
      "outputs": [],
      "source": [
        "\n",
        "def word_probability_given_label(word, label):\n",
        "    \"\"\" This function calculates probability of a word occurence in text, conditional on the label of this text. \"\"\"\n",
        "    # TODO: calculate and return this probability \n",
        "    # as ratio of number of texts with this word and label to number of texts with this label\n",
        "    return word_counters[label][word]/label_counter[label]\n",
        "\n",
        "assert round(word_probability_given_label(\"99\", \"spam\"), 3) == 0.002"
      ]
    },
    {
      "cell_type": "markdown",
      "metadata": {
        "id": "l0MQSlyxSGdA"
      },
      "source": [
        "Here we encounter the first practical problem: some words have never occurred in our training data. \n",
        "\n",
        "But they can probably occur in the texts to which our model will be applied in the future. \n",
        "\n",
        "To assign a non-zero probability to such texts, we can slightly modify the `word_probability_given_label`. For example, instead of original estimate, \n",
        "\n",
        "$$\\hat{p}(word|label) = \\frac{count(word, label)}{count(label)}$$\n",
        "\n",
        "we could use a \"smoothed\" version\n",
        "\n",
        "$$\\hat{p}(word|label) = \\frac{count(word, label) + \\alpha\\times p}{count(label) + p}$$\n",
        "\n",
        "where $alpha\\in(0, 1)$ is the anchor probability towards which we move our estimate, and $p$ is the step size towards this anchor. \n",
        "\n",
        "Values like $p=0.1$ and $\\alpha=10^{-3}$ would do.  "
      ]
    },
    {
      "cell_type": "code",
      "execution_count": 32,
      "metadata": {
        "id": "63mpxYPlSGdC"
      },
      "outputs": [],
      "source": [
        "# TODO: modify the `word_probability_given_label` function, by moving each probability towards a small positive constant\n",
        "\n",
        "def word_probability_given_label(word, label, p = 0.1 ,alpha = 0.001):\n",
        "    \"\"\" This function calculates probability of a word occurence in text, conditional on the label of this text.\"\"\"\n",
        "    return (word_counters[label][word]+p*alpha)/(label_counter[label]+p)\n",
        "\n",
        "assert word_probability_given_label(\"999\", \"spam\") > 0\n",
        "assert word_probability_given_label(\"999\", \"spam\") < 0.005"
      ]
    },
    {
      "cell_type": "markdown",
      "metadata": {
        "id": "-LeclJfNSGdG"
      },
      "source": [
        "Now we can move from words to texts. \n",
        "\n",
        "Here is where we apply our naive assumption that occurrences of each word are independent:\n",
        "$$ P(text|label) = \\prod_{word \\in text} P(word|label) \\times \\prod_{word \\notin text} (1-P(word|label)) $$"
      ]
    },
    {
      "cell_type": "code",
      "execution_count": 33,
      "metadata": {
        "id": "iVZdBCwYSGdH"
      },
      "outputs": [],
      "source": [
        "def text_probability_given_label(text, label):\n",
        "    \"\"\" This function calculates probability of the text conditional on its label. \"\"\"\n",
        "    if isinstance(text, str):\n",
        "        text = get_words(text)\n",
        "    probability = 1.0\n",
        "    # TODO: calculate the probability of text given label. \n",
        "    # use a function defined above and the naive assumption of word independence\n",
        "    for word in all_words:\n",
        "        p = word_probability_given_label(word, label)\n",
        "        if word in text:\n",
        "            probability *= p\n",
        "        else:\n",
        "            probability *= (1-p)\n",
        "    return probability\n",
        "\n",
        "greeting1 = 'hello how are you'\n",
        "greeting2 = 'hello teacher how are you'\n",
        "\n",
        "assert text_probability_given_label(greeting1, 'ham') > 0\n",
        "assert text_probability_given_label(greeting1, 'ham') < 0.0001\n",
        "assert text_probability_given_label(greeting2, 'ham') < text_probability_given_label(greeting1, 'ham')"
      ]
    },
    {
      "cell_type": "markdown",
      "metadata": {
        "id": "XQgZXCuDSGdM"
      },
      "source": [
        "Now you have all the components to compile your first probabilistic classifier!\n"
      ]
    },
    {
      "cell_type": "markdown",
      "metadata": {},
      "source": [
        "Reminder of Bayes theorem:\n",
        "$$\\begin{aligned}\n",
        " Pr(Label|Text) &= \\frac{Pr(Text\\mid Label)\\cdot Pr(Label)}{Pr(Text)} \\\\\n",
        "                &= \\frac{Pr(Text\\mid Label)\\cdot Pr(Label)}{Pr(Text \\mid Label)\\cdot Pr(Label) + Pr(Text \\mid Label^{c})\\cdot Pr(Label^{c})}\n",
        "\\end{aligned}\n",
        "$$\n"
      ]
    },
    {
      "cell_type": "code",
      "execution_count": 34,
      "metadata": {
        "id": "6OrHsTALSGdO"
      },
      "outputs": [],
      "source": [
        "def label_probability_given_text(text, label):\n",
        "    \"\"\" This function calculates probability of the label (spam or ham) conditional on the text. \"\"\"\n",
        "    # TODO: calculate label probability conditional on text\n",
        "    # use the Bayes rule and the functions defined above\n",
        "    p_L = prior_probability_of_label(label)\n",
        "    p = text_probability_given_label(text,label)\n",
        "    if label == 'ham':\n",
        "        p_c = text_probability_given_label(text,'spam')\n",
        "    elif label == 'spam':\n",
        "        p_c = text_probability_given_label(text,'ham')    \n",
        "    return p*p_L/(p*p_L+p_c*(1-p_L))\n",
        "\n",
        "\n",
        "text1 = 'hello how r you'\n",
        "text2 = 'only today you can buy our book with 50% discount!'\n",
        "\n",
        "assert label_probability_given_text(text1, 'ham') + label_probability_given_text(text1, 'spam') == 1.0\n",
        "assert label_probability_given_text(text1, 'ham') > label_probability_given_text(text1, 'spam')\n",
        "assert label_probability_given_text(text1, 'ham') > label_probability_given_text(text2, 'ham')"
      ]
    },
    {
      "cell_type": "markdown",
      "metadata": {
        "id": "25DmEePrSGdR"
      },
      "source": [
        "## Tuning the classifier"
      ]
    },
    {
      "cell_type": "markdown",
      "metadata": {
        "id": "SVNJNZimSGdS"
      },
      "source": [
        "Now we have the classifier, but we don't know how well it works on the unseen data. \n",
        "\n",
        "Let's see what fraction of test messages are classified correctly:"
      ]
    },
    {
      "cell_type": "code",
      "execution_count": 35,
      "metadata": {
        "colab": {
          "base_uri": "https://localhost:8080/",
          "height": 34
        },
        "id": "1ZxEYeFGSGdT",
        "outputId": "953e492a-bf4f-442e-fdc8-7c5a277af61e"
      },
      "outputs": [
        {
          "name": "stdout",
          "output_type": "stream",
          "text": [
            "0.9840590979782271\n"
          ]
        }
      ],
      "source": [
        "threshold = 0.5\n",
        "test_spam_probabilities = [label_probability_given_text(text, 'spam') for text in test_x]\n",
        "test_predictions = ['spam' if spamness > threshold else 'ham' for spamness in test_spam_probabilities]\n",
        "\n",
        "accuracy = sum(1 if pred == fact else 0 for pred, fact in zip(test_predictions, test_y)) / len(test_y)\n",
        "print(accuracy)\n",
        "\n",
        "assert accuracy > 0.9"
      ]
    },
    {
      "cell_type": "markdown",
      "metadata": {
        "id": "qorvR9XvSGdo"
      },
      "source": [
        "This is a good accuracy, but you can achieve better results by tuning the algorithm. \n",
        "\n",
        "What you can do:\n",
        "* play with the different values of the threshold\n",
        "* play with the regularization constants that you used in `word_probability_given_label`\n",
        "* experiment with different implementations of `get_words` - e.g. ignore the word case, or use word lemmas\n",
        "* use your imagination\n",
        "\n",
        "Can you beat 99% accuracy?"
      ]
    },
    {
      "cell_type": "markdown",
      "metadata": {
        "id": "sGSStXnGSGd3"
      },
      "source": [
        "Have a good time! (-:"
      ]
    },
    {
      "cell_type": "markdown",
      "metadata": {},
      "source": [
        "## Quick EDA"
      ]
    },
    {
      "cell_type": "code",
      "execution_count": 36,
      "metadata": {},
      "outputs": [
        {
          "name": "stdout",
          "output_type": "stream",
          "text": [
            "              precision    recall  f1-score   support\n",
            "\n",
            "         ham       0.98      1.00      0.99      2234\n",
            "        spam       0.99      0.89      0.94       338\n",
            "\n",
            "    accuracy                           0.98      2572\n",
            "   macro avg       0.99      0.94      0.96      2572\n",
            "weighted avg       0.98      0.98      0.98      2572\n",
            "\n"
          ]
        },
        {
          "data": {
            "image/png": "[encoded data removed]",
            "text/plain": [
              "<Figure size 432x288 with 2 Axes>"
            ]
          },
          "metadata": {
            "needs_background": "light"
          },
          "output_type": "display_data"
        }
      ],
      "source": [
        "from sklearn.metrics import confusion_matrix, classification_report, ConfusionMatrixDisplay\n",
        "import seaborn as sns\n",
        "\n",
        "cm = confusion_matrix(test_y, test_predictions)\n",
        "CMDisp = ConfusionMatrixDisplay(cm, display_labels=['ham','spam'])\n",
        "CMDisp.plot()\n",
        "print(classification_report(test_y, test_predictions))"
      ]
    },
    {
      "cell_type": "code",
      "execution_count": 37,
      "metadata": {},
      "outputs": [
        {
          "data": {
            "text/html": [
              "<div>\n",
              "<style scoped>\n",
              "    .dataframe tbody tr th:only-of-type {\n",
              "        vertical-align: middle;\n",
              "    }\n",
              "\n",
              "    .dataframe tbody tr th {\n",
              "        vertical-align: top;\n",
              "    }\n",
              "\n",
              "    .dataframe thead th {\n",
              "        text-align: right;\n",
              "    }\n",
              "</style>\n",
              "<table border=\"1\" class=\"dataframe\">\n",
              "  <thead>\n",
              "    <tr style=\"text-align: right;\">\n",
              "      <th></th>\n",
              "      <th>target</th>\n",
              "      <th>text</th>\n",
              "    </tr>\n",
              "  </thead>\n",
              "  <tbody>\n",
              "    <tr>\n",
              "      <th>12</th>\n",
              "      <td>spam</td>\n",
              "      <td>URGENT! You have won a 1 week FREE membership in our £100,000 Prize Jackpot! Txt the word: CLAIM to No: 81010 T&amp;C www.dbuk.net LCCLTD POBOX 4403LDNW1A7RW18</td>\n",
              "    </tr>\n",
              "    <tr>\n",
              "      <th>164</th>\n",
              "      <td>spam</td>\n",
              "      <td>-PLS STOP bootydelious (32/F) is inviting you to be her friend. Reply YES-434 or NO-434 See her: www.SMS.ac/u/bootydelious STOP? Send STOP FRND to 62468</td>\n",
              "    </tr>\n",
              "    <tr>\n",
              "      <th>191</th>\n",
              "      <td>spam</td>\n",
              "      <td>Are you unique enough? Find out from 30th August. www.areyouunique.co.uk</td>\n",
              "    </tr>\n",
              "    <tr>\n",
              "      <th>225</th>\n",
              "      <td>spam</td>\n",
              "      <td>500 New Mobiles from 2004, MUST GO! Txt: NOKIA to No: 89545 &amp; collect yours today!From ONLY £1 www.4-tc.biz 2optout 087187262701.50gbp/mtmsg18</td>\n",
              "    </tr>\n",
              "    <tr>\n",
              "      <th>250</th>\n",
              "      <td>spam</td>\n",
              "      <td>Congratulations ur awarded 500 of CD vouchers or 125gift guaranteed &amp; Free entry 2 100 wkly draw txt MUSIC to 87066 TnCs www.Ldew.com1win150ppmx3age16</td>\n",
              "    </tr>\n",
              "    <tr>\n",
              "      <th>...</th>\n",
              "      <td>...</td>\n",
              "      <td>...</td>\n",
              "    </tr>\n",
              "    <tr>\n",
              "      <th>5294</th>\n",
              "      <td>spam</td>\n",
              "      <td>XMAS iscoming &amp; ur awarded either £500 CD gift vouchers &amp; free entry 2 r £100 weekly draw txt MUSIC to 87066 TnC www.Ldew.com1win150ppmx3age16subscription</td>\n",
              "    </tr>\n",
              "    <tr>\n",
              "      <th>5378</th>\n",
              "      <td>spam</td>\n",
              "      <td>Free entry to the gr8prizes wkly comp 4 a chance to win the latest Nokia 8800, PSP or £250 cash every wk.TXT GREAT to 80878 http//www.gr8prizes.com 08715705022</td>\n",
              "    </tr>\n",
              "    <tr>\n",
              "      <th>5456</th>\n",
              "      <td>spam</td>\n",
              "      <td>For the most sparkling shopping breaks from 45 per person; call 0121 2025050 or visit www.shortbreaks.org.uk</td>\n",
              "    </tr>\n",
              "    <tr>\n",
              "      <th>5462</th>\n",
              "      <td>spam</td>\n",
              "      <td>Txt: CALL to No: 86888 &amp; claim your reward of 3 hours talk time to use from your phone now! Subscribe6GBP/mnth inc 3hrs 16 stop?txtStop www.gamb.tv</td>\n",
              "    </tr>\n",
              "    <tr>\n",
              "      <th>5497</th>\n",
              "      <td>spam</td>\n",
              "      <td>SMS SERVICES. for your inclusive text credits, pls goto www.comuk.net login= 3qxj9 unsubscribe with STOP, no extra charge. help 08702840625.COMUK. 220-CM2 9AE</td>\n",
              "    </tr>\n",
              "  </tbody>\n",
              "</table>\n",
              "<p>96 rows × 2 columns</p>\n",
              "</div>"
            ],
            "text/plain": [
              "     target  \\\n",
              "12     spam   \n",
              "164    spam   \n",
              "191    spam   \n",
              "225    spam   \n",
              "250    spam   \n",
              "...     ...   \n",
              "5294   spam   \n",
              "5378   spam   \n",
              "5456   spam   \n",
              "5462   spam   \n",
              "5497   spam   \n",
              "\n",
              "                                                                                                                                                                 text  \n",
              "12        URGENT! You have won a 1 week FREE membership in our £100,000 Prize Jackpot! Txt the word: CLAIM to No: 81010 T&C www.dbuk.net LCCLTD POBOX 4403LDNW1A7RW18  \n",
              "164          -PLS STOP bootydelious (32/F) is inviting you to be her friend. Reply YES-434 or NO-434 See her: www.SMS.ac/u/bootydelious STOP? Send STOP FRND to 62468  \n",
              "191                                                                                          Are you unique enough? Find out from 30th August. www.areyouunique.co.uk  \n",
              "225                    500 New Mobiles from 2004, MUST GO! Txt: NOKIA to No: 89545 & collect yours today!From ONLY £1 www.4-tc.biz 2optout 087187262701.50gbp/mtmsg18  \n",
              "250            Congratulations ur awarded 500 of CD vouchers or 125gift guaranteed & Free entry 2 100 wkly draw txt MUSIC to 87066 TnCs www.Ldew.com1win150ppmx3age16  \n",
              "...                                                                                                                                                               ...  \n",
              "5294      XMAS iscoming & ur awarded either £500 CD gift vouchers & free entry 2 r £100 weekly draw txt MUSIC to 87066 TnC www.Ldew.com1win150ppmx3age16subscription   \n",
              "5378  Free entry to the gr8prizes wkly comp 4 a chance to win the latest Nokia 8800, PSP or £250 cash every wk.TXT GREAT to 80878 http//www.gr8prizes.com 08715705022  \n",
              "5456                                                     For the most sparkling shopping breaks from 45 per person; call 0121 2025050 or visit www.shortbreaks.org.uk  \n",
              "5462              Txt: CALL to No: 86888 & claim your reward of 3 hours talk time to use from your phone now! Subscribe6GBP/mnth inc 3hrs 16 stop?txtStop www.gamb.tv  \n",
              "5497   SMS SERVICES. for your inclusive text credits, pls goto www.comuk.net login= 3qxj9 unsubscribe with STOP, no extra charge. help 08702840625.COMUK. 220-CM2 9AE  \n",
              "\n",
              "[96 rows x 2 columns]"
            ]
          },
          "execution_count": 37,
          "metadata": {},
          "output_type": "execute_result"
        }
      ],
      "source": [
        "data.loc[(data['text'].str.contains('www.')) & (data.target == 'spam')]"
      ]
    },
    {
      "cell_type": "code",
      "execution_count": 38,
      "metadata": {},
      "outputs": [
        {
          "data": {
            "text/html": [
              "<div>\n",
              "<style scoped>\n",
              "    .dataframe tbody tr th:only-of-type {\n",
              "        vertical-align: middle;\n",
              "    }\n",
              "\n",
              "    .dataframe tbody tr th {\n",
              "        vertical-align: top;\n",
              "    }\n",
              "\n",
              "    .dataframe thead th {\n",
              "        text-align: right;\n",
              "    }\n",
              "</style>\n",
              "<table border=\"1\" class=\"dataframe\">\n",
              "  <thead>\n",
              "    <tr style=\"text-align: right;\">\n",
              "      <th></th>\n",
              "      <th>target</th>\n",
              "      <th>text</th>\n",
              "      <th>pred</th>\n",
              "      <th>prob_spam</th>\n",
              "      <th>prob_spam_round</th>\n",
              "    </tr>\n",
              "  </thead>\n",
              "  <tbody>\n",
              "    <tr>\n",
              "      <th>3132</th>\n",
              "      <td>spam</td>\n",
              "      <td>LookAtMe!: Thanks for your purchase of a video clip from LookAtMe!, you've been charged 35p. Think you can do better? Why not send a video in a MMSto 32323.</td>\n",
              "      <td>ham</td>\n",
              "      <td>1.573164e-01</td>\n",
              "      <td>0.1573</td>\n",
              "    </tr>\n",
              "    <tr>\n",
              "      <th>3302</th>\n",
              "      <td>spam</td>\n",
              "      <td>RCT' THNQ Adrian for U text. Rgds Vatian</td>\n",
              "      <td>ham</td>\n",
              "      <td>4.747978e-08</td>\n",
              "      <td>0.0000</td>\n",
              "    </tr>\n",
              "    <tr>\n",
              "      <th>3360</th>\n",
              "      <td>spam</td>\n",
              "      <td>Sorry I missed your call let's talk when you have the time. I'm on 07090201529</td>\n",
              "      <td>ham</td>\n",
              "      <td>1.321439e-16</td>\n",
              "      <td>0.0000</td>\n",
              "    </tr>\n",
              "    <tr>\n",
              "      <th>3391</th>\n",
              "      <td>spam</td>\n",
              "      <td>Please CALL 08712402972 immediately as there is an urgent message waiting for you</td>\n",
              "      <td>ham</td>\n",
              "      <td>8.644385e-02</td>\n",
              "      <td>0.0864</td>\n",
              "    </tr>\n",
              "    <tr>\n",
              "      <th>3419</th>\n",
              "      <td>spam</td>\n",
              "      <td>LIFE has never been this much fun and great until you came in. You made it truly special for me. I won't forget you! enjoy @ one gbp/sms</td>\n",
              "      <td>ham</td>\n",
              "      <td>2.017001e-31</td>\n",
              "      <td>0.0000</td>\n",
              "    </tr>\n",
              "    <tr>\n",
              "      <th>3460</th>\n",
              "      <td>spam</td>\n",
              "      <td>Not heard from U4 a while. Call me now am here all night with just my knickers on. Make me beg for it like U did last time 01223585236 XX Luv Nikiyu4.net</td>\n",
              "      <td>ham</td>\n",
              "      <td>4.305110e-07</td>\n",
              "      <td>0.0000</td>\n",
              "    </tr>\n",
              "    <tr>\n",
              "      <th>3463</th>\n",
              "      <td>spam</td>\n",
              "      <td>Bloomberg -Message center +447797706009 Why wait? Apply for your future http://careers. bloomberg.com</td>\n",
              "      <td>ham</td>\n",
              "      <td>3.722596e-06</td>\n",
              "      <td>0.0000</td>\n",
              "    </tr>\n",
              "    <tr>\n",
              "      <th>3501</th>\n",
              "      <td>spam</td>\n",
              "      <td>Dorothy@kiefer.com (Bank of Granite issues Strong-Buy) EXPLOSIVE PICK FOR OUR MEMBERS *****UP OVER 300% *********** Nasdaq Symbol CDGT That is a $5.00 per..</td>\n",
              "      <td>ham</td>\n",
              "      <td>1.137744e-12</td>\n",
              "      <td>0.0000</td>\n",
              "    </tr>\n",
              "    <tr>\n",
              "      <th>3530</th>\n",
              "      <td>spam</td>\n",
              "      <td>Xmas &amp; New Years Eve tickets are now on sale from the club, during the day from 10am till 8pm, and on Thurs, Fri &amp; Sat night this week. They're selling fast!</td>\n",
              "      <td>ham</td>\n",
              "      <td>1.195519e-08</td>\n",
              "      <td>0.0000</td>\n",
              "    </tr>\n",
              "    <tr>\n",
              "      <th>3574</th>\n",
              "      <td>spam</td>\n",
              "      <td>You won't believe it but it's true. It's Incredible Txts! Reply G now to learn truly amazing things that will blow your mind. From O2FWD only 18p/txt</td>\n",
              "      <td>ham</td>\n",
              "      <td>1.628844e-12</td>\n",
              "      <td>0.0000</td>\n",
              "    </tr>\n",
              "    <tr>\n",
              "      <th>3742</th>\n",
              "      <td>spam</td>\n",
              "      <td>2/2 146tf150p</td>\n",
              "      <td>ham</td>\n",
              "      <td>8.505486e-06</td>\n",
              "      <td>0.0000</td>\n",
              "    </tr>\n",
              "    <tr>\n",
              "      <th>3750</th>\n",
              "      <td>spam</td>\n",
              "      <td>Dear Voucher Holder 2 claim your 1st class airport lounge passes when using Your holiday voucher call 08704439680. When booking quote 1st class x 2</td>\n",
              "      <td>ham</td>\n",
              "      <td>2.847801e-01</td>\n",
              "      <td>0.2848</td>\n",
              "    </tr>\n",
              "    <tr>\n",
              "      <th>3755</th>\n",
              "      <td>spam</td>\n",
              "      <td>Bloomberg -Message center +447797706009 Why wait? Apply for your future http://careers. bloomberg.com</td>\n",
              "      <td>ham</td>\n",
              "      <td>3.722596e-06</td>\n",
              "      <td>0.0000</td>\n",
              "    </tr>\n",
              "    <tr>\n",
              "      <th>3864</th>\n",
              "      <td>spam</td>\n",
              "      <td>Oh my god! I've found your number again! I'm so glad, text me back xafter this msgs cst std ntwk chg £1.50</td>\n",
              "      <td>ham</td>\n",
              "      <td>3.515850e-11</td>\n",
              "      <td>0.0000</td>\n",
              "    </tr>\n",
              "    <tr>\n",
              "      <th>3981</th>\n",
              "      <td>spam</td>\n",
              "      <td>ringtoneking 84484</td>\n",
              "      <td>ham</td>\n",
              "      <td>9.851076e-02</td>\n",
              "      <td>0.0985</td>\n",
              "    </tr>\n",
              "    <tr>\n",
              "      <th>3991</th>\n",
              "      <td>spam</td>\n",
              "      <td>(Bank of Granite issues Strong-Buy) EXPLOSIVE PICK FOR OUR MEMBERS *****UP OVER 300% *********** Nasdaq Symbol CDGT That is a $5.00 per..</td>\n",
              "      <td>ham</td>\n",
              "      <td>5.612162e-14</td>\n",
              "      <td>0.0000</td>\n",
              "    </tr>\n",
              "    <tr>\n",
              "      <th>4069</th>\n",
              "      <td>spam</td>\n",
              "      <td>TBS/PERSOLVO. been chasing us since Sept for£38 definitely not paying now thanks to your information. We will ignore them. Kath. Manchester.</td>\n",
              "      <td>ham</td>\n",
              "      <td>1.546426e-17</td>\n",
              "      <td>0.0000</td>\n",
              "    </tr>\n",
              "    <tr>\n",
              "      <th>4144</th>\n",
              "      <td>spam</td>\n",
              "      <td>In The Simpsons Movie released in July 2007 name the band that died at the start of the film? A-Green Day, B-Blue Day, C-Red Day. (Send A, B or C)</td>\n",
              "      <td>ham</td>\n",
              "      <td>1.231508e-09</td>\n",
              "      <td>0.0000</td>\n",
              "    </tr>\n",
              "    <tr>\n",
              "      <th>4213</th>\n",
              "      <td>spam</td>\n",
              "      <td>Missed call alert. These numbers called but left no message. 07008009200</td>\n",
              "      <td>ham</td>\n",
              "      <td>8.167728e-12</td>\n",
              "      <td>0.0000</td>\n",
              "    </tr>\n",
              "    <tr>\n",
              "      <th>4249</th>\n",
              "      <td>spam</td>\n",
              "      <td>accordingly. I repeat, just text the word ok on your mobile phone and send</td>\n",
              "      <td>ham</td>\n",
              "      <td>3.796156e-05</td>\n",
              "      <td>0.0000</td>\n",
              "    </tr>\n",
              "    <tr>\n",
              "      <th>4293</th>\n",
              "      <td>ham</td>\n",
              "      <td>G.W.R</td>\n",
              "      <td>spam</td>\n",
              "      <td>7.673309e-01</td>\n",
              "      <td>0.7673</td>\n",
              "    </tr>\n",
              "    <tr>\n",
              "      <th>4297</th>\n",
              "      <td>spam</td>\n",
              "      <td>Please CALL 08712402578 immediately as there is an urgent message waiting for you</td>\n",
              "      <td>ham</td>\n",
              "      <td>8.644385e-02</td>\n",
              "      <td>0.0864</td>\n",
              "    </tr>\n",
              "    <tr>\n",
              "      <th>4298</th>\n",
              "      <td>spam</td>\n",
              "      <td>thesmszone.com lets you send free anonymous and masked messages..im sending this message from there..do you see the potential for abuse???</td>\n",
              "      <td>ham</td>\n",
              "      <td>3.295818e-18</td>\n",
              "      <td>0.0000</td>\n",
              "    </tr>\n",
              "    <tr>\n",
              "      <th>4373</th>\n",
              "      <td>spam</td>\n",
              "      <td>Ur balance is now £600. Next question: Complete the landmark, Big, A. Bob, B. Barry or C. Ben ?. Text A, B or C to 83738. Good luck!</td>\n",
              "      <td>ham</td>\n",
              "      <td>2.386650e-01</td>\n",
              "      <td>0.2387</td>\n",
              "    </tr>\n",
              "    <tr>\n",
              "      <th>4466</th>\n",
              "      <td>ham</td>\n",
              "      <td>CHEERS FOR CALLIN BABE.SOZI CULDNT TALKBUT I WANNATELL U DETAILS LATER WENWECAN CHAT PROPERLY X</td>\n",
              "      <td>spam</td>\n",
              "      <td>9.863860e-01</td>\n",
              "      <td>0.9864</td>\n",
              "    </tr>\n",
              "    <tr>\n",
              "      <th>4475</th>\n",
              "      <td>spam</td>\n",
              "      <td>Want explicit SEX in 30 secs? Ring 02073162414 now! Costs 20p/min</td>\n",
              "      <td>ham</td>\n",
              "      <td>7.370438e-06</td>\n",
              "      <td>0.0000</td>\n",
              "    </tr>\n",
              "    <tr>\n",
              "      <th>4514</th>\n",
              "      <td>spam</td>\n",
              "      <td>Money i have won wining number 946 wot do i do next</td>\n",
              "      <td>ham</td>\n",
              "      <td>2.308539e-13</td>\n",
              "      <td>0.0000</td>\n",
              "    </tr>\n",
              "    <tr>\n",
              "      <th>4527</th>\n",
              "      <td>spam</td>\n",
              "      <td>I want some cock! My hubby's away, I need a real man 2 satisfy me. Txt WIFE to 89938 for no strings action. (Txt STOP 2 end, txt rec £1.50ea. OTBox 731 LA1 7WS. )</td>\n",
              "      <td>ham</td>\n",
              "      <td>6.533893e-09</td>\n",
              "      <td>0.0000</td>\n",
              "    </tr>\n",
              "    <tr>\n",
              "      <th>4676</th>\n",
              "      <td>spam</td>\n",
              "      <td>Hi babe its Chloe, how r u? I was smashed on saturday night, it was great! How was your weekend? U been missing me? SP visionsms.com Text stop to stop 150p/text</td>\n",
              "      <td>ham</td>\n",
              "      <td>1.352745e-05</td>\n",
              "      <td>0.0000</td>\n",
              "    </tr>\n",
              "    <tr>\n",
              "      <th>4862</th>\n",
              "      <td>ham</td>\n",
              "      <td>Nokia phone is lovly..</td>\n",
              "      <td>spam</td>\n",
              "      <td>9.403685e-01</td>\n",
              "      <td>0.9404</td>\n",
              "    </tr>\n",
              "    <tr>\n",
              "      <th>4906</th>\n",
              "      <td>spam</td>\n",
              "      <td>Warner Village 83118 C Colin Farrell in SWAT this wkend @Warner Village &amp; get 1 free med. Popcorn!Just show msg+ticket@kiosk.Valid 4-7/12. C t&amp;c @kiosk. Reply SONY 4 mre film offers</td>\n",
              "      <td>ham</td>\n",
              "      <td>1.624827e-02</td>\n",
              "      <td>0.0162</td>\n",
              "    </tr>\n",
              "    <tr>\n",
              "      <th>4914</th>\n",
              "      <td>spam</td>\n",
              "      <td>Goal! Arsenal 4 (Henry, 7 v Liverpool 2 Henry scores with a simple shot from 6 yards from a pass by Bergkamp to give Arsenal a 2 goal margin after 78 mins.</td>\n",
              "      <td>ham</td>\n",
              "      <td>2.570767e-10</td>\n",
              "      <td>0.0000</td>\n",
              "    </tr>\n",
              "    <tr>\n",
              "      <th>4949</th>\n",
              "      <td>spam</td>\n",
              "      <td>Hi this is Amy, we will be sending you a free phone number in a couple of days, which will give you an access to all the adult parties...</td>\n",
              "      <td>ham</td>\n",
              "      <td>2.524830e-10</td>\n",
              "      <td>0.0000</td>\n",
              "    </tr>\n",
              "    <tr>\n",
              "      <th>4968</th>\n",
              "      <td>spam</td>\n",
              "      <td>You can donate £2.50 to UNICEF's Asian Tsunami disaster support fund by texting DONATE to 864233. £2.50 will be added to your next bill</td>\n",
              "      <td>ham</td>\n",
              "      <td>4.410507e-13</td>\n",
              "      <td>0.0000</td>\n",
              "    </tr>\n",
              "    <tr>\n",
              "      <th>5037</th>\n",
              "      <td>spam</td>\n",
              "      <td>You won't believe it but it's true. It's Incredible Txts! Reply G now to learn truly amazing things that will blow your mind. From O2FWD only 18p/txt</td>\n",
              "      <td>ham</td>\n",
              "      <td>1.628844e-12</td>\n",
              "      <td>0.0000</td>\n",
              "    </tr>\n",
              "    <tr>\n",
              "      <th>5110</th>\n",
              "      <td>spam</td>\n",
              "      <td>You have 1 new message. Please call 08715205273</td>\n",
              "      <td>ham</td>\n",
              "      <td>1.027044e-01</td>\n",
              "      <td>0.1027</td>\n",
              "    </tr>\n",
              "    <tr>\n",
              "      <th>5370</th>\n",
              "      <td>spam</td>\n",
              "      <td>dating:i have had two of these. Only started after i sent a text to talk sport radio last week. Any connection do you think or coincidence?</td>\n",
              "      <td>ham</td>\n",
              "      <td>9.584150e-28</td>\n",
              "      <td>0.0000</td>\n",
              "    </tr>\n",
              "    <tr>\n",
              "      <th>5427</th>\n",
              "      <td>spam</td>\n",
              "      <td>Santa Calling! Would your little ones like a call from Santa Xmas eve? Call 09058094583 to book your time.</td>\n",
              "      <td>ham</td>\n",
              "      <td>3.423676e-09</td>\n",
              "      <td>0.0000</td>\n",
              "    </tr>\n",
              "    <tr>\n",
              "      <th>5449</th>\n",
              "      <td>spam</td>\n",
              "      <td>Latest News! Police station toilet stolen, cops have nothing to go on!</td>\n",
              "      <td>ham</td>\n",
              "      <td>1.793818e-02</td>\n",
              "      <td>0.0179</td>\n",
              "    </tr>\n",
              "    <tr>\n",
              "      <th>5537</th>\n",
              "      <td>spam</td>\n",
              "      <td>Want explicit SEX in 30 secs? Ring 02073162414 now! Costs 20p/min Gsex POBOX 2667 WC1N 3XX</td>\n",
              "      <td>ham</td>\n",
              "      <td>4.840780e-01</td>\n",
              "      <td>0.4841</td>\n",
              "    </tr>\n",
              "    <tr>\n",
              "      <th>5540</th>\n",
              "      <td>spam</td>\n",
              "      <td>ASKED 3MOBILE IF 0870 CHATLINES INCLU IN FREE MINS. INDIA CUST SERVs SED YES. L8ER GOT MEGA BILL. 3 DONT GIV A SHIT. BAILIFF DUE IN DAYS. I O £250 3 WANT £800</td>\n",
              "      <td>ham</td>\n",
              "      <td>7.175314e-02</td>\n",
              "      <td>0.0718</td>\n",
              "    </tr>\n",
              "  </tbody>\n",
              "</table>\n",
              "</div>"
            ],
            "text/plain": [
              "     target  \\\n",
              "3132   spam   \n",
              "3302   spam   \n",
              "3360   spam   \n",
              "3391   spam   \n",
              "3419   spam   \n",
              "3460   spam   \n",
              "3463   spam   \n",
              "3501   spam   \n",
              "3530   spam   \n",
              "3574   spam   \n",
              "3742   spam   \n",
              "3750   spam   \n",
              "3755   spam   \n",
              "3864   spam   \n",
              "3981   spam   \n",
              "3991   spam   \n",
              "4069   spam   \n",
              "4144   spam   \n",
              "4213   spam   \n",
              "4249   spam   \n",
              "4293    ham   \n",
              "4297   spam   \n",
              "4298   spam   \n",
              "4373   spam   \n",
              "4466    ham   \n",
              "4475   spam   \n",
              "4514   spam   \n",
              "4527   spam   \n",
              "4676   spam   \n",
              "4862    ham   \n",
              "4906   spam   \n",
              "4914   spam   \n",
              "4949   spam   \n",
              "4968   spam   \n",
              "5037   spam   \n",
              "5110   spam   \n",
              "5370   spam   \n",
              "5427   spam   \n",
              "5449   spam   \n",
              "5537   spam   \n",
              "5540   spam   \n",
              "\n",
              "                                                                                                                                                                                       text  \\\n",
              "3132                           LookAtMe!: Thanks for your purchase of a video clip from LookAtMe!, you've been charged 35p. Think you can do better? Why not send a video in a MMSto 32323.   \n",
              "3302                                                                                                                                               RCT' THNQ Adrian for U text. Rgds Vatian   \n",
              "3360                                                                                                         Sorry I missed your call let's talk when you have the time. I'm on 07090201529   \n",
              "3391                                                                                                      Please CALL 08712402972 immediately as there is an urgent message waiting for you   \n",
              "3419                                               LIFE has never been this much fun and great until you came in. You made it truly special for me. I won't forget you! enjoy @ one gbp/sms   \n",
              "3460                              Not heard from U4 a while. Call me now am here all night with just my knickers on. Make me beg for it like U did last time 01223585236 XX Luv Nikiyu4.net   \n",
              "3463                                                                                  Bloomberg -Message center +447797706009 Why wait? Apply for your future http://careers. bloomberg.com   \n",
              "3501                           Dorothy@kiefer.com (Bank of Granite issues Strong-Buy) EXPLOSIVE PICK FOR OUR MEMBERS *****UP OVER 300% *********** Nasdaq Symbol CDGT That is a $5.00 per..   \n",
              "3530                          Xmas & New Years Eve tickets are now on sale from the club, during the day from 10am till 8pm, and on Thurs, Fri & Sat night this week. They're selling fast!   \n",
              "3574                                  You won't believe it but it's true. It's Incredible Txts! Reply G now to learn truly amazing things that will blow your mind. From O2FWD only 18p/txt   \n",
              "3742                                                                                                                                                                          2/2 146tf150p   \n",
              "3750                                    Dear Voucher Holder 2 claim your 1st class airport lounge passes when using Your holiday voucher call 08704439680. When booking quote 1st class x 2   \n",
              "3755                                                                                  Bloomberg -Message center +447797706009 Why wait? Apply for your future http://careers. bloomberg.com   \n",
              "3864                                                                             Oh my god! I've found your number again! I'm so glad, text me back xafter this msgs cst std ntwk chg £1.50   \n",
              "3981                                                                                                                                                                     ringtoneking 84484   \n",
              "3991                                              (Bank of Granite issues Strong-Buy) EXPLOSIVE PICK FOR OUR MEMBERS *****UP OVER 300% *********** Nasdaq Symbol CDGT That is a $5.00 per..   \n",
              "4069                                           TBS/PERSOLVO. been chasing us since Sept for£38 definitely not paying now thanks to your information. We will ignore them. Kath. Manchester.   \n",
              "4144                                     In The Simpsons Movie released in July 2007 name the band that died at the start of the film? A-Green Day, B-Blue Day, C-Red Day. (Send A, B or C)   \n",
              "4213                                                                                                               Missed call alert. These numbers called but left no message. 07008009200   \n",
              "4249                                                                                                             accordingly. I repeat, just text the word ok on your mobile phone and send   \n",
              "4293                                                                                                                                                                                  G.W.R   \n",
              "4297                                                                                                      Please CALL 08712402578 immediately as there is an urgent message waiting for you   \n",
              "4298                                             thesmszone.com lets you send free anonymous and masked messages..im sending this message from there..do you see the potential for abuse???   \n",
              "4373                                                   Ur balance is now £600. Next question: Complete the landmark, Big, A. Bob, B. Barry or C. Ben ?. Text A, B or C to 83738. Good luck!   \n",
              "4466                                                                                        CHEERS FOR CALLIN BABE.SOZI CULDNT TALKBUT I WANNATELL U DETAILS LATER WENWECAN CHAT PROPERLY X   \n",
              "4475                                                                                                                      Want explicit SEX in 30 secs? Ring 02073162414 now! Costs 20p/min   \n",
              "4514                                                                                                                                    Money i have won wining number 946 wot do i do next   \n",
              "4527                     I want some cock! My hubby's away, I need a real man 2 satisfy me. Txt WIFE to 89938 for no strings action. (Txt STOP 2 end, txt rec £1.50ea. OTBox 731 LA1 7WS. )   \n",
              "4676                       Hi babe its Chloe, how r u? I was smashed on saturday night, it was great! How was your weekend? U been missing me? SP visionsms.com Text stop to stop 150p/text   \n",
              "4862                                                                                                                                                                 Nokia phone is lovly..   \n",
              "4906  Warner Village 83118 C Colin Farrell in SWAT this wkend @Warner Village & get 1 free med. Popcorn!Just show msg+ticket@kiosk.Valid 4-7/12. C t&c @kiosk. Reply SONY 4 mre film offers   \n",
              "4914                            Goal! Arsenal 4 (Henry, 7 v Liverpool 2 Henry scores with a simple shot from 6 yards from a pass by Bergkamp to give Arsenal a 2 goal margin after 78 mins.   \n",
              "4949                                              Hi this is Amy, we will be sending you a free phone number in a couple of days, which will give you an access to all the adult parties...   \n",
              "4968                                                You can donate £2.50 to UNICEF's Asian Tsunami disaster support fund by texting DONATE to 864233. £2.50 will be added to your next bill   \n",
              "5037                                  You won't believe it but it's true. It's Incredible Txts! Reply G now to learn truly amazing things that will blow your mind. From O2FWD only 18p/txt   \n",
              "5110                                                                                                                                        You have 1 new message. Please call 08715205273   \n",
              "5370                                            dating:i have had two of these. Only started after i sent a text to talk sport radio last week. Any connection do you think or coincidence?   \n",
              "5427                                                                             Santa Calling! Would your little ones like a call from Santa Xmas eve? Call 09058094583 to book your time.   \n",
              "5449                                                                                                                 Latest News! Police station toilet stolen, cops have nothing to go on!   \n",
              "5537                                                                                             Want explicit SEX in 30 secs? Ring 02073162414 now! Costs 20p/min Gsex POBOX 2667 WC1N 3XX   \n",
              "5540                         ASKED 3MOBILE IF 0870 CHATLINES INCLU IN FREE MINS. INDIA CUST SERVs SED YES. L8ER GOT MEGA BILL. 3 DONT GIV A SHIT. BAILIFF DUE IN DAYS. I O £250 3 WANT £800   \n",
              "\n",
              "      pred     prob_spam  prob_spam_round  \n",
              "3132   ham  1.573164e-01           0.1573  \n",
              "3302   ham  4.747978e-08           0.0000  \n",
              "3360   ham  1.321439e-16           0.0000  \n",
              "3391   ham  8.644385e-02           0.0864  \n",
              "3419   ham  2.017001e-31           0.0000  \n",
              "3460   ham  4.305110e-07           0.0000  \n",
              "3463   ham  3.722596e-06           0.0000  \n",
              "3501   ham  1.137744e-12           0.0000  \n",
              "3530   ham  1.195519e-08           0.0000  \n",
              "3574   ham  1.628844e-12           0.0000  \n",
              "3742   ham  8.505486e-06           0.0000  \n",
              "3750   ham  2.847801e-01           0.2848  \n",
              "3755   ham  3.722596e-06           0.0000  \n",
              "3864   ham  3.515850e-11           0.0000  \n",
              "3981   ham  9.851076e-02           0.0985  \n",
              "3991   ham  5.612162e-14           0.0000  \n",
              "4069   ham  1.546426e-17           0.0000  \n",
              "4144   ham  1.231508e-09           0.0000  \n",
              "4213   ham  8.167728e-12           0.0000  \n",
              "4249   ham  3.796156e-05           0.0000  \n",
              "4293  spam  7.673309e-01           0.7673  \n",
              "4297   ham  8.644385e-02           0.0864  \n",
              "4298   ham  3.295818e-18           0.0000  \n",
              "4373   ham  2.386650e-01           0.2387  \n",
              "4466  spam  9.863860e-01           0.9864  \n",
              "4475   ham  7.370438e-06           0.0000  \n",
              "4514   ham  2.308539e-13           0.0000  \n",
              "4527   ham  6.533893e-09           0.0000  \n",
              "4676   ham  1.352745e-05           0.0000  \n",
              "4862  spam  9.403685e-01           0.9404  \n",
              "4906   ham  1.624827e-02           0.0162  \n",
              "4914   ham  2.570767e-10           0.0000  \n",
              "4949   ham  2.524830e-10           0.0000  \n",
              "4968   ham  4.410507e-13           0.0000  \n",
              "5037   ham  1.628844e-12           0.0000  \n",
              "5110   ham  1.027044e-01           0.1027  \n",
              "5370   ham  9.584150e-28           0.0000  \n",
              "5427   ham  3.423676e-09           0.0000  \n",
              "5449   ham  1.793818e-02           0.0179  \n",
              "5537   ham  4.840780e-01           0.4841  \n",
              "5540   ham  7.175314e-02           0.0718  "
            ]
          },
          "metadata": {},
          "output_type": "display_data"
        }
      ],
      "source": [
        "import numpy as np \n",
        "test_data = data.iloc[n_train:].copy()\n",
        "test_data['pred'] = test_predictions\n",
        "test_data['prob_spam'] = test_spam_probabilities\n",
        "\n",
        "test_data['prob_spam_round'] = np.round(test_spam_probabilities, 4)\n",
        "with pd.option_context('display.max_rows', None):\n",
        "    display(test_data.loc[test_data['target']!=test_data['pred']])\n"
      ]
    },
    {
      "cell_type": "markdown",
      "metadata": {},
      "source": [
        "Some conclusions from the above:\n",
        "1. Phone numbers and money offers are much more frequent in spam\n",
        "2. The length of the text could be a significant reason why some spam messages are misclassified: As the text has more words, there is a higher chance that \n",
        "\n",
        "$P(text|label)=P(word_1) \\cdot P(word_2) \\cdots P(word_n)\\to 0$ \n",
        "        \n",
        "two ways to tackle this issue are:\n",
        "1. Trimming words from the data \n",
        "2. Tuning the models hyper-parameters, the anchor probability $(\\alpha)$ and $p$ - the step size towards this anchor.   \n"
      ]
    },
    {
      "cell_type": "markdown",
      "metadata": {},
      "source": [
        "## Feature engineering\n"
      ]
    },
    {
      "cell_type": "markdown",
      "metadata": {},
      "source": [
        "We replace all different sets of numbers with a fixed set "
      ]
    },
    {
      "cell_type": "code",
      "execution_count": 39,
      "metadata": {},
      "outputs": [
        {
          "name": "stderr",
          "output_type": "stream",
          "text": [
            "C:\\Users\\itay8\\AppData\\Local\\Temp\\ipykernel_22272\\1969157810.py:3: FutureWarning: The default value of regex will change from True to False in a future version.\n",
            "  df['text'] = df['text'].str.replace('\\d{4,}','set_of_numbers')\n",
            "C:\\Users\\itay8\\AppData\\Local\\Temp\\ipykernel_22272\\1969157810.py:4: FutureWarning: The default value of regex will change from True to False in a future version.\n",
            "  df['text'] = df['text'].str.replace('(?:[£$])[^\\s]+','MMMM')\n"
          ]
        }
      ],
      "source": [
        "df = data.copy()\n",
        "\n",
        "df['text'] = df['text'].str.replace('\\d{4,}','set_of_numbers')\n",
        "df['text'] = df['text'].str.replace('(?:[£$])[^\\s]+','MMMM')"
      ]
    },
    {
      "cell_type": "code",
      "execution_count": 40,
      "metadata": {
        "id": "vJbmpGfSSGci"
      },
      "outputs": [],
      "source": [
        "bags_of_words = [get_words(text) for text in df.text] \n",
        "n_train = 3000\n",
        "train_x, test_x, train_y, test_y = bags_of_words[:n_train], bags_of_words[n_train:], df.target[:n_train], df.target[n_train:] #This is not stratified "
      ]
    },
    {
      "cell_type": "markdown",
      "metadata": {},
      "source": [
        "Creating counter again"
      ]
    },
    {
      "cell_type": "code",
      "execution_count": 41,
      "metadata": {
        "id": "syP02W9jSGcw"
      },
      "outputs": [],
      "source": [
        "# this counter will keep the number of spam and ham texts\n",
        "label_counter = Counter()\n",
        "\n",
        "# these counters will keep the frequency of each word in ham and spam texts\n",
        "word_counters = {\n",
        "    'spam': Counter(), \n",
        "    'ham': Counter()\n",
        "}\n",
        "\n",
        "all_words = set()\n",
        "\n",
        "for label, words in zip(train_y, train_x):\n",
        "    all_words.update(words)\n",
        "    # TODO: use the `update` methods of all 3 counters, to calculate total number of \n",
        "    label_counter.update([label])\n",
        "    word_counters[label].update(words)\n"
      ]
    },
    {
      "cell_type": "code",
      "execution_count": 42,
      "metadata": {},
      "outputs": [
        {
          "name": "stdout",
          "output_type": "stream",
          "text": [
            "0.9871695178849145\n"
          ]
        }
      ],
      "source": [
        "threshold = 0.5\n",
        "test_spam_probabilities = [label_probability_given_text(text, 'spam') for text in test_x]\n",
        "test_predictions = ['spam' if spamness > threshold else 'ham' for spamness in test_spam_probabilities]\n",
        "\n",
        "accuracy = sum(1 if pred == fact else 0 for pred, fact in zip(test_predictions, test_y)) / len(test_y)\n",
        "print(accuracy)"
      ]
    },
    {
      "cell_type": "code",
      "execution_count": 43,
      "metadata": {},
      "outputs": [
        {
          "name": "stdout",
          "output_type": "stream",
          "text": [
            "              precision    recall  f1-score   support\n",
            "\n",
            "         ham       0.99      1.00      0.99      2234\n",
            "        spam       0.99      0.91      0.95       338\n",
            "\n",
            "    accuracy                           0.99      2572\n",
            "   macro avg       0.99      0.95      0.97      2572\n",
            "weighted avg       0.99      0.99      0.99      2572\n",
            "\n"
          ]
        },
        {
          "data": {
            "image/png": "[encoded data removed]",
            "text/plain": [
              "<Figure size 432x288 with 2 Axes>"
            ]
          },
          "metadata": {
            "needs_background": "light"
          },
          "output_type": "display_data"
        }
      ],
      "source": [
        "cm = confusion_matrix(test_y, test_predictions)\n",
        "CMDisp = ConfusionMatrixDisplay(cm, display_labels=['ham','spam'])\n",
        "CMDisp.plot()\n",
        "print(classification_report(test_y, test_predictions))\n"
      ]
    },
    {
      "cell_type": "markdown",
      "metadata": {},
      "source": [
        "### Feature engineering conclusion: \n",
        "We have lowered our false ham by 8 and our total model accurecy by 3%\n",
        "\n",
        "Our issue with long text still exsits we will try to address this by tuning our `p_step` and `alpha`"
      ]
    },
    {
      "cell_type": "markdown",
      "metadata": {},
      "source": [
        "### Greed tuning \n",
        "Recreating the function with parameters to tune."
      ]
    },
    {
      "cell_type": "code",
      "execution_count": 44,
      "metadata": {},
      "outputs": [],
      "source": [
        "def word_probability_given_label(word, label, p_step = 0.1 ,alpha = 0.001):\n",
        "    \"\"\" This function calculates probability of a word occurence in text, conditional on the label of this text.\"\"\"\n",
        "    return (word_counters[label][word]+p_step*alpha)/(label_counter[label]+p_step)\n",
        "\n",
        "def text_probability_given_label(text, label, p_step = 0.1 ,alpha = 0.001):\n",
        "    \"\"\" This function calculates probability of the text conditional on its label. \"\"\"\n",
        "    if isinstance(text, str):\n",
        "        text = get_words(text)\n",
        "    probability = 1.0\n",
        "    # TODO: calculate the probability of text given label. \n",
        "    # use a function defined above and the naive assumption of word independence\n",
        "    for word in all_words:\n",
        "        p = word_probability_given_label(word, label, p_step = p_step ,alpha = alpha)\n",
        "        if word in text:\n",
        "            probability *= p\n",
        "        else:\n",
        "            probability *= (1-p)\n",
        "    return probability\n",
        "\n",
        "def label_probability_given_text(text, label, p_step = 0.1 ,alpha = 0.001):\n",
        "    \"\"\" This function calculates probability of the label (spam or ham) conditional on the text. \"\"\"\n",
        "    # TODO: calculate label probability conditional on text\n",
        "    # use the Bayes rule and the functions defined above\n",
        "    p_L = prior_probability_of_label(label)\n",
        "    p = text_probability_given_label(text,label, p_step = p_step ,alpha = alpha)\n",
        "    if label == 'ham':\n",
        "        p_c = text_probability_given_label(text,'spam', p_step = p_step ,alpha = alpha)\n",
        "    elif label == 'spam':\n",
        "        p_c = text_probability_given_label(text,'ham', p_step = p_step ,alpha = alpha)    \n",
        "    return p*p_L/(p*p_L+p_c*(1-p_L))\n",
        "\n",
        "# def word_probability_given_label(word, label, p = 0.1 ,alpha = 0.0001):\n",
        "#     \"\"\" This function calculates probability of a word occurence in text, conditional on the label of this text.\"\"\"\n",
        "#     return (word_counters[label][word]+p*alpha)/(label_counter[label]+p)\n",
        "\n",
        "# def text_probability_given_label(text, label, p = 0.1, alpha= 0.0001):\n",
        "#     \"\"\" This function calculates probability of the text conditional on its label. \"\"\"\n",
        "#     if isinstance(text, str):\n",
        "#         text = get_words(text)\n",
        "#     probability = 1.0\n",
        "#     # TODO: calculate the probability of text given label. \n",
        "#     # use a function defined above and the naive assumption of word independence\n",
        "#     for word in all_words:\n",
        "#         p = word_probability_given_label(word, label, p = p, alpha=alpha)\n",
        "#         if word in text:\n",
        "#             probability *= p\n",
        "#         else:\n",
        "#             probability *= (1-p)\n",
        "#     return probability\n",
        "\n",
        "# def label_probability_given_text(text, label, p = 0.1, alpha=0.0001):\n",
        "#     \"\"\" This function calculates probability of the label (spam or ham) conditional on the text. \"\"\"\n",
        "#     # TODO: calculate label probability conditional on text\n",
        "#     # use the Bayes rule and the functions defined above\n",
        "#     p_L = prior_probability_of_label(label)\n",
        "#     p = text_probability_given_label(text,label, p=p, alpha=alpha)\n",
        "#     if label == 'ham':\n",
        "#         p_c = text_probability_given_label(text,'spam', p=p, alpha=alpha)\n",
        "#     elif label == 'spam':\n",
        "#         p_c = text_probability_given_label(text,'ham', p=p, alpha=alpha)    \n",
        "#     return p*p_L/(p*p_L+p_c*(1-p_L))\n",
        "\n",
        "\n",
        "    "
      ]
    },
    {
      "cell_type": "code",
      "execution_count": 45,
      "metadata": {},
      "outputs": [],
      "source": [
        "N = 2000\n",
        "tr_x, vl_x, tr_y, vl_y = train_x[:N], train_x[N:], train_y[:N], train_y[N:] #This is not stratified "
      ]
    },
    {
      "cell_type": "code",
      "execution_count": 46,
      "metadata": {},
      "outputs": [
        {
          "name": "stdout",
          "output_type": "stream",
          "text": [
            "\n",
            "        Best alpha = 0.001\n",
            "        Accuracy = 0.753\n",
            "        \n",
            "\n",
            "        Best alpha = 0.401\n",
            "        Accuracy = 0.754\n",
            "        \n"
          ]
        }
      ],
      "source": [
        "import numpy as np\n",
        "accuracy_max = 0\n",
        "max_p_learn = None\n",
        "\n",
        "threshold = 0.5\n",
        "for alpha in np.arange(0.001,0.9,0.1):\n",
        "    \n",
        "    test_spam_probabilities = [label_probability_given_text(text, 'spam', alpha=alpha) for text in tr_x]\n",
        "    test_predictions = ['spam' if spamness > threshold else 'ham' for spamness in test_spam_probabilities]\n",
        "\n",
        "    accuracy = sum(1 if pred == fact else 0 for pred, fact in zip(test_predictions, vl_y)) / len(vl_y)\n",
        "    # print(accuracy)\n",
        "    if accuracy > accuracy_max:\n",
        "        max_alpha = alpha\n",
        "        accuracy_max = accuracy\n",
        "        print(f'''\n",
        "        Best alpha = {max_alpha}\n",
        "        Accuracy = {accuracy_max}\n",
        "        ''')\n"
      ]
    },
    {
      "cell_type": "code",
      "execution_count": 47,
      "metadata": {},
      "outputs": [
        {
          "name": "stdout",
          "output_type": "stream",
          "text": [
            "0.9902799377916018\n"
          ]
        }
      ],
      "source": [
        "threshold = 0.5\n",
        "test_spam_probabilities = [label_probability_given_text(text, 'spam', p_step=0.1, alpha=0.7) for text in test_x]\n",
        "test_predictions = ['spam' if spamness > threshold else 'ham' for spamness in test_spam_probabilities]\n",
        "\n",
        "accuracy = sum(1 if pred == fact else 0 for pred, fact in zip(test_predictions, test_y)) / len(test_y)\n",
        "print(accuracy)"
      ]
    },
    {
      "cell_type": "markdown",
      "metadata": {},
      "source": [
        "# Summary\n",
        "We have reached our goal of accurecy above 0.99\n",
        "\n",
        "The paramters are:\n",
        "* alpha = 0.7\n",
        "* p = 0.1\n",
        "\n",
        "What other things did we try?\n",
        "* Stemming and Lematization\n",
        "* Tunning treshhold\n",
        "* Removing stop words\n",
        "* Adding another classifier by length and combining with text classifier to a new classifier.\n",
        "\n",
        "All of these resulted in lower accurecy scores"
      ]
    },
    {
      "cell_type": "markdown",
      "metadata": {},
      "source": [
        "## Stemming and Lemmatization trials "
      ]
    },
    {
      "cell_type": "code",
      "execution_count": null,
      "metadata": {},
      "outputs": [
        {
          "name": "stderr",
          "output_type": "stream",
          "text": [
            "[nltk_data] Downloading package wordnet to C:\\Users\\Elia\n",
            "[nltk_data]     Yakin\\AppData\\Roaming\\nltk_data...\n",
            "[nltk_data]   Package wordnet is already up-to-date!\n",
            "[nltk_data] Downloading package omw-1.4 to C:\\Users\\Elia\n",
            "[nltk_data]     Yakin\\AppData\\Roaming\\nltk_data...\n"
          ]
        }
      ],
      "source": [
        "# from nltk.stem import SnowballStemmer\n",
        "\n",
        "# import nltk\n",
        "# nltk.download('wordnet')\n",
        "# nltk.download('omw-1.4')\n",
        "# from nltk.stem import WordNetLemmatizer\n",
        "\n",
        "# english_stemmer = SnowballStemmer('english')\n",
        "# wnl = WordNetLemmatizer()\n"
      ]
    },
    {
      "cell_type": "code",
      "execution_count": null,
      "metadata": {},
      "outputs": [],
      "source": [
        " \n",
        "# def get_words_stemmed(text):\n",
        "#     \"\"\" This function converts the given text into an unordered and uncounted bag of words. \"\"\"\n",
        "#     text_list = re.split('\\W+', text)\n",
        "#     text_list_stm = []\n",
        "#     for word in text_list:\n",
        "#         w_s = english_stemmer.stem(word)\n",
        "#         text_list_stm.append(w_s)\n",
        "#     return set(text_list_stm).difference({''})\n",
        "\n",
        "\n",
        "# def get_words_lemmas(text):\n",
        "#     \"\"\" This function converts the given text into an unordered and uncounted bag of words. \"\"\"\n",
        "#     text_list = re.split('\\W+', text)\n",
        "#     text_list_stm = []\n",
        "#     for word in text_list:\n",
        "#         w_s = wnl.lemmatize(word, pos = 'a')\n",
        "#         w_s = wnl.lemmatize(w_s, pos = 'v')\n",
        "#         w_s = wnl.lemmatize(w_s, pos = 'r')\n",
        "#         text_list_stm.append(w_s)\n",
        "#     return set(text_list_stm).difference({''})\n"
      ]
    },
    {
      "cell_type": "code",
      "execution_count": 232,
      "metadata": {},
      "outputs": [
        {
          "data": {
            "text/plain": [
              "{'a', 'be', 'long', 'message', 'one', 'ones', 'this'}"
            ]
          },
          "execution_count": 232,
          "metadata": {},
          "output_type": "execute_result"
        }
      ],
      "source": [
        "# get_words_lemmas(\"this message messages is a long, long, longer, long long long one ones.\")"
      ]
    },
    {
      "cell_type": "code",
      "execution_count": 225,
      "metadata": {
        "id": "Y0eQuYMyZM7f"
      },
      "outputs": [],
      "source": [
        "# stop_words = []\n",
        "# for i in range(51):\n",
        "#     word_spam = word_counters['spam'].most_common()[i][0]\n",
        "#     word_ham = word_counters['ham'].most_common()[i][0]\n",
        "\n",
        "#     stop_words.extend([word_spam, word_ham])\n",
        "# stop_words =set(stop_words)\n",
        "# stop_words\n",
        "\n",
        "\n",
        "# print(bow)\n",
        "# pd.DataFrame({'word':bow.keys(), 'word_count': bow.values() }).sort_values(by='word_count', ascending=False)\n",
        "# [(key, val) for key, val in zip(bow.keys(),bow.values())]"
      ]
    }
  ],
  "metadata": {
    "colab": {
      "collapsed_sections": [],
      "provenance": []
    },
    "kernelspec": {
      "display_name": "Python 3.9.12 ('base')",
      "language": "python",
      "name": "python3"
    },
    "language_info": {
      "codemirror_mode": {
        "name": "ipython",
        "version": 3
      },
      "file_extension": ".py",
      "mimetype": "text/x-python",
      "name": "python",
      "nbconvert_exporter": "python",
      "pygments_lexer": "ipython3",
      "version": "3.9.12"
    },
    "vscode": {
      "interpreter": {
        "hash": "ad2bdc8ecc057115af97d19610ffacc2b4e99fae6737bb82f5d7fb13d2f2c186"
      }
    }
  },
  "nbformat": 4,
  "nbformat_minor": 0
}
