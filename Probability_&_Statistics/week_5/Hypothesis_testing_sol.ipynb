{
  "nbformat": 4,
  "nbformat_minor": 0,
  "metadata": {
    "colab": {
      "provenance": []
    },
    "kernelspec": {
      "name": "python3",
      "display_name": "Python 3"
    },
    "language_info": {
      "name": "python"
    }
  },
  "cells": [
    {
      "cell_type": "markdown",
      "source": [
        "# Hypothesis testing "
      ],
      "metadata": {
        "id": "93MtlBCOJL72"
      }
    },
    {
      "cell_type": "markdown",
      "source": [
        "In this programming exercise you will explore numerical ways to calculate the power of a test and some properties of the power function. "
      ],
      "metadata": {
        "id": "XNq6icoQJ4fZ"
      }
    },
    {
      "cell_type": "markdown",
      "source": [
        "# Q1 (30% of exercise 5)"
      ],
      "metadata": {
        "id": "H55w2QwJKoMn"
      }
    },
    {
      "cell_type": "markdown",
      "source": [
        "We saw in class that for composite hypotheses we need to consider the power function $\\pi(\\theta)$ instead of the power of the test $\\pi$ which is a single value. \n",
        "\n",
        "In this question, you will evaluate the power of the following test: \n",
        "\n",
        "Assume that $X_1,...,X_n\\sim N(\\mu, \\sigma^2)$ where both parameters are unknown and consider the hypotheses $H_0:\\mu = 0$ vs. $H_1:\\mu >0$. \n",
        "\n",
        "In this case, we reject the null if $\\frac{\\bar{X}_n}{S_n/\\sqrt{n}}>t_{n-1, 1-\\alpha}$ where $S_n^2=\\frac{1}{n-1}\\sum_{i=1}^{n}(X_i-\\bar{X}_n)^2$ and $t_{n-1, 1-\\alpha}$ is the $1-\\alpha$ quantile of t distribution with $n-1$ degrees of freedom. "
      ],
      "metadata": {
        "id": "F_inAv9FLOs7"
      }
    },
    {
      "cell_type": "markdown",
      "source": [
        "A. Set $n=12$ and $\\sigma^2=1$ (in reality this value is unknown)\n",
        "\n",
        "B. Set $\\mu_1=1$\n",
        "\n",
        "C. Set $\\alpha=0.05$\n",
        "\n",
        "D. Draw a random sample $X_1,...,X_{12}\\sim N(\\mu_1,\\sigma^2)$\n",
        "\n",
        "E. Compute the test statistic and compare it to the critical value. Is the null rejected at significance level $\\alpha$?\n",
        "\n",
        "F. Repeat D-E 10,000 times. What is the proportion of rejections? \n",
        "\n"
      ],
      "metadata": {
        "id": "TrOAp073PHj7"
      }
    },
    {
      "cell_type": "code",
      "source": [
        "import numpy as np\n",
        "import matplotlib.pyplot as plt\n",
        "from math import sqrt\n",
        "from scipy.stats import t\n",
        "\n",
        "def rejections(n, sigma2, mu1, alpha, B):\n",
        "  X = np.random.normal(loc = mu1, scale = sqrt(sigma2), size =n*B).reshape((B,n)) #sample \n",
        "  S_n = np.std(X, ddof = 1, axis = 1)   \n",
        "  t_obs = sqrt(n)*np.mean(X,axis=1)/S_n\n",
        "  t_val = t.ppf(1-alpha, n-1)\n",
        "  do_reject = np.mean(t_obs>t_val)\n",
        "  return do_reject"
      ],
      "metadata": {
        "id": "0fpXhzKaKnco"
      },
      "execution_count": null,
      "outputs": []
    },
    {
      "cell_type": "code",
      "source": [
        "print(rejections(n=12, sigma2=1, mu1=1, alpha=0.05, B=10000)) #print the result for the first setup"
      ],
      "metadata": {
        "colab": {
          "base_uri": "https://localhost:8080/"
        },
        "id": "uZ3wvpoVmw3L",
        "outputId": "0bf80cd9-03bf-4891-89d3-0cc6c78a5101"
      },
      "execution_count": null,
      "outputs": [
        {
          "output_type": "stream",
          "name": "stdout",
          "text": [
            "0.9461\n"
          ]
        }
      ]
    },
    {
      "cell_type": "markdown",
      "source": [
        "Repeat A-F for different (positive) values of $\\mu_1$ and plot the power function (it is convenient to write a function that executes A-F for different values of $\\mu_1$). \n",
        "Explain your results. "
      ],
      "metadata": {
        "id": "iE0zIFHOSKia"
      }
    },
    {
      "cell_type": "code",
      "source": [
        "mu1_range = np.array([np.arange(0,4,0.05)])\n",
        "rejection_vec = np.vectorize(rejections)\n",
        "power_func = rejection_vec(n=12, sigma2=1, mu1=mu1_range, alpha=0.05, B=10000)\n",
        "plt.scatter(mu1_range, power_func)\n",
        "plt.xlabel('mu1')\n",
        "plt.ylabel('power')\n",
        "plt.show()"
      ],
      "metadata": {
        "id": "3ltyIc9DTI2i",
        "colab": {
          "base_uri": "https://localhost:8080/",
          "height": 279
        },
        "outputId": "eea8b289-abd5-4f6f-ea45-1f7b6584ee06"
      },
      "execution_count": null,
      "outputs": [
        {
          "output_type": "display_data",
          "data": {
            "text/plain": [
              "<Figure size 432x288 with 1 Axes>"
            ],
            "image/png": "[encoded data removed]"
          },
          "metadata": {
            "needs_background": "light"
          }
        }
      ]
    },
    {
      "cell_type": "markdown",
      "source": [
        "We see that the power function is increasing in $\\mu_1$. \n",
        "\n",
        "Recall that the power of a test is the probability to correctly reject the null. If $\\mu_1$ is large, it is more probable to reject correctly the null, as the mean of our sample will be farther than 0 (if the alternative is correct)."
      ],
      "metadata": {
        "id": "A-rEfeMQpF-F"
      }
    },
    {
      "cell_type": "markdown",
      "source": [
        "Plot on the same graph the power function for different values of $\\sigma^2$. Explain your results. "
      ],
      "metadata": {
        "id": "HWREkrT_Telf"
      }
    },
    {
      "cell_type": "code",
      "source": [
        "mu1_range = np.array([np.arange(0,4,0.05)])\n",
        "sigmas = np.array([0.5,1,1.5])\n",
        "cols = ['r','b','g']\n",
        "for s,cl in zip(sigmas, cols):\n",
        "  power_func = rejection_vec(n=12, sigma2=s, mu1=mu1_range, alpha=0.05, B=10000)\n",
        "  plt.scatter(x=mu1_range, y=power_func, c=cl)\n",
        "\n",
        "plt.xlabel('mu1')\n",
        "plt.ylabel('power')\n",
        "plt.show()"
      ],
      "metadata": {
        "id": "ZILwA3jqT9ua",
        "colab": {
          "base_uri": "https://localhost:8080/",
          "height": 279
        },
        "outputId": "64ba0d3b-36d7-4ff9-8450-1be78a24f698"
      },
      "execution_count": null,
      "outputs": [
        {
          "output_type": "display_data",
          "data": {
            "text/plain": [
              "<Figure size 432x288 with 1 Axes>"
            ],
            "image/png": "[encoded data removed]"
          },
          "metadata": {
            "needs_background": "light"
          }
        }
      ]
    },
    {
      "cell_type": "markdown",
      "source": [
        "The power is lower when we increase the variance. We can see the variance as noise. The more noise we have, the harder it is to determine with certainty that we should reject the null. "
      ],
      "metadata": {
        "id": "K27HiUvQunBS"
      }
    },
    {
      "cell_type": "markdown",
      "source": [
        "Now fix again $\\sigma^2=1$ and plot on the same graph the power function for different values of $\\alpha$. Explain your results."
      ],
      "metadata": {
        "id": "7cKMTZP6UUhL"
      }
    },
    {
      "cell_type": "code",
      "source": [
        "mu1_range = np.array([np.arange(0,4,0.05)])\n",
        "alphas = np.array([0.01,0.05,0.1])\n",
        "cols = ['r','b','g']\n",
        "for a,cl in zip(alphas, cols):\n",
        "  power_func = rejection_vec(n=12, sigma2=1, mu1=mu1_range, alpha=a, B=10000)\n",
        "  plt.scatter(x=mu1_range, y=power_func, c=cl)\n",
        "\n",
        "plt.xlabel('mu1')\n",
        "plt.ylabel('power')\n",
        "plt.show()"
      ],
      "metadata": {
        "id": "_l6WBATgUmc3",
        "colab": {
          "base_uri": "https://localhost:8080/",
          "height": 279
        },
        "outputId": "0a111397-0d37-4610-b164-9f3ae7963683"
      },
      "execution_count": null,
      "outputs": [
        {
          "output_type": "display_data",
          "data": {
            "text/plain": [
              "<Figure size 432x288 with 1 Axes>"
            ],
            "image/png": "[encoded data removed]"
          },
          "metadata": {
            "needs_background": "light"
          }
        }
      ]
    },
    {
      "cell_type": "markdown",
      "source": [
        "Here, the power increases as the significance level $\\alpha$ increases, that is, as $1-\\alpha$ decreases. \n",
        "\n",
        "This is because of the trade-off that we saw between the two types of errors (type1 up => type2 down => power up).\n"
      ],
      "metadata": {
        "id": "Fon9Xu4fvoCQ"
      }
    }
  ]
}