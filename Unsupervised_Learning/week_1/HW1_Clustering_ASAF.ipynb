{
  "nbformat": 4,
  "nbformat_minor": 0,
  "metadata": {
    "kernelspec": {
      "display_name": "Python 3",
      "language": "python",
      "name": "python3"
    },
    "language_info": {
      "codemirror_mode": {
        "name": "ipython",
        "version": 3
      },
      "file_extension": ".py",
      "mimetype": "text/x-python",
      "name": "python",
      "nbconvert_exporter": "python",
      "pygments_lexer": "ipython3",
      "version": "3.8.8"
    },
    "colab": {
      "provenance": []
    }
  },
  "cells": [
    {
      "cell_type": "markdown",
      "metadata": {
        "id": "af0F2kliMNjd"
      },
      "source": [
        "# Assignment: Unsupervised Machine Learning \\ Clustering"
      ]
    },
    {
      "cell_type": "markdown",
      "metadata": {
        "id": "twpn1HYtMNjj"
      },
      "source": [
        "## Part 1: Partitional Clustering"
      ]
    },
    {
      "cell_type": "markdown",
      "metadata": {
        "id": "2sHenrajMNjj"
      },
      "source": [
        "In this assignment you will experience with partitional & mixture model clustering. The analyses are made on real datasets under the circumstances of real life challenges in unsupervised machine learning."
      ]
    },
    {
      "cell_type": "code",
      "metadata": {
        "id": "7mAcAayKMNjk"
      },
      "source": [
        "import numpy as np\n",
        "from sklearn.cluster import KMeans\n",
        "from scipy.spatial.distance import squareform\n",
        "from scipy.cluster import hierarchy\n",
        "import pandas as pd\n",
        "import matplotlib.pyplot as plt\n",
        "from mpl_toolkits.mplot3d import Axes3D\n",
        "%matplotlib inline"
      ],
      "execution_count": 2,
      "outputs": []
    },
    {
      "cell_type": "markdown",
      "metadata": {
        "id": "9Zlv3ZV3MNjm"
      },
      "source": [
        "### Read blood test results as an EMR from an Excel file"
      ]
    },
    {
      "cell_type": "code",
      "metadata": {
        "scrolled": true,
        "id": "EqedLWoyMNjn",
        "outputId": "440b8b42-9b05-4ac3-cd35-9478444bfca0",
        "colab": {
          "base_uri": "https://localhost:8080/",
          "height": 398
        }
      },
      "source": [
        "# Open the file\n",
        "xlsx = pd.ExcelFile('EMR-Blood.xlsx')\n",
        "\n",
        "# Get the first sheet as an object\n",
        "sheet1 = xlsx.parse(0)\n",
        "\n",
        "# Set the Key column as the index\n",
        "sheet1.set_index(\"Key\", inplace=True)\n",
        "\n",
        "# Show first 10 rows\n",
        "sheet1[:10]"
      ],
      "execution_count": 3,
      "outputs": [
        {
          "output_type": "error",
          "ename": "FileNotFoundError",
          "evalue": "ignored",
          "traceback": [
            "\u001b[0;31m---------------------------------------------------------------------------\u001b[0m",
            "\u001b[0;31mFileNotFoundError\u001b[0m                         Traceback (most recent call last)",
            "\u001b[0;32m<ipython-input-3-eb8693f15f70>\u001b[0m in \u001b[0;36m<module>\u001b[0;34m\u001b[0m\n\u001b[1;32m      1\u001b[0m \u001b[0;31m# Open the file\u001b[0m\u001b[0;34m\u001b[0m\u001b[0;34m\u001b[0m\u001b[0;34m\u001b[0m\u001b[0m\n\u001b[0;32m----> 2\u001b[0;31m \u001b[0mxlsx\u001b[0m \u001b[0;34m=\u001b[0m \u001b[0mpd\u001b[0m\u001b[0;34m.\u001b[0m\u001b[0mExcelFile\u001b[0m\u001b[0;34m(\u001b[0m\u001b[0;34m'EMR-Blood.xlsx'\u001b[0m\u001b[0;34m)\u001b[0m\u001b[0;34m\u001b[0m\u001b[0;34m\u001b[0m\u001b[0m\n\u001b[0m\u001b[1;32m      3\u001b[0m \u001b[0;34m\u001b[0m\u001b[0m\n\u001b[1;32m      4\u001b[0m \u001b[0;31m# Get the first sheet as an object\u001b[0m\u001b[0;34m\u001b[0m\u001b[0;34m\u001b[0m\u001b[0;34m\u001b[0m\u001b[0m\n\u001b[1;32m      5\u001b[0m \u001b[0msheet1\u001b[0m \u001b[0;34m=\u001b[0m \u001b[0mxlsx\u001b[0m\u001b[0;34m.\u001b[0m\u001b[0mparse\u001b[0m\u001b[0;34m(\u001b[0m\u001b[0;36m0\u001b[0m\u001b[0;34m)\u001b[0m\u001b[0;34m\u001b[0m\u001b[0;34m\u001b[0m\u001b[0m\n",
            "\u001b[0;32m/usr/local/lib/python3.8/dist-packages/pandas/io/excel/_base.py\u001b[0m in \u001b[0;36m__init__\u001b[0;34m(self, path_or_buffer, engine, storage_options)\u001b[0m\n\u001b[1;32m   1189\u001b[0m                 \u001b[0mext\u001b[0m \u001b[0;34m=\u001b[0m \u001b[0;34m\"xls\"\u001b[0m\u001b[0;34m\u001b[0m\u001b[0;34m\u001b[0m\u001b[0m\n\u001b[1;32m   1190\u001b[0m             \u001b[0;32melse\u001b[0m\u001b[0;34m:\u001b[0m\u001b[0;34m\u001b[0m\u001b[0;34m\u001b[0m\u001b[0m\n\u001b[0;32m-> 1191\u001b[0;31m                 ext = inspect_excel_format(\n\u001b[0m\u001b[1;32m   1192\u001b[0m                     \u001b[0mcontent_or_path\u001b[0m\u001b[0;34m=\u001b[0m\u001b[0mpath_or_buffer\u001b[0m\u001b[0;34m,\u001b[0m \u001b[0mstorage_options\u001b[0m\u001b[0;34m=\u001b[0m\u001b[0mstorage_options\u001b[0m\u001b[0;34m\u001b[0m\u001b[0;34m\u001b[0m\u001b[0m\n\u001b[1;32m   1193\u001b[0m                 )\n",
            "\u001b[0;32m/usr/local/lib/python3.8/dist-packages/pandas/io/excel/_base.py\u001b[0m in \u001b[0;36minspect_excel_format\u001b[0;34m(content_or_path, storage_options)\u001b[0m\n\u001b[1;32m   1068\u001b[0m         \u001b[0mcontent_or_path\u001b[0m \u001b[0;34m=\u001b[0m \u001b[0mBytesIO\u001b[0m\u001b[0;34m(\u001b[0m\u001b[0mcontent_or_path\u001b[0m\u001b[0;34m)\u001b[0m\u001b[0;34m\u001b[0m\u001b[0;34m\u001b[0m\u001b[0m\n\u001b[1;32m   1069\u001b[0m \u001b[0;34m\u001b[0m\u001b[0m\n\u001b[0;32m-> 1070\u001b[0;31m     with get_handle(\n\u001b[0m\u001b[1;32m   1071\u001b[0m         \u001b[0mcontent_or_path\u001b[0m\u001b[0;34m,\u001b[0m \u001b[0;34m\"rb\"\u001b[0m\u001b[0;34m,\u001b[0m \u001b[0mstorage_options\u001b[0m\u001b[0;34m=\u001b[0m\u001b[0mstorage_options\u001b[0m\u001b[0;34m,\u001b[0m \u001b[0mis_text\u001b[0m\u001b[0;34m=\u001b[0m\u001b[0;32mFalse\u001b[0m\u001b[0;34m\u001b[0m\u001b[0;34m\u001b[0m\u001b[0m\n\u001b[1;32m   1072\u001b[0m     ) as handle:\n",
            "\u001b[0;32m/usr/local/lib/python3.8/dist-packages/pandas/io/common.py\u001b[0m in \u001b[0;36mget_handle\u001b[0;34m(path_or_buf, mode, encoding, compression, memory_map, is_text, errors, storage_options)\u001b[0m\n\u001b[1;32m    709\u001b[0m         \u001b[0;32melse\u001b[0m\u001b[0;34m:\u001b[0m\u001b[0;34m\u001b[0m\u001b[0;34m\u001b[0m\u001b[0m\n\u001b[1;32m    710\u001b[0m             \u001b[0;31m# Binary mode\u001b[0m\u001b[0;34m\u001b[0m\u001b[0;34m\u001b[0m\u001b[0;34m\u001b[0m\u001b[0m\n\u001b[0;32m--> 711\u001b[0;31m             \u001b[0mhandle\u001b[0m \u001b[0;34m=\u001b[0m \u001b[0mopen\u001b[0m\u001b[0;34m(\u001b[0m\u001b[0mhandle\u001b[0m\u001b[0;34m,\u001b[0m \u001b[0mioargs\u001b[0m\u001b[0;34m.\u001b[0m\u001b[0mmode\u001b[0m\u001b[0;34m)\u001b[0m\u001b[0;34m\u001b[0m\u001b[0;34m\u001b[0m\u001b[0m\n\u001b[0m\u001b[1;32m    712\u001b[0m         \u001b[0mhandles\u001b[0m\u001b[0;34m.\u001b[0m\u001b[0mappend\u001b[0m\u001b[0;34m(\u001b[0m\u001b[0mhandle\u001b[0m\u001b[0;34m)\u001b[0m\u001b[0;34m\u001b[0m\u001b[0;34m\u001b[0m\u001b[0m\n\u001b[1;32m    713\u001b[0m \u001b[0;34m\u001b[0m\u001b[0m\n",
            "\u001b[0;31mFileNotFoundError\u001b[0m: [Errno 2] No such file or directory: 'EMR-Blood.xlsx'"
          ]
        }
      ]
    },
    {
      "cell_type": "markdown",
      "metadata": {
        "id": "iLAVsFY2MNjo"
      },
      "source": [
        "### Blood Test Abbreviations\n",
        "- Na == Sodium\n",
        "- K == Potassium\n",
        "- ALT == Alanine transaminase\n",
        "- AST == Aspartate transaminase\n",
        "- WBC == White blood cells\n",
        "- RBC == Red blood cells\n",
        "- Hgb == Hemoglobin\n",
        "- Hct == Hematocrit"
      ]
    },
    {
      "cell_type": "markdown",
      "metadata": {
        "id": "pJ4i4VViMNjp"
      },
      "source": [
        "### Use K-Means to create clusters according to variables of uniform distribution"
      ]
    },
    {
      "cell_type": "code",
      "metadata": {
        "id": "PIPo53csMNjq"
      },
      "source": [
        "# Retrieve the K, WBC and Hgb column values from the dataset to cluster\n",
        "variables1 = [\"K\",\"WBC\",\"Hgb\"]\n",
        "EMR3d1 = sheet1.loc[:, variables1].values\n",
        "\n",
        "# Run the K-Means algorithm, assuming the correct number of clusters is 5\n",
        "y_pred_KMeans1 = # YOUR CODE HERE"
      ],
      "execution_count": null,
      "outputs": []
    },
    {
      "cell_type": "markdown",
      "metadata": {
        "id": "l4CdRu9UMNjr"
      },
      "source": [
        "### Make a 3D chart"
      ]
    },
    {
      "cell_type": "code",
      "metadata": {
        "scrolled": true,
        "id": "ZpmEci4yMNjr"
      },
      "source": [
        "def make_chart (chart_data, y_pred, labels):\n",
        "    fig = plt.figure()\n",
        "    ax = Axes3D(fig)\n",
        "    ax.set_xlabel(labels[0])\n",
        "    ax.set_ylabel(labels[1])\n",
        "    ax.set_zlabel(labels[2])\n",
        "    ax.scatter(chart_data[:,0], chart_data[:,1], chart_data[:,2], c=y_pred)\n",
        "\n",
        "make_chart(EMR3d1, y_pred_KMeans1, variables1)"
      ],
      "execution_count": null,
      "outputs": []
    },
    {
      "cell_type": "markdown",
      "metadata": {
        "id": "ZQ-yAQ7jMNjs"
      },
      "source": [
        "## Task 1 (_max score - 50 points_)\n",
        "Implement  Lloyd's Algorithm for solving the K-Means problem, as shown in class. \n",
        "By examining the WCSS, choose a proper threshold to determine algorithm convergence.\n",
        "\n",
        "Check your algorithm on 'EMR-Blood.xlsx' dataset. Compare your results to the _sklearn_ version - what can affect any differences you might've got?"
      ]
    },
    {
      "cell_type": "code",
      "metadata": {
        "id": "YIm9Hx6OMNjs"
      },
      "source": [
        "# Add your code for task1 after this line, and keep it in this cell.\n",
        "\n",
        "# Implement K-Means (X being the data)\n",
        "class k_means(X, k):\n",
        "    def __init__:\n",
        "        pass\n",
        "    \n",
        "    def fit(self, X):\n",
        "        pass\n",
        "    \n",
        "    def predict(self, X):\n",
        "        pass"
      ],
      "execution_count": null,
      "outputs": []
    },
    {
      "cell_type": "markdown",
      "metadata": {
        "id": "AdVvOuyyMNjt"
      },
      "source": [
        "## Task 2 (_max score - 30 points_)\n",
        "\n",
        "Humans can clearly spot 3 clusters, however, for machines it's much harder to \"learn\" that. In the above implementation, K-Means was given the value of 5 as K.\n",
        "Develop a **generic** mechanism for finding the most reasonable number of clusters by:\n",
        "1. Iterating K over a reasonable range, which should be derived from the number of points\n",
        "2. Choose a proper K based on the heuristics learned in class\n",
        "3. Showing the final clusters in a 3D chart (for your implementation of K-Means algorithm)"
      ]
    },
    {
      "cell_type": "code",
      "metadata": {
        "id": "boGlKlGaMNju"
      },
      "source": [
        "# Add your code for task2 after this line, and keep it in this cell.\n",
        "\n",
        "\n"
      ],
      "execution_count": null,
      "outputs": []
    },
    {
      "cell_type": "markdown",
      "metadata": {
        "id": "xMqYlDh8MNju"
      },
      "source": [
        "### Silhouette analysis\n",
        "\n",
        "Use graphic visualization of the Silhouette score to support your above answer:"
      ]
    },
    {
      "cell_type": "code",
      "metadata": {
        "id": "qzaBLRmzMNjv"
      },
      "source": [
        "# Add your code for the Sillhouette graphic analysis\n",
        "# You can use scikit-learn Sillhouette page as a reference\n",
        "\n",
        "from sklearn.metrics import silhouette_samples, silhouette_score\n",
        "\n",
        "def plot_Silhouette(X, y, num_clusters):\n",
        "    # YOUR CODE HERE\n",
        "    pass\n"
      ],
      "execution_count": null,
      "outputs": []
    },
    {
      "cell_type": "markdown",
      "metadata": {
        "id": "CBDSE5OkMNjv"
      },
      "source": [
        "#### From this section on - please use the sklearn's K-means"
      ]
    },
    {
      "cell_type": "markdown",
      "metadata": {
        "id": "s4jv4HZnMNjw"
      },
      "source": [
        "## Part 2: Mixture Models Clustering "
      ]
    },
    {
      "cell_type": "markdown",
      "metadata": {
        "id": "Hf7WQewHMNjw"
      },
      "source": [
        "### Use K-Means to create clusters according to variables of both uniform and Gaussian distributions"
      ]
    },
    {
      "cell_type": "code",
      "metadata": {
        "id": "sFQw0GkOMNjw"
      },
      "source": [
        "# Retrieve the ALT, AST and RBC column values from the dataset to cluster\n",
        "variables2 = [\"ALT\",\"AST\",\"RBC\"]\n",
        "EMR3d2 = sheet1.loc[:, variables2].values\n",
        "\n",
        "# Run the K-Means algorithm\n",
        "# NOTICE, this time, we know that the correct number of clusters is 2\n",
        "y_pred_KMeans2 = # YOUR CODE HERE\n",
        "\n",
        "# Make a 3D chart\n",
        "make_chart(EMR3d2, y_pred_KMeans2, variables2)"
      ],
      "execution_count": null,
      "outputs": []
    },
    {
      "cell_type": "markdown",
      "metadata": {
        "id": "hWgNXyitMNjx"
      },
      "source": [
        "## Task 3 (_max score - 20 points_)\n",
        "Scientists have found that in this population of patients, RBC distribution is uniform, ALT distribution is a Gaussian and AST distribution is a mixture of two Gaussians. Clearly, even by giving K-Means the correct K, the algorithm got to the wrong conclusion. This separation is \"technically\" correct, but lacks some underlying understanding of the natural phenomena.\n",
        "\n",
        "What is the \"problem\" with this separation?"
      ]
    },
    {
      "cell_type": "code",
      "metadata": {
        "id": "wwaGIBkyMNjx"
      },
      "source": [
        "# Your answer here\n"
      ],
      "execution_count": null,
      "outputs": []
    },
    {
      "cell_type": "markdown",
      "metadata": {
        "id": "DE6zWugnMNjx"
      },
      "source": [
        "In order to exploit the Gaussian characteristic of the AST\n",
        "1. Find the 2 componenets that comprise the AST feature by applying the GMM algorith with the proper number of components.\n",
        "2. Assume that the clusters above are correct for the entire dataset (including the other features).\n",
        "3. Show the final clusters (of EMR3d2) in a 3D chart"
      ]
    },
    {
      "cell_type": "code",
      "metadata": {
        "id": "68-FpEHSMNjy"
      },
      "source": [
        "# Add your code for task3 after this line, and keep it in this cell.\n",
        "\n",
        "\n"
      ],
      "execution_count": null,
      "outputs": []
    },
    {
      "cell_type": "markdown",
      "metadata": {
        "id": "lAupVEHfMNjy"
      },
      "source": [
        "What is the difference between the two clustering results above?\n",
        "\n",
        "Which one, given the domain knowledge provided to you, makes more sense?"
      ]
    },
    {
      "cell_type": "markdown",
      "metadata": {
        "id": "F_H3jnhqMNjy"
      },
      "source": [
        "\n",
        "\n",
        "\n",
        "# Good Luck!\n",
        "\n"
      ]
    }
  ]
}