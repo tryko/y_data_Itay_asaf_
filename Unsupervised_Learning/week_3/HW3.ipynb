{
  "cells": [
    {
      "cell_type": "markdown",
      "metadata": {
        "id": "RDmHTF5232la"
      },
      "source": [
        "# Dimensionality reduction"
      ]
    },
    {
      "cell_type": "markdown",
      "metadata": {
        "id": "kgpLAoVH32le"
      },
      "source": [
        "In this task you will practice dimensionality reduction.\n",
        "Use code cells to answer the Tasks and Markdown cells for the Questions (Q's)."
      ]
    },
    {
      "cell_type": "code",
      "execution_count": 38,
      "metadata": {
        "_cell_guid": "b1076dfc-b9ad-4769-8c92-a6c4dae69d19",
        "_uuid": "8f2839f25d086af736a60e9eeb907d3b93b6e0e5",
        "id": "7DLJ446A32lf",
        "trusted": true
      },
      "outputs": [],
      "source": [
        "import sklearn\n",
        "from sklearn.tree import DecisionTreeClassifier\n",
        "from sklearn.model_selection import train_test_split\n",
        "from sklearn.datasets import load_breast_cancer\n",
        "import pandas as pd\n",
        "from sklearn.metrics import accuracy_score\n",
        "from sklearn.decomposition import PCA\n",
        "from sklearn.datasets import load_wine\n",
        "from sklearn.linear_model import LogisticRegression\n",
        "from sklearn.svm import SVC\n",
        "from sklearn.preprocessing import StandardScaler\n",
        "from sklearn.metrics import accuracy_score\n",
        "from sklearn.manifold import TSNE\n",
        "import matplotlib.pyplot as plt\n"
      ]
    },
    {
      "cell_type": "markdown",
      "metadata": {
        "id": "QuqIaglD32lg"
      },
      "source": [
        "# Load data"
      ]
    },
    {
      "cell_type": "code",
      "execution_count": 5,
      "metadata": {
        "id": "Gi1DNp5-32lh",
        "trusted": true
      },
      "outputs": [],
      "source": [
        "(X, y) = load_wine(return_X_y=True)\n",
        "\n",
        "# split X into training and testing sets\n",
        "X_train, X_test, y_train, y_test = train_test_split(X, y, test_size=0.4, random_state=0,stratify=y)"
      ]
    },
    {
      "cell_type": "markdown",
      "metadata": {
        "id": "cB7dmNQP32lh"
      },
      "source": [
        "Lets take a quick look at the data:"
      ]
    },
    {
      "cell_type": "code",
      "execution_count": 35,
      "metadata": {
        "id": "ypYMfIuC32lh",
        "trusted": true
      },
      "outputs": [
        {
          "data": {
            "text/plain": [
              "(106, 13)"
            ]
          },
          "execution_count": 35,
          "metadata": {},
          "output_type": "execute_result"
        }
      ],
      "source": [
        "pd.DataFrame(X_train).describe()"
      ]
    },
    {
      "cell_type": "markdown",
      "metadata": {
        "id": "snVONeVb32li"
      },
      "source": [
        "# PCA + SVM"
      ]
    },
    {
      "attachments": {},
      "cell_type": "markdown",
      "metadata": {
        "id": "_dXgU9Dp32li"
      },
      "source": [
        "Task 1: Use X_train, y_train to train a SVM (SKlean's SVC) with the deafult parameters. You can read more about the algorithm in SKlearn's documentation.\n",
        "Make sure you normailize the data by using StandardScaler\n",
        "Evaulate the algorithm using accuracy score and X_test, y_test."
      ]
    },
    {
      "cell_type": "markdown",
      "metadata": {
        "id": "ZCNEfuqy32lj"
      },
      "source": [
        "Task 2: Now do the same, but use PCA.\n",
        "\n",
        "In this task, we want to keep all of the variance! No data is going to be discarded.\n",
        "You are asked to use the maximal number of componenets for PCA.\n",
        "\n",
        "Q1: Your co-worker says that the results should be at least as good as the results we had without PCA. Explain why might he say that.\n",
        "\n",
        "Print the accuracy of SVM + PCA."
      ]
    },
    {
      "cell_type": "markdown",
      "metadata": {
        "id": "Wa-zokqL32lj"
      },
      "source": [
        "Q2: Did the results improve\\stayed the same\\got worse? "
      ]
    },
    {
      "cell_type": "code",
      "execution_count": 34,
      "metadata": {},
      "outputs": [
        {
          "name": "stdout",
          "output_type": "stream",
          "text": [
            " Task 1# - Accuracy of SVC without PCA: 0.9861111111111112\n",
            " Task #2 - Accuracy of SVC using PCA:   0.9861111111111112\n",
            " Task #2 Question #1 - The coworker is wrong, the accuracy should be at most as high as the score without PCA since we lose information in each\n",
            " dimension reducded by PCA.\n",
            " Task #2 Question #2 - we did not reduce any dimensions and hence didn't reduce the accuracy score.\n"
          ]
        }
      ],
      "source": [
        "####### Task 1 ########\n",
        "# Normalize the data\n",
        "scaler = StandardScaler()\n",
        "X_train_scaled = scaler.fit_transform(X_train)\n",
        "X_test_scaled = scaler.transform(X_test)\n",
        "\n",
        "# Train the SVM model\n",
        "model = SVC()\n",
        "model.fit(X_train_scaled, y_train)\n",
        "\n",
        "# Make predictions on the test data\n",
        "y_pred = model.predict(X_test_scaled)\n",
        "\n",
        "# Evaluate the model using accuracy score\n",
        "accuracy = accuracy_score(y_test, y_pred)\n",
        "print(\" Task 1# - Accuracy of SVC without PCA:\", accuracy)\n",
        "##########################\n",
        "\n",
        "\n",
        "\n",
        "\n",
        "########## TASK 2 ############\n",
        "\n",
        "# Perform PCA with maximal number of components\n",
        "pca = PCA(n_components=None)\n",
        "X_train_pca = pca.fit_transform(X_train_scaled)\n",
        "X_test_pca = pca.transform(X_test_scaled)\n",
        "\n",
        "# Train the SVM model\n",
        "model = SVC()\n",
        "model.fit(X_train_pca, y_train)\n",
        "\n",
        "# Make predictions on the test data\n",
        "y_pred = model.predict(X_test_pca)\n",
        "\n",
        "# Evaluate the model using accuracy score\n",
        "accuracy = accuracy_score(y_test, y_pred)\n",
        "print(\" Task #2 - Accuracy of SVC using PCA:  \", accuracy)\n",
        "print(\" Task #2 Question #1 - The coworker is wrong, the accuracy should be at most as high as the score without PCA since we lose information in each\\n dimension reducded by PCA.\")\n",
        "print(\" Task #2 Question #2 - we did not reduce any dimension and hence didn't reduce the accuracy score.\")\n",
        "##################################\n",
        "\n"
      ]
    },
    {
      "cell_type": "markdown",
      "metadata": {
        "id": "lPdbsJQh32lj"
      },
      "source": [
        "# PCA + logistice regression"
      ]
    },
    {
      "cell_type": "markdown",
      "metadata": {
        "id": "p7ZOUCLC32lk"
      },
      "source": [
        "Task 3: repeat task 1 with logistic regression.\n",
        "\n",
        "Task 4: repeast task 2 with logistic regression."
      ]
    },
    {
      "cell_type": "markdown",
      "metadata": {
        "id": "PP1L5aqw32lk"
      },
      "source": [
        "Q3: Did the results improved\\stayed the same\\got worse?"
      ]
    },
    {
      "cell_type": "markdown",
      "metadata": {
        "id": "En4ptRLe32ll"
      },
      "source": [
        "Q4: How can you explain the difference between answers to Q2 and Q3. Hint: think about the nature of Logistic regression and the main difference of SVM from it. Hint: SVM assumes the data can be seperated by an hyperplan."
      ]
    },
    {
      "cell_type": "code",
      "execution_count": 51,
      "metadata": {},
      "outputs": [
        {
          "name": "stdout",
          "output_type": "stream",
          "text": [
            "Accuracy: 0.9722222222222222\n"
          ]
        }
      ],
      "source": [
        "from sklearn.naive_bayes import GaussianNB\n",
        "\n",
        "\n",
        "# Normalize the data\n",
        "scaler = StandardScaler()\n",
        "X_train_scaled = scaler.fit_transform(X_train)\n",
        "X_test_scaled = scaler.transform(X_test)\n",
        "\n",
        "# Train the GaussianNB model\n",
        "model = GaussianNB()\n",
        "model.fit(X_train_scaled, y_train)\n",
        "\n",
        "# Make predictions on the test data\n",
        "y_pred = model.predict(X_test_scaled)\n",
        "\n",
        "# Evaluate the model using accuracy score\n",
        "accuracy = accuracy_score(y_test, y_pred)\n",
        "print(\"Accuracy no PCA:\", accuracy)"
      ]
    },
    {
      "cell_type": "markdown",
      "metadata": {
        "id": "c_PfC__h32ll"
      },
      "source": [
        "# Visualizing"
      ]
    },
    {
      "cell_type": "markdown",
      "metadata": {
        "id": "lMpkIEQ632ll"
      },
      "source": [
        "Task 5: Use locally linear embedding in sklearn to visualize the data. Plot the results.\n",
        "Optimze the n_neighbors by running at least 5 times and use the best looking result you can find."
      ]
    },
    {
      "cell_type": "markdown",
      "metadata": {
        "id": "WHC6gNno32ll"
      },
      "source": [
        "Task 6: Use t-SNE to visualize the data. Plot the results."
      ]
    },
    {
      "cell_type": "markdown",
      "metadata": {
        "id": "7PTfZokr32ll"
      },
      "source": [
        "Task 7: Use UMAP to visualize the data. Plot the results."
      ]
    },
    {
      "cell_type": "markdown",
      "metadata": {
        "id": "3Z_GjviC32lm"
      },
      "source": [
        "Q5: If we run one of this visualziaing algorithms various times with the default parameters, are we guranteed to see the same results? Why?"
      ]
    },
    {
      "cell_type": "code",
      "execution_count": 49,
      "metadata": {},
      "outputs": [
        {
          "name": "stderr",
          "output_type": "stream",
          "text": [
            "c:\\Users\\yosefos\\anaconda3\\lib\\site-packages\\sklearn\\manifold\\_t_sne.py:780: FutureWarning: The default initialization in TSNE will change from 'random' to 'pca' in 1.2.\n",
            "  warnings.warn(\n",
            "c:\\Users\\yosefos\\anaconda3\\lib\\site-packages\\sklearn\\manifold\\_t_sne.py:790: FutureWarning: The default learning rate in TSNE will change from 200.0 to 'auto' in 1.2.\n",
            "  warnings.warn(\n"
          ]
        },
        {
          "data": {
            "text/plain": [
              "<matplotlib.collections.PathCollection at 0x191e86a9fa0>"
            ]
          },
          "execution_count": 49,
          "metadata": {},
          "output_type": "execute_result"
        },
        {
          "data": {
            "image/png": "[encoded data removed]",
            "text/plain": [
              "<Figure size 640x480 with 1 Axes>"
            ]
          },
          "metadata": {},
          "output_type": "display_data"
        }
      ],
      "source": [
        "tsne = TSNE(n_components=2)\n",
        "X_reduced = tsne.fit_transform(X_train)\n",
        "\n",
        "# Plot the data in the reduced space\n",
        "plt.scatter(X_reduced[:, 0], X_reduced[:, 1],c=y_train)\n"
      ]
    },
    {
      "cell_type": "code",
      "execution_count": 50,
      "metadata": {},
      "outputs": [
        {
          "ename": "ModuleNotFoundError",
          "evalue": "No module named 'umap'",
          "output_type": "error",
          "traceback": [
            "\u001b[1;31m---------------------------------------------------------------------------\u001b[0m",
            "\u001b[1;31mModuleNotFoundError\u001b[0m                       Traceback (most recent call last)",
            "\u001b[1;32m~\\AppData\\Local\\Temp\\ipykernel_11720\\322063549.py\u001b[0m in \u001b[0;36m<module>\u001b[1;34m\u001b[0m\n\u001b[1;32m----> 1\u001b[1;33m \u001b[1;32mfrom\u001b[0m \u001b[0mumap\u001b[0m \u001b[1;32mimport\u001b[0m \u001b[0mUMAP\u001b[0m\u001b[1;33m\u001b[0m\u001b[1;33m\u001b[0m\u001b[0m\n\u001b[0m\u001b[0;32m      2\u001b[0m \u001b[1;32mimport\u001b[0m \u001b[0mmatplotlib\u001b[0m\u001b[1;33m.\u001b[0m\u001b[0mpyplot\u001b[0m \u001b[1;32mas\u001b[0m \u001b[0mplt\u001b[0m\u001b[1;33m\u001b[0m\u001b[1;33m\u001b[0m\u001b[0m\n\u001b[0;32m      3\u001b[0m \u001b[1;33m\u001b[0m\u001b[0m\n\u001b[0;32m      4\u001b[0m \u001b[1;31m# Use UMAP to reduce the dimensions of the data to 2\u001b[0m\u001b[1;33m\u001b[0m\u001b[1;33m\u001b[0m\u001b[0m\n\u001b[0;32m      5\u001b[0m \u001b[0mumap\u001b[0m \u001b[1;33m=\u001b[0m \u001b[0mUMAP\u001b[0m\u001b[1;33m(\u001b[0m\u001b[0mn_components\u001b[0m\u001b[1;33m=\u001b[0m\u001b[1;36m2\u001b[0m\u001b[1;33m)\u001b[0m\u001b[1;33m\u001b[0m\u001b[1;33m\u001b[0m\u001b[0m\n",
            "\u001b[1;31mModuleNotFoundError\u001b[0m: No module named 'umap'"
          ]
        }
      ],
      "source": [
        "from umap import UMAP\n",
        "import matplotlib.pyplot as plt\n",
        "\n",
        "# Use UMAP to reduce the dimensions of the data to 2\n",
        "umap = UMAP(n_components=2)\n",
        "X_reduced = umap.fit_transform(X_train)\n",
        "\n",
        "# Plot the data in the reduced space\n",
        "plt.scatter(X_reduced[:, 0], X_reduced[:, 1], c=y_train)\n",
        "plt.colorbar()\n",
        "plt.show()"
      ]
    }
  ],
  "metadata": {
    "colab": {
      "provenance": []
    },
    "kernel_info": {
      "name": "python3"
    },
    "kernelspec": {
      "display_name": "base",
      "language": "python",
      "name": "python3"
    },
    "language_info": {
      "codemirror_mode": {
        "name": "ipython",
        "version": 3
      },
      "file_extension": ".py",
      "mimetype": "text/x-python",
      "name": "python",
      "nbconvert_exporter": "python",
      "pygments_lexer": "ipython3",
      "version": "3.9.12 (main, Apr  4 2022, 05:22:27) [MSC v.1916 64 bit (AMD64)]"
    },
    "nteract": {
      "version": "0.15.0"
    },
    "vscode": {
      "interpreter": {
        "hash": "5e2ac3774ab32f260f9760d004fae9073803f03c7ce8e55cd71c8539f29de38d"
      }
    }
  },
  "nbformat": 4,
  "nbformat_minor": 0
}
