{
  "cells": [
    {
      "cell_type": "markdown",
      "metadata": {
        "id": "RDmHTF5232la"
      },
      "source": [
        "# Dimensionality reduction"
      ]
    },
    {
      "cell_type": "markdown",
      "metadata": {
        "id": "kgpLAoVH32le"
      },
      "source": [
        "In this task you will practice dimensionality reduction.\n",
        "Use code cells to answer the Tasks and Markdown cells for the Questions (Q's)."
      ]
    },
    {
      "cell_type": "code",
      "execution_count": 1,
      "metadata": {
        "_cell_guid": "b1076dfc-b9ad-4769-8c92-a6c4dae69d19",
        "_uuid": "8f2839f25d086af736a60e9eeb907d3b93b6e0e5",
        "id": "7DLJ446A32lf",
        "trusted": true
      },
      "outputs": [],
      "source": [
        "import sklearn\n",
        "from sklearn.tree import DecisionTreeClassifier\n",
        "from sklearn.model_selection import train_test_split\n",
        "from sklearn.datasets import load_breast_cancer\n",
        "import pandas as pd\n",
        "from sklearn.metrics import accuracy_score\n",
        "from sklearn.decomposition import PCA\n",
        "from sklearn.datasets import load_wine\n",
        "from sklearn.linear_model import LogisticRegression\n"
      ]
    },
    {
      "cell_type": "markdown",
      "metadata": {
        "id": "QuqIaglD32lg"
      },
      "source": [
        "# Load data"
      ]
    },
    {
      "cell_type": "code",
      "execution_count": 2,
      "metadata": {
        "id": "Gi1DNp5-32lh",
        "trusted": true
      },
      "outputs": [],
      "source": [
        "(X, y) = load_wine(return_X_y=True)\n",
        "\n",
        "# split X into training and testing sets\n",
        "X_train, X_test, y_train, y_test = train_test_split(X, y, test_size=0.4, random_state=0,stratify=y)"
      ]
    },
    {
      "cell_type": "markdown",
      "metadata": {
        "id": "cB7dmNQP32lh"
      },
      "source": [
        "Lets take a quick look at the data:"
      ]
    },
    {
      "cell_type": "code",
      "execution_count": null,
      "metadata": {
        "id": "ypYMfIuC32lh",
        "trusted": true
      },
      "outputs": [],
      "source": [
        "pd.DataFrame(X_train).describe()"
      ]
    },
    {
      "cell_type": "markdown",
      "metadata": {
        "id": "snVONeVb32li"
      },
      "source": [
        "# PCA + SVM"
      ]
    },
    {
      "cell_type": "markdown",
      "metadata": {
        "id": "_dXgU9Dp32li"
      },
      "source": [
        "Task 1: Use X_train, y_train to train a SVM (SKlean's SVC) with the deafult parameters. You can read more about the algorithm in SKlearn's documentation.\n",
        "Make sure you normailize the data by using StandardScaler\n",
        "Evaulate the algorithm using accuracy score and X_test, y_test."
      ]
    },
    {
      "cell_type": "code",
      "execution_count": 19,
      "metadata": {},
      "outputs": [
        {
          "name": "stdout",
          "output_type": "stream",
          "text": [
            "0.9861111111111112\n"
          ]
        }
      ],
      "source": [
        "from sklearn.svm  import SVC\n",
        "from sklearn.preprocessing import StandardScaler\n",
        "from sklearn.metrics import accuracy_score\n",
        "scaler = StandardScaler()\n",
        "scaler.fit(X_train)\n",
        "X_train_scaled = scaler.transform(X_train)\n",
        "X_test_scaled = scaler.transform(X_test)\n",
        "\n",
        "\n",
        "svc_m = SVC()\n",
        "svc_m.fit(X_train_scaled, y_train)\n",
        "\n",
        "y_pred = svc_m.predict(X_test_scaled)\n",
        "\n",
        "acc_score = accuracy_score(y_test, y_pred)\n",
        "print(acc_score)"
      ]
    },
    {
      "cell_type": "code",
      "execution_count": 20,
      "metadata": {},
      "outputs": [
        {
          "name": "stdout",
          "output_type": "stream",
          "text": [
            "0.9861111111111112\n"
          ]
        }
      ],
      "source": [
        "pca = PCA(n_components=X_train.shape[1])\n",
        "X_train_pca = pca.fit_transform(X_train_scaled)\n",
        "X_test_pca = pca.transform(X_test_scaled)\n",
        "\n",
        "svc_m = SVC()\n",
        "svc_m.fit(X_train_pca, y_train)\n",
        "\n",
        "y_pred = svc_m.predict(X_test_pca)\n",
        "\n",
        "acc_score = accuracy_score(y_test, y_pred)\n",
        "print(acc_score)"
      ]
    },
    {
      "cell_type": "code",
      "execution_count": 34,
      "metadata": {},
      "outputs": [
        {
          "data": {
            "text/plain": [
              "array([[ 0.59738936,  0.74672483],\n",
              "       [ 0.85435336, -0.7425184 ],\n",
              "       [ 0.8910625 , -0.71576553],\n",
              "       [-0.55283046, -0.92978851],\n",
              "       [-0.32033922,  0.97858305],\n",
              "       [-0.38152112, -0.5195778 ],\n",
              "       [-1.21359503,  1.75441635],\n",
              "       [ 0.58515297, -0.47498968],\n",
              "       [-1.67857751, -0.40364868],\n",
              "       [-1.92330513,  1.2550294 ],\n",
              "       [ 2.20035527, -0.61767166],\n",
              "       [-0.62624874,  0.08682064],\n",
              "       [-1.51950456, -0.18070808],\n",
              "       [-1.73975942, -0.87628276],\n",
              "       [ 1.03789907, -0.39473106],\n",
              "       [ 0.45055278,  1.40662901],\n",
              "       [-0.41823027, -0.71576553],\n",
              "       [-1.70305027, -0.24313145],\n",
              "       [ 0.02227945, -0.60875404],\n",
              "       [ 1.25815393, -0.16287283],\n",
              "       [ 0.54844383, -0.59091879],\n",
              "       [-1.00557656, -1.01896475],\n",
              "       [ 0.67080764,  0.220585  ],\n",
              "       [-0.32033922,  0.05115015],\n",
              "       [ 1.55182707, -0.36797819],\n",
              "       [ 0.02227945,  1.36204089],\n",
              "       [-1.26254056, -1.2597406 ],\n",
              "       [ 0.4383164 , -0.50174255],\n",
              "       [ 1.33157222, -0.76035365],\n",
              "       [ 0.64633488, -0.55524829],\n",
              "       [ 0.15687964,  0.02439727],\n",
              "       [-0.8465036 ,  0.10465589],\n",
              "       [-0.95663103, -0.53741305],\n",
              "       [ 0.56068021,  1.12126504],\n",
              "       [ 1.64971812,  1.12126504],\n",
              "       [ 0.15687964,  1.10342979],\n",
              "       [-1.80094132, -0.25204907],\n",
              "       [-0.95663103,  2.12895657],\n",
              "       [ 0.82988059,  2.95829561],\n",
              "       [-1.17688589, -0.15395521],\n",
              "       [ 0.32818897, -0.54633067],\n",
              "       [-1.26254056, -0.73360078],\n",
              "       [-0.47941217, -0.86736514],\n",
              "       [-0.61401236,  2.83344887],\n",
              "       [-0.90768551,  0.44352561],\n",
              "       [ 0.82988059, -0.42148393],\n",
              "       [-0.80979446, -0.62658929],\n",
              "       [ 1.3438086 ,  1.57606387],\n",
              "       [-0.99334017, -0.92978851],\n",
              "       [ 0.16911602,  2.5480849 ],\n",
              "       [ 1.11131736, -0.53741305],\n",
              "       [ 0.09569773, -1.17948198],\n",
              "       [-1.45832265, -1.28649347],\n",
              "       [ 1.45393603, -0.56416592],\n",
              "       [ 0.71975317,  2.33406192],\n",
              "       [ 0.79317145, -0.4482368 ],\n",
              "       [ 0.73198955, -0.46607205],\n",
              "       [ 0.25477069,  1.46905238],\n",
              "       [-0.22244817,  0.83590107],\n",
              "       [-0.38152112, -0.46607205],\n",
              "       [ 1.42946326, -0.51066017],\n",
              "       [-0.29586646,  0.30084362],\n",
              "       [-0.85873998, -1.19731723],\n",
              "       [-1.16464951, -0.84061227],\n",
              "       [-0.08784798,  0.9964183 ],\n",
              "       [ 0.25477069,  0.22950263],\n",
              "       [-0.23468455,  0.55945472],\n",
              "       [ 0.45055278,  2.02194508],\n",
              "       [-0.74861255,  1.87034547],\n",
              "       [-1.16464951, -1.07247049],\n",
              "       [ 1.6007726 , -0.58200117],\n",
              "       [-0.80979446, -1.0368    ],\n",
              "       [ 1.02566269, -0.38581344],\n",
              "       [ 0.56068021, -0.59983642],\n",
              "       [-0.63848513, -0.97437663],\n",
              "       [-0.44270303, -1.20623486],\n",
              "       [ 0.54844383, -0.46607205],\n",
              "       [-1.4950318 , -0.18962571],\n",
              "       [ 1.30709945, -0.15395521],\n",
              "       [-1.48279541, -0.76927127],\n",
              "       [-1.16464951, -0.89411801],\n",
              "       [ 1.64971812, -0.41256631],\n",
              "       [-1.48279541, -0.54633067],\n",
              "       [-0.25915731,  0.92507731],\n",
              "       [ 1.38051774,  0.15816164],\n",
              "       [ 0.80540783,  0.82698344],\n",
              "       [-1.31148608, -1.10814099],\n",
              "       [ 0.46278916,  1.34420564],\n",
              "       [ 0.02227945, -0.53741305],\n",
              "       [ 0.24253431,  0.86265394],\n",
              "       [-0.63848513, -0.53741305],\n",
              "       [ 1.25815393, -0.62658929],\n",
              "       [ 0.97671717, -0.60875404],\n",
              "       [ 0.29147983,  1.73658111],\n",
              "       [ 0.3771345 , -1.24190535],\n",
              "       [-0.90768551,  0.74672483],\n",
              "       [-0.5283577 ,  0.11357351],\n",
              "       [ 0.64633488, -0.53741305],\n",
              "       [ 1.20920841, -0.58200117],\n",
              "       [ 0.67080764, -0.59983642],\n",
              "       [ 1.41722688, -0.66225978],\n",
              "       [ 1.30709945, -0.27880195],\n",
              "       [-1.69081389, -0.59091879],\n",
              "       [ 0.78093507, -0.965459  ],\n",
              "       [ 0.98895355,  1.59389912],\n",
              "       [-1.01781294,  0.62187809]])"
            ]
          },
          "execution_count": 34,
          "metadata": {},
          "output_type": "execute_result"
        }
      ],
      "source": [
        "X_train_scaled[:, :2]"
      ]
    },
    {
      "cell_type": "code",
      "execution_count": 33,
      "metadata": {},
      "outputs": [
        {
          "data": {
            "text/plain": [
              "array([[ 9.50432253e-01,  1.05596125e-01],\n",
              "       [ 7.90792552e-02, -1.12915885e+00],\n",
              "       [ 1.23953677e-01, -1.13619899e+00],\n",
              "       [-1.04836992e+00, -2.66549593e-01],\n",
              "       [ 4.65448680e-01,  9.18476748e-01],\n",
              "       [-6.37173159e-01, -9.76208100e-02],\n",
              "       [ 3.82418424e-01,  2.09870098e+00],\n",
              "       [ 7.78972143e-02, -7.49634058e-01],\n",
              "       [-1.47235626e+00,  9.01510818e-01],\n",
              "       [-4.72542299e-01,  2.24742190e+00],\n",
              "       [ 1.11912631e+00, -1.99264595e+00],\n",
              "       [-3.81433269e-01,  5.04216199e-01],\n",
              "       [-1.20223189e+00,  9.46672067e-01],\n",
              "       [-1.84982116e+00,  6.10570196e-01],\n",
              "       [ 4.54788462e-01, -1.01302248e+00],\n",
              "       [ 1.31322584e+00,  6.76047985e-01],\n",
              "       [-8.01856117e-01, -2.10389201e-01],\n",
              "       [-1.37615829e+00,  1.03231850e+00],\n",
              "       [-4.14700160e-01, -4.46208058e-01],\n",
              "       [ 7.74480690e-01, -1.00481766e+00],\n",
              "       [-3.00343320e-02, -8.05651036e-01],\n",
              "       [-1.43156689e+00, -9.46688240e-03],\n",
              "       [ 6.30309784e-01, -3.18355480e-01],\n",
              "       [-1.90345419e-01,  2.62682649e-01],\n",
              "       [ 8.37107575e-01, -1.35750732e+00],\n",
              "       [ 9.78862300e-01,  9.47354402e-01],\n",
              "       [-1.78352211e+00,  1.97986797e-03],\n",
              "       [-4.48490589e-02, -6.64722060e-01],\n",
              "       [ 4.03912521e-01, -1.47921496e+00],\n",
              "       [ 6.44079418e-02, -8.49647610e-01],\n",
              "       [ 1.28182134e-01, -9.36791793e-02],\n",
              "       [-5.24565548e-01,  6.72571328e-01],\n",
              "       [-1.05644870e+00,  2.96431880e-01],\n",
              "       [ 1.18931489e+00,  3.96393334e-01],\n",
              "       [ 1.95938098e+00, -3.73672757e-01],\n",
              "       [ 8.91173346e-01,  6.69312032e-01],\n",
              "       [-1.45168343e+00,  1.09523221e+00],\n",
              "       [ 8.28959336e-01,  2.18183991e+00],\n",
              "       [ 2.67864508e+00,  1.50501669e+00],\n",
              "       [-9.41046765e-01,  7.23321221e-01],\n",
              "       [-1.54249473e-01, -6.18378770e-01],\n",
              "       [-1.41148507e+00,  3.74016905e-01],\n",
              "       [-9.52315370e-01, -2.74324173e-01],\n",
              "       [ 1.56937861e+00,  2.43772322e+00],\n",
              "       [-3.28210613e-01,  9.55450542e-01],\n",
              "       [ 2.88780049e-01, -8.84848343e-01],\n",
              "       [-1.01567669e+00,  1.29545619e-01],\n",
              "       [ 2.06466162e+00,  1.64229280e-01],\n",
              "       [-1.35985733e+00,  4.49378145e-02],\n",
              "       [ 1.92135120e+00,  1.68218503e+00],\n",
              "       [ 4.05811630e-01, -1.16582845e+00],\n",
              "       [-7.66351192e-01, -9.01688225e-01],\n",
              "       [-1.94087810e+00,  1.21501578e-01],\n",
              "       [ 6.29162476e-01, -1.42701357e+00],\n",
              "       [ 2.15937336e+00,  1.14148867e+00],\n",
              "       [ 2.43905627e-01, -8.77808196e-01],\n",
              "       [ 1.88032063e-01, -8.47157481e-01],\n",
              "       [ 1.21892698e+00,  8.58626820e-01],\n",
              "       [ 4.33776704e-01,  7.48365925e-01],\n",
              "       [-5.99338884e-01, -5.97865351e-02],\n",
              "       [ 6.49691895e-01, -1.37187444e+00],\n",
              "       [ 3.51938631e-03,  4.21937743e-01],\n",
              "       [-1.45385200e+00, -2.39410268e-01],\n",
              "       [-1.41793420e+00,  2.29128931e-01],\n",
              "       [ 6.42456236e-01,  7.66692042e-01],\n",
              "       [ 3.42432946e-01, -1.78672159e-02],\n",
              "       [ 2.29647188e-01,  5.61541265e-01],\n",
              "       [ 1.74832000e+00,  1.11114215e+00],\n",
              "       [ 7.93184949e-01,  1.85188298e+00],\n",
              "       [-1.58188272e+00,  6.51804064e-02],\n",
              "       [ 7.20380187e-01, -1.54345413e+00],\n",
              "       [-1.30573946e+00, -1.60517155e-01],\n",
              "       [ 4.52441747e-01, -9.98064340e-01],\n",
              "       [-2.76876165e-02, -8.20609177e-01],\n",
              "       [-1.14046548e+00, -2.37511159e-01],\n",
              "       [-1.16597516e+00, -5.39898532e-01],\n",
              "       [ 5.82456429e-02, -7.17371062e-01],\n",
              "       [-1.19123274e+00,  9.23061498e-01],\n",
              "       [ 8.15396115e-01, -1.03312166e+00],\n",
              "       [-1.59245163e+00,  5.04537759e-01],\n",
              "       [-1.45576847e+00,  1.91294656e-01],\n",
              "       [ 8.74798436e-01, -1.45825530e+00],\n",
              "       [-1.43480881e+00,  6.62180571e-01],\n",
              "       [ 4.70876545e-01,  8.37380334e-01],\n",
              "       [ 1.08801062e+00, -8.64336290e-01],\n",
              "       [ 1.15427494e+00,  1.52562618e-02],\n",
              "       [-1.71093471e+00,  1.43786692e-01],\n",
              "       [ 1.27773828e+00,  6.23255570e-01],\n",
              "       [-3.64254460e-01, -3.95762358e-01],\n",
              "       [ 7.81486104e-01,  4.38490799e-01],\n",
              "       [-8.31485571e-01,  7.14687526e-02],\n",
              "       [ 4.46583641e-01, -1.33271471e+00],\n",
              "       [ 2.60189222e-01, -1.12109744e+00],\n",
              "       [ 1.43405564e+00,  1.02184091e+00],\n",
              "       [-6.11485335e-01, -1.14483406e+00],\n",
              "       [-1.13816388e-01,  1.16984477e+00],\n",
              "       [-2.93296708e-01,  4.53913913e-01],\n",
              "       [ 7.70193668e-02, -8.37036185e-01],\n",
              "       [ 4.43502491e-01, -1.26657643e+00],\n",
              "       [ 5.01842353e-02, -8.98481029e-01],\n",
              "       [ 5.33842355e-01, -1.47041912e+00],\n",
              "       [ 7.27116140e-01, -1.12140163e+00],\n",
              "       [-1.61342865e+00,  7.77743284e-01],\n",
              "       [-1.30478125e-01, -1.23488709e+00],\n",
              "       [ 1.82635264e+00,  4.27761116e-01],\n",
              "       [-2.79968215e-01,  1.15943664e+00]])"
            ]
          },
          "execution_count": 33,
          "metadata": {},
          "output_type": "execute_result"
        }
      ],
      "source": [
        "one_col = X_train_scaled[:, :2]\n",
        "pca = PCA(n_components=2)\n",
        "\n",
        "one_col = pca.fit_transform(one_col)\n",
        "one_col"
      ]
    },
    {
      "cell_type": "markdown",
      "metadata": {
        "id": "ZCNEfuqy32lj"
      },
      "source": [
        "Task 2: Now do the same, but use PCA.\n",
        "\n",
        "In this task, we want to keep all of the variance! No data is going to be discarded.\n",
        "You are asked to use the maximal number of componenets for PCA.\n",
        "\n",
        "Q1: Your co-worker says that the results should be at least as good as the results we had without PCA. Explain why might he say that.\n",
        "\n",
        "Print the accuracy of SVM + PCA."
      ]
    },
    {
      "cell_type": "markdown",
      "metadata": {
        "id": "Wa-zokqL32lj"
      },
      "source": [
        "Q2: Did the results improve\\stayed the same\\got worse? "
      ]
    },
    {
      "attachments": {},
      "cell_type": "markdown",
      "metadata": {},
      "source": [
        "The accuracy score is the same.\n"
      ]
    },
    {
      "cell_type": "markdown",
      "metadata": {
        "id": "lPdbsJQh32lj"
      },
      "source": [
        "# PCA + logistice regression"
      ]
    },
    {
      "cell_type": "markdown",
      "metadata": {
        "id": "p7ZOUCLC32lk"
      },
      "source": [
        "Task 3: repeat task 1 with logistic regression.\n",
        "\n",
        "Task 4: repeast task 2 with logistic regression."
      ]
    },
    {
      "cell_type": "markdown",
      "metadata": {
        "id": "PP1L5aqw32lk"
      },
      "source": [
        "Q3: Did the results improved\\stayed the same\\got worse?"
      ]
    },
    {
      "cell_type": "markdown",
      "metadata": {
        "id": "En4ptRLe32ll"
      },
      "source": [
        "Q4: How can you explain the difference between answers to Q2 and Q3. Hint: think about the nature of Logistic regression and the main difference of SVM from it. Hint: SVM assumes the data can be seperated by an hyperplan."
      ]
    },
    {
      "cell_type": "markdown",
      "metadata": {
        "id": "c_PfC__h32ll"
      },
      "source": [
        "# Visualizing"
      ]
    },
    {
      "cell_type": "markdown",
      "metadata": {
        "id": "lMpkIEQ632ll"
      },
      "source": [
        "Task 5: Use locally linear embedding in sklearn to visualize the data. Plot the results.\n",
        "Optimze the n_neighbors by running at least 5 times and use the best looking result you can find."
      ]
    },
    {
      "cell_type": "markdown",
      "metadata": {
        "id": "WHC6gNno32ll"
      },
      "source": [
        "Task 6: Use t-SNE to visualize the data. Plot the results."
      ]
    },
    {
      "cell_type": "markdown",
      "metadata": {
        "id": "7PTfZokr32ll"
      },
      "source": [
        "Task 7: Use UMAP to visualize the data. Plot the results."
      ]
    },
    {
      "cell_type": "markdown",
      "metadata": {
        "id": "3Z_GjviC32lm"
      },
      "source": [
        "Q5: If we run one of this visualziaing algorithms various times with the default parameters, are we guranteed to see the same results? Why?"
      ]
    }
  ],
  "metadata": {
    "colab": {
      "provenance": []
    },
    "kernel_info": {
      "name": "python3"
    },
    "kernelspec": {
      "display_name": "base",
      "language": "python",
      "name": "python3"
    },
    "language_info": {
      "codemirror_mode": {
        "name": "ipython",
        "version": 3
      },
      "file_extension": ".py",
      "mimetype": "text/x-python",
      "name": "python",
      "nbconvert_exporter": "python",
      "pygments_lexer": "ipython3",
      "version": "3.9.13"
    },
    "nteract": {
      "version": "0.15.0"
    },
    "vscode": {
      "interpreter": {
        "hash": "97bf5cac092693491f9f0c093044444828bd281c57f8a7f0d4a6df9d6c416292"
      }
    }
  },
  "nbformat": 4,
  "nbformat_minor": 0
}
