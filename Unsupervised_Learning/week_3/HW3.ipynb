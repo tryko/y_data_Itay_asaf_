{
  "cells": [
    {
      "cell_type": "markdown",
      "source": [
        "# Dimensionality reduction"
      ],
      "metadata": {
        "id": "RDmHTF5232la"
      }
    },
    {
      "cell_type": "markdown",
      "source": [
        "In this task you will practice dimensionality reduction.\n",
        "Use code cells to answer the Tasks and Markdown cells for the Questions (Q's)."
      ],
      "metadata": {
        "id": "kgpLAoVH32le"
      }
    },
    {
      "cell_type": "code",
      "source": [
        "import sklearn\n",
        "from sklearn.tree import DecisionTreeClassifier\n",
        "from sklearn.model_selection import train_test_split\n",
        "from sklearn.datasets import load_breast_cancer\n",
        "import pandas as pd\n",
        "from sklearn.metrics import accuracy_score\n",
        "from sklearn.decomposition import PCA\n",
        "from sklearn.datasets import load_wine\n",
        "from sklearn.linear_model import LogisticRegression\n"
      ],
      "outputs": [],
      "execution_count": null,
      "metadata": {
        "_uuid": "8f2839f25d086af736a60e9eeb907d3b93b6e0e5",
        "_cell_guid": "b1076dfc-b9ad-4769-8c92-a6c4dae69d19",
        "trusted": true,
        "id": "7DLJ446A32lf"
      }
    },
    {
      "cell_type": "markdown",
      "source": [
        "# Load data"
      ],
      "metadata": {
        "id": "QuqIaglD32lg"
      }
    },
    {
      "cell_type": "code",
      "source": [
        "(X, y) = load_wine(return_X_y=True)\n",
        "\n",
        "# split X into training and testing sets\n",
        "X_train, X_test, y_train, y_test = train_test_split(X, y, test_size=0.4, random_state=0,stratify=y)"
      ],
      "outputs": [],
      "execution_count": null,
      "metadata": {
        "trusted": true,
        "id": "Gi1DNp5-32lh"
      }
    },
    {
      "cell_type": "markdown",
      "source": [
        "Lets take a quick look at the data:"
      ],
      "metadata": {
        "id": "cB7dmNQP32lh"
      }
    },
    {
      "cell_type": "code",
      "source": [
        "pd.DataFrame(X_train).describe()"
      ],
      "outputs": [],
      "execution_count": null,
      "metadata": {
        "trusted": true,
        "id": "ypYMfIuC32lh"
      }
    },
    {
      "cell_type": "markdown",
      "source": [
        "# PCA + SVM"
      ],
      "metadata": {
        "id": "snVONeVb32li"
      }
    },
    {
      "cell_type": "markdown",
      "source": [
        "Task 1: Use X_train, y_train to train a SVM (SKlean's SVC) with the deafult parameters. You can read more about the algorithm in SKlearn's documentation.\n",
        "Make sure you normailize the data by using StandardScaler\n",
        "Evaulate the algorithm using accuracy score and X_test, y_test."
      ],
      "metadata": {
        "id": "_dXgU9Dp32li"
      }
    },
    {
      "cell_type": "markdown",
      "source": [
        "Task 2: Now do the same, but use PCA.\n",
        "\n",
        "In this task, we want to keep all of the variance! No data is going to be discarded.\n",
        "You are asked to use the maximal number of componenets for PCA.\n",
        "\n",
        "Q1: Your co-worker says that the results should be at least as good as the results we had without PCA. Explain why might he say that.\n",
        "\n",
        "Print the accuracy of SVM + PCA."
      ],
      "metadata": {
        "id": "ZCNEfuqy32lj"
      }
    },
    {
      "cell_type": "markdown",
      "source": [
        "Q2: Did the results improve\\stayed the same\\got worse? "
      ],
      "metadata": {
        "id": "Wa-zokqL32lj"
      }
    },
    {
      "cell_type": "markdown",
      "source": [
        "# PCA + logistice regression"
      ],
      "metadata": {
        "id": "lPdbsJQh32lj"
      }
    },
    {
      "cell_type": "markdown",
      "source": [
        "Task 3: repeat task 1 with logistic regression.\n",
        "\n",
        "Task 4: repeast task 2 with logistic regression."
      ],
      "metadata": {
        "id": "p7ZOUCLC32lk"
      }
    },
    {
      "cell_type": "markdown",
      "source": [
        "Q3: Did the results improved\\stayed the same\\got worse?"
      ],
      "metadata": {
        "id": "PP1L5aqw32lk"
      }
    },
    {
      "cell_type": "markdown",
      "source": [
        "Q4: How can you explain the difference between answers to Q2 and Q3. Hint: think about the nature of Logistic regression and the main difference of SVM from it. Hint: SVM assumes the data can be seperated by an hyperplan."
      ],
      "metadata": {
        "id": "En4ptRLe32ll"
      }
    },
    {
      "cell_type": "markdown",
      "source": [
        "# Visualizing"
      ],
      "metadata": {
        "id": "c_PfC__h32ll"
      }
    },
    {
      "cell_type": "markdown",
      "source": [
        "Task 5: Use locally linear embedding in sklearn to visualize the data. Plot the results.\n",
        "Optimze the n_neighbors by running at least 5 times and use the best looking result you can find."
      ],
      "metadata": {
        "id": "lMpkIEQ632ll"
      }
    },
    {
      "cell_type": "markdown",
      "source": [
        "Task 6: Use t-SNE to visualize the data. Plot the results."
      ],
      "metadata": {
        "id": "WHC6gNno32ll"
      }
    },
    {
      "cell_type": "markdown",
      "source": [
        "Task 7: Use UMAP to visualize the data. Plot the results."
      ],
      "metadata": {
        "id": "7PTfZokr32ll"
      }
    },
    {
      "cell_type": "markdown",
      "source": [
        "Q5: If we run one of this visualziaing algorithms various times with the default parameters, are we guranteed to see the same results? Why?"
      ],
      "metadata": {
        "id": "3Z_GjviC32lm"
      }
    }
  ],
  "metadata": {
    "kernelspec": {
      "name": "python3",
      "language": "python",
      "display_name": "Python 3"
    },
    "language_info": {
      "name": "python",
      "version": "3.6.4",
      "mimetype": "text/x-python",
      "codemirror_mode": {
        "name": "ipython",
        "version": 3
      },
      "pygments_lexer": "ipython3",
      "nbconvert_exporter": "python",
      "file_extension": ".py"
    },
    "kernel_info": {
      "name": "python3"
    },
    "nteract": {
      "version": "0.15.0"
    },
    "colab": {
      "provenance": []
    }
  },
  "nbformat": 4,
  "nbformat_minor": 0
}