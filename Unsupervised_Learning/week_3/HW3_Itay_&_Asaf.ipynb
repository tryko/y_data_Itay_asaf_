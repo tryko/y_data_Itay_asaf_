{
  "cells": [
    {
      "cell_type": "markdown",
      "metadata": {
        "id": "RDmHTF5232la"
      },
      "source": [
        "# Dimensionality reduction"
      ]
    },
    {
      "cell_type": "markdown",
      "metadata": {
        "id": "kgpLAoVH32le"
      },
      "source": [
        "In this task you will practice dimensionality reduction.\n",
        "Use code cells to answer the Tasks and Markdown cells for the Questions (Q's)."
      ]
    },
    {
      "cell_type": "code",
      "execution_count": 1,
      "metadata": {
        "_cell_guid": "b1076dfc-b9ad-4769-8c92-a6c4dae69d19",
        "_uuid": "8f2839f25d086af736a60e9eeb907d3b93b6e0e5",
        "id": "7DLJ446A32lf",
        "trusted": true
      },
      "outputs": [],
      "source": [
        "import sklearn\n",
        "from sklearn.tree import DecisionTreeClassifier\n",
        "from sklearn.model_selection import train_test_split\n",
        "from sklearn.datasets import load_breast_cancer\n",
        "import pandas as pd\n",
        "from sklearn.metrics import accuracy_score\n",
        "from sklearn.decomposition import PCA\n",
        "from sklearn.datasets import load_wine\n",
        "from sklearn.linear_model import LogisticRegression\n",
        "\n",
        "from matplotlib import pyplot as plt"
      ]
    },
    {
      "cell_type": "markdown",
      "metadata": {
        "id": "QuqIaglD32lg"
      },
      "source": [
        "# Load data"
      ]
    },
    {
      "cell_type": "code",
      "execution_count": 2,
      "metadata": {
        "id": "Gi1DNp5-32lh",
        "trusted": true
      },
      "outputs": [],
      "source": [
        "(X, y) = load_wine(return_X_y=True)\n",
        "\n",
        "# split X into training and testing sets\n",
        "X_train, X_test, y_train, y_test = train_test_split(X, y, test_size=0.4, random_state=0,stratify=y)"
      ]
    },
    {
      "cell_type": "markdown",
      "metadata": {
        "id": "cB7dmNQP32lh"
      },
      "source": [
        "Lets take a quick look at the data:"
      ]
    },
    {
      "cell_type": "code",
      "execution_count": 13,
      "metadata": {
        "id": "ypYMfIuC32lh",
        "trusted": true
      },
      "outputs": [
        {
          "data": {
            "text/html": [
              "<div>\n",
              "<style scoped>\n",
              "    .dataframe tbody tr th:only-of-type {\n",
              "        vertical-align: middle;\n",
              "    }\n",
              "\n",
              "    .dataframe tbody tr th {\n",
              "        vertical-align: top;\n",
              "    }\n",
              "\n",
              "    .dataframe thead th {\n",
              "        text-align: right;\n",
              "    }\n",
              "</style>\n",
              "<table border=\"1\" class=\"dataframe\">\n",
              "  <thead>\n",
              "    <tr style=\"text-align: right;\">\n",
              "      <th></th>\n",
              "      <th>0</th>\n",
              "      <th>1</th>\n",
              "      <th>2</th>\n",
              "      <th>3</th>\n",
              "      <th>4</th>\n",
              "      <th>5</th>\n",
              "      <th>6</th>\n",
              "      <th>7</th>\n",
              "      <th>8</th>\n",
              "      <th>9</th>\n",
              "      <th>10</th>\n",
              "      <th>11</th>\n",
              "      <th>12</th>\n",
              "    </tr>\n",
              "  </thead>\n",
              "  <tbody>\n",
              "    <tr>\n",
              "      <th>0</th>\n",
              "      <td>13.52</td>\n",
              "      <td>3.17</td>\n",
              "      <td>2.72</td>\n",
              "      <td>23.5</td>\n",
              "      <td>97.0</td>\n",
              "      <td>1.55</td>\n",
              "      <td>0.52</td>\n",
              "      <td>0.50</td>\n",
              "      <td>0.55</td>\n",
              "      <td>4.35</td>\n",
              "      <td>0.89</td>\n",
              "      <td>2.06</td>\n",
              "      <td>520.0</td>\n",
              "    </tr>\n",
              "    <tr>\n",
              "      <th>1</th>\n",
              "      <td>13.73</td>\n",
              "      <td>1.50</td>\n",
              "      <td>2.70</td>\n",
              "      <td>22.5</td>\n",
              "      <td>101.0</td>\n",
              "      <td>3.00</td>\n",
              "      <td>3.25</td>\n",
              "      <td>0.29</td>\n",
              "      <td>2.38</td>\n",
              "      <td>5.70</td>\n",
              "      <td>1.19</td>\n",
              "      <td>2.71</td>\n",
              "      <td>1285.0</td>\n",
              "    </tr>\n",
              "    <tr>\n",
              "      <th>2</th>\n",
              "      <td>13.76</td>\n",
              "      <td>1.53</td>\n",
              "      <td>2.70</td>\n",
              "      <td>19.5</td>\n",
              "      <td>132.0</td>\n",
              "      <td>2.95</td>\n",
              "      <td>2.74</td>\n",
              "      <td>0.50</td>\n",
              "      <td>1.35</td>\n",
              "      <td>5.40</td>\n",
              "      <td>1.25</td>\n",
              "      <td>3.00</td>\n",
              "      <td>1235.0</td>\n",
              "    </tr>\n",
              "    <tr>\n",
              "      <th>3</th>\n",
              "      <td>12.58</td>\n",
              "      <td>1.29</td>\n",
              "      <td>2.10</td>\n",
              "      <td>20.0</td>\n",
              "      <td>103.0</td>\n",
              "      <td>1.48</td>\n",
              "      <td>0.58</td>\n",
              "      <td>0.53</td>\n",
              "      <td>1.40</td>\n",
              "      <td>7.60</td>\n",
              "      <td>0.58</td>\n",
              "      <td>1.55</td>\n",
              "      <td>640.0</td>\n",
              "    </tr>\n",
              "    <tr>\n",
              "      <th>4</th>\n",
              "      <td>12.77</td>\n",
              "      <td>3.43</td>\n",
              "      <td>1.98</td>\n",
              "      <td>16.0</td>\n",
              "      <td>80.0</td>\n",
              "      <td>1.63</td>\n",
              "      <td>1.25</td>\n",
              "      <td>0.43</td>\n",
              "      <td>0.83</td>\n",
              "      <td>3.40</td>\n",
              "      <td>0.70</td>\n",
              "      <td>2.12</td>\n",
              "      <td>372.0</td>\n",
              "    </tr>\n",
              "    <tr>\n",
              "      <th>...</th>\n",
              "      <td>...</td>\n",
              "      <td>...</td>\n",
              "      <td>...</td>\n",
              "      <td>...</td>\n",
              "      <td>...</td>\n",
              "      <td>...</td>\n",
              "      <td>...</td>\n",
              "      <td>...</td>\n",
              "      <td>...</td>\n",
              "      <td>...</td>\n",
              "      <td>...</td>\n",
              "      <td>...</td>\n",
              "      <td>...</td>\n",
              "    </tr>\n",
              "    <tr>\n",
              "      <th>101</th>\n",
              "      <td>14.10</td>\n",
              "      <td>2.02</td>\n",
              "      <td>2.40</td>\n",
              "      <td>18.8</td>\n",
              "      <td>103.0</td>\n",
              "      <td>2.75</td>\n",
              "      <td>2.92</td>\n",
              "      <td>0.32</td>\n",
              "      <td>2.38</td>\n",
              "      <td>6.20</td>\n",
              "      <td>1.07</td>\n",
              "      <td>2.75</td>\n",
              "      <td>1060.0</td>\n",
              "    </tr>\n",
              "    <tr>\n",
              "      <th>102</th>\n",
              "      <td>11.65</td>\n",
              "      <td>1.67</td>\n",
              "      <td>2.62</td>\n",
              "      <td>26.0</td>\n",
              "      <td>88.0</td>\n",
              "      <td>1.92</td>\n",
              "      <td>1.61</td>\n",
              "      <td>0.40</td>\n",
              "      <td>1.34</td>\n",
              "      <td>2.60</td>\n",
              "      <td>1.36</td>\n",
              "      <td>3.21</td>\n",
              "      <td>562.0</td>\n",
              "    </tr>\n",
              "    <tr>\n",
              "      <th>103</th>\n",
              "      <td>13.67</td>\n",
              "      <td>1.25</td>\n",
              "      <td>1.92</td>\n",
              "      <td>18.0</td>\n",
              "      <td>94.0</td>\n",
              "      <td>2.10</td>\n",
              "      <td>1.79</td>\n",
              "      <td>0.32</td>\n",
              "      <td>0.73</td>\n",
              "      <td>3.80</td>\n",
              "      <td>1.23</td>\n",
              "      <td>2.46</td>\n",
              "      <td>630.0</td>\n",
              "    </tr>\n",
              "    <tr>\n",
              "      <th>104</th>\n",
              "      <td>13.84</td>\n",
              "      <td>4.12</td>\n",
              "      <td>2.38</td>\n",
              "      <td>19.5</td>\n",
              "      <td>89.0</td>\n",
              "      <td>1.80</td>\n",
              "      <td>0.83</td>\n",
              "      <td>0.48</td>\n",
              "      <td>1.56</td>\n",
              "      <td>9.01</td>\n",
              "      <td>0.57</td>\n",
              "      <td>1.64</td>\n",
              "      <td>480.0</td>\n",
              "    </tr>\n",
              "    <tr>\n",
              "      <th>105</th>\n",
              "      <td>12.20</td>\n",
              "      <td>3.03</td>\n",
              "      <td>2.32</td>\n",
              "      <td>19.0</td>\n",
              "      <td>96.0</td>\n",
              "      <td>1.25</td>\n",
              "      <td>0.49</td>\n",
              "      <td>0.40</td>\n",
              "      <td>0.73</td>\n",
              "      <td>5.50</td>\n",
              "      <td>0.66</td>\n",
              "      <td>1.83</td>\n",
              "      <td>510.0</td>\n",
              "    </tr>\n",
              "  </tbody>\n",
              "</table>\n",
              "<p>106 rows × 13 columns</p>\n",
              "</div>"
            ],
            "text/plain": [
              "        0     1     2     3      4     5     6     7     8     9     10    11  \\\n",
              "0    13.52  3.17  2.72  23.5   97.0  1.55  0.52  0.50  0.55  4.35  0.89  2.06   \n",
              "1    13.73  1.50  2.70  22.5  101.0  3.00  3.25  0.29  2.38  5.70  1.19  2.71   \n",
              "2    13.76  1.53  2.70  19.5  132.0  2.95  2.74  0.50  1.35  5.40  1.25  3.00   \n",
              "3    12.58  1.29  2.10  20.0  103.0  1.48  0.58  0.53  1.40  7.60  0.58  1.55   \n",
              "4    12.77  3.43  1.98  16.0   80.0  1.63  1.25  0.43  0.83  3.40  0.70  2.12   \n",
              "..     ...   ...   ...   ...    ...   ...   ...   ...   ...   ...   ...   ...   \n",
              "101  14.10  2.02  2.40  18.8  103.0  2.75  2.92  0.32  2.38  6.20  1.07  2.75   \n",
              "102  11.65  1.67  2.62  26.0   88.0  1.92  1.61  0.40  1.34  2.60  1.36  3.21   \n",
              "103  13.67  1.25  1.92  18.0   94.0  2.10  1.79  0.32  0.73  3.80  1.23  2.46   \n",
              "104  13.84  4.12  2.38  19.5   89.0  1.80  0.83  0.48  1.56  9.01  0.57  1.64   \n",
              "105  12.20  3.03  2.32  19.0   96.0  1.25  0.49  0.40  0.73  5.50  0.66  1.83   \n",
              "\n",
              "         12  \n",
              "0     520.0  \n",
              "1    1285.0  \n",
              "2    1235.0  \n",
              "3     640.0  \n",
              "4     372.0  \n",
              "..      ...  \n",
              "101  1060.0  \n",
              "102   562.0  \n",
              "103   630.0  \n",
              "104   480.0  \n",
              "105   510.0  \n",
              "\n",
              "[106 rows x 13 columns]"
            ]
          },
          "execution_count": 13,
          "metadata": {},
          "output_type": "execute_result"
        }
      ],
      "source": [
        "pd.DataFrame(X_train).describe()"
      ]
    },
    {
      "cell_type": "markdown",
      "metadata": {
        "id": "snVONeVb32li"
      },
      "source": [
        "# PCA + SVM"
      ]
    },
    {
      "cell_type": "markdown",
      "metadata": {
        "id": "_dXgU9Dp32li"
      },
      "source": [
        "Task 1: Use X_train, y_train to train a SVM (SKlean's SVC) with the deafult parameters. You can read more about the algorithm in SKlearn's documentation.\n",
        "Make sure you normailize the data by using StandardScaler\n",
        "Evaulate the algorithm using accuracy score and X_test, y_test."
      ]
    },
    {
      "cell_type": "code",
      "execution_count": 4,
      "metadata": {},
      "outputs": [
        {
          "name": "stdout",
          "output_type": "stream",
          "text": [
            "0.9861111111111112\n"
          ]
        }
      ],
      "source": [
        "from sklearn.svm  import SVC\n",
        "from sklearn.preprocessing import StandardScaler\n",
        "from sklearn.metrics import accuracy_score\n",
        "scaler = StandardScaler()\n",
        "scaler.fit(X_train)\n",
        "X_train_scaled = scaler.transform(X_train)\n",
        "X_test_scaled = scaler.transform(X_test)\n",
        "\n",
        "\n",
        "svc_m = SVC()\n",
        "svc_m.fit(X_train_scaled, y_train)\n",
        "\n",
        "y_pred = svc_m.predict(X_test_scaled)\n",
        "\n",
        "acc_score = accuracy_score(y_test, y_pred)\n",
        "print(acc_score)"
      ]
    },
    {
      "cell_type": "markdown",
      "metadata": {
        "id": "ZCNEfuqy32lj"
      },
      "source": [
        "Task 2: Now do the same, but use PCA.\n",
        "\n",
        "In this task, we want to keep all of the variance! No data is going to be discarded.\n",
        "You are asked to use the maximal number of componenets for PCA.\n",
        "\n",
        "Q1: Your co-worker says that the results should be at least as good as the results we had without PCA. Explain why might he say that.\n",
        "\n",
        "Print the accuracy of SVM + PCA."
      ]
    },
    {
      "cell_type": "code",
      "execution_count": 5,
      "metadata": {},
      "outputs": [
        {
          "name": "stdout",
          "output_type": "stream",
          "text": [
            "0.9861111111111112\n"
          ]
        }
      ],
      "source": [
        "pca = PCA(n_components=X_train.shape[1])\n",
        "X_train_pca = pca.fit_transform(X_train_scaled)\n",
        "X_test_pca = pca.transform(X_test_scaled)\n",
        "\n",
        "svc_m = SVC()\n",
        "svc_m.fit(X_train_pca, y_train)\n",
        "\n",
        "y_pred = svc_m.predict(X_test_pca)\n",
        "\n",
        "acc_score = accuracy_score(y_test, y_pred)\n",
        "print(acc_score)"
      ]
    },
    {
      "cell_type": "markdown",
      "metadata": {
        "id": "Wa-zokqL32lj"
      },
      "source": [
        "Q2: Did the results improve\\stayed the same\\got worse? "
      ]
    },
    {
      "attachments": {},
      "cell_type": "markdown",
      "metadata": {},
      "source": [
        "The accuracy score is the same.\n"
      ]
    },
    {
      "cell_type": "markdown",
      "metadata": {
        "id": "lPdbsJQh32lj"
      },
      "source": [
        "# PCA + logistice regression"
      ]
    },
    {
      "cell_type": "markdown",
      "metadata": {
        "id": "p7ZOUCLC32lk"
      },
      "source": [
        "Task 3: repeat task 1 with logistic regression.\n",
        "\n",
        "Task 4: repeast task 2 with logistic regression."
      ]
    },
    {
      "cell_type": "code",
      "execution_count": 6,
      "metadata": {},
      "outputs": [
        {
          "name": "stdout",
          "output_type": "stream",
          "text": [
            "0.9861111111111112\n"
          ]
        }
      ],
      "source": [
        "from sklearn.linear_model import LogisticRegression\n",
        "\n",
        "\n",
        "lgr_m = LogisticRegression()\n",
        "lgr_m.fit(X_train_scaled, y_train)\n",
        "\n",
        "y_pred = lgr_m.predict(X_test_scaled)\n",
        "\n",
        "acc_score = accuracy_score(y_test, y_pred)\n",
        "print(acc_score)"
      ]
    },
    {
      "cell_type": "code",
      "execution_count": 7,
      "metadata": {},
      "outputs": [
        {
          "name": "stdout",
          "output_type": "stream",
          "text": [
            "0.9861111111111112\n"
          ]
        }
      ],
      "source": [
        "\n",
        "\n",
        "lgr_m = LogisticRegression()\n",
        "lgr_m.fit(X_train_pca, y_train)\n",
        "\n",
        "y_pred = lgr_m.predict(X_test_pca)\n",
        "\n",
        "acc_score = accuracy_score(y_test, y_pred)\n",
        "print(acc_score)"
      ]
    },
    {
      "cell_type": "markdown",
      "metadata": {
        "id": "PP1L5aqw32lk"
      },
      "source": [
        "Q3: Did the results improved\\stayed the same\\got worse?"
      ]
    },
    {
      "attachments": {},
      "cell_type": "markdown",
      "metadata": {},
      "source": [
        "Strangly the result is the exact same."
      ]
    },
    {
      "cell_type": "markdown",
      "metadata": {
        "id": "En4ptRLe32ll"
      },
      "source": [
        "Q4: How can you explain the difference between answers to Q2 and Q3. Hint: think about the nature of Logistic regression and the main difference of SVM from it. Hint: SVM assumes the data can be seperated by an hyperplan."
      ]
    },
    {
      "cell_type": "markdown",
      "metadata": {
        "id": "c_PfC__h32ll"
      },
      "source": [
        "# Visualizing"
      ]
    },
    {
      "cell_type": "markdown",
      "metadata": {
        "id": "lMpkIEQ632ll"
      },
      "source": [
        "Task 5: Use locally linear embedding in sklearn to visualize the data. Plot the results.\n",
        "Optimze the n_neighbors by running at least 5 times and use the best looking result you can find."
      ]
    },
    {
      "cell_type": "code",
      "execution_count": 56,
      "metadata": {},
      "outputs": [
        {
          "data": {
            "text/plain": [
              "Text(0.5, 1.0, '95')"
            ]
          },
          "execution_count": 56,
          "metadata": {},
          "output_type": "execute_result"
        },
        {
          "data": {
            "image/png": "[encoded data removed]",
            "text/plain": [
              "<Figure size 800x550 with 1 Axes>"
            ]
          },
          "metadata": {},
          "output_type": "display_data"
        }
      ],
      "source": [
        "from sklearn.manifold import locally_linear_embedding\n",
        "import matplotlib.pyplot as plt\n",
        "import seaborn as sns\n",
        "\n",
        "X_scaled = StandardScaler().fit_transform(X)\n",
        "\n",
        "\n",
        "n = 95\n",
        "X_lle = locally_linear_embedding(X_scaled, n_neighbors=n, n_components=2)[0]\n",
        "plt.scatter(x=X_lle[:,0], y=X_lle[:,1], c=y, cmap='Set1')\n",
        "plt.title(n)"
      ]
    },
    {
      "cell_type": "markdown",
      "metadata": {
        "id": "WHC6gNno32ll"
      },
      "source": [
        "Task 6: Use t-SNE to visualize the data. Plot the results."
      ]
    },
    {
      "cell_type": "markdown",
      "metadata": {
        "id": "7PTfZokr32ll"
      },
      "source": [
        "Task 7: Use UMAP to visualize the data. Plot the results."
      ]
    },
    {
      "cell_type": "code",
      "execution_count": 51,
      "metadata": {},
      "outputs": [
        {
          "data": {
            "text/plain": [
              "<matplotlib.collections.PathCollection at 0x2251d95e550>"
            ]
          },
          "execution_count": 51,
          "metadata": {},
          "output_type": "execute_result"
        },
        {
          "data": {
            "image/png": "[encoded data removed]",
            "text/plain": [
              "<Figure size 800x550 with 1 Axes>"
            ]
          },
          "metadata": {},
          "output_type": "display_data"
        }
      ],
      "source": [
        "import umap\n",
        "X_umap = umap.UMAP().fit_transform(X_train_scaled)\n",
        "# sns.scatterplot(x=X_umap[:,0], y=X_umap[:,1], hue=y_train, palette='tab10')\n",
        "plt.scatter(X_umap[:,0], X_umap[:,1], c=y_train, cmap='Set2')"
      ]
    },
    {
      "attachments": {},
      "cell_type": "markdown",
      "metadata": {
        "id": "3Z_GjviC32lm"
      },
      "source": [
        "Q5: If we run one of this visualziaing algorithms various times with the default parameters, are we guranteed to see the same results? Why?\n",
        "    \n",
        "LLE would yield the same results, it doesn't use gradient decent where as UMAP and t-SNE do.\n",
        "\n"
      ]
    }
  ],
  "metadata": {
    "colab": {
      "provenance": []
    },
    "kernel_info": {
      "name": "python3"
    },
    "kernelspec": {
      "display_name": "base",
      "language": "python",
      "name": "python3"
    },
    "language_info": {
      "codemirror_mode": {
        "name": "ipython",
        "version": 3
      },
      "file_extension": ".py",
      "mimetype": "text/x-python",
      "name": "python",
      "nbconvert_exporter": "python",
      "pygments_lexer": "ipython3",
      "version": "3.9.13 (main, Aug 25 2022, 23:51:50) [MSC v.1916 64 bit (AMD64)]"
    },
    "nteract": {
      "version": "0.15.0"
    },
    "vscode": {
      "interpreter": {
        "hash": "97bf5cac092693491f9f0c093044444828bd281c57f8a7f0d4a6df9d6c416292"
      }
    }
  },
  "nbformat": 4,
  "nbformat_minor": 0
}
