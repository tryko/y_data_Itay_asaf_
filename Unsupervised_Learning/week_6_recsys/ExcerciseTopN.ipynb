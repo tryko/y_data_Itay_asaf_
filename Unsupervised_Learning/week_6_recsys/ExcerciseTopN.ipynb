{
 "cells": [
  {
   "cell_type": "markdown",
   "metadata": {
    "colab_type": "text",
    "id": "RDcN431I5zC0"
   },
   "source": [
    "# Item-Item Top-N Recommendations"
   ]
  },
  {
   "cell_type": "markdown",
   "metadata": {
    "colab_type": "text",
    "id": "MiDyphhp5zC6"
   },
   "source": [
    "In this excercise we will implement a simple top-N recommender, evaluate the algorithms, and then call algorithms from the Surprise package. In top-N recommendations the algorithm is requested to produce a list of N items that the user will be interested in. \n",
    "In this particular execercise we will work with an escape room dataset.\n",
    "\n",
    "First, let's load the dataset, which is already split by time into a training set and a test set:"
   ]
  },
  {
   "cell_type": "code",
   "execution_count": 1,
   "metadata": {
    "colab": {},
    "colab_type": "code",
    "collapsed": true,
    "id": "CN1l4x4S5zC-"
   },
   "outputs": [],
   "source": [
    "import pandas as pd\n",
    "import numpy as np\n",
    "train_set_path = 'resources//train_numerized_with_anon.csv'\n",
    "test_set_path = 'resources//test_numerized_with_anon.csv'\n",
    "\n",
    "train_set = pd.read_csv(train_set_path, parse_dates=[3], index_col='index')\n",
    "test_set = pd.read_csv(test_set_path, parse_dates=[3], index_col='index')\n",
    "\n",
    "users_in_train = train_set.userID.unique()\n",
    "test_set = test_set[test_set.userID.isin(users_in_train)]"
   ]
  },
  {
   "cell_type": "markdown",
   "metadata": {
    "colab_type": "text",
    "id": "Uou6h0U75zDP"
   },
   "source": [
    "We can take a look at the structure of the dataset:"
   ]
  },
  {
   "cell_type": "code",
   "execution_count": 47,
   "metadata": {},
   "outputs": [
    {
     "data": {
      "text/html": [
       "<div>\n",
       "<style scoped>\n",
       "    .dataframe tbody tr th:only-of-type {\n",
       "        vertical-align: middle;\n",
       "    }\n",
       "\n",
       "    .dataframe tbody tr th {\n",
       "        vertical-align: top;\n",
       "    }\n",
       "\n",
       "    .dataframe thead th {\n",
       "        text-align: right;\n",
       "    }\n",
       "</style>\n",
       "<table border=\"1\" class=\"dataframe\">\n",
       "  <thead>\n",
       "    <tr style=\"text-align: right;\">\n",
       "      <th></th>\n",
       "      <th>userID</th>\n",
       "      <th>itemID</th>\n",
       "      <th>rating</th>\n",
       "      <th>timestamp</th>\n",
       "    </tr>\n",
       "    <tr>\n",
       "      <th>index</th>\n",
       "      <th></th>\n",
       "      <th></th>\n",
       "      <th></th>\n",
       "      <th></th>\n",
       "    </tr>\n",
       "  </thead>\n",
       "  <tbody>\n",
       "    <tr>\n",
       "      <th>448</th>\n",
       "      <td>413</td>\n",
       "      <td>9</td>\n",
       "      <td>10</td>\n",
       "      <td>11/11/2015</td>\n",
       "    </tr>\n",
       "    <tr>\n",
       "      <th>449</th>\n",
       "      <td>413</td>\n",
       "      <td>13</td>\n",
       "      <td>8</td>\n",
       "      <td>11/11/2015</td>\n",
       "    </tr>\n",
       "    <tr>\n",
       "      <th>450</th>\n",
       "      <td>413</td>\n",
       "      <td>18</td>\n",
       "      <td>7</td>\n",
       "      <td>11/11/2015</td>\n",
       "    </tr>\n",
       "    <tr>\n",
       "      <th>451</th>\n",
       "      <td>413</td>\n",
       "      <td>36</td>\n",
       "      <td>8</td>\n",
       "      <td>11/11/2015</td>\n",
       "    </tr>\n",
       "    <tr>\n",
       "      <th>452</th>\n",
       "      <td>413</td>\n",
       "      <td>38</td>\n",
       "      <td>6</td>\n",
       "      <td>11/11/2015</td>\n",
       "    </tr>\n",
       "    <tr>\n",
       "      <th>453</th>\n",
       "      <td>413</td>\n",
       "      <td>42</td>\n",
       "      <td>9</td>\n",
       "      <td>11/11/2015</td>\n",
       "    </tr>\n",
       "    <tr>\n",
       "      <th>454</th>\n",
       "      <td>413</td>\n",
       "      <td>46</td>\n",
       "      <td>6</td>\n",
       "      <td>11/11/2015</td>\n",
       "    </tr>\n",
       "    <tr>\n",
       "      <th>6317</th>\n",
       "      <td>413</td>\n",
       "      <td>1</td>\n",
       "      <td>9</td>\n",
       "      <td>11/01/2016</td>\n",
       "    </tr>\n",
       "    <tr>\n",
       "      <th>6318</th>\n",
       "      <td>413</td>\n",
       "      <td>2</td>\n",
       "      <td>8</td>\n",
       "      <td>11/01/2016</td>\n",
       "    </tr>\n",
       "    <tr>\n",
       "      <th>6319</th>\n",
       "      <td>413</td>\n",
       "      <td>3</td>\n",
       "      <td>10</td>\n",
       "      <td>11/01/2016</td>\n",
       "    </tr>\n",
       "    <tr>\n",
       "      <th>6320</th>\n",
       "      <td>413</td>\n",
       "      <td>4</td>\n",
       "      <td>10</td>\n",
       "      <td>11/01/2016</td>\n",
       "    </tr>\n",
       "    <tr>\n",
       "      <th>6321</th>\n",
       "      <td>413</td>\n",
       "      <td>69</td>\n",
       "      <td>9</td>\n",
       "      <td>11/01/2016</td>\n",
       "    </tr>\n",
       "    <tr>\n",
       "      <th>6322</th>\n",
       "      <td>413</td>\n",
       "      <td>21</td>\n",
       "      <td>10</td>\n",
       "      <td>11/01/2016</td>\n",
       "    </tr>\n",
       "    <tr>\n",
       "      <th>6323</th>\n",
       "      <td>413</td>\n",
       "      <td>24</td>\n",
       "      <td>8</td>\n",
       "      <td>11/01/2016</td>\n",
       "    </tr>\n",
       "    <tr>\n",
       "      <th>6324</th>\n",
       "      <td>413</td>\n",
       "      <td>31</td>\n",
       "      <td>7</td>\n",
       "      <td>11/01/2016</td>\n",
       "    </tr>\n",
       "    <tr>\n",
       "      <th>6325</th>\n",
       "      <td>413</td>\n",
       "      <td>37</td>\n",
       "      <td>6</td>\n",
       "      <td>11/01/2016</td>\n",
       "    </tr>\n",
       "    <tr>\n",
       "      <th>6326</th>\n",
       "      <td>413</td>\n",
       "      <td>49</td>\n",
       "      <td>4</td>\n",
       "      <td>11/01/2016</td>\n",
       "    </tr>\n",
       "    <tr>\n",
       "      <th>21751</th>\n",
       "      <td>413</td>\n",
       "      <td>74</td>\n",
       "      <td>10</td>\n",
       "      <td>23/10/2017</td>\n",
       "    </tr>\n",
       "    <tr>\n",
       "      <th>21752</th>\n",
       "      <td>413</td>\n",
       "      <td>83</td>\n",
       "      <td>9</td>\n",
       "      <td>23/10/2017</td>\n",
       "    </tr>\n",
       "  </tbody>\n",
       "</table>\n",
       "</div>"
      ],
      "text/plain": [
       "       userID  itemID rating   timestamp\n",
       "index                                   \n",
       "448       413       9     10  11/11/2015\n",
       "449       413      13      8  11/11/2015\n",
       "450       413      18      7  11/11/2015\n",
       "451       413      36      8  11/11/2015\n",
       "452       413      38      6  11/11/2015\n",
       "453       413      42      9  11/11/2015\n",
       "454       413      46      6  11/11/2015\n",
       "6317      413       1      9  11/01/2016\n",
       "6318      413       2      8  11/01/2016\n",
       "6319      413       3     10  11/01/2016\n",
       "6320      413       4     10  11/01/2016\n",
       "6321      413      69      9  11/01/2016\n",
       "6322      413      21     10  11/01/2016\n",
       "6323      413      24      8  11/01/2016\n",
       "6324      413      31      7  11/01/2016\n",
       "6325      413      37      6  11/01/2016\n",
       "6326      413      49      4  11/01/2016\n",
       "21751     413      74     10  23/10/2017\n",
       "21752     413      83      9  23/10/2017"
      ]
     },
     "execution_count": 47,
     "metadata": {},
     "output_type": "execute_result"
    }
   ],
   "source": [
    "train_set[train_set.userID == 413]"
   ]
  },
  {
   "cell_type": "code",
   "execution_count": 3,
   "metadata": {},
   "outputs": [
    {
     "data": {
      "text/html": [
       "<div>\n",
       "<style scoped>\n",
       "    .dataframe tbody tr th:only-of-type {\n",
       "        vertical-align: middle;\n",
       "    }\n",
       "\n",
       "    .dataframe tbody tr th {\n",
       "        vertical-align: top;\n",
       "    }\n",
       "\n",
       "    .dataframe thead th {\n",
       "        text-align: right;\n",
       "    }\n",
       "</style>\n",
       "<table border=\"1\" class=\"dataframe\">\n",
       "  <thead>\n",
       "    <tr style=\"text-align: right;\">\n",
       "      <th></th>\n",
       "      <th>userID</th>\n",
       "      <th>rating</th>\n",
       "      <th>timestamp</th>\n",
       "    </tr>\n",
       "    <tr>\n",
       "      <th>itemID</th>\n",
       "      <th></th>\n",
       "      <th></th>\n",
       "      <th></th>\n",
       "    </tr>\n",
       "  </thead>\n",
       "  <tbody>\n",
       "    <tr>\n",
       "      <th>66</th>\n",
       "      <td>741</td>\n",
       "      <td>741</td>\n",
       "      <td>741</td>\n",
       "    </tr>\n",
       "    <tr>\n",
       "      <th>1</th>\n",
       "      <td>601</td>\n",
       "      <td>601</td>\n",
       "      <td>601</td>\n",
       "    </tr>\n",
       "    <tr>\n",
       "      <th>76</th>\n",
       "      <td>548</td>\n",
       "      <td>548</td>\n",
       "      <td>548</td>\n",
       "    </tr>\n",
       "    <tr>\n",
       "      <th>69</th>\n",
       "      <td>547</td>\n",
       "      <td>547</td>\n",
       "      <td>547</td>\n",
       "    </tr>\n",
       "    <tr>\n",
       "      <th>5</th>\n",
       "      <td>512</td>\n",
       "      <td>512</td>\n",
       "      <td>512</td>\n",
       "    </tr>\n",
       "    <tr>\n",
       "      <th>...</th>\n",
       "      <td>...</td>\n",
       "      <td>...</td>\n",
       "      <td>...</td>\n",
       "    </tr>\n",
       "    <tr>\n",
       "      <th>359</th>\n",
       "      <td>1</td>\n",
       "      <td>1</td>\n",
       "      <td>1</td>\n",
       "    </tr>\n",
       "    <tr>\n",
       "      <th>321</th>\n",
       "      <td>1</td>\n",
       "      <td>1</td>\n",
       "      <td>1</td>\n",
       "    </tr>\n",
       "    <tr>\n",
       "      <th>284</th>\n",
       "      <td>1</td>\n",
       "      <td>1</td>\n",
       "      <td>1</td>\n",
       "    </tr>\n",
       "    <tr>\n",
       "      <th>302</th>\n",
       "      <td>1</td>\n",
       "      <td>1</td>\n",
       "      <td>1</td>\n",
       "    </tr>\n",
       "    <tr>\n",
       "      <th>374</th>\n",
       "      <td>1</td>\n",
       "      <td>1</td>\n",
       "      <td>1</td>\n",
       "    </tr>\n",
       "  </tbody>\n",
       "</table>\n",
       "<p>375 rows × 3 columns</p>\n",
       "</div>"
      ],
      "text/plain": [
       "        userID  rating  timestamp\n",
       "itemID                           \n",
       "66         741     741        741\n",
       "1          601     601        601\n",
       "76         548     548        548\n",
       "69         547     547        547\n",
       "5          512     512        512\n",
       "...        ...     ...        ...\n",
       "359          1       1          1\n",
       "321          1       1          1\n",
       "284          1       1          1\n",
       "302          1       1          1\n",
       "374          1       1          1\n",
       "\n",
       "[375 rows x 3 columns]"
      ]
     },
     "execution_count": 3,
     "metadata": {},
     "output_type": "execute_result"
    }
   ],
   "source": [
    "train_set.groupby('itemID').count().sort_values(by='userID', ascending=False)"
   ]
  },
  {
   "cell_type": "code",
   "execution_count": 4,
   "metadata": {
    "colab": {},
    "colab_type": "code",
    "id": "mD4Io9UA5zDT",
    "outputId": "8015e618-1b9b-4cc5-a37d-366d3d3e80bf"
   },
   "outputs": [
    {
     "data": {
      "text/plain": [
       "itemID\n",
       "66    741\n",
       "1     601\n",
       "76    548\n",
       "69    547\n",
       "5     512\n",
       "Name: itemID, dtype: int64"
      ]
     },
     "execution_count": 4,
     "metadata": {},
     "output_type": "execute_result"
    }
   ],
   "source": [
    "train_set.head()\n",
    "d = train_set.groupby('itemID').count()['userID'].sort_values( ascending=False)\n",
    "d.name = 'itemID'\n",
    "d.head()\n",
    "\n"
   ]
  },
  {
   "cell_type": "markdown",
   "metadata": {
    "colab_type": "text",
    "id": "Aru51gpw5zDh"
   },
   "source": [
    "## Part 1: Recommend Most Popular Items "
   ]
  },
  {
   "attachments": {},
   "cell_type": "markdown",
   "metadata": {
    "colab_type": "text",
    "id": "A198sQHy5zDk"
   },
   "source": [
    "Now we can begin implementing our first algorithm, that recommends to the user the list of most popular items. Although this is not a personalized approach, in many cases, this is not a bad idea - popular items are popular because everybody choose them, so there is a high likelihood that recommended popular items will be indeed chosen by the user.\n",
    "\n",
    "In the code below, fill in the missing parts. The algorithm has a training method, where item popularity is computed, and a recommendation method, where the list of popular items."
   ]
  },
  {
   "cell_type": "code",
   "execution_count": 129,
   "metadata": {
    "colab": {},
    "colab_type": "code",
    "collapsed": true,
    "id": "SnPMdrj05zDn"
   },
   "outputs": [],
   "source": [
    "class MostPopular:\n",
    "\n",
    "    def __init__(self):\n",
    "        self.item_ratings_sorted = None\n",
    "        self.train_set = None\n",
    "\n",
    "    def learn_model(self, train_set):\n",
    "        self.train_set = train_set\n",
    "        #1) Add code to set the item_ratings_sorted to the list of items in the training set, \n",
    "        #ordered by decreasing popularity (i.e., the number of users who have chosen an item)\n",
    "        # group by item, sort by count\n",
    "        self.item_ratings_sorted = self.train_set.groupby('itemID').count()['userID'].sort_values( ascending=False)\n",
    "        self.item_ratings_sorted.name = 'itemID'\n",
    "        \n",
    "\n",
    "    def get_top_n_recommendations(self, test_set, top_n):\n",
    "        result = {}\n",
    "        already_ranked_items_by_user = self.train_set.groupby('userID')['itemID'].apply(list)\n",
    "        \n",
    "        #For each user in the test set compute recommendations\n",
    "        for userID in test_set.userID.unique():\n",
    "            user_items = already_ranked_items_by_user[userID]\n",
    "            \n",
    "            filtered_user_items_idx = np.setdiff1d(self.item_ratings_sorted.index, user_items).tolist()\n",
    "            result[str(userID)] = self.item_ratings_sorted[filtered_user_items_idx].sort_values(ascending=False).head(top_n).index.to_list()\n",
    "        return result\n",
    "\n",
    "    def clone(self):\n",
    "        pass\n"
   ]
  },
  {
   "cell_type": "markdown",
   "metadata": {
    "colab_type": "text",
    "id": "3ntFJWgb5zDu"
   },
   "source": [
    "Now we can call the most popular algorithm to deliver a list of reocmmendations. The code below prints the list of top 5 recommended items for user with ID 431."
   ]
  },
  {
   "cell_type": "code",
   "execution_count": 130,
   "metadata": {},
   "outputs": [
    {
     "data": {
      "text/html": [
       "<div>\n",
       "<style scoped>\n",
       "    .dataframe tbody tr th:only-of-type {\n",
       "        vertical-align: middle;\n",
       "    }\n",
       "\n",
       "    .dataframe tbody tr th {\n",
       "        vertical-align: top;\n",
       "    }\n",
       "\n",
       "    .dataframe thead th {\n",
       "        text-align: right;\n",
       "    }\n",
       "</style>\n",
       "<table border=\"1\" class=\"dataframe\">\n",
       "  <thead>\n",
       "    <tr style=\"text-align: right;\">\n",
       "      <th></th>\n",
       "      <th>userID</th>\n",
       "      <th>itemID</th>\n",
       "      <th>rating</th>\n",
       "      <th>timestamp</th>\n",
       "    </tr>\n",
       "    <tr>\n",
       "      <th>index</th>\n",
       "      <th></th>\n",
       "      <th></th>\n",
       "      <th></th>\n",
       "      <th></th>\n",
       "    </tr>\n",
       "  </thead>\n",
       "  <tbody>\n",
       "    <tr>\n",
       "      <th>69</th>\n",
       "      <td>431</td>\n",
       "      <td>366</td>\n",
       "      <td>9</td>\n",
       "      <td>14/09/2018</td>\n",
       "    </tr>\n",
       "    <tr>\n",
       "      <th>70</th>\n",
       "      <td>431</td>\n",
       "      <td>342</td>\n",
       "      <td>6</td>\n",
       "      <td>14/09/2018</td>\n",
       "    </tr>\n",
       "    <tr>\n",
       "      <th>71</th>\n",
       "      <td>431</td>\n",
       "      <td>362</td>\n",
       "      <td>7</td>\n",
       "      <td>14/09/2018</td>\n",
       "    </tr>\n",
       "    <tr>\n",
       "      <th>72</th>\n",
       "      <td>431</td>\n",
       "      <td>365</td>\n",
       "      <td>8</td>\n",
       "      <td>14/09/2018</td>\n",
       "    </tr>\n",
       "    <tr>\n",
       "      <th>933</th>\n",
       "      <td>431</td>\n",
       "      <td>85</td>\n",
       "      <td>7</td>\n",
       "      <td>14/10/2018</td>\n",
       "    </tr>\n",
       "    <tr>\n",
       "      <th>934</th>\n",
       "      <td>431</td>\n",
       "      <td>372</td>\n",
       "      <td>8</td>\n",
       "      <td>14/10/2018</td>\n",
       "    </tr>\n",
       "  </tbody>\n",
       "</table>\n",
       "</div>"
      ],
      "text/plain": [
       "       userID  itemID rating   timestamp\n",
       "index                                   \n",
       "69        431     366      9  14/09/2018\n",
       "70        431     342      6  14/09/2018\n",
       "71        431     362      7  14/09/2018\n",
       "72        431     365      8  14/09/2018\n",
       "933       431      85      7  14/10/2018\n",
       "934       431     372      8  14/10/2018"
      ]
     },
     "execution_count": 130,
     "metadata": {},
     "output_type": "execute_result"
    }
   ],
   "source": [
    "test_set[test_set.userID == 431]"
   ]
  },
  {
   "cell_type": "code",
   "execution_count": 131,
   "metadata": {
    "colab": {},
    "colab_type": "code",
    "id": "YsnRl1VU5zDw",
    "outputId": "3b1587e7-312d-4050-a656-71ef429fa6b7"
   },
   "outputs": [
    {
     "name": "stdout",
     "output_type": "stream",
     "text": [
      "[53, 26, 68, 85, 16]\n"
     ]
    }
   ],
   "source": [
    "popular = MostPopular()\n",
    "popular.learn_model(train_set)\n",
    "popular_recs = popular.get_top_n_recommendations(test_set,top_n=5)\n",
    "print(popular_recs['431'])\n",
    "assert popular_recs['431'] == [53, 26, 68, 85, 16], 'Wrong computation of popular items'"
   ]
  },
  {
   "cell_type": "code",
   "execution_count": 79,
   "metadata": {},
   "outputs": [
    {
     "data": {
      "text/plain": [
       "{'431': [],\n",
       " '433': [5],\n",
       " '4463': [1, 5, 66, 69, 76],\n",
       " '12663': [1, 5, 66, 69, 76],\n",
       " '4501': [5, 69, 76],\n",
       " '4502': [5, 69],\n",
       " '582': [1, 5, 66, 69, 76],\n",
       " '4516': [69, 76],\n",
       " '660': [5, 66, 69, 76],\n",
       " '671': [1, 5, 66, 69, 76],\n",
       " '681': [5, 66, 69, 76],\n",
       " '697': [1, 5, 66, 69, 76],\n",
       " '765': [5, 66, 76],\n",
       " '4809': [1, 5, 66, 69, 76],\n",
       " '12684': [5, 66, 69, 76],\n",
       " '4957': [1, 5, 66, 69, 76],\n",
       " '4993': [1, 5, 66],\n",
       " '5397': [1, 5, 66, 69, 76],\n",
       " '5517': [1, 5, 69, 76],\n",
       " '5518': [1, 5, 66, 69, 76],\n",
       " '5534': [5],\n",
       " '5557': [5, 69, 76],\n",
       " '5559': [1, 5, 66, 76],\n",
       " '5640': [],\n",
       " '5713': [1, 5, 66, 69, 76],\n",
       " '5731': [1, 5, 66, 69, 76],\n",
       " '12839': [],\n",
       " '12940': [1, 5, 66, 69, 76],\n",
       " '12979': [1, 5, 66, 69, 76],\n",
       " '13013': [5, 69],\n",
       " '19970': [1, 5, 69],\n",
       " '13138': [1, 5, 66, 69, 76],\n",
       " '13237': [1, 5, 66, 69, 76],\n",
       " '13280': [1, 5, 69, 76],\n",
       " '17812': [1, 5, 66, 69, 76],\n",
       " '13337': [5, 66, 69, 76],\n",
       " '13386': [1, 5, 66, 69, 76],\n",
       " '13389': [1, 5, 66, 69, 76],\n",
       " '13397': [1, 66, 69],\n",
       " '878': [5, 66],\n",
       " '17285': [1, 5, 66, 69, 76],\n",
       " '18953': [1, 5, 69, 76],\n",
       " '18682': [1, 5, 66, 69, 76],\n",
       " '19224': [5, 66, 69, 76],\n",
       " '18695': [1, 5, 66, 69, 76],\n",
       " '19704': [1, 5, 66, 69, 76],\n",
       " '6209': [],\n",
       " '19460': [1, 5, 66, 69, 76],\n",
       " '6243': [1, 5, 66, 69, 76],\n",
       " '17314': [1, 5, 66, 69, 76],\n",
       " '17316': [1, 5, 66, 69, 76],\n",
       " '915': [1, 5, 66, 69, 76],\n",
       " '6298': [69, 76],\n",
       " '935': [5, 66, 69, 76],\n",
       " '938': [1, 5, 66, 69, 76],\n",
       " '6431': [5],\n",
       " '6593': [1, 5, 66, 69, 76],\n",
       " '1229': [1, 5, 66, 69, 76],\n",
       " '13796': [1, 5, 66, 69, 76],\n",
       " '6891': [5, 69],\n",
       " '6935': [1, 5, 66, 69, 76],\n",
       " '6975': [1, 76],\n",
       " '1337': [5, 69, 76],\n",
       " '17887': [1, 5, 66, 69, 76],\n",
       " '1354': [],\n",
       " '1374': [5, 69, 76],\n",
       " '7103': [5, 69, 76],\n",
       " '1386': [5],\n",
       " '1398': [1, 66, 69, 76],\n",
       " '7245': [69],\n",
       " '1422': [5, 69, 76],\n",
       " '19243': [1, 5, 66, 69, 76],\n",
       " '17895': [5, 66, 69, 76],\n",
       " '7485': [1, 5, 66, 69, 76],\n",
       " '7675': [1, 5, 66, 76],\n",
       " '7738': [5, 66, 69, 76],\n",
       " '17353': [1, 5, 66, 69, 76],\n",
       " '7916': [5, 69, 76],\n",
       " '7985': [5],\n",
       " '8026': [1, 5, 69, 76],\n",
       " '14283': [5],\n",
       " '8193': [1, 5, 66, 69, 76],\n",
       " '14371': [1, 5, 66, 69, 76],\n",
       " '14382': [1, 5, 66, 69, 76],\n",
       " '18723': [1, 5, 66, 69, 76],\n",
       " '14468': [5, 66],\n",
       " '14477': [1, 5, 66, 69, 76],\n",
       " '14540': [5, 66, 69, 76],\n",
       " '14586': [1, 5, 66, 69, 76],\n",
       " '17387': [1, 5, 66, 69, 76],\n",
       " '14644': [5, 69],\n",
       " '19257': [1, 5, 66, 69, 76],\n",
       " '14831': [5, 66],\n",
       " '14848': [1, 5, 66, 69, 76],\n",
       " '19741': [1, 5, 66, 69, 76],\n",
       " '14872': [5, 69],\n",
       " '14880': [1, 5, 66, 76],\n",
       " '14943': [1, 5, 66, 69, 76],\n",
       " '20020': [5, 69, 76],\n",
       " '18738': [1, 5, 69, 76],\n",
       " '18366': [5, 69, 76],\n",
       " '17435': [1, 5, 66, 69, 76],\n",
       " '19759': [1, 5, 66, 69, 76],\n",
       " '18750': [1, 5, 66, 69, 76],\n",
       " '17961': [1, 5, 66, 69, 76],\n",
       " '8361': [5, 76],\n",
       " '8418': [1, 66, 76],\n",
       " '8481': [1, 5, 66, 69, 76],\n",
       " '18763': [1, 5, 66, 69, 76],\n",
       " '19293': [1, 5, 76],\n",
       " '1504': [1, 5, 66, 69, 76],\n",
       " '8628': [1, 5, 66, 69, 76],\n",
       " '19513': [1, 5, 66, 69, 76],\n",
       " '8752': [1, 5, 66, 69, 76],\n",
       " '8801': [1, 5, 66, 69, 76],\n",
       " '8945': [1, 5, 66, 69, 76],\n",
       " '19793': [1, 5, 66, 69, 76],\n",
       " '9051': [1, 5, 66, 69, 76],\n",
       " '9087': [1, 5, 66, 69, 76],\n",
       " '17989': [1, 5, 66, 69, 76],\n",
       " '15227': [1, 5, 66, 69, 76],\n",
       " '15241': [1, 5, 66, 69, 76],\n",
       " '9211': [5, 69],\n",
       " '9251': [5, 66, 69, 76],\n",
       " '9277': [1, 5, 66, 69, 76],\n",
       " '9388': [1, 5, 66, 69, 76],\n",
       " '19300': [1, 5, 66, 69, 76],\n",
       " '9437': [],\n",
       " '17994': [1, 5, 66, 69, 76],\n",
       " '9659': [1, 5, 66, 69, 76],\n",
       " '9747': [1, 5, 66, 69, 76],\n",
       " '15492': [1, 5, 66, 69, 76],\n",
       " '15650': [1, 5, 66, 69, 76],\n",
       " '15670': [1, 5, 66, 69, 76],\n",
       " '20086': [1, 5, 66, 69, 76],\n",
       " '1624': [1, 5, 69, 76],\n",
       " '15849': [1, 5, 66, 69, 76],\n",
       " '15945': [5, 69, 76],\n",
       " '15976': [1, 5, 66, 69, 76],\n",
       " '19311': [1, 5, 66, 69, 76],\n",
       " '10139': [1, 5, 66, 69],\n",
       " '16099': [66, 69, 76],\n",
       " '10153': [5, 69],\n",
       " '18045': [1, 5, 66, 69, 76],\n",
       " '18048': [1, 5, 66, 69, 76],\n",
       " '1659': [5, 69],\n",
       " '10204': [1, 5, 66, 69, 76],\n",
       " '1665': [1, 5, 66, 69, 76],\n",
       " '10259': [5, 69, 76],\n",
       " '10263': [1, 5, 66, 69],\n",
       " '18072': [1, 5, 66, 69, 76],\n",
       " '10328': [1, 5, 66, 69, 76],\n",
       " '16602': [1, 5, 66, 69, 76],\n",
       " '19560': [1, 5, 66, 69, 76],\n",
       " '18830': [1, 5, 66, 69, 76],\n",
       " '10406': [5, 66, 69, 76],\n",
       " '19837': [1, 5, 66, 69, 76],\n",
       " '16686': [5, 66, 76],\n",
       " '18551': [5, 69, 76],\n",
       " '19079': [1, 5, 66, 69, 76],\n",
       " '20160': [1, 5, 66, 69, 76],\n",
       " '20167': [1, 5, 66, 69, 76],\n",
       " '19088': [1, 5, 66, 69, 76],\n",
       " '1702': [1, 5, 66, 69, 76],\n",
       " '16914': [1, 5, 66, 69, 76],\n",
       " '1719': [5, 66, 69, 76],\n",
       " '1727': [1, 66, 69, 76],\n",
       " '1753': [],\n",
       " '17010': [1, 5, 66, 69, 76],\n",
       " '10839': [1, 5, 66, 69, 76],\n",
       " '17034': [1, 5, 66, 69, 76],\n",
       " '1815': [5, 69],\n",
       " '18142': [1, 5, 66, 69, 76],\n",
       " '1823': [69, 76],\n",
       " '1831': [1, 5, 66, 69, 76],\n",
       " '1834': [],\n",
       " '1849': [1, 5, 66, 69, 76],\n",
       " '1866': [5, 66, 69, 76],\n",
       " '10939': [1, 5, 66, 69, 76],\n",
       " '514': [5],\n",
       " '4509': [76],\n",
       " '609': [1, 5, 66, 69, 76],\n",
       " '4621': [1, 5, 66, 69, 76],\n",
       " '4692': [1, 5, 69, 76],\n",
       " '792': [],\n",
       " '5186': [1, 5, 66, 76],\n",
       " '5422': [1, 5, 66, 69],\n",
       " '5860': [1, 5, 66, 69, 76],\n",
       " '5992': [1, 5, 66, 69, 76],\n",
       " '6006': [1, 5, 66, 69, 76],\n",
       " '6015': [1, 5, 66, 69, 76],\n",
       " '12992': [1, 5, 66, 69, 76],\n",
       " '13306': [1, 5, 66, 69, 76],\n",
       " '19682': [1, 5, 66, 69, 76],\n",
       " '6199': [1, 69, 76],\n",
       " '17319': [1, 5, 66, 69, 76],\n",
       " '944': [1, 5, 66, 69, 76],\n",
       " '6664': [1, 5, 76],\n",
       " '7012': [1, 5, 66, 69, 76],\n",
       " '17888': [1, 5, 66, 69, 76],\n",
       " '7220': [5, 66, 69],\n",
       " '13958': [69, 76],\n",
       " '17896': [1, 5, 66, 69, 76],\n",
       " '14042': [1, 5, 66, 69, 76],\n",
       " '20013': [1, 5, 66, 69, 76],\n",
       " '14138': [1, 5, 66, 69, 76],\n",
       " '14214': [1, 5, 66, 69, 76],\n",
       " '14251': [1, 5, 66, 69, 76],\n",
       " '18720': [1, 5, 66, 69, 76],\n",
       " '17907': [1, 5, 66, 69, 76],\n",
       " '8307': [1, 5, 66, 76],\n",
       " '8325': [5, 66, 69, 76],\n",
       " '17909': [1, 5, 66, 69, 76],\n",
       " '14863': [1, 5, 66, 69, 76],\n",
       " '19492': [1, 5, 66, 69, 76],\n",
       " '9442': [1, 5, 66, 69, 76],\n",
       " '9914': [5, 69],\n",
       " '16075': [1, 5, 66, 69, 76],\n",
       " '17563': [1, 5, 66, 69, 76],\n",
       " '18049': [1, 5, 66, 69, 76],\n",
       " '19543': [1, 5, 66, 69, 76],\n",
       " '16653': [1, 5, 66, 69, 76],\n",
       " '19564': [5, 66, 69, 76],\n",
       " '16754': [1, 5, 66, 69, 76],\n",
       " '18133': [1, 5, 66, 69, 76],\n",
       " '1858': [1, 5, 66, 76],\n",
       " '10946': [1, 5, 66, 69, 76]}"
      ]
     },
     "execution_count": 79,
     "metadata": {},
     "output_type": "execute_result"
    }
   ],
   "source": [
    "popular_recs"
   ]
  },
  {
   "cell_type": "markdown",
   "metadata": {
    "colab_type": "text",
    "id": "RB9d0u8E5zD6"
   },
   "source": [
    "## Part 2 - Item-Item Recommendations"
   ]
  },
  {
   "cell_type": "markdown",
   "metadata": {
    "colab_type": "text",
    "id": "my9Y885z5zD9"
   },
   "source": [
    "We now learn a slightly more sophisticated model, that uses item-item similarities. Given such a similarity score, we can recommend to a user items that are most similar to the items that the user has chosen in the past. One such useful similarity metric is the Jaccard coefficient. For two items i1 and i2, the Jaccard similarity is the number of users who have chosen both i1 and i2, divided by the number of users who have chosen either i1 or i2. That is, given the list of users who have chosen i1 and the list of users who have chosen i2, the Jaccard similarity is the intersection of the lists, divided by the union of the lists.\n",
    "\n",
    "In practice, to expedite the recommendation process, and hence reduce online latency, we will compute the item-item co-occurence matrix in the model learning phase. Then, online, when recommendations are requested, we only need to compute for each item that the user has already chosen in the past, the Jaccard scores for the other items.\n",
    "\n",
    "As the user has chosen several items in the past, we need to aggregate the Jaccard scores. That is, if the user has previously chosen i1 and i2, item i3 has two scores J(i1,i3) and J(i2,i3), and an aggregation of the scores is needed. There are two popular aggregation functions - sum and max. Empirically, max typically has better perfromance.\n",
    "\n",
    "Fill in the missing parts in the code below."
   ]
  },
  {
   "cell_type": "code",
   "execution_count": null,
   "metadata": {
    "colab": {},
    "colab_type": "code",
    "collapsed": true,
    "id": "-CfCYaCR5zD-"
   },
   "outputs": [],
   "source": [
    "from tqdm import tqdm\n",
    "import numpy as np\n",
    "import operator\n",
    "\n",
    "class Jaccard:\n",
    "\n",
    "    def __init__(self):\n",
    "        self.item_ratings_sorted = None\n",
    "        self.train_set = None\n",
    "        self.item_item_counts = dict()\n",
    "        self.item_counts = None\n",
    "\n",
    "    def learn_model(self, train_set):\n",
    "        print('Started training')\n",
    "        self.train_set = train_set\n",
    "        self.item_counts =  self.train_set.groupby('itemID')['userID'].agg('count')\n",
    "        \n",
    "        maxpair = 0\n",
    "        pbar = tqdm(total=len(train_set.userID.unique()))\n",
    "        \n",
    "        #Iterating over all item pairs is inefficient. It is better to iterate only over pairs of items that were chosen together.\n",
    "        #Instead, we will iterate over the users, and for each user, and each two items that the user has chosen, increase the count\n",
    "        for u in train_set.userID.unique():\n",
    "            pbar.update(1)\n",
    "            userData = self.train_set[self.train_set.userID == u]\n",
    "            \n",
    "            #4) For each pair of items in the user data - increase the counts in self.item_item_counts\n",
    "        \n",
    "\n",
    "        pbar.close()\n",
    "        print('Done training')\n",
    "            \n",
    "            \n",
    "            \n",
    "\n",
    "    def get_top_n_recommendations(self, test_set, top_n):\n",
    "        print('Started computing recommendations')\n",
    "        result = {}\n",
    "        already_ranked_items_by_users = self.train_set.groupby('userID')['itemID'].apply(list)\n",
    "        \n",
    "        pbar = tqdm(total=len(test_set.userID.unique()))\n",
    "        \n",
    "        #For each user in the test set compute recommendations\n",
    "        for userID in test_set.userID.unique():\n",
    "            pbar.update(1)\n",
    "            result[str(userID)] = []\n",
    "            #maxvalues will maintain for each potential item to recommend its highest Jaccard score.\n",
    "            maxvalues = dict()\n",
    "            \n",
    "            #4) Iterate over the items that the user has already chosen.\n",
    "            #For each such item compute its Jaccard correlation to other items based on the item_item_counts.\n",
    "            #Aggregate into maxvalues using max.\n",
    "            #Avoid recommending items that the user has already chosen in the training set.\n",
    "            for i in already_ranked_items_by_users[userID]:\n",
    "                \n",
    "            \n",
    "            #Now we just take the top N items by decreasing Jaccard\n",
    "            top_list = sorted(maxvalues.items(), key=lambda kv : -kv[1])\n",
    "            i=0\n",
    "            j=0\n",
    "            while i < top_n and j < len(top_list):\n",
    "                itemID = top_list[j][0]\n",
    "                j = j + 1\n",
    "                result[str(userID)].append(itemID)\n",
    "                i = i + 1\n",
    "            \n",
    "        pbar.close()\n",
    "        print('Done computing recommendations')\n",
    "        return result\n",
    "\n",
    "    \n",
    "    def clone(self):\n",
    "        pass\n"
   ]
  },
  {
   "cell_type": "markdown",
   "metadata": {
    "colab_type": "raw",
    "id": "qa-ZrkOT5zEF"
   },
   "source": [
    "The code below trains a Jaccard model and generates recommendations. Training will take a while, as we need to iterate over all users, and for each user go over her items in quadratic time."
   ]
  },
  {
   "cell_type": "code",
   "execution_count": null,
   "metadata": {
    "colab": {},
    "colab_type": "code",
    "id": "gpP9JFqj5zEH",
    "outputId": "45ba9eac-58ee-45f8-dcab-dac1686ec115"
   },
   "outputs": [],
   "source": [
    "jaccard = Jaccard()\n",
    "jaccard.learn_model(train_set)\n",
    "jaccard_recs = jaccard.get_top_n_recommendations(test_set,top_n=5)\n"
   ]
  },
  {
   "cell_type": "markdown",
   "metadata": {
    "colab_type": "text",
    "id": "1hhkOlW65zEP"
   },
   "source": [
    "As a side note - as computing the ite-item counts takes a while (especially with Python), we are using here the progress bar from the tqdm package (https://pypi.org/project/tqdm/). You need to install tqdm, or remove the progress bar, which would of course is not needed for the algorithm to run."
   ]
  },
  {
   "cell_type": "markdown",
   "metadata": {
    "colab_type": "text",
    "id": "pnxthAqj5zES"
   },
   "source": [
    "## Part 3 - Comparing the Algorithms "
   ]
  },
  {
   "cell_type": "markdown",
   "metadata": {
    "colab_type": "text",
    "id": "bESNd1ce5zEW"
   },
   "source": [
    "We now want to compare the recommendation lists to see which one is better. In top-N recommendations it is popular to computer the Precision@N metric - the portion of recommended items that were chosen by users in the test set. This is typically a reasonable metric for real systems, where one wants to optimize the number of recommended items that are chosen.\n",
    "\n",
    "We compute Precision@N by comparing the number of recommendations chosen by the users, divided by the number of overall recommendations.\n",
    "\n",
    "Fill in the missing parts in the code below:"
   ]
  },
  {
   "cell_type": "code",
   "execution_count": null,
   "metadata": {
    "colab": {},
    "colab_type": "code",
    "collapsed": true,
    "id": "PbfW_Hv25zEY"
   },
   "outputs": [],
   "source": [
    "def compute_precision(test_set, recommendations):\n",
    "    #hits is the number of items that were recommended and chosen\n",
    "    hits = 0\n",
    "    #recs is the total number of recommended items\n",
    "    recs = 0\n",
    "    \n",
    "    for u in test_set.userID.unique():\n",
    "        userData = test_set[test_set.userID == u]\n",
    "        userRecs = recommendations.get(str(u))\n",
    "        #5) Compute here the number of hits. Update hits and recs accordingly.\n",
    "        \n",
    "    return hits / recs\n",
    "        \n",
    "    "
   ]
  },
  {
   "cell_type": "code",
   "execution_count": null,
   "metadata": {
    "colab": {},
    "colab_type": "code",
    "id": "-AJvW67S5zEe",
    "outputId": "17e4b0ff-5e0b-49d9-de38-1cdd2101bf61"
   },
   "outputs": [],
   "source": [
    "p1 = compute_precision(test_set, jaccard_recs)\n",
    "p2 = compute_precision(test_set, popular_recs)\n",
    "print(\"Jaccard=\", p1, \"  Popularity=\", p2)"
   ]
  },
  {
   "cell_type": "markdown",
   "metadata": {
    "colab_type": "text",
    "id": "6SXmVklZ5zEm"
   },
   "source": [
    "The precision values for this dataset may seem pretty low, but this is typical for many top-N problems. It is important not to compute metrics that hide the true values, such as AUC, but to acknowledge the perfromance of the system in the application."
   ]
  },
  {
   "cell_type": "markdown",
   "metadata": {
    "colab_type": "text",
    "id": "j84r4jBp5zEp"
   },
   "source": [
    "## Part 4 - Calling Algorithms from the Surprise Package"
   ]
  },
  {
   "cell_type": "markdown",
   "metadata": {
    "colab_type": "text",
    "collapsed": true,
    "id": "mXS50Vnj5zEs"
   },
   "source": [
    "There are many existing recommendation algorithms available. We will now see how we can call algorithms from the Surprise package. \n",
    "\n",
    "The code below adds a wrapper around the algorithm to transform the resulting recommendations into our desired format."
   ]
  },
  {
   "cell_type": "markdown",
   "metadata": {
    "colab_type": "text",
    "id": "i7vTBSmw5zEs"
   },
   "source": [
    "#### NOTE: \n",
    "To run the code below you first have to install _surprise_ (http://surpriselib.com/). surprise requires scipy >=1.0, so update if needed.\n",
    "\n",
    "To install: pip install scikit-surprise or, if you're using anaconda:  conda install -c conda-forge scikit-surprise).  "
   ]
  },
  {
   "cell_type": "code",
   "execution_count": null,
   "metadata": {
    "colab": {},
    "colab_type": "code",
    "collapsed": true,
    "id": "bnOWlz-m5zEv"
   },
   "outputs": [],
   "source": [
    "import sys, string, os\n",
    "import pandas as pd\n",
    "import itertools\n",
    "from tqdm import tqdm\n",
    "import numpy as np\n",
    "import operator\n",
    "from surprise import Reader\n",
    "from surprise import Dataset\n",
    "from surprise.model_selection import PredefinedKFold\n",
    "from surprise.prediction_algorithms import *\n",
    "\n",
    "\n",
    "\n",
    "class SurpriseRecMethod():\n",
    "\n",
    "    #method will be the specific Surprise algorithm that we will call\n",
    "    def __init__(self, method):\n",
    "        self.method = method\n",
    "\n",
    "    def fit(self, train_set):\n",
    "        self.train_set = train_set\n",
    "\n",
    "\n",
    "    def get_top_n_recommendations(self, test_set, top_n):\n",
    "        self.test_set = test_set\n",
    "\n",
    "        #Surprise requires a slightly different input data format, so we use two different CSVs\n",
    "        test_path_tmp = \"resources//test_file.csv\"\n",
    "        train_path_tmp = \"resources//train_file.csv\"\n",
    "\n",
    "        self.train_set.to_csv(train_path_tmp, index=False, header=False)\n",
    "        self.test_set.to_csv(test_path_tmp, index=False, header=False)\n",
    "\n",
    "        fold_files = [(train_path_tmp, test_path_tmp)]\n",
    "        reader = Reader(rating_scale=(1, 10), line_format='user item rating', sep=',')\n",
    "        data = Dataset.load_from_folds(fold_files, reader=reader)\n",
    "\n",
    "        for trainset, testset in PredefinedKFold().split(data):\n",
    "            self.method.fit(trainset)\n",
    "\n",
    "        already_ranked_items_by_users = self.train_set.groupby('userID')['itemID'].apply(list)\n",
    "\n",
    "        recommendations = {}\n",
    "        pbar = tqdm(total=len(self.test_set.userID.unique()))\n",
    "        for userID in self.test_set.userID.unique():\n",
    "            pbar.update(1)\n",
    "\n",
    "            if userID not in self.train_set.userID.unique():\n",
    "                recommendations[str(userID)] = []\n",
    "                continue\n",
    "\n",
    "            items_expected_ranking = {}\n",
    "            for itemID in self.train_set.itemID.unique():\n",
    "                if itemID in already_ranked_items_by_users[userID]:\n",
    "                    continue\n",
    "                #We call here the specific Surprise method that we use for this model\n",
    "                #The method predicts a score for a given item\n",
    "                predicted = self.method.predict(str(userID), str(itemID), clip=False)\n",
    "                items_expected_ranking[itemID] = predicted[3]\n",
    "                \n",
    "            #Now we just sort by decreasing scores and take the top N\n",
    "            sorted_predictions = sorted(items_expected_ranking.items(), key=operator.itemgetter(1))\n",
    "            sorted_predictions.reverse()\n",
    "            sorted_predictions = [x[0] for x in sorted_predictions]\n",
    "            user_recommendations = sorted_predictions[:top_n]\n",
    "            recommendations[str(userID)] = user_recommendations\n",
    "        pbar.close()\n",
    "        return recommendations\n"
   ]
  },
  {
   "cell_type": "markdown",
   "metadata": {
    "colab_type": "text",
    "id": "3YIHU4ZL5zE5"
   },
   "source": [
    "The code below calls the package with the SlopeOne algorithm."
   ]
  },
  {
   "cell_type": "code",
   "execution_count": null,
   "metadata": {
    "colab": {},
    "colab_type": "code",
    "id": "vsXXqfoD5zE6",
    "outputId": "6ddbe18f-7994-4c6f-828b-4ee51ee0e9e8"
   },
   "outputs": [],
   "source": [
    "modelSlopeOne = SurpriseRecMethod(SlopeOne())\n",
    "modelSlopeOne.fit(train_set)\n",
    "recSlopeOne = modelSlopeOne.get_top_n_recommendations(test_set, 5)\n",
    "p3 = compute_precision(test_set,recSlopeOne)"
   ]
  },
  {
   "cell_type": "markdown",
   "metadata": {
    "colab_type": "text",
    "id": "-4UeYiqg5zFE"
   },
   "source": [
    "The code below calls the package with a nearest neighbor user-item recommendation method."
   ]
  },
  {
   "cell_type": "code",
   "execution_count": null,
   "metadata": {
    "colab": {},
    "colab_type": "code",
    "collapsed": true,
    "id": "up4c0wqr5zFH"
   },
   "outputs": [],
   "source": [
    "modelKNNUser = SurpriseRecMethod(KNNBasic(sim_options={'name': 'cosine', 'user_based': True}))\n",
    "modelKNNUser.fit(train_set)\n",
    "recKNNUser = modelKNNUser.get_top_n_recommendations(test_set, 5)\n",
    "p4 = compute_precision(test_set,recKNNUser)"
   ]
  },
  {
   "cell_type": "markdown",
   "metadata": {
    "colab_type": "text",
    "id": "e-FDg7Sk5zFP"
   },
   "source": [
    "Let us look at the results of all algorithms together:"
   ]
  },
  {
   "cell_type": "code",
   "execution_count": null,
   "metadata": {
    "colab": {},
    "colab_type": "code",
    "collapsed": true,
    "id": "MOrBFXVN5zFR"
   },
   "outputs": [],
   "source": [
    "pd.DataFrame.from_dict({'Jaccard':p1,'Popularity':p2,'SlopeOne':p3,'User KNN':p4}, orient='index',columns=['Precision'])"
   ]
  },
  {
   "cell_type": "markdown",
   "metadata": {
    "colab_type": "text",
    "id": "y9-JSGCE5zFY"
   },
   "source": [
    "Try the NMF (non-negative matrix factorization) algorithms from the package - https://surprise.readthedocs.io/en/stable/matrix_factorization.html#surprise.prediction_algorithms.matrix_factorization.NMF.\n"
   ]
  },
  {
   "cell_type": "code",
   "execution_count": null,
   "metadata": {
    "colab": {},
    "colab_type": "code",
    "collapsed": true,
    "id": "IfHe-_iB5zFZ"
   },
   "outputs": [],
   "source": [
    "#Your code here"
   ]
  },
  {
   "cell_type": "markdown",
   "metadata": {
    "colab_type": "text",
    "id": "wPSTAFb15zFf"
   },
   "source": [
    "For this particular dataset, the user nearest neighbor approach worked best. Hence, should we need to choose a method to put online, we should go with this method."
   ]
  },
  {
   "cell_type": "code",
   "execution_count": null,
   "metadata": {
    "colab": {},
    "colab_type": "code",
    "collapsed": true,
    "id": "3DCxLTlC5zFj"
   },
   "outputs": [],
   "source": []
  }
 ],
 "metadata": {
  "colab": {
   "name": "ExcerciseTopN.ipynb",
   "provenance": [],
   "version": "0.3.2"
  },
  "kernelspec": {
   "display_name": "base",
   "language": "python",
   "name": "python3"
  },
  "language_info": {
   "codemirror_mode": {
    "name": "ipython",
    "version": 3
   },
   "file_extension": ".py",
   "mimetype": "text/x-python",
   "name": "python",
   "nbconvert_exporter": "python",
   "pygments_lexer": "ipython3",
   "version": "3.9.13 (main, Aug 25 2022, 23:51:50) [MSC v.1916 64 bit (AMD64)]"
  },
  "vscode": {
   "interpreter": {
    "hash": "97bf5cac092693491f9f0c093044444828bd281c57f8a7f0d4a6df9d6c416292"
   }
  }
 },
 "nbformat": 4,
 "nbformat_minor": 1
}
