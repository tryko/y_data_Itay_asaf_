{
 "cells": [
  {
   "cell_type": "markdown",
   "metadata": {
    "id": "5ZVk8IlU8IBS"
   },
   "source": [
    "# Assignment: Unsupervised Machine Learning \\ Clustering"
   ]
  },
  {
   "cell_type": "markdown",
   "metadata": {
    "id": "DKiTuQzY8IBT"
   },
   "source": [
    "In this assignment you will continue the experience you've done with clustering - this time, via hierarchical clustering and DBSCAN."
   ]
  },
  {
   "cell_type": "markdown",
   "metadata": {
    "id": "Xs7GCmaB8IBU"
   },
   "source": [
    "## Part 1: Hierarchical Clustering\n",
    "(Practice material by Etam Benger)\n",
    "\n",
    "In this part we are going to experiment with Hierarchical Clustering, a very powerfull clustering technique that can easily be interperted and explained via the dendrgoram.\n",
    "\n",
    "The analyses are made on real datasets under the circumstances of real life challenges in unsupervised machine learning."
   ]
  },
  {
   "cell_type": "markdown",
   "metadata": {
    "id": "lFGHvm-r8IBU"
   },
   "source": [
    "### Different ways to calculate the distance between clusters can yield strikingly different results"
   ]
  },
  {
   "cell_type": "code",
   "execution_count": 2,
   "metadata": {
    "id": "Oi0EKHGv8IBV"
   },
   "outputs": [],
   "source": [
    "import numpy as np\n",
    "from scipy.spatial.distance import squareform\n",
    "from scipy.cluster import hierarchy\n",
    "import pandas as pd\n",
    "import matplotlib.pyplot as plt\n",
    "%matplotlib inline"
   ]
  },
  {
   "cell_type": "code",
   "execution_count": 3,
   "metadata": {
    "id": "d2BGNtSQ8IBV"
   },
   "outputs": [],
   "source": [
    "# Labels\n",
    "l = ['A', 'B', 'C', 'D', 'E', 'F']\n",
    "\n",
    "# Distance matrix\n",
    "# (Note that it must be symmetrical and its diagonal is always 0)\n",
    "d = np.array([[0, 1, 3, 3, 3, 4],\n",
    "              [1, 0, 4, 2, 3, 2],\n",
    "              [3, 4, 0, 3, 2, 5],\n",
    "              [3, 2, 3, 0, 2, 4],\n",
    "              [3, 3, 2, 2, 0, 5],\n",
    "              [4, 2, 5, 4, 5, 0]])"
   ]
  },
  {
   "cell_type": "code",
   "execution_count": 4,
   "metadata": {
    "colab": {
     "base_uri": "https://localhost:8080/"
    },
    "id": "61dPVaoO8IBW",
    "outputId": "a567cb46-7796-4113-9b43-29bd8377bd11"
   },
   "outputs": [
    {
     "data": {
      "text/plain": [
       "array([1, 3, 3, 3, 4, 4, 2, 3, 2, 3, 2, 5, 2, 4, 5])"
      ]
     },
     "execution_count": 4,
     "metadata": {},
     "output_type": "execute_result"
    }
   ],
   "source": [
    "# The hierarchy.linkage function uses a condensed distance matrix,\n",
    "# which is a flattened vector of the upper right triangle of the matrix:\n",
    "# (Caution! If you use the distance matrix as is, you will get erroneous\n",
    "# results -- in that case the algorithm will assume that each row is a\n",
    "# vector that represents the respective point, and will calculate the\n",
    "# euclidean distance between those vectors, which is absolute nonsense.)\n",
    "squareform(d)"
   ]
  },
  {
   "cell_type": "code",
   "execution_count": 5,
   "metadata": {
    "colab": {
     "base_uri": "https://localhost:8080/",
     "height": 369
    },
    "id": "yg74nEzE8IBW",
    "outputId": "2ecc2e63-cf20-42e0-fdb5-80eb1c06a3fd"
   },
   "outputs": [
    {
     "data": {
      "image/png": "[encoded data removed]",
      "text/plain": [
       "<Figure size 720x360 with 4 Axes>"
      ]
     },
     "metadata": {
      "needs_background": "light"
     },
     "output_type": "display_data"
    }
   ],
   "source": [
    "# Please read the documentation here:\n",
    "# https://docs.scipy.org/doc/scipy/reference/generated/scipy.cluster.hierarchy.linkage.html\n",
    "#\n",
    "# As you'll see below, the different methods of linkage may produce very different structures\n",
    "# and, consequently, very different clusters. Try to understand why (look at the distance matrix\n",
    "# and follow the formulas in the documentation).\n",
    "# Sometimes the characteristics of the problem suggest what method is more natural to use than\n",
    "# the others. This is especially true with respect to the complete (= farthest point) and single\n",
    "# (= nearest point) methods. Other times the 'correct' method to use is not obvious at all, and\n",
    "# it requires inspecting the results and the data thoroughly. The average method usually works\n",
    "# well, however.\n",
    "\n",
    "methods = ['single', 'complete', 'average', 'ward']  # There are other methods as well, see documentation\n",
    "\n",
    "plt.figure(figsize=(10, 5))\n",
    "\n",
    "for i, method in enumerate(methods):\n",
    "    plt.subplot(2, 2, i+1)\n",
    "    plt.title(method)\n",
    "    \n",
    "    ############# This is the relevant part: #############\n",
    "    #                                                    #\n",
    "    lnk = hierarchy.linkage(squareform(d), method)\n",
    "    hierarchy.dendrogram(lnk, labels=l, color_threshold=0)\n",
    "    #                                                    #\n",
    "    ######################################################\n",
    "    \n",
    "    plt.ylim(0, 5.5)\n",
    "    plt.grid(axis='y')\n",
    "\n",
    "plt.tight_layout()"
   ]
  },
  {
   "cell_type": "markdown",
   "metadata": {
    "id": "Of9_HHv28IBX"
   },
   "source": [
    "### Altering the order in which clusters are joined can also yield strikingly different results"
   ]
  },
  {
   "cell_type": "code",
   "execution_count": 6,
   "metadata": {
    "id": "oaeDchRT8IBX"
   },
   "outputs": [],
   "source": [
    "# Labels\n",
    "l = ['A', 'B', 'C', 'D', 'E']\n",
    "\n",
    "# Distance matrices\n",
    "epsilon = 10**-16\n",
    "a, b = 1 + epsilon, 1 - epsilon\n",
    "\n",
    "d1 = np.array([[0, 1, a, 5, 5],\n",
    "               [1, 0, 3, 5, 5],\n",
    "               [a, 3, 0, 3, b],\n",
    "               [5, 5, 3, 0, 1],\n",
    "               [5, 5, b, 1, 0]])\n",
    "\n",
    "d2 = np.array([[0, 1, b, 5, 5],\n",
    "               [1, 0, 3, 5, 5],\n",
    "               [b, 3, 0, 3, a],\n",
    "               [5, 5, 3, 0, 1],\n",
    "               [5, 5, a, 1, 0]])"
   ]
  },
  {
   "cell_type": "code",
   "execution_count": 7,
   "metadata": {
    "colab": {
     "base_uri": "https://localhost:8080/"
    },
    "id": "ljz3b08d8IBX",
    "outputId": "948e0055-04b6-49e8-fc2c-563c41d86d88"
   },
   "outputs": [
    {
     "data": {
      "text/plain": [
       "2.220446049250313e-16"
      ]
     },
     "execution_count": 7,
     "metadata": {},
     "output_type": "execute_result"
    }
   ],
   "source": [
    "# The Frobenius distance between the matrices is negligible\n",
    "np.sqrt(np.sum((d1-d2)**2))"
   ]
  },
  {
   "cell_type": "code",
   "execution_count": 8,
   "metadata": {
    "colab": {
     "base_uri": "https://localhost:8080/",
     "height": 225
    },
    "id": "DIuf6Bzu8IBY",
    "outputId": "9c818b8c-b6ef-4a20-d38b-a5195d62b6e8"
   },
   "outputs": [
    {
     "data": {
      "image/png": "[encoded data removed]",
      "text/plain": [
       "<Figure size 720x216 with 2 Axes>"
      ]
     },
     "metadata": {
      "needs_background": "light"
     },
     "output_type": "display_data"
    }
   ],
   "source": [
    "# But the resulting clusters are very different!\n",
    "\n",
    "plt.figure(figsize=(10, 3))\n",
    "\n",
    "for i, d in enumerate([d1, d2]):\n",
    "    plt.subplot(1, 2, i+1)\n",
    "    plt.title('d%s' % (i+1,))\n",
    "\n",
    "    lnk = hierarchy.linkage(squareform(d), 'complete') # You can experiment with the different methods ('single', 'complete', 'average', 'ward')\n",
    "    hierarchy.dendrogram(lnk, labels=l, color_threshold=0)\n",
    "\n",
    "    plt.ylim(0, 6)\n",
    "    plt.grid(axis='y')\n",
    "\n",
    "plt.tight_layout()"
   ]
  },
  {
   "cell_type": "markdown",
   "metadata": {
    "id": "FiQmREoY8IBY"
   },
   "source": [
    "## Challenge 1.1\n",
    "Data preparation and preprocessing can help in reducing such \"hypersensitivity\". One of the techniques is to clean the distance matrix from noise before the actual clustering. This can be done by... clustering. Your tasks:\n",
    "1. Apply the K-Means algorithm to clean the distance matrix, assuming the correct number of clusters is 4. Clustering can be applied on each matrix independently, although in some cases it's wiser to do a cross-matrix clustering.\n",
    "2. Create new cleaned versions of the distance matrices (d1_clean and d2_clean).\n",
    "3. Repeat the above process (previus cell) to plot the results"
   ]
  },
  {
   "cell_type": "markdown",
   "metadata": {
    "id": "0iKw_UeF2f4p"
   },
   "source": [
    "---\n",
    "<font color='blue'>**Comment**. The idea of the task was to fit K-Means with 4 clusters and then to substitute the values in the matrices with the values of the closest centroids.The task formulation was a bit confusing, because it wasn't mentioned how the K-Means clustering should be applied to the matrices. There are several possible options:  </font>\n",
    "---"
   ]
  },
  {
   "cell_type": "markdown",
   "metadata": {
    "id": "pSBfMrrxwZSs"
   },
   "source": [
    "<font color='blue'> 1) **By elements** (i.e. applying K-Means to a vector, not a matrix): because the matrices, that we consider, are the distance matrices, so all their elements have the same meaning (showing the distance between 2 points) and the same units, the matrices are symmetric (the ranges of values by rows and columns are the same), we can simply flatten the matrices into vectors and cluster the elements of the vector. </font>"
   ]
  },
  {
   "cell_type": "code",
   "execution_count": 9,
   "metadata": {
    "id": "44-OjJhc8IBY"
   },
   "outputs": [],
   "source": [
    "# Add your code for Challenge 1.1 after this line, and keep it in this cell.\n",
    "from sklearn.cluster import KMeans\n",
    "\n",
    "# Solution #1\n",
    "km = KMeans(4) \n",
    "d1_clusters = km.fit_predict(d1.flatten().reshape(-1, 1)) # convert the distance matrix into a column vector with 25 values, then apply clustering on these 25 scalars\n",
    "d1_clean = km.cluster_centers_[d1_clusters].reshape(5,5) # for each distance, take the centroid of the cluster this distance is assigned to, and reshape into 5x5 matrix\n",
    "d2_clusters = km.fit_predict(d2.flatten().reshape(-1, 1))\n",
    "d2_clean = km.cluster_centers_[d2_clusters].reshape(5,5)\n",
    "# if the diagonal elements are not equal to zero (in this example, they will be equal to -4.4408921e-16, you can round this value to zero) \n",
    "# or use the Solution #2\n",
    "\n",
    "# Solution #2\n",
    "# you can firstly concatenate 2 vectors and then cluster:\n",
    "combined_d = np.concatenate((d1.reshape(d1.size,1), d2.reshape(d2.size,1)), axis=0)\n",
    "kmeans = KMeans(n_clusters=4).fit(combined_d)\n",
    "y = kmeans.predict(combined_d)\n",
    "y_centers = kmeans.cluster_centers_\n",
    "y_clean = y_centers[y].reshape(combined_d.size)\n",
    "d1_clean = y_clean[:int(y_clean.size/2)].reshape(d1.shape)\n",
    "d2_clean = y_clean[int(y_clean.size/2):].reshape(d2.shape)\n"
   ]
  },
  {
   "cell_type": "code",
   "execution_count": 10,
   "metadata": {
    "colab": {
     "base_uri": "https://localhost:8080/",
     "height": 225
    },
    "id": "iZ6E38Tt1QPH",
    "outputId": "616c5380-3544-4220-c3f7-1b04acecfbd1"
   },
   "outputs": [
    {
     "data": {
      "image/png": "[encoded data removed]",
      "text/plain": [
       "<Figure size 720x216 with 2 Axes>"
      ]
     },
     "metadata": {
      "needs_background": "light"
     },
     "output_type": "display_data"
    }
   ],
   "source": [
    "plt.figure(figsize=(10, 3))\n",
    "\n",
    "for i, d in enumerate([d1_clean, d2_clean]):\n",
    "    plt.subplot(1, 2, i+1)\n",
    "    plt.title('d%s' % (i+1,))\n",
    "    lnk = hierarchy.linkage(squareform(d), 'complete') # You can experiment with the different methods ('single', 'complete', 'average', 'ward')\n",
    "    hierarchy.dendrogram(lnk, labels=l, color_threshold=0)\n",
    "    plt.ylim(0, 6)\n",
    "    plt.grid(axis='y')\n",
    "\n",
    "plt.tight_layout()"
   ]
  },
  {
   "cell_type": "code",
   "execution_count": 11,
   "metadata": {
    "id": "fyI24oCowZSu"
   },
   "outputs": [],
   "source": [
    "# Add your code for Challenge 1.1 after this line, and keep it in this cell.\n",
    "from sklearn.cluster import KMeans\n",
    "\n",
    "# Solution #3\n",
    "# using not a \"flatten\" vector but a \"squareform\"\n",
    "d1_sf = squareform(d1).reshape(-1, 1)\n",
    "d2_sf = squareform(d2).reshape(-1, 1)\n",
    "# because we exclude diagonal elements, there will be not 4 clusters, but 3\n",
    "km = KMeans(3) \n",
    "d1_clusters = km.fit_predict(d1_sf)\n",
    "d1_clean_sf = km.cluster_centers_[d1_clusters]\n",
    "d1_clean = squareform(d1_clean_sf.reshape(len(d1_sf))) # squareform also works to convert a vector back to a distance matrix\n",
    "\n",
    "d2_clusters = km.fit_predict(d2_sf)\n",
    "d2_clean_sf = km.cluster_centers_[d2_clusters]\n",
    "d2_clean = squareform(d2_clean_sf.reshape(len(d2_sf)))"
   ]
  },
  {
   "cell_type": "code",
   "execution_count": 12,
   "metadata": {
    "id": "BfxoAKQqwZSv",
    "outputId": "2b0fceae-93b5-4b56-e989-a6abef6cf3c0"
   },
   "outputs": [
    {
     "data": {
      "image/png": "[encoded data removed]",
      "text/plain": [
       "<Figure size 720x216 with 2 Axes>"
      ]
     },
     "metadata": {
      "needs_background": "light"
     },
     "output_type": "display_data"
    }
   ],
   "source": [
    "plt.figure(figsize=(10, 3))\n",
    "\n",
    "for i, d in enumerate([d1_clean, d2_clean]):\n",
    "    plt.subplot(1, 2, i+1)\n",
    "    plt.title('d%s' % (i+1,))\n",
    "    lnk = hierarchy.linkage(squareform(d), 'complete') # You can experiment with the different methods ('single', 'complete', 'average', 'ward')\n",
    "    hierarchy.dendrogram(lnk, labels=l, color_threshold=0)\n",
    "    plt.ylim(0, 6)\n",
    "    plt.grid(axis='y')\n",
    "\n",
    "plt.tight_layout()"
   ]
  },
  {
   "cell_type": "markdown",
   "metadata": {
    "id": "a9UKw3FdwZSv"
   },
   "source": [
    "<font color='blue'> 2) **Clustering the rows of the matrix**. This is also a possible way to solve the task, but it requires additional transformation of the result (to the symmetric form with \"0\"-diagonal).</font>"
   ]
  },
  {
   "cell_type": "code",
   "execution_count": 13,
   "metadata": {
    "id": "nrfn2IekwZSw"
   },
   "outputs": [],
   "source": [
    "# Solution #4\n",
    "def make_square(d1):\n",
    "    d_out = np.zeros(d1.shape)\n",
    "    for i in range(d1.shape[0]):\n",
    "        for j in range(d1.shape[1]):\n",
    "            if i == j:\n",
    "                pass\n",
    "            else:\n",
    "                val = np.mean([d1[i,j],d1[j,i]]) # it's ok to take a mean value\n",
    "                d_out[i,j]=val\n",
    "                d_out[j,i]=val\n",
    "    return d_out\n",
    "# any other transformation which makes the matrix symmetric with \"0\"-diagonal is also fine\n",
    "\n",
    "kmeans_d1 = KMeans(n_clusters=4, random_state=0).fit(d1)\n",
    "kmeans_d2 = KMeans(n_clusters=4, random_state=0).fit(d2)\n",
    "d1_clean = np.array(kmeans_d1.cluster_centers_[kmeans_d1.labels_])\n",
    "d2_clean = np.array(kmeans_d1.cluster_centers_[kmeans_d2.labels_])\n",
    "\n",
    "d1_clean = make_square(d1_clean)\n",
    "d2_clean = make_square(d2_clean)"
   ]
  },
  {
   "cell_type": "code",
   "execution_count": 14,
   "metadata": {
    "id": "NVISIceOwZSx",
    "outputId": "81ac01d3-d10b-4d7f-d1b3-aef40c8aa324"
   },
   "outputs": [
    {
     "data": {
      "image/png": "[encoded data removed]",
      "text/plain": [
       "<Figure size 720x216 with 2 Axes>"
      ]
     },
     "metadata": {
      "needs_background": "light"
     },
     "output_type": "display_data"
    }
   ],
   "source": [
    "plt.figure(figsize=(10, 3))\n",
    "\n",
    "for i, d in enumerate([d1_clean, d2_clean]):\n",
    "    plt.subplot(1, 2, i+1)\n",
    "    plt.title('d%s' % (i+1,))\n",
    "    lnk = hierarchy.linkage(squareform(d), 'complete') # You can experiment with the different methods ('single', 'complete', 'average', 'ward')\n",
    "    hierarchy.dendrogram(lnk, labels=l, color_threshold=0)\n",
    "    plt.ylim(0, 6)\n",
    "    plt.grid(axis='y')\n",
    "\n",
    "plt.tight_layout()"
   ]
  },
  {
   "cell_type": "markdown",
   "metadata": {
    "id": "9e9sisx3wZSx"
   },
   "source": [
    "---\n",
    "<font color='blue'> Any (mentioned above) approach to solve the task is accepted as a correct solution. </font>\n",
    "---\n",
    "---"
   ]
  },
  {
   "cell_type": "markdown",
   "metadata": {
    "id": "8J1NFM7R8IBZ"
   },
   "source": [
    "### Analyzing voting data\n",
    "\n",
    "We can also use hierarchical clustering to analyzie election voting data, as we will see in the following exercise\n",
    "\n",
    "We will use here data from the 18th Kneset elections. https://en.wikipedia.org/wiki/2009_Israeli_legislative_election\n"
   ]
  },
  {
   "cell_type": "code",
   "execution_count": 15,
   "metadata": {
    "colab": {
     "base_uri": "https://localhost:8080/"
    },
    "id": "raNoOxUl8IBZ",
    "outputId": "4c67756e-3a05-4244-ecdc-97f485e14f0a"
   },
   "outputs": [
    {
     "data": {
      "text/plain": [
       "(1156, 41)"
      ]
     },
     "execution_count": 15,
     "metadata": {},
     "output_type": "execute_result"
    }
   ],
   "source": [
    "df = pd.read_csv('Elections.csv')\n",
    "\n",
    "# Show first 10 rows\n",
    "df[:10]\n",
    "df.shape"
   ]
  },
  {
   "cell_type": "code",
   "execution_count": 16,
   "metadata": {
    "colab": {
     "base_uri": "https://localhost:8080/"
    },
    "id": "lIdxF2geGO_W",
    "outputId": "bb1b244e-7b2d-447c-e2d6-7b3b24dd569b"
   },
   "outputs": [
    {
     "name": "stdout",
     "output_type": "stream",
     "text": [
      "['Avoda', 'Or', 'BaitYehudi', 'YahadutHatora', 'Balad', 'MeimadYarukim', 'Hadash', 'Gimlaim', 'EfraimSne', 'IhudLeumi', 'Israelim', 'Lev', 'NizolimAndAle', 'Kadima', 'IsraelBeytenu', 'Likud', 'Merez', 'Nudelman', 'RuahHadasha', 'Lazuz', 'LojmeiHevra', 'Raam', 'Koah', 'Koah.1', 'Brit', 'Gever', 'Zomet', 'Zabar', 'Daam', 'AleYarok', 'Koah.2', 'Lidar', 'Yarok', 'Shas']\n"
     ]
    }
   ],
   "source": [
    "party_names = list(df.columns)[7:]\n",
    "print(party_names)"
   ]
  },
  {
   "cell_type": "code",
   "execution_count": 17,
   "metadata": {
    "colab": {
     "base_uri": "https://localhost:8080/",
     "height": 232
    },
    "id": "YmctLbXp1QPK",
    "outputId": "077ca476-75c1-4f14-8d2b-140204c9e384"
   },
   "outputs": [
    {
     "data": {
      "text/html": [
       "<div>\n",
       "<style scoped>\n",
       "    .dataframe tbody tr th:only-of-type {\n",
       "        vertical-align: middle;\n",
       "    }\n",
       "\n",
       "    .dataframe tbody tr th {\n",
       "        vertical-align: top;\n",
       "    }\n",
       "\n",
       "    .dataframe thead th {\n",
       "        text-align: right;\n",
       "    }\n",
       "</style>\n",
       "<table border=\"1\" class=\"dataframe\">\n",
       "  <thead>\n",
       "    <tr style=\"text-align: right;\">\n",
       "      <th></th>\n",
       "      <th>TownNumber</th>\n",
       "      <th>TownName</th>\n",
       "      <th>Potential</th>\n",
       "      <th>TotalVotes</th>\n",
       "      <th>PercentVote</th>\n",
       "      <th>Qualified</th>\n",
       "      <th>Disqualified</th>\n",
       "      <th>Avoda</th>\n",
       "      <th>Or</th>\n",
       "      <th>BaitYehudi</th>\n",
       "      <th>...</th>\n",
       "      <th>Brit</th>\n",
       "      <th>Gever</th>\n",
       "      <th>Zomet</th>\n",
       "      <th>Zabar</th>\n",
       "      <th>Daam</th>\n",
       "      <th>AleYarok</th>\n",
       "      <th>Koah.2</th>\n",
       "      <th>Lidar</th>\n",
       "      <th>Yarok</th>\n",
       "      <th>Shas</th>\n",
       "    </tr>\n",
       "  </thead>\n",
       "  <tbody>\n",
       "    <tr>\n",
       "      <th>0</th>\n",
       "      <td>5000</td>\n",
       "      <td>תל אביב - יפו</td>\n",
       "      <td>383990</td>\n",
       "      <td>226390</td>\n",
       "      <td>58.96</td>\n",
       "      <td>224000</td>\n",
       "      <td>2390</td>\n",
       "      <td>34095</td>\n",
       "      <td>77</td>\n",
       "      <td>3417</td>\n",
       "      <td>...</td>\n",
       "      <td>36</td>\n",
       "      <td>41</td>\n",
       "      <td>42</td>\n",
       "      <td>273</td>\n",
       "      <td>198</td>\n",
       "      <td>1003</td>\n",
       "      <td>50</td>\n",
       "      <td>41</td>\n",
       "      <td>1081</td>\n",
       "      <td>14412</td>\n",
       "    </tr>\n",
       "    <tr>\n",
       "      <th>1</th>\n",
       "      <td>3000</td>\n",
       "      <td>ירושלים</td>\n",
       "      <td>353784</td>\n",
       "      <td>217905</td>\n",
       "      <td>61.59</td>\n",
       "      <td>215743</td>\n",
       "      <td>2162</td>\n",
       "      <td>12355</td>\n",
       "      <td>38</td>\n",
       "      <td>8944</td>\n",
       "      <td>...</td>\n",
       "      <td>26</td>\n",
       "      <td>19</td>\n",
       "      <td>23</td>\n",
       "      <td>147</td>\n",
       "      <td>64</td>\n",
       "      <td>434</td>\n",
       "      <td>26</td>\n",
       "      <td>39</td>\n",
       "      <td>445</td>\n",
       "      <td>32624</td>\n",
       "    </tr>\n",
       "    <tr>\n",
       "      <th>2</th>\n",
       "      <td>4000</td>\n",
       "      <td>חיפה</td>\n",
       "      <td>235198</td>\n",
       "      <td>136506</td>\n",
       "      <td>58.04</td>\n",
       "      <td>134710</td>\n",
       "      <td>1796</td>\n",
       "      <td>17279</td>\n",
       "      <td>43</td>\n",
       "      <td>3431</td>\n",
       "      <td>...</td>\n",
       "      <td>13</td>\n",
       "      <td>29</td>\n",
       "      <td>67</td>\n",
       "      <td>218</td>\n",
       "      <td>89</td>\n",
       "      <td>485</td>\n",
       "      <td>41</td>\n",
       "      <td>37</td>\n",
       "      <td>467</td>\n",
       "      <td>4117</td>\n",
       "    </tr>\n",
       "    <tr>\n",
       "      <th>3</th>\n",
       "      <td>8300</td>\n",
       "      <td>ראשון לציון</td>\n",
       "      <td>182953</td>\n",
       "      <td>117147</td>\n",
       "      <td>64.03</td>\n",
       "      <td>115839</td>\n",
       "      <td>1308</td>\n",
       "      <td>12647</td>\n",
       "      <td>25</td>\n",
       "      <td>2451</td>\n",
       "      <td>...</td>\n",
       "      <td>22</td>\n",
       "      <td>22</td>\n",
       "      <td>24</td>\n",
       "      <td>238</td>\n",
       "      <td>63</td>\n",
       "      <td>454</td>\n",
       "      <td>30</td>\n",
       "      <td>30</td>\n",
       "      <td>580</td>\n",
       "      <td>6784</td>\n",
       "    </tr>\n",
       "    <tr>\n",
       "      <th>4</th>\n",
       "      <td>7900</td>\n",
       "      <td>פתח תקווה</td>\n",
       "      <td>155678</td>\n",
       "      <td>100123</td>\n",
       "      <td>64.31</td>\n",
       "      <td>98905</td>\n",
       "      <td>1218</td>\n",
       "      <td>8661</td>\n",
       "      <td>20</td>\n",
       "      <td>6043</td>\n",
       "      <td>...</td>\n",
       "      <td>19</td>\n",
       "      <td>16</td>\n",
       "      <td>21</td>\n",
       "      <td>90</td>\n",
       "      <td>45</td>\n",
       "      <td>330</td>\n",
       "      <td>41</td>\n",
       "      <td>32</td>\n",
       "      <td>341</td>\n",
       "      <td>8061</td>\n",
       "    </tr>\n",
       "  </tbody>\n",
       "</table>\n",
       "<p>5 rows × 41 columns</p>\n",
       "</div>"
      ],
      "text/plain": [
       "   TownNumber       TownName  Potential  TotalVotes  PercentVote  Qualified  \\\n",
       "0        5000  תל אביב - יפו     383990      226390        58.96     224000   \n",
       "1        3000        ירושלים     353784      217905        61.59     215743   \n",
       "2        4000           חיפה     235198      136506        58.04     134710   \n",
       "3        8300    ראשון לציון     182953      117147        64.03     115839   \n",
       "4        7900      פתח תקווה     155678      100123        64.31      98905   \n",
       "\n",
       "   Disqualified  Avoda  Or  BaitYehudi  ...  Brit  Gever  Zomet  Zabar  Daam  \\\n",
       "0          2390  34095  77        3417  ...    36     41     42    273   198   \n",
       "1          2162  12355  38        8944  ...    26     19     23    147    64   \n",
       "2          1796  17279  43        3431  ...    13     29     67    218    89   \n",
       "3          1308  12647  25        2451  ...    22     22     24    238    63   \n",
       "4          1218   8661  20        6043  ...    19     16     21     90    45   \n",
       "\n",
       "   AleYarok  Koah.2  Lidar  Yarok   Shas  \n",
       "0      1003      50     41   1081  14412  \n",
       "1       434      26     39    445  32624  \n",
       "2       485      41     37    467   4117  \n",
       "3       454      30     30    580   6784  \n",
       "4       330      41     32    341   8061  \n",
       "\n",
       "[5 rows x 41 columns]"
      ]
     },
     "execution_count": 17,
     "metadata": {},
     "output_type": "execute_result"
    }
   ],
   "source": [
    "df.head()"
   ]
  },
  {
   "cell_type": "code",
   "execution_count": 18,
   "metadata": {
    "id": "egobWnv68IBZ"
   },
   "outputs": [],
   "source": [
    "# Number of cities to cluster (they are ordered by the total number of votes, descending)\n",
    "n = 100\n",
    "\n",
    "# Data matrix and labels list (41 columns - metadata ones)\n",
    "x = np.zeros((n, 34))\n",
    "labels_r = []\n",
    "\n",
    "# Iterate over rows in dataframe\n",
    "for i, row in df[:n].iterrows():\n",
    "    x[i] = row[7:]                         # take only the votes, not the other meta-data\n",
    "    labels_r.append(df.TownName[i][::-1])  # reverse the labels (because they are in Hebrew)\n",
    "\n",
    "# Normalize rows (so they represent proportions):\n",
    "x = x/(np.sum(x, axis=1).reshape(-1, 1))\n",
    "x = pd.DataFrame(x,columns=party_names)"
   ]
  },
  {
   "cell_type": "code",
   "execution_count": 19,
   "metadata": {
    "id": "-UeWBnN98IBZ"
   },
   "outputs": [],
   "source": [
    "# You can experiment with the different methods ('single', 'complete', 'average', 'ward'):\n",
    "# (Note that we don't use squareform here, so the linkage function will assume by\n",
    "# default that x is not a distance matrix but a set of observations, and will calculate\n",
    "# the euclidean distance between them. We could, instead, calculate our own distance\n",
    "# matrix using other distance measures between distributions, for example the Kullback-\n",
    "# Leibler divergence (relative entropy).)\n",
    "lnk = hierarchy.linkage(x, 'average')"
   ]
  },
  {
   "cell_type": "code",
   "execution_count": 20,
   "metadata": {
    "colab": {
     "base_uri": "https://localhost:8080/",
     "height": 231
    },
    "id": "DxaM7kbF8IBa",
    "outputId": "dceabbd2-ce83-4a75-b153-9be224b8e06b",
    "scrolled": true
   },
   "outputs": [
    {
     "data": {
      "image/png": "[encoded data removed]",
      "text/plain": [
       "<Figure size 1440x216 with 1 Axes>"
      ]
     },
     "metadata": {
      "needs_background": "light"
     },
     "output_type": "display_data"
    }
   ],
   "source": [
    "plt.figure(figsize=(20, 3))\n",
    "\n",
    "# You can experiment with the color threshold to observe the different possible clusterizations:\n",
    "hierarchy.dendrogram(lnk, labels=labels_r, leaf_font_size=11, color_threshold=0.5);"
   ]
  },
  {
   "cell_type": "markdown",
   "metadata": {
    "id": "rKnvkUGJ8IBa"
   },
   "source": [
    "## Challenge 1.2\n",
    "When using our domain expertise regarding the population in Israeli cities and villages, we can cleary conclude from the results that our society is mainly splitted according to their \"religiosity\". Although the jingle says \"there's no more right or left\", your mission, should you choose to accept it, is to find a way to distinguish between right and left.\n",
    "\n",
    "The guiding line:\n",
    "1. We want to cluster parties (for example, left or right winged). Adjust the matrix accordingly.\n",
    "2. You can change the max number of cities (100 is set now) or the normalization technique.\n",
    "3. We do not expect to have exact coalition proposed by this technique, however, explain (in a text cell) the gaps between your results and the real agenda proposed by the parties. What exactly could have caused this gaps?"
   ]
  },
  {
   "cell_type": "markdown",
   "metadata": {
    "id": "1iSRw3CrwZS0"
   },
   "source": [
    "---\n",
    "<font color='blue'>**Comment**: In this task, there is a lot of possible solutions. You could pre-process the data in different ways (calculate additional features, filter the data, normalize the data, etc.) and the resulting hierarchical clustering will be completely different (and all your solutions are accepted as the correct ones, if you described the dendrogram well). This task was meant to show that in UL the domain knowledge is expecially important and that you should try to achieve the result, corresponding to your expectations as an expert.  </font>\n",
    "---\n",
    "---"
   ]
  },
  {
   "cell_type": "code",
   "execution_count": 21,
   "metadata": {
    "id": "_ENEatGv6Zdq"
   },
   "outputs": [],
   "source": [
    "df['voting_variance']=df.apply(lambda x:np.var(x[7:41]),axis=1)\n",
    "#the proprtion of votes the most voted party got in each city\n",
    "df['majority_vote']=df.apply(lambda x:(x[7:41]/x.Qualified).max(),axis=1)"
   ]
  },
  {
   "cell_type": "code",
   "execution_count": 22,
   "metadata": {
    "colab": {
     "base_uri": "https://localhost:8080/",
     "height": 592
    },
    "id": "FSumPLsB8IBa",
    "outputId": "e4e675c0-e567-471d-c077-609eb280f625"
   },
   "outputs": [
    {
     "data": {
      "image/png": "[encoded data removed]",
      "text/plain": [
       "<Figure size 720x720 with 1 Axes>"
      ]
     },
     "metadata": {
      "needs_background": "light"
     },
     "output_type": "display_data"
    }
   ],
   "source": [
    "passed_threshold=df.columns[7:41][(df.iloc[:,7:41].sum(axis=0)/df.iloc[:,7:41].sum(axis=0).sum())>=0.02]\n",
    "\n",
    "party_names = list(passed_threshold)\n",
    "n =150\n",
    "party_index=party_names\n",
    "x = np.zeros((n, len(party_index)))\n",
    "index=0\n",
    "for i, row in (df.sort_values(by='majority_vote',ascending=False))[:n].iterrows():\n",
    "    x[index] = row[party_index]  # take only the votes, not the other meta-data\n",
    "    index+=1\n",
    "x = x/(np.sum(x, axis=1).reshape(-1, 1))\n",
    "# x=(x-np.min(x))/(np.max(x)-np.min(x))\n",
    "x = pd.DataFrame(x,columns=party_names)\n",
    "# lnk = hierarchy.linkage(x.T, method='average',metric='cosine',optimal_ordering=True)\n",
    "lnk = hierarchy.linkage(x.T, method='complete',metric='cosine',optimal_ordering=True)\n",
    "plt.figure(figsize=(10,10))\n",
    "\n",
    "hierarchy.dendrogram(lnk, labels=party_names, leaf_font_size=14, color_threshold=0.75,orientation='right',count_sort=True,distance_sort=True,show_leaf_counts=True);"
   ]
  },
  {
   "cell_type": "markdown",
   "metadata": {
    "id": "l0DPSTGx8IBa"
   },
   "source": [
    "## Part 2 - DBSCAN"
   ]
  },
  {
   "cell_type": "markdown",
   "metadata": {
    "id": "Nyabl2p88IBb"
   },
   "source": [
    "\n",
    "In this part of the exercise, we will experiment with the DBSCAN algorithm on a synthetic set of data"
   ]
  },
  {
   "cell_type": "code",
   "execution_count": 23,
   "metadata": {
    "id": "IyqYvQgs8IBb"
   },
   "outputs": [],
   "source": [
    "# auxilary plotting functions\n",
    "def plot(X,y=None):# plot\n",
    "    plt.scatter(X[:, 0], X[:, 1],c=y)\n",
    "    plt.xlabel(\"Feature 0\")\n",
    "    plt.ylabel(\"Feature 1\")\n",
    "    plt.show()\n",
    "    \n",
    "import numpy as np\n",
    "import matplotlib.pyplot as plt\n",
    "from sklearn.datasets import make_blobs\n",
    "from sklearn.cluster import KMeans\n",
    "from sklearn import preprocessing"
   ]
  },
  {
   "cell_type": "code",
   "execution_count": 24,
   "metadata": {
    "colab": {
     "base_uri": "https://localhost:8080/",
     "height": 279
    },
    "id": "l1mH3aFr8IBb",
    "outputId": "934a2805-4df4-4179-89f0-522c2ea45bcb"
   },
   "outputs": [
    {
     "data": {
      "image/png": "[encoded data removed]",
      "text/plain": [
       "<Figure size 432x288 with 1 Axes>"
      ]
     },
     "metadata": {
      "needs_background": "light"
     },
     "output_type": "display_data"
    }
   ],
   "source": [
    "# generate some random cluster data\n",
    "X, y = make_blobs(random_state=170, n_samples=500, centers = 5)\n",
    "rng = np.random.RandomState(74)\n",
    "# transform the data to be stretched\n",
    "transformation = rng.normal(size=(2, 2))\n",
    "X = np.dot(X, transformation)\n",
    "\n",
    "plot(X)"
   ]
  },
  {
   "cell_type": "code",
   "execution_count": 25,
   "metadata": {
    "colab": {
     "base_uri": "https://localhost:8080/",
     "height": 279
    },
    "id": "veT5vqzl8IBb",
    "outputId": "2dc8bbbb-f312-46e4-adf5-d90747cb4426"
   },
   "outputs": [
    {
     "data": {
      "image/png": "[encoded data removed]",
      "text/plain": [
       "<Figure size 432x288 with 1 Axes>"
      ]
     },
     "metadata": {
      "needs_background": "light"
     },
     "output_type": "display_data"
    }
   ],
   "source": [
    "# Adding Noise to data\n",
    "outliers = 30 * (np.random.RandomState(42).rand(100, 2) ) - 15.0\n",
    "X = pd.DataFrame(np.concatenate([X, outliers]))\n",
    "y = pd.DataFrame(np.concatenate([y, [-1]*len(outliers)]))\n",
    "plot(X.values,y)"
   ]
  },
  {
   "cell_type": "markdown",
   "metadata": {
    "id": "5yDvYw798IBc"
   },
   "source": [
    "### K-Means attempt\n",
    "Lets see how those outliers and non-spherical shapes affects K-Means clustreing"
   ]
  },
  {
   "cell_type": "code",
   "execution_count": 26,
   "metadata": {
    "colab": {
     "base_uri": "https://localhost:8080/",
     "height": 279
    },
    "id": "o-9FRjtF8IBc",
    "outputId": "55e9ff44-1ab6-4048-e0a8-76c5026d81d1"
   },
   "outputs": [
    {
     "data": {
      "image/png": "[encoded data removed]",
      "text/plain": [
       "<Figure size 432x288 with 1 Axes>"
      ]
     },
     "metadata": {
      "needs_background": "light"
     },
     "output_type": "display_data"
    }
   ],
   "source": [
    "# cluster the data into five clusters\n",
    "n_clusters = 5\n",
    "kmeans = KMeans(n_clusters=n_clusters)\n",
    "kmeans.fit(X)\n",
    "kmeans_clusters = kmeans.predict(X)\n",
    "\n",
    "plot(X.values,kmeans_clusters)"
   ]
  },
  {
   "cell_type": "markdown",
   "metadata": {
    "id": "b0UBYraP8IBc"
   },
   "source": [
    "Not surprisingly, K-Means failed to cluster properly the data above \n",
    "\n",
    "As we saw in the lecture, DBSCAN can overcome those issues. Yet we still need to determine the parametrs...\n",
    "\n",
    "\n"
   ]
  },
  {
   "cell_type": "markdown",
   "metadata": {
    "id": "mT0v0lDn8IBc"
   },
   "source": [
    "# Estimateing $\\varepsilon$"
   ]
  },
  {
   "cell_type": "markdown",
   "metadata": {
    "id": "paPS2zij8IBc"
   },
   "source": [
    "## Challenge 2.1\n",
    "\n",
    "Your co-worker suggested a way to select $\\epsilon$ of dbscan.\n",
    "He wants to go over different eps values and find the one that maximizes the adjusted rand index value. For that, you paid some amount of money and had some guys labled 50 points for you. The indices of the labeled samples you are allowed to use are in the next cell.\n",
    "Implement the algorithm and find the best $\\epsilon$ using this method.\n",
    "1. Create an array of possible $\\epsilon$ values.\n",
    "2. Iterate over the different values and find the best $\\epsilon$ value. What is it?\n",
    "3. Visualize the results of the best one.\n",
    "\n"
   ]
  },
  {
   "cell_type": "code",
   "execution_count": 27,
   "metadata": {
    "colab": {
     "base_uri": "https://localhost:8080/"
    },
    "id": "7UPJA3j8PufJ",
    "outputId": "63789487-fbfd-4d7d-d749-8e282eb9fea0"
   },
   "outputs": [
    {
     "data": {
      "text/plain": [
       "596   -1\n",
       "52     1\n",
       "190    1\n",
       "165    4\n",
       "344    4\n",
       "Name: 0, dtype: int32"
      ]
     },
     "execution_count": 27,
     "metadata": {},
     "output_type": "execute_result"
    }
   ],
   "source": [
    "np.random.seed(0)\n",
    "labeled_samples = np.random.choice(601,50,replace=False)\n",
    "y.iloc[labeled_samples,0].head()"
   ]
  },
  {
   "cell_type": "markdown",
   "metadata": {
    "id": "fz1tmyjkHyyu"
   },
   "source": [
    "---\n",
    "<font color='blue'>**Comment**: In this task it's important to remember that, while finding the optimal eps, it's recommended to fit the DBSCAN on the whole training set, but to estimate the adjusted rand score (and to optimize eps) only on a \"labeled\" subset. </font>\n",
    "---\n",
    "---"
   ]
  },
  {
   "cell_type": "code",
   "execution_count": 28,
   "metadata": {
    "colab": {
     "base_uri": "https://localhost:8080/",
     "height": 296
    },
    "id": "8MYfxBl38IBd",
    "outputId": "0c0ec0c3-3993-4f02-d386-c1a678ac4b05"
   },
   "outputs": [
    {
     "name": "stdout",
     "output_type": "stream",
     "text": [
      "Best experiment: {'eps': 1.287878787878788, 'ari': 0.7801802170145395}\n"
     ]
    },
    {
     "data": {
      "image/png": "[encoded data removed]",
      "text/plain": [
       "<Figure size 432x288 with 1 Axes>"
      ]
     },
     "metadata": {
      "needs_background": "light"
     },
     "output_type": "display_data"
    }
   ],
   "source": [
    "# minPts are given and are not required to be estimated.\n",
    "# Yet, in the cells after completing the task feel free to play with it and get better result if you can!\n",
    "minPts = 50\n",
    "\n",
    "# YOUR CODE HERE - keep results in this cell\n",
    "from sklearn.cluster import DBSCAN\n",
    "from sklearn.metrics.cluster import adjusted_rand_score\n",
    "\n",
    "epsilons = np.linspace(0.1, 5, 100)\n",
    "\n",
    "experiments = []\n",
    "\n",
    "for eps in epsilons:\n",
    "    dbs = DBSCAN(eps=eps, min_samples=minPts)\n",
    "    dbs.fit(X)\n",
    "    \n",
    "    y_true = y.iloc[labeled_samples, 0]\n",
    "    y_pred = dbs.labels_[labeled_samples]\n",
    "    ari = adjusted_rand_score(y_true, y_pred)\n",
    "    \n",
    "    experiments.append({\n",
    "        'eps': eps,\n",
    "        'ari': ari\n",
    "    })\n",
    "    \n",
    "best_experiment = sorted(experiments, key=lambda x: -x['ari'])[0]\n",
    "print('Best experiment:', best_experiment)\n",
    "\n",
    "dbs = DBSCAN(eps=best_experiment['eps'], min_samples=minPts)\n",
    "dbs.fit(X)\n",
    "plot(X.values, dbs.labels_)"
   ]
  },
  {
   "cell_type": "markdown",
   "metadata": {
    "id": "R3cggR9C8IBd"
   },
   "source": [
    "How many values of $\\epsilon$ did you iterate? can you find a way to narrow down the range of the search?\n",
    "\n",
    "Answers are expected in a textual form"
   ]
  },
  {
   "cell_type": "code",
   "execution_count": 29,
   "metadata": {
    "colab": {
     "base_uri": "https://localhost:8080/"
    },
    "id": "iMj5lVtKG9Vd",
    "outputId": "73a5b207-6379-4321-9c4d-27ce603a967f"
   },
   "outputs": [
    {
     "data": {
      "text/plain": [
       "100"
      ]
     },
     "execution_count": 29,
     "metadata": {},
     "output_type": "execute_result"
    }
   ],
   "source": [
    "len(epsilons)"
   ]
  },
  {
   "cell_type": "markdown",
   "metadata": {
    "id": "fBbD4xD8G-6w"
   },
   "source": [
    "Since epsilon is in a sense the threshold for distance between 2 points to be considered as neighbors, we can suggest a method that calculates the average distance between each point and its k nearest neighbors (k=minPts), The average k-distances are then plotted in ascending order on a k-distance graph.\n",
    "\n",
    "The optimal value for epsilon is where the graph has the greatest slope - the place where the change is most pronounced will be our epsilon. So we can narrow down the range of  ϵ s we try to be around this knee.\n",
    "\n",
    "The following article uses similiar method, but uses specific distance instead of mean: https://iopscience.iop.org/article/10.1088/1755-1315/31/1/012012/pdf"
   ]
  },
  {
   "cell_type": "code",
   "execution_count": 30,
   "metadata": {
    "colab": {
     "base_uri": "https://localhost:8080/",
     "height": 265
    },
    "id": "q-JkC40jHBku",
    "outputId": "6d5fc06d-32d6-49a3-fa27-4168051b3254"
   },
   "outputs": [
    {
     "data": {
      "image/png": "[encoded data removed]",
      "text/plain": [
       "<Figure size 432x288 with 1 Axes>"
      ]
     },
     "metadata": {
      "needs_background": "light"
     },
     "output_type": "display_data"
    }
   ],
   "source": [
    "# Using nearest neighburs,\n",
    "# We are looking for the knee where the epsilon breaks\n",
    "from sklearn.neighbors import NearestNeighbors\n",
    "\n",
    "nn = NearestNeighbors(n_neighbors=50)\n",
    "nn_fit = nn.fit(X)\n",
    "dist, _ = nn_fit.kneighbors(X)\n",
    "\n",
    "# The mean ditance from the k neighbours, sorted in ascending order\n",
    "dist = np.sort(dist.mean(axis=1))\n",
    "plt.plot(dist);"
   ]
  },
  {
   "cell_type": "markdown",
   "metadata": {
    "id": "6qi2u86hHW_N"
   },
   "source": [
    "From the last clustering plot we see that two distinct (but very adjuscent) clusters were clustered as one.\n",
    "\n",
    "Let's try to extend the brute-forcing above to iterate also over min-points in [1, 50] range, picking the highest min-points value which gives the highest ARI score:"
   ]
  },
  {
   "cell_type": "code",
   "execution_count": 31,
   "metadata": {
    "colab": {
     "base_uri": "https://localhost:8080/",
     "height": 296
    },
    "id": "YzKCYYnZHYCP",
    "outputId": "5abaa5da-3151-4a6d-a936-7b18691a0f86"
   },
   "outputs": [
    {
     "name": "stdout",
     "output_type": "stream",
     "text": [
      "Best experiment: {'min_points': 8, 'eps': 0.5454545454545455, 'ari': 0.952353787711815}\n"
     ]
    },
    {
     "data": {
      "image/png": "[encoded data removed]",
      "text/plain": [
       "<Figure size 432x288 with 1 Axes>"
      ]
     },
     "metadata": {
      "needs_background": "light"
     },
     "output_type": "display_data"
    }
   ],
   "source": [
    "from sklearn.cluster import DBSCAN\n",
    "from sklearn.metrics.cluster import adjusted_rand_score\n",
    "\n",
    "min_points_set = np.arange(1, 51)\n",
    "epsilons = np.linspace(0.1, 5, 100)\n",
    "\n",
    "experiments = []\n",
    "\n",
    "for min_points in min_points_set:\n",
    "    for eps in epsilons:\n",
    "        print(f'min-points: {min_points}/{min_points_set.size}, epsilon: {round(eps, 2)}', end='\\r', flush=True)\n",
    "        \n",
    "        dbs = DBSCAN(eps=eps, min_samples=min_points)\n",
    "        dbs.fit(X)\n",
    "\n",
    "        y_true = y.iloc[labeled_samples, 0]\n",
    "        y_pred = dbs.labels_[labeled_samples]\n",
    "        ari = adjusted_rand_score(y_true, y_pred)\n",
    "\n",
    "        experiments.append({\n",
    "            'min_points': min_points,\n",
    "            'eps': eps,\n",
    "            'ari': ari\n",
    "        })\n",
    "\n",
    "# descending order-by ARI, min-points (to pick result with higher min_points for same ARI)\n",
    "best_experiment = sorted(experiments, key=lambda x: (-x['ari'], -x['min_points']))[0]\n",
    "print('Best experiment:', best_experiment)\n",
    "\n",
    "dbs = DBSCAN(eps=best_experiment['eps'], min_samples=best_experiment['min_points'])\n",
    "dbs.fit(X)\n",
    "plot(X.values, dbs.labels_)"
   ]
  },
  {
   "cell_type": "markdown",
   "metadata": {
    "id": "jdxkENbIHoZg"
   },
   "source": [
    "Yay 🎉 \n",
    "\n",
    "The plot now looks much closer to the real clusters - succesfully splitting the two adjacsent clusters, without creating extra clusters from the noisy points (which can happen with a too low min-points value)"
   ]
  },
  {
   "cell_type": "markdown",
   "metadata": {
    "id": "irXxpXch8IBd"
   },
   "source": [
    "## Challenge 2.2\n",
    "\n",
    "\n",
    "Support yout findings by plotting the Purity score.\n",
    "Implement the purity score and print the score for the best epsilon you have found.\n",
    "Print the results for:\n",
    "1. The small labeled set you were given\n",
    "2. The rest of the data (not including the set from 1)\n",
    "3. The whole data together\n",
    "\n",
    "Are we overfitting?"
   ]
  },
  {
   "cell_type": "markdown",
   "metadata": {
    "id": "t3kxVr8kwZS5"
   },
   "source": [
    "---\n",
    "<font color='blue'>**Comment**: In this task, if the purity scores are not too different on different subsets, then we can assume that the model is not overfitted.</font>\n",
    "---\n",
    "---"
   ]
  },
  {
   "cell_type": "code",
   "execution_count": 32,
   "metadata": {
    "colab": {
     "base_uri": "https://localhost:8080/"
    },
    "id": "M1r_ehCOWV6T",
    "outputId": "b3783675-31da-40f3-cdaf-1282834494e4"
   },
   "outputs": [
    {
     "name": "stdout",
     "output_type": "stream",
     "text": [
      "Purity scores for min-points: 50, epsilon: 1.288\n",
      "\tPurity score for labeled set: 0.820\n",
      "\tPurity score for all excluding labeled set: 0.811\n",
      "\tPurity score whole data:, 0.812\n",
      "\n",
      "Purity scores for min-points: 8, epsilon: 0.545\n",
      "\tPurity score for labeled set: 0.980\n",
      "\tPurity score for all excluding labeled set: 0.980\n",
      "\tPurity score whole data:, 0.980\n"
     ]
    }
   ],
   "source": [
    "# Purity calculation here\n",
    "import numpy as np\n",
    "from sklearn import metrics\n",
    "\n",
    "def purity_score(y_true, y_pred):\n",
    "    contingency_matrix = metrics.cluster.contingency_matrix(y_true, y_pred)\n",
    "\n",
    "    return np.sum(np.amax(contingency_matrix, axis=0)) / y_true.size \n",
    "\n",
    "def print_purity(min_points, epsilon):\n",
    "    print(f'Purity scores for min-points: {min_points}, epsilon: {epsilon:.3f}')\n",
    "\n",
    "    dbs = DBSCAN(eps=epsilon, min_samples=min_points)\n",
    "    dbs.fit(X)\n",
    "\n",
    "    y_true = y.iloc[labeled_samples, 0]\n",
    "    y_pred = dbs.labels_[labeled_samples]\n",
    "    print(f'\\tPurity score for labeled set: {purity_score(y_true, y_pred):.3f}')\n",
    "\n",
    "    X_indexes = np.arange(0, X.shape[0])\n",
    "    rest_of_data_idx = np.setdiff1d(X_indexes, labeled_samples)\n",
    "    y_true = y.iloc[rest_of_data_idx,0]\n",
    "    y_pred = dbs.labels_[rest_of_data_idx]\n",
    "    print(f'\\tPurity score for all excluding labeled set: {purity_score(y_true, y_pred):.3f}')\n",
    "\n",
    "    y_true = y.iloc[X_indexes, 0]\n",
    "    y_pred = dbs.labels_[X_indexes]\n",
    "    print(f'\\tPurity score whole data:, {purity_score(y_true, y_pred):.3f}')\n",
    "    \n",
    "\n",
    "experiments_50_min_points = [e for e in experiments if e['min_points']==50]\n",
    "best_experiment_50_min_points = sorted(experiments_50_min_points, key=lambda x: -x['ari'])[0]\n",
    "print_purity(50, best_experiment_50_min_points['eps'])\n",
    "\n",
    "print('')\n",
    "print_purity(best_experiment['min_points'], best_experiment['eps'])"
   ]
  },
  {
   "cell_type": "markdown",
   "metadata": {
    "id": "rtFFQUjc1QPV"
   },
   "source": [
    "We can see that the purity results for the small labeled set and for the rest of the data are similiar. Hence,\n",
    "it doesn't look like we are overfitting."
   ]
  },
  {
   "cell_type": "markdown",
   "metadata": {
    "id": "f3kCGvZr8IBe"
   },
   "source": [
    "\n",
    "\n",
    "\n",
    "# Good Luck and Enjoy Learning Machine Learning!\n",
    "\n"
   ]
  }
 ],
 "metadata": {
  "colab": {
   "collapsed_sections": [],
   "name": "Solution_HW2_hier_and_dbscan.ipynb",
   "provenance": []
  },
  "kernel_info": {
   "name": "python3"
  },
  "kernelspec": {
   "display_name": "Python 3",
   "language": "python",
   "name": "python3"
  },
  "language_info": {
   "codemirror_mode": {
    "name": "ipython",
    "version": 3
   },
   "file_extension": ".py",
   "mimetype": "text/x-python",
   "name": "python",
   "nbconvert_exporter": "python",
   "pygments_lexer": "ipython3",
   "version": "3.11.0 (main, Oct 24 2022, 18:26:48) [MSC v.1933 64 bit (AMD64)]"
  },
  "nteract": {
   "version": "0.15.0"
  },
  "vscode": {
   "interpreter": {
    "hash": "6d04047d2253f287091e9caf71fa3f6c1ebc788e61497cfe430ec057946d30f1"
   }
  }
 },
 "nbformat": 4,
 "nbformat_minor": 4
}
