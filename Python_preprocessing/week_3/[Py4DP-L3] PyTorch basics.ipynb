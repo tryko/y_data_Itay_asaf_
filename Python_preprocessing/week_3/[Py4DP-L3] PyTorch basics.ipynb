{
 "cells": [
  {
   "cell_type": "code",
   "execution_count": 1,
   "metadata": {},
   "outputs": [],
   "source": [
    "# pip install --upgrade matplotlib"
   ]
  },
  {
   "cell_type": "code",
   "execution_count": 1,
   "metadata": {},
   "outputs": [],
   "source": [
    "# # to prevent crashing when plotting pytorch \n",
    "\n",
    "# import os\n",
    "# os.environ[\"KMP_DUPLICATE_LIB_OK\"]=\"TRUE\"\n"
   ]
  },
  {
   "cell_type": "code",
   "execution_count": 2,
   "metadata": {
    "ExecuteTime": {
     "end_time": "2019-11-08T10:22:58.718658Z",
     "start_time": "2019-11-08T10:22:58.188378Z"
    },
    "id": "cXW244UnM8N-"
   },
   "outputs": [
    {
     "name": "stdout",
     "output_type": "stream",
     "text": [
      "Populating the interactive namespace from numpy and matplotlib\n"
     ]
    }
   ],
   "source": [
    "%pylab inline\n",
    "plt.style.use(\"bmh\")"
   ]
  },
  {
   "cell_type": "code",
   "execution_count": 3,
   "metadata": {
    "ExecuteTime": {
     "end_time": "2019-11-08T10:23:14.039634Z",
     "start_time": "2019-11-08T10:23:14.033735Z"
    },
    "id": "vTBAs3gUM8OF"
   },
   "outputs": [],
   "source": [
    "plt.rcParams[\"figure.figsize\"] = (6,6)"
   ]
  },
  {
   "cell_type": "code",
   "execution_count": 4,
   "metadata": {
    "ExecuteTime": {
     "end_time": "2019-11-08T10:23:15.055164Z",
     "start_time": "2019-11-08T10:23:14.287919Z"
    },
    "id": "W01ZXPGjM8OG"
   },
   "outputs": [],
   "source": [
    "import numpy as np\n",
    "import torch"
   ]
  },
  {
   "cell_type": "markdown",
   "metadata": {
    "id": "5zY1_du8M8OI"
   },
   "source": [
    "# Creating tensors"
   ]
  },
  {
   "cell_type": "markdown",
   "metadata": {
    "id": "IzXDRwRBM8OL"
   },
   "source": [
    "## From NumPy arrays"
   ]
  },
  {
   "cell_type": "code",
   "execution_count": 5,
   "metadata": {
    "ExecuteTime": {
     "end_time": "2019-11-08T10:24:42.977262Z",
     "start_time": "2019-11-08T10:24:42.967394Z"
    },
    "id": "SpMoKuu6M8OM"
   },
   "outputs": [],
   "source": [
    "np_a = np.random.randn(2, 3)\n",
    "torch_a = torch.from_numpy(np_a)"
   ]
  },
  {
   "cell_type": "code",
   "execution_count": 6,
   "metadata": {
    "ExecuteTime": {
     "end_time": "2019-11-08T10:25:01.269914Z",
     "start_time": "2019-11-08T10:25:01.207133Z"
    },
    "id": "av22p_tPM8ON"
   },
   "outputs": [
    {
     "name": "stdout",
     "output_type": "stream",
     "text": [
      "NumPy array:\n",
      "[[-1.3024079  -0.10254981  0.16120081]\n",
      " [-1.00429893 -0.41989864  1.07126841]] \n",
      "\n",
      "PyTorch tensor:\n",
      "tensor([[-1.3024, -0.1025,  0.1612],\n",
      "        [-1.0043, -0.4199,  1.0713]], dtype=torch.float64) \n",
      "\n",
      "NumPy array dtype: float64\n",
      "PyTorch tensor dtype: torch.float64\n",
      "Default PyTorch float: torch.float32 \n",
      "\n",
      "Tensor shape: torch.Size([2, 3])\n",
      "Tensor size: torch.Size([2, 3])\n",
      "Tensor number of dimensions: 2\n"
     ]
    }
   ],
   "source": [
    "print(\"NumPy array:\")\n",
    "print(np_a, \"\\n\")\n",
    "print(\"PyTorch tensor:\")\n",
    "print(torch_a, \"\\n\")\n",
    "\n",
    "print(f\"NumPy array dtype: {np_a.dtype}\")\n",
    "print(f\"PyTorch tensor dtype: {torch_a.dtype}\")\n",
    "print(f\"Default PyTorch float: {torch.get_default_dtype()}\", \"\\n\")\n",
    "\n",
    "print(f\"Tensor shape: {torch_a.shape}\")\n",
    "print(f\"Tensor size: {torch_a.size()}\")\n",
    "print(f\"Tensor number of dimensions: {torch_a.dim()}\")"
   ]
  },
  {
   "cell_type": "markdown",
   "metadata": {
    "id": "eAS_CtWrM8OP"
   },
   "source": [
    "Note, that PyTorch reused dtype from the NumPy array. However, `float64` is not the default floating point type for PyTorch:"
   ]
  },
  {
   "cell_type": "code",
   "execution_count": 7,
   "metadata": {
    "ExecuteTime": {
     "end_time": "2019-11-08T10:31:01.998019Z",
     "start_time": "2019-11-08T10:31:01.992872Z"
    },
    "id": "e3marbc1M8OP"
   },
   "outputs": [],
   "source": [
    "torch_a = torch.tensor(np_a, dtype=torch.float)"
   ]
  },
  {
   "cell_type": "code",
   "execution_count": 8,
   "metadata": {
    "ExecuteTime": {
     "end_time": "2019-11-08T10:31:02.530714Z",
     "start_time": "2019-11-08T10:31:02.524099Z"
    },
    "id": "XUdCgVaRM8OR"
   },
   "outputs": [
    {
     "data": {
      "text/plain": [
       "torch.float32"
      ]
     },
     "execution_count": 8,
     "metadata": {},
     "output_type": "execute_result"
    }
   ],
   "source": [
    "torch_a.dtype"
   ]
  },
  {
   "cell_type": "code",
   "execution_count": 9,
   "metadata": {
    "ExecuteTime": {
     "end_time": "2019-11-08T10:31:16.387707Z",
     "start_time": "2019-11-08T10:31:16.376277Z"
    },
    "id": "rWYV9mzEM8OS"
   },
   "outputs": [
    {
     "name": "stdout",
     "output_type": "stream",
     "text": [
      "NumPy array:\n",
      "[[-1.3024079  -0.10254981  0.16120081]\n",
      " [-1.00429893 -0.41989864  1.07126841]] \n",
      "\n",
      "PyTorch tensor:\n",
      "tensor([[-1.3024, -0.1025,  0.1612],\n",
      "        [-1.0043, -0.4199,  1.0713]]) \n",
      "\n"
     ]
    }
   ],
   "source": [
    "print(\"NumPy array:\")\n",
    "print(np_a, \"\\n\")\n",
    "print(\"PyTorch tensor:\")\n",
    "print(torch_a, \"\\n\")"
   ]
  },
  {
   "cell_type": "markdown",
   "metadata": {
    "id": "xzeOWAWpM8OS"
   },
   "source": [
    "PyTorch numerical types **are not real Python types**:"
   ]
  },
  {
   "cell_type": "code",
   "execution_count": 10,
   "metadata": {
    "ExecuteTime": {
     "end_time": "2019-11-08T10:31:20.482849Z",
     "start_time": "2019-11-08T10:31:20.476085Z"
    },
    "id": "NmQE3BSIM8OT"
   },
   "outputs": [
    {
     "name": "stdout",
     "output_type": "stream",
     "text": [
      "<class 'type'> <class 'torch.dtype'>\n"
     ]
    }
   ],
   "source": [
    "print(type(np.float32), type(torch.float))"
   ]
  },
  {
   "cell_type": "markdown",
   "metadata": {
    "id": "2DgAmGZuM8OT"
   },
   "source": [
    "## Predefined structure and values\n",
    "\n",
    "We can create all the common tensor pattern with PyTorch:"
   ]
  },
  {
   "cell_type": "code",
   "execution_count": 11,
   "metadata": {
    "ExecuteTime": {
     "end_time": "2019-11-08T10:39:43.339397Z",
     "start_time": "2019-11-08T10:39:43.331750Z"
    },
    "id": "Cn2GSOYUM8OT"
   },
   "outputs": [
    {
     "data": {
      "text/plain": [
       "tensor([0, 1, 2, 3, 4, 5, 6, 7, 8, 9])"
      ]
     },
     "execution_count": 11,
     "metadata": {},
     "output_type": "execute_result"
    }
   ],
   "source": [
    "torch.arange(10)"
   ]
  },
  {
   "cell_type": "code",
   "execution_count": 12,
   "metadata": {
    "ExecuteTime": {
     "end_time": "2019-11-08T10:39:44.074284Z",
     "start_time": "2019-11-08T10:39:44.064510Z"
    },
    "id": "Nv0C08NEM8OU"
   },
   "outputs": [
    {
     "data": {
      "text/plain": [
       "tensor([[0., 0., 0.],\n",
       "        [0., 0., 0.]])"
      ]
     },
     "execution_count": 12,
     "metadata": {},
     "output_type": "execute_result"
    }
   ],
   "source": [
    "torch.zeros(2, 3)"
   ]
  },
  {
   "cell_type": "code",
   "execution_count": 13,
   "metadata": {
    "ExecuteTime": {
     "end_time": "2019-11-08T10:39:45.081723Z",
     "start_time": "2019-11-08T10:39:45.073356Z"
    },
    "id": "LP2GX4VkM8OU"
   },
   "outputs": [
    {
     "data": {
      "text/plain": [
       "tensor([ 0.0000,  0.5263,  1.0526,  1.5789,  2.1053,  2.6316,  3.1579,  3.6842,\n",
       "         4.2105,  4.7368,  5.2632,  5.7895,  6.3158,  6.8421,  7.3684,  7.8947,\n",
       "         8.4211,  8.9474,  9.4737, 10.0000])"
      ]
     },
     "execution_count": 13,
     "metadata": {},
     "output_type": "execute_result"
    }
   ],
   "source": [
    "torch.linspace(0, 10, 20)"
   ]
  },
  {
   "cell_type": "code",
   "execution_count": 14,
   "metadata": {
    "ExecuteTime": {
     "end_time": "2019-11-08T10:39:49.067017Z",
     "start_time": "2019-11-08T10:39:49.059267Z"
    },
    "id": "Nhtvdg5GM8OU"
   },
   "outputs": [
    {
     "data": {
      "text/plain": [
       "tensor([[False, False, False, False, False],\n",
       "        [False, False, False, False, False]])"
      ]
     },
     "execution_count": 14,
     "metadata": {},
     "output_type": "execute_result"
    }
   ],
   "source": [
    "torch.zeros(2, 5, dtype=torch.bool)"
   ]
  },
  {
   "cell_type": "code",
   "execution_count": 15,
   "metadata": {
    "ExecuteTime": {
     "end_time": "2019-11-08T10:39:49.400515Z",
     "start_time": "2019-11-08T10:39:49.391733Z"
    },
    "id": "66y-jjEFM8OV"
   },
   "outputs": [
    {
     "data": {
      "text/plain": [
       "tensor([[True, True, True, True, True],\n",
       "        [True, True, True, True, True]])"
      ]
     },
     "execution_count": 15,
     "metadata": {},
     "output_type": "execute_result"
    }
   ],
   "source": [
    "torch.ones(2, 5, dtype=torch.bool)"
   ]
  },
  {
   "cell_type": "markdown",
   "metadata": {
    "id": "JVB5kWQ3M8OV"
   },
   "source": [
    "## Random numbers\n",
    "\n",
    "Random numbers, however, are created differently in PyTorch:"
   ]
  },
  {
   "cell_type": "code",
   "execution_count": 16,
   "metadata": {
    "ExecuteTime": {
     "end_time": "2019-11-08T10:41:44.387867Z",
     "start_time": "2019-11-08T10:41:44.378859Z"
    },
    "id": "JWHmznPiM8OV"
   },
   "outputs": [],
   "source": [
    "torch.manual_seed(8436)\n",
    "a = torch.Tensor(1000)"
   ]
  },
  {
   "cell_type": "markdown",
   "metadata": {
    "id": "_44NpCjeM8OW"
   },
   "source": [
    "`a` contains whatever garbage was in memory:"
   ]
  },
  {
   "cell_type": "code",
   "execution_count": 17,
   "metadata": {
    "ExecuteTime": {
     "end_time": "2019-11-08T10:44:04.990029Z",
     "start_time": "2019-11-08T10:44:04.651837Z"
    },
    "id": "-cpc_FFMM8OX"
   },
   "outputs": [
    {
     "data": {
      "image/png": "[encoded data removed]",
      "text/plain": [
       "<Figure size 600x600 with 1 Axes>"
      ]
     },
     "metadata": {},
     "output_type": "display_data"
    }
   ],
   "source": [
    "a.normal_(0, 2.)\n",
    "\n",
    "plt.hist(a);"
   ]
  },
  {
   "cell_type": "code",
   "execution_count": 18,
   "metadata": {
    "ExecuteTime": {
     "end_time": "2019-11-08T10:42:30.254893Z",
     "start_time": "2019-11-08T10:42:30.241685Z"
    },
    "id": "m3LOANR7M8OW"
   },
   "outputs": [
    {
     "data": {
      "text/plain": [
       "tensor([-2.2919e+00,  4.3263e-01,  1.5736e+00, -2.4028e+00,  3.5446e+00,\n",
       "         1.3257e+00, -2.5274e-01, -1.7132e+00, -4.1595e-02,  2.3262e+00,\n",
       "        -1.8660e+00, -8.8658e-02,  3.1620e-01, -5.8752e-01,  2.4293e-01,\n",
       "        -1.2593e+00, -1.2843e+00,  1.9742e+00, -4.4349e+00,  4.7044e-01,\n",
       "        -1.6515e+00,  1.7619e+00, -6.6118e-01, -3.2274e-03,  9.1705e-01,\n",
       "         3.1695e+00,  1.7674e-02, -3.4520e-01,  1.2590e+00,  1.5701e+00,\n",
       "         3.2448e+00, -3.6098e+00,  3.5049e+00, -7.4172e-01,  1.0931e+00,\n",
       "        -1.6822e+00, -7.0184e-01,  3.6455e+00,  1.7197e+00, -1.3259e+00,\n",
       "         2.2786e-01,  3.3308e+00, -1.0896e+00, -1.5249e+00,  1.1883e-01,\n",
       "        -1.2627e+00,  4.1743e+00,  3.1813e+00, -1.3425e+00, -3.6464e+00,\n",
       "        -5.7174e-01, -1.7664e+00, -2.0771e+00, -1.0109e+00,  2.4916e+00,\n",
       "         2.9375e+00,  5.8447e-01, -1.1851e-01,  5.6465e-01, -4.4815e-01,\n",
       "        -2.5333e+00, -4.3514e-01,  6.2425e-01,  5.2438e-01,  3.0324e+00,\n",
       "        -1.8246e+00, -2.7478e-01,  2.9988e-01, -6.4829e-01,  4.9268e+00,\n",
       "         8.4755e-01, -3.0541e+00, -2.6240e+00,  1.4383e+00,  2.1423e+00,\n",
       "         7.2106e-01,  4.6684e+00,  1.3792e+00, -1.9217e-01,  1.7289e+00,\n",
       "         2.1233e+00,  4.0640e-01,  1.9860e-01,  2.2431e+00,  2.4593e+00,\n",
       "        -1.6719e-01, -9.9052e-01,  8.1383e-01,  1.3747e+00, -6.9637e-01,\n",
       "        -6.3290e+00, -5.3554e+00, -4.4142e+00,  1.3737e-01,  3.4565e-01,\n",
       "         1.2994e+00, -1.5206e+00, -3.0597e+00, -7.9422e-02,  1.3444e-01,\n",
       "        -1.4759e+00,  8.9342e-01, -2.1195e+00,  2.0784e+00,  1.6002e-01,\n",
       "         4.4997e+00, -1.3006e+00,  7.8551e-01, -3.4280e-01,  2.5837e-01,\n",
       "        -3.3744e+00,  2.2577e+00,  5.0078e-01, -6.8743e-01, -9.3008e-01,\n",
       "         8.5575e-01, -6.2824e-01,  1.0386e+00, -1.0336e+00,  1.0845e+00,\n",
       "         1.2570e+00, -9.5082e-01, -3.9209e-01, -2.7332e-01, -1.5591e+00,\n",
       "         1.2878e+00,  1.7296e+00, -1.1362e+00, -1.4475e+00, -1.3921e+00,\n",
       "        -1.0790e+00,  2.3587e-01,  2.7029e+00,  1.3145e+00,  1.6775e+00,\n",
       "        -2.3315e+00,  2.0587e+00, -6.7967e-01,  2.6437e+00,  1.6064e+00,\n",
       "        -1.6214e+00, -1.1348e+00, -3.5125e-01,  2.8466e+00, -1.2575e-01,\n",
       "         3.3434e+00, -1.7560e+00,  7.6989e-01,  1.8376e+00,  4.4842e+00,\n",
       "        -1.7364e-01, -1.3052e+00, -1.4079e-03, -2.9331e+00,  2.4487e+00,\n",
       "        -8.5059e-01,  3.9162e-01,  1.0447e+00,  6.4907e-01,  1.2391e+00,\n",
       "        -5.2215e+00,  4.8431e+00,  5.6711e-01,  1.0835e+00, -3.1063e+00,\n",
       "        -5.5866e-01, -1.1059e+00, -3.0073e+00, -2.8582e+00, -9.2320e-01,\n",
       "        -8.7273e-01,  1.2883e+00,  1.7370e+00, -1.3099e+00, -1.3876e+00,\n",
       "        -3.4849e+00,  2.2886e+00, -4.3767e+00, -1.4358e+00, -2.0556e+00,\n",
       "         4.9534e-01,  4.9308e+00, -7.3605e-01, -2.5546e+00,  3.2174e-01,\n",
       "        -4.0973e-01,  5.3469e+00,  1.4204e+00,  5.6037e-01, -8.5753e-01,\n",
       "        -6.1261e-01,  1.6774e+00,  2.2255e+00,  3.6640e-01,  5.8300e-01,\n",
       "        -1.7168e+00,  6.3640e-02, -1.5404e+00,  4.7289e-01, -7.3625e-01,\n",
       "         8.5145e-01,  2.5669e+00,  5.0066e-02, -1.1685e+00,  1.3790e+00,\n",
       "         1.7003e+00,  3.7673e+00, -7.6446e-01, -3.4889e+00, -1.7751e+00,\n",
       "         1.2986e+00,  2.4779e-01,  1.7134e+00, -4.0951e-02, -5.0459e+00,\n",
       "        -1.6497e+00,  1.4667e+00,  2.5507e+00, -1.1201e+00, -4.6333e-01,\n",
       "         1.8331e+00, -2.6158e+00,  1.3834e+00,  1.1146e+00,  8.4735e-01,\n",
       "        -2.6618e+00, -2.5660e+00, -1.9648e+00, -2.1979e+00, -2.6754e+00,\n",
       "         7.1634e-01,  4.5404e+00,  1.7789e-01, -7.7670e-01, -2.1363e+00,\n",
       "        -2.7007e+00,  7.8178e-01, -1.7317e+00,  5.4873e-01,  2.0708e+00,\n",
       "         1.0010e+00,  2.5927e-01, -2.8984e+00, -4.7930e-01, -8.5174e-01,\n",
       "        -3.5567e+00, -2.2514e+00, -1.8296e+00,  1.8652e+00, -7.7795e-01,\n",
       "         1.0118e-01, -1.8885e-01,  4.8859e-01, -2.3249e+00,  1.3992e+00,\n",
       "         2.1026e+00, -2.3319e+00, -2.5105e+00,  3.2911e+00,  2.7161e+00,\n",
       "        -1.6726e+00, -7.9547e-01, -2.6036e+00,  2.4223e-01,  2.2943e+00,\n",
       "         2.0738e+00, -8.1898e-01, -2.4839e+00, -6.1729e-01,  2.0525e+00,\n",
       "        -2.1531e+00, -7.7893e-01,  6.0431e-01,  2.8897e+00,  8.2381e-01,\n",
       "        -1.1249e-01, -5.0274e-02, -1.0602e+00,  2.9198e-01,  1.5351e-01,\n",
       "         1.2812e+00,  9.3868e-01, -2.8380e+00,  2.1367e+00, -6.7727e-01,\n",
       "        -1.3478e+00, -5.8691e-01,  2.1684e-01,  1.1137e+00,  9.0807e-01,\n",
       "         9.7792e-01, -1.1684e+00, -6.3883e-01, -6.5141e+00, -8.5528e-01,\n",
       "        -5.6988e-02,  8.9955e-01, -2.3305e+00,  9.6892e-01,  1.7137e+00,\n",
       "        -3.1391e+00, -2.0951e+00,  2.4483e+00, -3.2234e+00, -2.2094e+00,\n",
       "         2.1366e-01, -3.2344e+00, -1.7944e+00, -5.5509e-01,  1.9171e+00,\n",
       "         7.6091e-02,  2.0486e+00, -4.2244e-01, -1.3890e+00, -1.7576e+00,\n",
       "        -9.7624e-01, -1.3146e+00,  3.4630e+00,  1.8050e+00,  1.6469e+00,\n",
       "        -6.4352e-01, -1.3290e+00, -3.2479e+00,  8.4807e-01, -2.0670e+00,\n",
       "         1.5313e+00,  4.8693e-01,  1.7624e+00,  2.7787e+00,  3.2837e-01,\n",
       "        -2.0092e+00,  3.6202e+00,  1.4647e+00,  3.7960e-01,  1.2828e+00,\n",
       "         9.9302e-02,  5.3126e-01, -2.6296e+00, -8.1786e-01, -1.3689e-01,\n",
       "         1.6139e+00,  9.6088e-01, -1.4361e+00, -1.0405e+00, -3.4368e-01,\n",
       "         1.2039e+00, -1.1962e-01, -1.1537e+00,  3.6990e-01, -2.8626e-01,\n",
       "        -1.2502e-01,  5.5105e-01, -5.8527e-01, -2.6875e+00, -3.6809e+00,\n",
       "         2.2143e+00, -2.3145e+00, -6.1345e-01,  5.8068e-01, -9.1392e-01,\n",
       "        -6.9647e-01,  2.9372e+00, -1.7320e+00,  5.1612e+00,  1.1164e+00,\n",
       "        -7.6316e-03, -3.2627e+00, -1.2608e+00,  3.3034e+00, -4.0587e+00,\n",
       "         8.2815e-01, -1.0823e+00, -2.1933e+00, -5.1749e-01, -1.8426e-01,\n",
       "         3.5564e-02,  2.6516e-01,  3.0169e+00, -3.4349e+00, -3.7993e+00,\n",
       "         8.0212e-01,  9.1834e-01,  2.5283e+00, -1.3037e+00,  6.0565e-01,\n",
       "         2.7917e+00,  2.3023e-01, -2.2487e+00, -3.9219e+00, -8.2717e-01,\n",
       "         3.9717e-01, -2.0357e-01, -2.8594e+00,  1.2420e+00, -1.5587e+00,\n",
       "         2.2057e+00, -4.6985e-01, -6.2380e-01, -9.8299e-01,  7.9514e-01,\n",
       "         3.0581e+00,  1.7129e+00, -2.6513e+00, -1.4977e+00,  1.2262e+00,\n",
       "         3.5930e-01, -1.3151e+00, -1.4211e+00,  4.1030e+00,  5.8670e-01,\n",
       "        -1.7142e+00, -2.0539e-01,  4.2352e+00,  4.4384e+00,  1.2917e+00,\n",
       "         2.6669e+00, -4.7495e-02, -5.9481e-01, -5.1433e-01, -4.6636e-03,\n",
       "        -6.6995e-02,  2.3367e+00,  3.1260e-01, -8.5280e-01, -6.3069e-01,\n",
       "         8.8841e-01,  7.2744e-01,  1.2778e+00,  1.2326e-01, -3.1231e+00,\n",
       "        -3.1850e+00,  2.5432e+00, -8.6561e-01, -1.0270e+00, -4.3424e+00,\n",
       "         8.1967e-01, -1.3758e+00, -9.1522e-01, -9.2224e-01, -3.3739e+00,\n",
       "        -2.3315e-01,  1.8362e+00, -3.3752e+00, -2.1249e+00,  9.3292e-01,\n",
       "         2.7579e+00, -3.6252e+00, -2.3260e+00, -4.9381e-01, -6.0036e-01,\n",
       "        -3.3748e+00,  2.0954e+00,  1.5811e+00, -2.3285e+00, -1.6191e-02,\n",
       "        -3.4648e+00,  5.0323e-01, -3.3634e+00,  1.7135e-01,  9.8819e-01,\n",
       "         9.0604e-01, -1.3364e+00,  6.6614e-01, -4.9795e-01,  1.3969e-01,\n",
       "        -6.4136e-01, -4.2216e+00,  8.7639e-01,  4.9881e-01,  3.2725e+00,\n",
       "         1.2568e-01, -2.5858e+00, -9.7827e-02,  1.9059e+00, -3.0869e+00,\n",
       "         1.2053e+00, -1.0875e+00,  2.9355e+00,  4.4795e-01, -8.2477e-01,\n",
       "        -8.6231e-01,  1.9716e+00,  2.9857e-01, -1.1675e+00,  1.6143e+00,\n",
       "        -1.0905e-01, -2.1350e+00, -8.2933e-01, -1.2153e-01, -2.8148e+00,\n",
       "        -1.3284e+00,  1.6885e+00, -1.4505e+00,  3.2788e+00, -4.3456e+00,\n",
       "         1.2164e+00,  1.0258e+00,  2.2734e+00,  7.8262e-01,  2.3375e+00,\n",
       "         3.7030e-01, -8.3644e-01, -8.0976e-01, -5.3413e-01, -1.1915e-01,\n",
       "        -2.0011e+00, -3.8677e-01, -3.3214e+00,  1.3955e-01, -2.0139e+00,\n",
       "        -1.1227e+00,  1.3714e+00, -1.5181e+00,  5.1008e+00, -4.3061e+00,\n",
       "         5.7194e+00, -3.7632e+00, -1.1773e+00, -1.1320e+00, -3.4914e+00,\n",
       "         3.9742e+00,  2.7371e+00, -1.7153e+00,  1.9794e+00,  1.1001e+00,\n",
       "         5.7927e-01, -3.1983e+00, -1.4160e+00, -1.5041e+00, -3.0098e-01,\n",
       "         1.2685e+00, -1.9371e+00, -1.1081e+00, -9.9308e-01, -1.0156e+00,\n",
       "        -1.5883e+00,  9.1247e-01, -4.7303e+00, -1.0824e+00, -5.0476e+00,\n",
       "        -3.0089e+00,  8.5321e-01,  3.2152e+00, -1.7620e+00,  1.6686e-01,\n",
       "         9.7045e-01,  5.5694e+00, -1.1559e+00,  4.2873e-01, -9.8258e-02,\n",
       "        -1.0010e-01,  3.3869e-02, -1.6707e+00,  2.8910e+00, -1.9287e+00,\n",
       "         7.2294e-01, -3.8000e+00, -3.6216e-01,  1.1216e-01,  1.2259e+00,\n",
       "        -3.2437e+00, -4.1954e-01,  1.7491e+00,  7.2243e-01,  9.6165e-02,\n",
       "         3.3913e-01,  2.3066e+00, -2.4393e+00,  1.0931e+00,  5.5662e+00,\n",
       "        -4.5450e-01, -1.4215e+00,  2.2806e+00, -2.2552e+00,  1.0353e+00,\n",
       "         1.1482e+00, -1.3793e+00, -5.3620e-01,  1.1922e+00, -4.1754e+00,\n",
       "        -2.8416e+00,  1.1953e+00, -2.5730e+00,  2.6354e+00,  1.0699e+00,\n",
       "         1.3130e-01,  1.2558e+00, -1.9031e-01,  1.0036e+00, -8.8130e-01,\n",
       "         1.7529e+00, -4.7854e-01, -1.4055e+00, -4.3359e+00,  5.8364e-01,\n",
       "         1.1115e+00, -1.3105e+00,  1.9298e+00, -3.1739e-01, -3.2541e-01,\n",
       "        -3.0670e+00, -3.6214e-01, -1.2622e+00, -2.1401e+00,  4.0741e-01,\n",
       "         9.1043e-01, -2.4137e+00,  2.5468e+00,  2.6664e+00,  1.9410e+00,\n",
       "         7.3497e-01,  2.1768e+00,  1.0486e+00,  1.4862e+00,  1.0984e+00,\n",
       "         7.2318e-01,  6.9043e-01, -1.5674e+00, -2.4276e+00,  1.3895e+00,\n",
       "        -1.6666e+00, -2.7584e+00, -1.2455e+00,  4.7999e-01, -9.9231e-01,\n",
       "        -2.3026e-01,  5.5331e-01, -1.1243e+00, -6.9071e-01,  2.7782e+00,\n",
       "        -4.2919e-01,  3.9545e+00, -2.2902e+00,  1.0984e+00,  2.1133e+00,\n",
       "        -1.1441e+00,  1.1730e+00,  2.1431e+00,  2.5447e-01,  3.8713e+00,\n",
       "        -1.2314e+00, -1.2961e+00, -1.4073e-01, -1.1025e+00, -2.6235e-01,\n",
       "         1.1281e+00,  1.2197e+00,  1.4505e+00, -4.2797e-01, -9.1393e-01,\n",
       "         2.0668e+00, -6.7566e+00, -2.4521e+00, -1.1017e+00, -8.1470e-01,\n",
       "         3.1956e-01, -1.2481e+00,  7.4861e-01,  8.4849e-01,  3.2990e+00,\n",
       "         1.8509e+00,  1.5048e-01, -3.5095e+00,  7.0292e-01,  2.2334e+00,\n",
       "        -2.9516e-01, -1.5121e+00, -4.2360e+00, -1.8773e+00,  3.0386e+00,\n",
       "        -5.0613e+00,  1.7808e+00, -2.3811e-01,  1.5080e+00, -2.6208e+00,\n",
       "        -4.3455e-01,  9.2774e-01,  1.1999e+00,  6.2208e-01,  4.2524e+00,\n",
       "        -1.8891e+00, -4.7699e+00, -3.0855e+00,  3.1133e+00, -1.9883e+00,\n",
       "        -1.8585e+00, -3.2749e+00,  2.7496e-02, -8.7054e-01,  1.1619e+00,\n",
       "         1.3967e+00, -2.6677e+00, -1.0310e+00, -2.2730e-01,  1.3690e+00,\n",
       "         7.7324e-01, -7.3713e-01,  1.8931e+00,  3.5761e+00,  8.4670e-01,\n",
       "         7.2449e-01,  2.3678e+00,  1.3315e+00,  4.2794e+00, -7.3262e-01,\n",
       "        -4.7554e+00,  5.4503e-01,  3.1372e+00, -7.2561e-01, -6.9167e-01,\n",
       "         8.6125e-01,  1.6106e+00,  1.7068e+00,  1.5871e+00, -4.9607e-01,\n",
       "        -2.8863e+00, -1.6848e-01, -7.1096e-01, -2.9288e+00,  2.9392e-01,\n",
       "         2.5318e+00, -1.7964e+00,  3.6552e+00,  2.1267e+00,  3.7079e-02,\n",
       "         1.2033e+00, -4.4012e+00,  6.2933e-01, -7.6133e-01,  7.0312e-01,\n",
       "         7.6441e-01, -3.1923e-01, -3.6712e-01,  1.4976e+00, -6.5503e-03,\n",
       "         1.4619e+00,  3.6785e-01,  4.1133e+00,  3.5535e-01,  1.1286e+00,\n",
       "        -2.2114e+00,  1.6637e+00, -7.5749e-01,  2.6855e-01,  9.6673e-01,\n",
       "        -2.7773e+00, -6.0890e-01,  1.6469e+00, -2.2565e+00,  3.2852e+00,\n",
       "         8.6300e-02, -1.1319e+00,  7.9229e-01, -4.4764e+00,  3.4140e-01,\n",
       "        -3.7774e-02,  2.6715e+00, -1.7061e+00,  3.5968e+00,  1.0803e+00,\n",
       "        -5.0663e+00, -2.3663e+00, -1.9547e+00, -3.2984e+00, -7.4054e-01,\n",
       "         5.2588e-01, -4.2576e+00, -2.4532e+00,  2.2351e+00,  1.9558e+00,\n",
       "        -1.6654e+00, -2.3846e+00, -3.7296e+00,  8.5504e-01, -1.5808e+00,\n",
       "        -2.2424e+00,  8.5260e-01, -7.1876e-01, -5.6675e-01,  3.8740e+00,\n",
       "        -9.2809e-01,  3.8592e-01,  4.3402e-01, -2.1182e+00,  9.4022e-01,\n",
       "         1.6039e+00,  9.5447e-02,  2.7046e+00, -1.4743e+00, -1.0436e+00,\n",
       "        -3.0083e+00,  3.5917e+00,  9.7740e-01,  3.6774e+00, -1.5015e+00,\n",
       "        -3.9608e-01,  2.2731e+00,  1.4886e+00, -1.9086e+00, -1.1070e+00,\n",
       "        -2.4497e-01, -4.9239e-02,  2.4654e+00,  1.3165e+00, -1.0117e+00,\n",
       "        -1.2605e-01, -1.8186e+00,  5.1611e+00, -5.7367e-01, -1.1077e+00,\n",
       "        -4.3143e-01,  1.7600e+00,  1.1579e+00, -5.3057e-01, -1.0132e+00,\n",
       "        -8.0919e-01, -1.2712e+00, -2.6277e+00,  3.3056e+00,  2.8657e+00,\n",
       "        -3.3597e+00,  5.8744e-02, -2.1724e+00, -2.9203e+00, -1.2882e+00,\n",
       "         1.1374e+00, -2.6154e+00,  4.0876e+00,  5.5156e-01,  1.0286e+00,\n",
       "        -1.7461e+00, -1.3108e+00,  6.9440e-01,  6.0131e-01, -2.7158e+00,\n",
       "        -9.2019e-01,  1.3941e+00,  1.1939e+00,  1.3121e+00,  4.7484e-01,\n",
       "         3.9071e+00, -9.5274e-01, -1.0926e+00, -7.8864e-01, -1.3035e+00,\n",
       "         2.4399e+00,  2.0309e+00, -5.8800e-01, -2.0398e+00, -1.1101e+00,\n",
       "         3.1859e+00,  3.8027e+00, -1.9562e+00, -1.2577e+00,  8.6038e-01,\n",
       "        -1.0580e+00, -3.2055e+00,  1.2222e+00, -3.9578e+00,  1.0609e+00,\n",
       "         8.0694e-01, -5.7878e-01,  1.3153e+00,  2.1267e+00, -2.2264e+00,\n",
       "         8.2653e-01,  5.1110e-01,  1.4770e+00,  5.2592e-01, -2.0270e+00,\n",
       "        -5.8215e-01, -6.3539e-01, -1.5206e+00,  1.6920e+00,  1.3446e+00,\n",
       "         2.9729e+00, -1.0589e+00,  3.1473e+00, -2.4278e+00, -5.2574e+00,\n",
       "         4.9466e-01, -4.3313e-01,  1.9073e+00, -2.5911e-01,  7.0259e-01,\n",
       "        -2.0595e+00, -4.3936e-01, -2.2180e+00, -3.9620e-01, -1.5289e-01,\n",
       "        -2.1020e+00, -2.4729e-01,  4.0430e-01, -3.6789e+00, -1.7323e+00,\n",
       "        -2.8249e+00,  2.4277e+00, -1.3820e-01, -1.2355e+00,  2.2721e+00,\n",
       "        -1.4203e+00,  2.9934e-01,  9.1303e-01,  4.0603e-01,  4.3920e-01,\n",
       "         6.7835e-01,  2.2854e+00, -1.5374e+00, -1.7270e-01, -7.6527e-01,\n",
       "         2.4965e+00, -3.5265e+00, -2.1383e+00,  3.2282e+00, -1.5668e+00,\n",
       "         6.2243e-01, -8.3093e-01,  1.0363e+00,  1.7247e+00,  4.8959e-01,\n",
       "         3.1307e-01, -7.6050e-01,  1.0620e+00, -7.0117e-01, -7.9509e-02,\n",
       "        -1.1031e+00,  1.1906e+00,  1.2666e+00,  1.4387e+00,  1.1379e+00,\n",
       "         1.2707e+00, -4.4028e-01,  3.0351e+00, -9.1658e-01, -2.4246e+00,\n",
       "        -3.0655e+00, -3.0023e+00,  1.7638e+00, -2.8608e+00, -9.4440e-01,\n",
       "        -1.7541e+00,  4.0143e+00,  9.3529e-01, -1.9120e+00,  4.4998e+00,\n",
       "         1.6265e-02, -1.1166e+00,  1.1142e+00,  2.6489e+00,  4.4684e-01,\n",
       "        -8.7138e-01,  4.0722e+00,  7.2445e-01,  2.7204e+00,  8.4679e-02,\n",
       "         2.3082e+00, -1.1786e+00,  5.7325e-01,  2.7175e+00, -9.6227e-02,\n",
       "         4.3571e+00,  2.4519e+00,  2.3016e+00,  1.4399e+00, -2.9225e+00,\n",
       "        -3.3472e+00, -3.5629e-01, -1.3883e+00,  1.2782e-01, -2.9534e+00,\n",
       "        -1.0528e+00, -1.6616e-01, -3.2702e-01,  2.5394e+00,  1.6488e+00,\n",
       "         7.0342e-01, -2.2589e+00, -1.3378e+00, -5.7101e-03, -7.5525e-01,\n",
       "        -3.3170e+00,  1.0694e+00, -1.3270e+00, -2.8916e+00,  1.6410e+00,\n",
       "         6.2112e-01,  2.6379e+00,  1.0857e+00, -8.7864e-01, -1.3804e+00,\n",
       "        -2.1275e-01, -2.0284e+00, -4.4154e-03,  1.8852e-01,  3.0730e+00,\n",
       "        -7.3010e-01, -4.1839e+00, -5.6231e-01, -2.0138e+00, -5.8598e-01])"
      ]
     },
     "execution_count": 18,
     "metadata": {},
     "output_type": "execute_result"
    }
   ],
   "source": [
    "a"
   ]
  },
  {
   "cell_type": "markdown",
   "metadata": {
    "id": "kxSrZga5M8OW"
   },
   "source": [
    "In-place filling of `a` with Gaussian random variable:"
   ]
  },
  {
   "cell_type": "markdown",
   "metadata": {
    "id": "msAUHBquM8OX"
   },
   "source": [
    "Or a uniform disribution:"
   ]
  },
  {
   "cell_type": "code",
   "execution_count": 19,
   "metadata": {
    "ExecuteTime": {
     "end_time": "2019-11-08T10:45:05.399149Z",
     "start_time": "2019-11-08T10:45:05.059858Z"
    },
    "id": "n_3mztExM8OX"
   },
   "outputs": [
    {
     "data": {
      "image/png": "[encoded data removed]",
      "text/plain": [
       "<Figure size 600x600 with 1 Axes>"
      ]
     },
     "metadata": {},
     "output_type": "display_data"
    }
   ],
   "source": [
    "a.uniform_(-2, 2.)\n",
    "\n",
    "plt.hist(a);"
   ]
  },
  {
   "cell_type": "markdown",
   "metadata": {
    "id": "SsP1fTPKM8OX"
   },
   "source": [
    "### Using distributions\n",
    "\n",
    "Other distributions are available via `torch.distributions`:"
   ]
  },
  {
   "cell_type": "code",
   "execution_count": 20,
   "metadata": {
    "ExecuteTime": {
     "end_time": "2019-11-08T10:47:01.261259Z",
     "start_time": "2019-11-08T10:47:01.253979Z"
    },
    "id": "oSr_hthpM8OY"
   },
   "outputs": [],
   "source": [
    "poisson_sampler = torch.distributions.Poisson(1.)"
   ]
  },
  {
   "cell_type": "code",
   "execution_count": 21,
   "metadata": {
    "ExecuteTime": {
     "end_time": "2019-11-08T10:47:01.342635Z",
     "start_time": "2019-11-08T10:47:01.335986Z"
    },
    "id": "i0jN-XlzM8OY"
   },
   "outputs": [],
   "source": [
    "samples = poisson_sampler.sample((500,))"
   ]
  },
  {
   "cell_type": "code",
   "execution_count": 22,
   "metadata": {
    "ExecuteTime": {
     "end_time": "2019-11-08T10:47:02.513848Z",
     "start_time": "2019-11-08T10:47:02.152157Z"
    },
    "id": "8NaYbIrmM8OY"
   },
   "outputs": [
    {
     "data": {
      "image/png": "[encoded data removed]",
      "text/plain": [
       "<Figure size 600x600 with 1 Axes>"
      ]
     },
     "metadata": {},
     "output_type": "display_data"
    }
   ],
   "source": [
    "plt.hist(samples, range=(0, 10), bins=10);"
   ]
  },
  {
   "cell_type": "markdown",
   "metadata": {
    "id": "iReQ9Y6uM8OY"
   },
   "source": [
    "# Tensor operations\n",
    "\n",
    "There are two types of operations in PyTorch: in-place and those, which create a new tensor. In-place operations have `_` in their name as a convention:"
   ]
  },
  {
   "cell_type": "code",
   "execution_count": 23,
   "metadata": {
    "ExecuteTime": {
     "end_time": "2019-11-08T10:50:18.846887Z",
     "start_time": "2019-11-08T10:50:18.841674Z"
    },
    "id": "6CNyh8NJM8OY"
   },
   "outputs": [
    {
     "data": {
      "text/plain": [
       "tensor([[ 0.4440, -1.4291,  0.4397],\n",
       "        [ 0.8815, -0.1599,  0.0631]])"
      ]
     },
     "execution_count": 23,
     "metadata": {},
     "output_type": "execute_result"
    }
   ],
   "source": [
    "a = torch.Tensor(2, 3)\n",
    "a.normal_()"
   ]
  },
  {
   "cell_type": "markdown",
   "metadata": {
    "id": "SV3waOg8M8OZ"
   },
   "source": [
    "Operations, which create new arrays do not:"
   ]
  },
  {
   "cell_type": "code",
   "execution_count": 24,
   "metadata": {
    "ExecuteTime": {
     "end_time": "2019-11-08T10:50:28.762716Z",
     "start_time": "2019-11-08T10:50:28.744635Z"
    },
    "id": "ficSkfMFM8OZ"
   },
   "outputs": [
    {
     "name": "stdout",
     "output_type": "stream",
     "text": [
      "tensor([[1.5589, 0.2395, 1.5522],\n",
      "        [2.4145, 0.8523, 1.0652]])\n",
      "tensor([[ 0.4440, -1.4291,  0.4397],\n",
      "        [ 0.8815, -0.1599,  0.0631]])\n"
     ]
    }
   ],
   "source": [
    "# New tensor\n",
    "print(a.exp())\n",
    "print(a)"
   ]
  },
  {
   "cell_type": "code",
   "execution_count": 25,
   "metadata": {
    "ExecuteTime": {
     "end_time": "2019-11-08T10:51:58.638161Z",
     "start_time": "2019-11-08T10:51:58.631707Z"
    },
    "id": "ILDw0XZ6M8OZ"
   },
   "outputs": [
    {
     "name": "stdout",
     "output_type": "stream",
     "text": [
      "tensor([[1.5589, 0.2395, 1.5522],\n",
      "        [2.4145, 0.8523, 1.0652]])\n",
      "tensor([[1.5589, 0.2395, 1.5522],\n",
      "        [2.4145, 0.8523, 1.0652]])\n"
     ]
    }
   ],
   "source": [
    "# Inplace version\n",
    "print(a.exp_())\n",
    "print(a)"
   ]
  },
  {
   "cell_type": "code",
   "execution_count": 26,
   "metadata": {
    "ExecuteTime": {
     "end_time": "2019-11-08T10:52:30.057382Z",
     "start_time": "2019-11-08T10:52:30.049265Z"
    },
    "id": "6I4yRGTAM8Oa"
   },
   "outputs": [
    {
     "data": {
      "text/plain": [
       "tensor([[1.],\n",
       "        [1.]])"
      ]
     },
     "execution_count": 26,
     "metadata": {},
     "output_type": "execute_result"
    }
   ],
   "source": [
    "b = torch.ones(2, 1)\n",
    "b"
   ]
  },
  {
   "cell_type": "markdown",
   "metadata": {
    "id": "WmDGnS4eM8Oa"
   },
   "source": [
    "Arithmetics also have two definitions:"
   ]
  },
  {
   "cell_type": "code",
   "execution_count": 27,
   "metadata": {
    "ExecuteTime": {
     "end_time": "2019-11-08T10:52:41.511759Z",
     "start_time": "2019-11-08T10:52:41.504636Z"
    },
    "id": "zxXapsaxM8Oa"
   },
   "outputs": [
    {
     "data": {
      "text/plain": [
       "tensor([[2.5589, 1.2395, 2.5522],\n",
       "        [3.4145, 1.8523, 2.0652]])"
      ]
     },
     "execution_count": 27,
     "metadata": {},
     "output_type": "execute_result"
    }
   ],
   "source": [
    "# New tensor\n",
    "a + b"
   ]
  },
  {
   "cell_type": "code",
   "execution_count": 28,
   "metadata": {
    "id": "WV2DJrO9M8Oa"
   },
   "outputs": [
    {
     "data": {
      "text/plain": [
       "tensor([[1.5589, 0.2395, 1.5522],\n",
       "        [2.4145, 0.8523, 1.0652]])"
      ]
     },
     "execution_count": 28,
     "metadata": {},
     "output_type": "execute_result"
    }
   ],
   "source": [
    "a"
   ]
  },
  {
   "cell_type": "code",
   "execution_count": 29,
   "metadata": {
    "ExecuteTime": {
     "end_time": "2019-11-05T17:59:06.648145Z",
     "start_time": "2019-11-05T17:59:06.631660Z"
    },
    "id": "Odhq6yFtM8Ob"
   },
   "outputs": [
    {
     "data": {
      "text/plain": [
       "tensor([[2.5589, 1.2395, 2.5522],\n",
       "        [3.4145, 1.8523, 2.0652]])"
      ]
     },
     "execution_count": 29,
     "metadata": {},
     "output_type": "execute_result"
    }
   ],
   "source": [
    "# In-place\n",
    "a.add_(b)"
   ]
  },
  {
   "cell_type": "code",
   "execution_count": 30,
   "metadata": {
    "ExecuteTime": {
     "end_time": "2019-11-08T10:55:26.682223Z",
     "start_time": "2019-11-08T10:55:26.676072Z"
    },
    "id": "MpLF_JXsM8Ob"
   },
   "outputs": [
    {
     "data": {
      "text/plain": [
       "tensor([[2.5589, 1.2395, 2.5522],\n",
       "        [3.4145, 1.8523, 2.0652]])"
      ]
     },
     "execution_count": 30,
     "metadata": {},
     "output_type": "execute_result"
    }
   ],
   "source": [
    "a"
   ]
  },
  {
   "cell_type": "markdown",
   "metadata": {
    "id": "xFjtmwA7M8Ob"
   },
   "source": [
    "We can chain both in-place and out-of-place operations, as they all conveniently return a tensor they modified/created:"
   ]
  },
  {
   "cell_type": "code",
   "execution_count": 31,
   "metadata": {
    "ExecuteTime": {
     "end_time": "2019-11-08T10:55:27.537981Z",
     "start_time": "2019-11-08T10:55:27.529217Z"
    },
    "id": "NAGR3-QYM8Ob"
   },
   "outputs": [
    {
     "data": {
      "text/plain": [
       "True"
      ]
     },
     "execution_count": 31,
     "metadata": {},
     "output_type": "execute_result"
    }
   ],
   "source": [
    "b.normal_() is b"
   ]
  },
  {
   "cell_type": "code",
   "execution_count": 32,
   "metadata": {
    "ExecuteTime": {
     "end_time": "2019-11-08T10:56:05.138899Z",
     "start_time": "2019-11-08T10:56:05.130105Z"
    },
    "id": "coq2RNqwM8Ob"
   },
   "outputs": [
    {
     "data": {
      "text/plain": [
       "tensor([[-26.6007,  -7.1106, -26.4242],\n",
       "        [ 42.2118,   8.8505,  10.9505]])"
      ]
     },
     "execution_count": 32,
     "metadata": {},
     "output_type": "execute_result"
    }
   ],
   "source": [
    "a.exp().div(b)"
   ]
  },
  {
   "cell_type": "code",
   "execution_count": 33,
   "metadata": {
    "ExecuteTime": {
     "end_time": "2019-11-08T10:56:39.747882Z",
     "start_time": "2019-11-08T10:56:39.740770Z"
    },
    "id": "TK5lP3u3M8Oc"
   },
   "outputs": [
    {
     "data": {
      "text/plain": [
       "tensor([[-26.6007,  -7.1106, -26.4242],\n",
       "        [ 42.2118,   8.8505,  10.9505]])"
      ]
     },
     "execution_count": 33,
     "metadata": {},
     "output_type": "execute_result"
    }
   ],
   "source": [
    "a.exp_().div_(b)"
   ]
  },
  {
   "cell_type": "code",
   "execution_count": 34,
   "metadata": {
    "ExecuteTime": {
     "end_time": "2019-11-08T10:56:53.684357Z",
     "start_time": "2019-11-08T10:56:53.675013Z"
    },
    "id": "izUzi_F9M8Oc"
   },
   "outputs": [
    {
     "data": {
      "text/plain": [
       "tensor([[-26.6007,  -7.1106, -26.4242],\n",
       "        [ 42.2118,   8.8505,  10.9505]])"
      ]
     },
     "execution_count": 34,
     "metadata": {},
     "output_type": "execute_result"
    }
   ],
   "source": [
    "a"
   ]
  },
  {
   "cell_type": "markdown",
   "metadata": {
    "id": "qc9JF-tjM8Oc"
   },
   "source": [
    "Boolean operations are vectorized as well:"
   ]
  },
  {
   "cell_type": "code",
   "execution_count": 35,
   "metadata": {
    "ExecuteTime": {
     "end_time": "2019-11-08T10:58:04.327153Z",
     "start_time": "2019-11-08T10:58:04.321530Z"
    },
    "id": "0Ockjo1fM8Oc"
   },
   "outputs": [
    {
     "data": {
      "text/plain": [
       "tensor([[False, False, False],\n",
       "        [ True, False,  True]])"
      ]
     },
     "execution_count": 35,
     "metadata": {},
     "output_type": "execute_result"
    }
   ],
   "source": [
    "a > 10"
   ]
  },
  {
   "cell_type": "code",
   "execution_count": 36,
   "metadata": {
    "id": "gZHwHL6kM8Od"
   },
   "outputs": [
    {
     "data": {
      "text/plain": [
       "tensor([[False, False, False],\n",
       "        [ True, False,  True]])"
      ]
     },
     "execution_count": 36,
     "metadata": {},
     "output_type": "execute_result"
    }
   ],
   "source": [
    "a.gt(10)"
   ]
  },
  {
   "cell_type": "markdown",
   "metadata": {
    "id": "GpH_o4G7M8Od"
   },
   "source": [
    "However:"
   ]
  },
  {
   "cell_type": "code",
   "execution_count": 37,
   "metadata": {
    "id": "T8J_VS_4M8Od"
   },
   "outputs": [
    {
     "data": {
      "text/plain": [
       "tensor([[0., 0., 0.],\n",
       "        [1., 0., 1.]])"
      ]
     },
     "execution_count": 37,
     "metadata": {},
     "output_type": "execute_result"
    }
   ],
   "source": [
    "a.gt_(10)"
   ]
  },
  {
   "cell_type": "markdown",
   "metadata": {
    "id": "kpSbUpALM8Od"
   },
   "source": [
    "# To Python and NumPy"
   ]
  },
  {
   "cell_type": "code",
   "execution_count": 38,
   "metadata": {
    "ExecuteTime": {
     "end_time": "2019-11-08T10:59:17.451553Z",
     "start_time": "2019-11-08T10:59:17.446008Z"
    },
    "id": "2WXgJtXmM8Od"
   },
   "outputs": [
    {
     "data": {
      "text/plain": [
       "array([[0., 0., 0.],\n",
       "       [1., 0., 1.]], dtype=float32)"
      ]
     },
     "execution_count": 38,
     "metadata": {},
     "output_type": "execute_result"
    }
   ],
   "source": [
    "# Shape the same data with PyTorch tensor\n",
    "a.numpy()"
   ]
  },
  {
   "cell_type": "markdown",
   "metadata": {
    "id": "Us1P9yraM8Oe"
   },
   "source": [
    "However, for tensors, which are used in gradient computations, we also need to detach them (to be discussed later)."
   ]
  },
  {
   "cell_type": "markdown",
   "metadata": {
    "id": "yULZBgzMM8Oe"
   },
   "source": [
    "Note, that indexing of single scalar value works differently to NumPy:"
   ]
  },
  {
   "cell_type": "code",
   "execution_count": 39,
   "metadata": {
    "ExecuteTime": {
     "end_time": "2019-11-08T10:59:52.917820Z",
     "start_time": "2019-11-08T10:59:52.909615Z"
    },
    "id": "NnxoYXNiM8Oe"
   },
   "outputs": [
    {
     "data": {
      "text/plain": [
       "tensor(0.)"
      ]
     },
     "execution_count": 39,
     "metadata": {},
     "output_type": "execute_result"
    }
   ],
   "source": [
    "a[0, 1]  # this is a scalar, i.e. a 0D tensor"
   ]
  },
  {
   "cell_type": "markdown",
   "metadata": {
    "id": "d7typIe9M8Oe"
   },
   "source": [
    "To get the value itself:"
   ]
  },
  {
   "cell_type": "code",
   "execution_count": 40,
   "metadata": {
    "id": "-R0OljFkM8Of"
   },
   "outputs": [
    {
     "data": {
      "text/plain": [
       "0.0"
      ]
     },
     "execution_count": 40,
     "metadata": {},
     "output_type": "execute_result"
    }
   ],
   "source": [
    "a[0, 1].item()"
   ]
  },
  {
   "cell_type": "markdown",
   "metadata": {
    "id": "3ofbZftQM8Of"
   },
   "source": [
    "# Reshape and resize"
   ]
  },
  {
   "cell_type": "code",
   "execution_count": 41,
   "metadata": {
    "ExecuteTime": {
     "end_time": "2019-11-08T11:04:37.752912Z",
     "start_time": "2019-11-08T11:04:37.746076Z"
    },
    "id": "F_i2oIpVM8Of"
   },
   "outputs": [
    {
     "data": {
      "text/plain": [
       "tensor([[ 0.4624,  0.8010,  0.0088, -0.6515,  0.1222, -0.8257, -0.8824,  0.2366],\n",
       "        [-0.4493,  1.5208, -0.0795,  0.4408,  1.6152, -1.1586,  0.0503,  0.5047],\n",
       "        [-0.2154, -1.0154, -1.9036, -0.6831, -1.6028, -0.2423,  2.1295, -0.3248]])"
      ]
     },
     "execution_count": 41,
     "metadata": {},
     "output_type": "execute_result"
    }
   ],
   "source": [
    "a = torch.randn(3, 8)\n",
    "a"
   ]
  },
  {
   "cell_type": "code",
   "execution_count": 42,
   "metadata": {
    "ExecuteTime": {
     "end_time": "2019-11-08T11:05:10.731177Z",
     "start_time": "2019-11-08T11:05:10.724977Z"
    },
    "id": "41X9HPtRM8Of"
   },
   "outputs": [
    {
     "data": {
      "text/plain": [
       "tensor([[ 0.4624,  0.8010,  0.0088, -0.6515,  0.1222, -0.8257],\n",
       "        [-0.8824,  0.2366, -0.4493,  1.5208, -0.0795,  0.4408],\n",
       "        [ 1.6152, -1.1586,  0.0503,  0.5047, -0.2154, -1.0154],\n",
       "        [-1.9036, -0.6831, -1.6028, -0.2423,  2.1295, -0.3248]])"
      ]
     },
     "execution_count": 42,
     "metadata": {},
     "output_type": "execute_result"
    }
   ],
   "source": [
    "a.view(4, -1)"
   ]
  },
  {
   "cell_type": "markdown",
   "metadata": {
    "id": "9yB_h8MKM8Of"
   },
   "source": [
    "Views (both direct and coming from indexing) work in a similar fashion to NumPy:"
   ]
  },
  {
   "cell_type": "code",
   "execution_count": 43,
   "metadata": {
    "ExecuteTime": {
     "end_time": "2019-11-08T11:05:32.182262Z",
     "start_time": "2019-11-08T11:05:32.175529Z"
    },
    "id": "famsdxLYM8Of"
   },
   "outputs": [
    {
     "data": {
      "text/plain": [
       "tensor([[ 0.4624,  0.0088,  0.1222, -0.8824],\n",
       "        [-0.2154, -1.9036, -1.6028,  2.1295]])"
      ]
     },
     "execution_count": 43,
     "metadata": {},
     "output_type": "execute_result"
    }
   ],
   "source": [
    "a[::2, ::2]"
   ]
  },
  {
   "cell_type": "code",
   "execution_count": 44,
   "metadata": {
    "id": "bMcHS5UYM8Og"
   },
   "outputs": [],
   "source": [
    "b = a[::2, ::2]\n",
    "b[0] = 7"
   ]
  },
  {
   "cell_type": "code",
   "execution_count": 45,
   "metadata": {
    "id": "B79DKjLrM8Og"
   },
   "outputs": [
    {
     "data": {
      "text/plain": [
       "tensor([[ 7.0000,  0.8010,  7.0000, -0.6515,  7.0000, -0.8257,  7.0000,  0.2366],\n",
       "        [-0.4493,  1.5208, -0.0795,  0.4408,  1.6152, -1.1586,  0.0503,  0.5047],\n",
       "        [-0.2154, -1.0154, -1.9036, -0.6831, -1.6028, -0.2423,  2.1295, -0.3248]])"
      ]
     },
     "execution_count": 45,
     "metadata": {},
     "output_type": "execute_result"
    }
   ],
   "source": [
    "a"
   ]
  },
  {
   "cell_type": "code",
   "execution_count": 46,
   "metadata": {
    "id": "1dyKZHvPM8Og"
   },
   "outputs": [
    {
     "data": {
      "text/plain": [
       "tensor([[ 7.0000,  7.0000,  7.0000,  7.0000],\n",
       "        [-0.2154, -1.9036, -1.6028,  2.1295]])"
      ]
     },
     "execution_count": 46,
     "metadata": {},
     "output_type": "execute_result"
    }
   ],
   "source": [
    "b"
   ]
  },
  {
   "cell_type": "code",
   "execution_count": 47,
   "metadata": {
    "ExecuteTime": {
     "end_time": "2019-11-08T11:07:52.713494Z",
     "start_time": "2019-11-08T11:07:52.706272Z"
    },
    "id": "BQy9x1l-M8Og"
   },
   "outputs": [
    {
     "data": {
      "text/plain": [
       "tensor([[[ 7.0000,  7.0000],\n",
       "         [ 7.0000,  7.0000]],\n",
       "\n",
       "        [[-0.2154, -1.9036],\n",
       "         [-1.6028,  2.1295]]])"
      ]
     },
     "execution_count": 47,
     "metadata": {},
     "output_type": "execute_result"
    }
   ],
   "source": [
    "a[::2, ::2].view(2,2,2)"
   ]
  },
  {
   "cell_type": "code",
   "execution_count": 48,
   "metadata": {
    "ExecuteTime": {
     "end_time": "2019-11-08T11:08:22.983593Z",
     "start_time": "2019-11-08T11:08:22.975520Z"
    },
    "id": "pdh6uakdM8Og"
   },
   "outputs": [
    {
     "name": "stdout",
     "output_type": "stream",
     "text": [
      "Original:\n",
      "tensor([[ 7.0000,  0.8010,  7.0000, -0.6515,  7.0000, -0.8257,  7.0000,  0.2366],\n",
      "        [-0.4493,  1.5208, -0.0795,  0.4408,  1.6152, -1.1586,  0.0503,  0.5047],\n",
      "        [-0.2154, -1.0154, -1.9036, -0.6831, -1.6028, -0.2423,  2.1295, -0.3248]]) \n",
      "\n",
      "Sliced:\n",
      "tensor([[ 7.0000,  7.0000,  7.0000,  7.0000],\n",
      "        [-0.2154, -1.9036, -1.6028,  2.1295]])\n"
     ]
    }
   ],
   "source": [
    "print(\"Original:\")\n",
    "print(a, \"\\n\")\n",
    "print(\"Sliced:\")\n",
    "print(a[::2, ::2])"
   ]
  },
  {
   "cell_type": "code",
   "execution_count": 49,
   "metadata": {
    "id": "Lz0aYX51M8Oh"
   },
   "outputs": [
    {
     "data": {
      "text/plain": [
       "torch.float32"
      ]
     },
     "execution_count": 49,
     "metadata": {},
     "output_type": "execute_result"
    }
   ],
   "source": [
    "a.dtype"
   ]
  },
  {
   "cell_type": "markdown",
   "metadata": {
    "id": "2bQk2J3VNCng"
   },
   "source": [
    "Unlike Numpy, strides in PyTorch are listed in number of elements, not number of bytes"
   ]
  },
  {
   "cell_type": "code",
   "execution_count": 50,
   "metadata": {
    "ExecuteTime": {
     "end_time": "2019-11-08T11:08:26.135831Z",
     "start_time": "2019-11-08T11:08:26.130527Z"
    },
    "id": "cQDHn_uLM8Oh"
   },
   "outputs": [
    {
     "data": {
      "text/plain": [
       "((16, 2), (8, 1))"
      ]
     },
     "execution_count": 50,
     "metadata": {},
     "output_type": "execute_result"
    }
   ],
   "source": [
    "a[::2, ::2].stride(), a.stride()"
   ]
  },
  {
   "cell_type": "markdown",
   "metadata": {
    "id": "gG8J7Xp3NmQJ"
   },
   "source": [
    "In PyTorch, reshepe can return a view (if possible), but will sometimes return a new tensor (depends on how the original tensor is layed out in device memory)"
   ]
  },
  {
   "cell_type": "code",
   "execution_count": 51,
   "metadata": {
    "ExecuteTime": {
     "end_time": "2019-11-05T18:33:34.718551Z",
     "start_time": "2019-11-05T18:33:34.705119Z"
    },
    "id": "VSiGAewEM8Oh"
   },
   "outputs": [
    {
     "data": {
      "text/plain": [
       "tensor([[ 7.0000,  7.0000],\n",
       "        [ 7.0000,  7.0000],\n",
       "        [-0.2154, -1.9036],\n",
       "        [-1.6028,  2.1295]])"
      ]
     },
     "execution_count": 51,
     "metadata": {},
     "output_type": "execute_result"
    }
   ],
   "source": [
    "a[::2, ::2].reshape(4, 2)"
   ]
  },
  {
   "cell_type": "code",
   "execution_count": 52,
   "metadata": {
    "ExecuteTime": {
     "end_time": "2019-11-08T11:10:03.875094Z",
     "start_time": "2019-11-08T11:10:03.867990Z"
    },
    "id": "sOKIUpXAM8Oh"
   },
   "outputs": [
    {
     "data": {
      "text/plain": [
       " 7.0\n",
       " 0.8010113835334778\n",
       " 7.0\n",
       " -0.6515159010887146\n",
       " 7.0\n",
       " -0.8256800770759583\n",
       " 7.0\n",
       " 0.23659545183181763\n",
       " -0.4492705762386322\n",
       " 1.52083158493042\n",
       " -0.07945720106363297\n",
       " 0.44084277749061584\n",
       " 1.6151646375656128\n",
       " -1.1585803031921387\n",
       " 0.05025297403335571\n",
       " 0.5047122836112976\n",
       " -0.21539880335330963\n",
       " -1.0153504610061646\n",
       " -1.9035651683807373\n",
       " -0.6831154227256775\n",
       " -1.602841854095459\n",
       " -0.2422603964805603\n",
       " 2.1294898986816406\n",
       " -0.32481861114501953\n",
       "[torch.storage.TypedStorage(dtype=torch.float32, device=cpu) of size 24]"
      ]
     },
     "execution_count": 52,
     "metadata": {},
     "output_type": "execute_result"
    }
   ],
   "source": [
    "a.storage()"
   ]
  },
  {
   "cell_type": "markdown",
   "metadata": {
    "id": "PIaUlWPWM8Oh"
   },
   "source": [
    "To get underlying storage:"
   ]
  },
  {
   "cell_type": "code",
   "execution_count": 53,
   "metadata": {
    "ExecuteTime": {
     "end_time": "2019-11-08T11:11:41.866570Z",
     "start_time": "2019-11-08T11:11:41.856011Z"
    },
    "id": "qdB4VVXHM8Oi"
   },
   "outputs": [
    {
     "data": {
      "text/plain": [
       "1757154057792"
      ]
     },
     "execution_count": 53,
     "metadata": {},
     "output_type": "execute_result"
    }
   ],
   "source": [
    "a[::2, ::2].reshape(2, 2, 2).storage().data_ptr()"
   ]
  },
  {
   "cell_type": "code",
   "execution_count": 54,
   "metadata": {
    "ExecuteTime": {
     "end_time": "2019-11-08T11:11:43.596262Z",
     "start_time": "2019-11-08T11:11:43.588087Z"
    },
    "id": "AIJWPKmrM8Oi"
   },
   "outputs": [
    {
     "data": {
      "text/plain": [
       "True"
      ]
     },
     "execution_count": 54,
     "metadata": {},
     "output_type": "execute_result"
    }
   ],
   "source": [
    "a.view(4, 6).storage().data_ptr()==a.storage().data_ptr()"
   ]
  },
  {
   "cell_type": "code",
   "execution_count": null,
   "metadata": {
    "id": "ZwmXKcreM8Oi"
   },
   "outputs": [],
   "source": []
  }
 ],
 "metadata": {
  "@webio": {
   "lastCommId": null,
   "lastKernelId": null
  },
  "colab": {
   "collapsed_sections": [
    "JVB5kWQ3M8OV",
    "SsP1fTPKM8OX"
   ],
   "provenance": []
  },
  "kernelspec": {
   "display_name": "Python 3 (ipykernel)",
   "language": "python",
   "name": "python3"
  },
  "language_info": {
   "codemirror_mode": {
    "name": "ipython",
    "version": 3
   },
   "file_extension": ".py",
   "mimetype": "text/x-python",
   "name": "python",
   "nbconvert_exporter": "python",
   "pygments_lexer": "ipython3",
   "version": "3.9.13"
  },
  "vscode": {
   "interpreter": {
    "hash": "97bf5cac092693491f9f0c093044444828bd281c57f8a7f0d4a6df9d6c416292"
   }
  }
 },
 "nbformat": 4,
 "nbformat_minor": 4
}
