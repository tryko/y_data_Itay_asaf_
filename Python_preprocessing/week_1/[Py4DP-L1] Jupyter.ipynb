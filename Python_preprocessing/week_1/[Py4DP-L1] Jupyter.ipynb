{
 "cells": [
  {
   "cell_type": "markdown",
   "metadata": {},
   "source": [
    "# Jupyter tricks, magics and extensions"
   ]
  },
  {
   "cell_type": "markdown",
   "metadata": {
    "slideshow": {
     "slide_type": "slide"
    }
   },
   "source": [
    "## Cells\n",
    "\n",
    "Any Jupyter notebook is organized into **cells**. A cell can be one of several types:\n",
    "- *code* cell, which contains normal Python (or whatever) code,\n",
    "- *Markdown* cell,\n",
    "- *raw content* cell.\n",
    "\n",
    "To execute a cell, press `Shift+Enter` (execute and go to the next cell) or `Ctrl+Enter` (execute and stay in the same cell).\n",
    "\n",
    "Each code cell can have output, which contains whatever is displayed as a result of executing the code inside a cell:"
   ]
  },
  {
   "cell_type": "code",
   "execution_count": 1,
   "metadata": {
    "ExecuteTime": {
     "end_time": "2019-11-01T08:05:14.124389Z",
     "start_time": "2019-11-01T08:05:14.084339Z"
    }
   },
   "outputs": [
    {
     "name": "stdout",
     "output_type": "stream",
     "text": [
      "This cell prints some text\n"
     ]
    },
    {
     "data": {
      "text/plain": [
       "5"
      ]
     },
     "execution_count": 1,
     "metadata": {},
     "output_type": "execute_result"
    }
   ],
   "source": [
    "print(\"This cell prints some text\")\n",
    "a = 5\n",
    "a # prints 5"
   ]
  },
  {
   "cell_type": "code",
   "execution_count": 2,
   "metadata": {},
   "outputs": [],
   "source": [
    "res = _"
   ]
  },
  {
   "cell_type": "code",
   "execution_count": 3,
   "metadata": {},
   "outputs": [
    {
     "data": {
      "text/plain": [
       "5"
      ]
     },
     "execution_count": 3,
     "metadata": {},
     "output_type": "execute_result"
    }
   ],
   "source": [
    "res"
   ]
  },
  {
   "cell_type": "markdown",
   "metadata": {},
   "source": [
    "Note, that last line is printed to the output. To supress this, use `;`:"
   ]
  },
  {
   "cell_type": "code",
   "execution_count": 4,
   "metadata": {
    "ExecuteTime": {
     "end_time": "2019-11-01T08:06:44.107467Z",
     "start_time": "2019-11-01T08:06:44.102679Z"
    }
   },
   "outputs": [],
   "source": [
    "a; # prints nothing"
   ]
  },
  {
   "cell_type": "markdown",
   "metadata": {},
   "source": [
    "## Modes\n",
    "\n",
    "Jupyter notebook is a **modal editor**: it's behavior differs depending on the mode notebook is in. There are two modes:\n",
    "- **edit mode**, in which you can edit cells,\n",
    "- **command mode**, in which you can execute cell-wide and notebook-wide commands with keyboard shortcuts.\n",
    "\n",
    "To enter edit mode, press `Enter`, while focused on some cell or left click on it. To go to command mode press `Esc`.\n",
    "\n",
    "Note, that one or more cells are always in focus or \"selected\", and cell-wide commands are applied to selected cells."
   ]
  },
  {
   "cell_type": "markdown",
   "metadata": {},
   "source": [
    "## Markdown recap\n",
    "\n",
    "Jupyter allows to mix Markdown text, code, images and many other elements in one interface. Markdown cells help to tell a story about your code and to document it.\n",
    "\n",
    "---\n",
    "\n",
    "### Headers\n",
    "\n",
    "You can create headers with #:\n",
    "\n",
    "`# H1 header` gives\n",
    "\n",
    "# H1 header\n",
    "\n",
    "`# H2 header` gives\n",
    "\n",
    "## H2 header\n",
    "\n",
    "and so on. Feel free to select the cell in edit mode to see the actual markup.\n",
    "\n",
    "---\n",
    "\n",
    "### Lists\n",
    "\n",
    "It's also easy to create ordered list. Just number the items:\n",
    "1. first element,\n",
    "2. second element.\n",
    "\n",
    "Unordered lists are also very straightforward:\n",
    "- element,\n",
    "- another element.\n",
    "\n",
    "---\n",
    "\n",
    "### Emphasis\n",
    "\n",
    "You may often need to emphasize some portion of text. For example, *a priori* (`*a priori*` or `_a priori_`) is usually written in italics. Or, you may decide to **stress something out** (`**stress something out**` or `__stress something out__`). Strikethrough is as simple as ~~this~~ (`~~this~~`).\n",
    "\n",
    "### Code blocks\n",
    "\n",
    "Code can be either `inline` (`` `inline` ``) or in block:\n",
    "\n",
    "```\n",
    "val x: Int = 4\n",
    "```\n",
    "\n",
    "Syntax highlighting? Sure:\n",
    "\n",
    "```scala\n",
    "val x: Int = 4\n",
    "```\n",
    "\n",
    "The former is produced with\n",
    "\n",
    "    ```\n",
    "    val x: Int = 4\n",
    "\n",
    "    ```\n",
    "    \n",
    "while the latter is produced with\n",
    "\n",
    "    ```scala\n",
    "    val x: Int = 4\n",
    "    ```\n",
    "    \n",
    "You can also indent your code with 4 spaces.\n",
    "\n",
    "### Equations\n",
    "\n",
    "If Jupyter is running with MathJax, you can easily create inline ($E=mc^2$) and displayed equations:\n",
    "\n",
    "\\begin{equation}\n",
    "y = \\mathbf{W}\\mathbf{x} + b\n",
    "\\end{equation}"
   ]
  },
  {
   "cell_type": "markdown",
   "metadata": {},
   "source": [
    "## Commands and keyboard shortcuts"
   ]
  },
  {
   "cell_type": "markdown",
   "metadata": {},
   "source": [
    "## Keyboard shortcuts for command mode\n",
    "\n",
    "### Generic\n",
    "- `Esc`/`Ctrl+M` - go to command mode.\n",
    "- `Ctrl+S`/`Ctrl+Shift+S` - save/save as.\n",
    "\n",
    "### Change cell type\n",
    "- `Y`: change to code,\n",
    "- `M`: change to Markdown,\n",
    "- `R`: change to raw.\n",
    "\n",
    "### Navigate\n",
    "- `J`/`K` - Down/Up,\n",
    "- `Shift+J`/`Shift+K` - navigate and select.\n",
    "\n",
    "### Inserting, splitting and joining cells\n",
    "- `A`/`B` - insert above/below,\n",
    "- `Shift+M` - merge selected cells.\n",
    "\n",
    "### Copy, paste and delete cells\n",
    "- `C` - copy cells,\n",
    "- `V` - paste cells below,\n",
    "- `D,D` - delete cells.\n",
    "\n",
    "### Interrupt and restart notebook kernel\n",
    "- `I,I` - interrupt,\n",
    "- `0,0` - restart."
   ]
  },
  {
   "cell_type": "markdown",
   "metadata": {},
   "source": [
    "## Magics\n",
    "\n",
    "Some commands in Jupyter come not from Python, but represent additional (and useful) functionality. These commands start with % (for one-liners) or %% (for cell commands) and are called **magic commands**."
   ]
  },
  {
   "cell_type": "code",
   "execution_count": 5,
   "metadata": {
    "ExecuteTime": {
     "end_time": "2019-11-01T08:16:18.111824Z",
     "start_time": "2019-11-01T08:16:18.099106Z"
    }
   },
   "outputs": [
    {
     "data": {
      "application/json": {
       "cell": {
        "!": "OSMagics",
        "HTML": "Other",
        "SVG": "Other",
        "bash": "Other",
        "capture": "ExecutionMagics",
        "cmd": "Other",
        "debug": "ExecutionMagics",
        "file": "Other",
        "html": "DisplayMagics",
        "javascript": "DisplayMagics",
        "js": "DisplayMagics",
        "latex": "DisplayMagics",
        "markdown": "DisplayMagics",
        "perl": "Other",
        "prun": "ExecutionMagics",
        "pypy": "Other",
        "python": "Other",
        "python2": "Other",
        "python3": "Other",
        "ruby": "Other",
        "script": "ScriptMagics",
        "sh": "Other",
        "svg": "DisplayMagics",
        "sx": "OSMagics",
        "system": "OSMagics",
        "time": "ExecutionMagics",
        "timeit": "ExecutionMagics",
        "writefile": "OSMagics"
       },
       "line": {
        "alias": "OSMagics",
        "alias_magic": "BasicMagics",
        "autoawait": "AsyncMagics",
        "autocall": "AutoMagics",
        "automagic": "AutoMagics",
        "autosave": "KernelMagics",
        "bookmark": "OSMagics",
        "cd": "OSMagics",
        "clear": "KernelMagics",
        "cls": "KernelMagics",
        "colors": "BasicMagics",
        "conda": "PackagingMagics",
        "config": "ConfigMagics",
        "connect_info": "KernelMagics",
        "copy": "Other",
        "ddir": "Other",
        "debug": "ExecutionMagics",
        "dhist": "OSMagics",
        "dirs": "OSMagics",
        "doctest_mode": "BasicMagics",
        "echo": "Other",
        "ed": "Other",
        "edit": "KernelMagics",
        "env": "OSMagics",
        "gui": "BasicMagics",
        "hist": "Other",
        "history": "HistoryMagics",
        "killbgscripts": "ScriptMagics",
        "ldir": "Other",
        "less": "KernelMagics",
        "load": "CodeMagics",
        "load_ext": "ExtensionMagics",
        "loadpy": "CodeMagics",
        "logoff": "LoggingMagics",
        "logon": "LoggingMagics",
        "logstart": "LoggingMagics",
        "logstate": "LoggingMagics",
        "logstop": "LoggingMagics",
        "ls": "Other",
        "lsmagic": "BasicMagics",
        "macro": "ExecutionMagics",
        "magic": "BasicMagics",
        "matplotlib": "PylabMagics",
        "mkdir": "Other",
        "more": "KernelMagics",
        "notebook": "BasicMagics",
        "page": "BasicMagics",
        "pastebin": "CodeMagics",
        "pdb": "ExecutionMagics",
        "pdef": "NamespaceMagics",
        "pdoc": "NamespaceMagics",
        "pfile": "NamespaceMagics",
        "pinfo": "NamespaceMagics",
        "pinfo2": "NamespaceMagics",
        "pip": "PackagingMagics",
        "popd": "OSMagics",
        "pprint": "BasicMagics",
        "precision": "BasicMagics",
        "prun": "ExecutionMagics",
        "psearch": "NamespaceMagics",
        "psource": "NamespaceMagics",
        "pushd": "OSMagics",
        "pwd": "OSMagics",
        "pycat": "OSMagics",
        "pylab": "PylabMagics",
        "qtconsole": "KernelMagics",
        "quickref": "BasicMagics",
        "recall": "HistoryMagics",
        "rehashx": "OSMagics",
        "reload_ext": "ExtensionMagics",
        "ren": "Other",
        "rep": "Other",
        "rerun": "HistoryMagics",
        "reset": "NamespaceMagics",
        "reset_selective": "NamespaceMagics",
        "rmdir": "Other",
        "run": "ExecutionMagics",
        "save": "CodeMagics",
        "sc": "OSMagics",
        "set_env": "OSMagics",
        "store": "StoreMagics",
        "sx": "OSMagics",
        "system": "OSMagics",
        "tb": "ExecutionMagics",
        "time": "ExecutionMagics",
        "timeit": "ExecutionMagics",
        "unalias": "OSMagics",
        "unload_ext": "ExtensionMagics",
        "who": "NamespaceMagics",
        "who_ls": "NamespaceMagics",
        "whos": "NamespaceMagics",
        "xdel": "NamespaceMagics",
        "xmode": "BasicMagics"
       }
      },
      "text/plain": [
       "Available line magics:\n",
       "%alias  %alias_magic  %autoawait  %autocall  %automagic  %autosave  %bookmark  %cd  %clear  %cls  %colors  %conda  %config  %connect_info  %copy  %ddir  %debug  %dhist  %dirs  %doctest_mode  %echo  %ed  %edit  %env  %gui  %hist  %history  %killbgscripts  %ldir  %less  %load  %load_ext  %loadpy  %logoff  %logon  %logstart  %logstate  %logstop  %ls  %lsmagic  %macro  %magic  %matplotlib  %mkdir  %more  %notebook  %page  %pastebin  %pdb  %pdef  %pdoc  %pfile  %pinfo  %pinfo2  %pip  %popd  %pprint  %precision  %prun  %psearch  %psource  %pushd  %pwd  %pycat  %pylab  %qtconsole  %quickref  %recall  %rehashx  %reload_ext  %ren  %rep  %rerun  %reset  %reset_selective  %rmdir  %run  %save  %sc  %set_env  %store  %sx  %system  %tb  %time  %timeit  %unalias  %unload_ext  %who  %who_ls  %whos  %xdel  %xmode\n",
       "\n",
       "Available cell magics:\n",
       "%%!  %%HTML  %%SVG  %%bash  %%capture  %%cmd  %%debug  %%file  %%html  %%javascript  %%js  %%latex  %%markdown  %%perl  %%prun  %%pypy  %%python  %%python2  %%python3  %%ruby  %%script  %%sh  %%svg  %%sx  %%system  %%time  %%timeit  %%writefile\n",
       "\n",
       "Automagic is ON, % prefix IS NOT needed for line magics."
      ]
     },
     "execution_count": 5,
     "metadata": {},
     "output_type": "execute_result"
    }
   ],
   "source": [
    "# List all available magic commands\n",
    "%lsmagic"
   ]
  },
  {
   "cell_type": "markdown",
   "metadata": {},
   "source": [
    "### Shell magics"
   ]
  },
  {
   "cell_type": "markdown",
   "metadata": {},
   "source": [
    "You can use notebook as a terminal:"
   ]
  },
  {
   "cell_type": "code",
   "execution_count": 6,
   "metadata": {
    "ExecuteTime": {
     "end_time": "2019-11-01T08:20:03.964370Z",
     "start_time": "2019-11-01T08:20:03.833468Z"
    }
   },
   "outputs": [
    {
     "name": "stderr",
     "output_type": "stream",
     "text": [
      "'ls' is not recognized as an internal or external command,\n",
      "operable program or batch file.\n"
     ]
    }
   ],
   "source": [
    "!ls -l"
   ]
  },
  {
   "cell_type": "code",
   "execution_count": null,
   "metadata": {
    "ExecuteTime": {
     "end_time": "2019-11-01T08:21:26.550160Z",
     "start_time": "2019-11-01T08:21:26.530128Z"
    }
   },
   "outputs": [],
   "source": [
    "#This also works:\n",
    "files = !ls"
   ]
  },
  {
   "cell_type": "code",
   "execution_count": null,
   "metadata": {
    "ExecuteTime": {
     "end_time": "2019-11-01T08:21:26.731042Z",
     "start_time": "2019-11-01T08:21:26.722155Z"
    }
   },
   "outputs": [],
   "source": [
    "files"
   ]
  },
  {
   "cell_type": "markdown",
   "metadata": {},
   "source": [
    "### Time your code"
   ]
  },
  {
   "cell_type": "code",
   "execution_count": 7,
   "metadata": {
    "ExecuteTime": {
     "end_time": "2019-11-01T08:23:24.728069Z",
     "start_time": "2019-11-01T08:23:14.085945Z"
    }
   },
   "outputs": [
    {
     "name": "stdout",
     "output_type": "stream",
     "text": [
      "367 µs ± 1.23 µs per loop (mean ± std. dev. of 7 runs, 1,000 loops each)\n"
     ]
    }
   ],
   "source": [
    "# Measure code running time, one-liner\n",
    "%timeit [i*i for i in range(10000)]"
   ]
  },
  {
   "cell_type": "code",
   "execution_count": null,
   "metadata": {
    "ExecuteTime": {
     "end_time": "2019-11-01T08:24:06.323342Z",
     "start_time": "2019-11-01T08:24:06.259364Z"
    }
   },
   "outputs": [],
   "source": [
    "# Measure code running time, one-liner, change number of runs and loops\n",
    "%timeit -n 10 -r 3 [i*i for i in range(10000)]"
   ]
  },
  {
   "cell_type": "markdown",
   "metadata": {},
   "source": [
    "The same for entire cell:"
   ]
  },
  {
   "cell_type": "code",
   "execution_count": null,
   "metadata": {
    "ExecuteTime": {
     "end_time": "2019-11-01T08:26:19.492979Z",
     "start_time": "2019-11-01T08:26:19.410803Z"
    }
   },
   "outputs": [],
   "source": [
    "%%timeit -n 10 -r 3\n",
    "[i*i for i in range(10000)]"
   ]
  },
  {
   "cell_type": "markdown",
   "metadata": {},
   "source": [
    "### Write and load code"
   ]
  },
  {
   "cell_type": "code",
   "execution_count": null,
   "metadata": {
    "ExecuteTime": {
     "end_time": "2019-11-01T08:27:43.363125Z",
     "start_time": "2019-11-01T08:27:43.348826Z"
    }
   },
   "outputs": [],
   "source": [
    "%%writefile signaling.py\n",
    "import numpy as np\n",
    "\n",
    "some_global_var = \"Hello!\"\n",
    "\n",
    "def hello_world():\n",
    "    print(\"Welcome to Python for Data Processing!\")\n",
    "    print(\"My name is hello_world and I live in Python module.\")\n",
    "    \n",
    "if __name__==\"__main__\":\n",
    "    hello_world()"
   ]
  },
  {
   "cell_type": "code",
   "execution_count": null,
   "metadata": {
    "ExecuteTime": {
     "end_time": "2019-11-01T08:28:10.059690Z",
     "start_time": "2019-11-01T08:28:10.050624Z"
    }
   },
   "outputs": [],
   "source": [
    "%load signaling.py"
   ]
  },
  {
   "cell_type": "code",
   "execution_count": null,
   "metadata": {
    "ExecuteTime": {
     "end_time": "2019-11-01T08:28:42.606121Z",
     "start_time": "2019-11-01T08:28:42.388221Z"
    }
   },
   "outputs": [],
   "source": [
    "%run signaling.py"
   ]
  },
  {
   "cell_type": "code",
   "execution_count": null,
   "metadata": {
    "ExecuteTime": {
     "end_time": "2019-11-01T08:29:15.206773Z",
     "start_time": "2019-11-01T08:29:15.198604Z"
    }
   },
   "outputs": [],
   "source": [
    "hello_world()"
   ]
  },
  {
   "cell_type": "code",
   "execution_count": null,
   "metadata": {
    "ExecuteTime": {
     "end_time": "2019-11-01T08:30:06.227881Z",
     "start_time": "2019-11-01T08:30:05.650627Z"
    }
   },
   "outputs": [],
   "source": [
    "%run \"[Py4DP-L1] Signaling.ipynb\""
   ]
  },
  {
   "cell_type": "code",
   "execution_count": null,
   "metadata": {
    "ExecuteTime": {
     "end_time": "2019-11-01T08:30:07.019748Z",
     "start_time": "2019-11-01T08:30:07.008541Z"
    }
   },
   "outputs": [],
   "source": [
    "signaling_var"
   ]
  },
  {
   "cell_type": "code",
   "execution_count": null,
   "metadata": {
    "ExecuteTime": {
     "end_time": "2019-11-01T08:30:29.888060Z",
     "start_time": "2019-11-01T08:30:29.855970Z"
    }
   },
   "outputs": [],
   "source": [
    "?%run"
   ]
  },
  {
   "cell_type": "code",
   "execution_count": null,
   "metadata": {
    "ExecuteTime": {
     "end_time": "2019-11-01T08:30:52.131024Z",
     "start_time": "2019-11-01T08:30:52.004565Z"
    }
   },
   "outputs": [],
   "source": [
    "!rm signaling.py"
   ]
  },
  {
   "cell_type": "markdown",
   "metadata": {},
   "source": [
    "### Getting help"
   ]
  },
  {
   "cell_type": "code",
   "execution_count": null,
   "metadata": {},
   "outputs": [],
   "source": [
    "?hello_world"
   ]
  },
  {
   "cell_type": "code",
   "execution_count": null,
   "metadata": {},
   "outputs": [],
   "source": [
    "?%timeit"
   ]
  },
  {
   "cell_type": "code",
   "execution_count": null,
   "metadata": {},
   "outputs": [],
   "source": []
  }
 ],
 "metadata": {
  "@webio": {
   "lastCommId": null,
   "lastKernelId": null
  },
  "kernelspec": {
   "display_name": "Python 3.9.12 ('base')",
   "language": "python",
   "name": "python3"
  },
  "language_info": {
   "codemirror_mode": {
    "name": "ipython",
    "version": 3
   },
   "file_extension": ".py",
   "mimetype": "text/x-python",
   "name": "python",
   "nbconvert_exporter": "python",
   "pygments_lexer": "ipython3",
   "version": "3.9.12"
  },
  "toc": {
   "base_numbering": 1,
   "nav_menu": {},
   "number_sections": true,
   "sideBar": true,
   "skip_h1_title": false,
   "title_cell": "Table of Contents",
   "title_sidebar": "Contents",
   "toc_cell": false,
   "toc_position": {},
   "toc_section_display": true,
   "toc_window_display": false
  },
  "vscode": {
   "interpreter": {
    "hash": "ad2bdc8ecc057115af97d19610ffacc2b4e99fae6737bb82f5d7fb13d2f2c186"
   }
  }
 },
 "nbformat": 4,
 "nbformat_minor": 2
}
