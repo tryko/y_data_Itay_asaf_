{
 "cells": [
  {
   "cell_type": "markdown",
   "metadata": {},
   "source": [
    "# NumPy IO"
   ]
  },
  {
   "cell_type": "code",
   "execution_count": null,
   "metadata": {
    "ExecuteTime": {
     "end_time": "2019-11-08T09:44:05.186596Z",
     "start_time": "2019-11-08T09:44:05.023429Z"
    }
   },
   "outputs": [],
   "source": [
    "import numpy as np\n",
    "np.random.seed(983456)"
   ]
  },
  {
   "cell_type": "markdown",
   "metadata": {},
   "source": [
    "## Reading and writing a single NumPy array"
   ]
  },
  {
   "cell_type": "code",
   "execution_count": null,
   "metadata": {
    "ExecuteTime": {
     "end_time": "2019-11-08T09:44:06.064205Z",
     "start_time": "2019-11-08T09:44:06.060433Z"
    }
   },
   "outputs": [],
   "source": [
    "arr = np.random.randint(10, size=(5,6))"
   ]
  },
  {
   "cell_type": "code",
   "execution_count": null,
   "metadata": {
    "ExecuteTime": {
     "end_time": "2019-11-08T09:44:18.632082Z",
     "start_time": "2019-11-08T09:44:18.627423Z"
    }
   },
   "outputs": [],
   "source": [
    "np.save('int_array', arr)"
   ]
  },
  {
   "cell_type": "code",
   "execution_count": null,
   "metadata": {
    "ExecuteTime": {
     "end_time": "2019-11-08T09:44:39.346116Z",
     "start_time": "2019-11-08T09:44:39.339593Z"
    }
   },
   "outputs": [],
   "source": [
    "arr_read = np.load('int_array.npy')"
   ]
  },
  {
   "cell_type": "code",
   "execution_count": null,
   "metadata": {
    "ExecuteTime": {
     "end_time": "2019-11-08T09:44:41.558496Z",
     "start_time": "2019-11-08T09:44:41.537051Z"
    }
   },
   "outputs": [],
   "source": [
    "arr_read"
   ]
  },
  {
   "cell_type": "code",
   "execution_count": null,
   "metadata": {
    "ExecuteTime": {
     "end_time": "2019-11-08T09:44:41.745617Z",
     "start_time": "2019-11-08T09:44:41.739818Z"
    }
   },
   "outputs": [],
   "source": [
    "arr"
   ]
  },
  {
   "cell_type": "markdown",
   "metadata": {},
   "source": [
    "## Reading and writing multiple NumPy arrays"
   ]
  },
  {
   "cell_type": "code",
   "execution_count": null,
   "metadata": {
    "ExecuteTime": {
     "end_time": "2019-11-08T09:48:51.322047Z",
     "start_time": "2019-11-08T09:48:51.317438Z"
    }
   },
   "outputs": [],
   "source": [
    "float_arr = np.random.randn(123,17)"
   ]
  },
  {
   "cell_type": "code",
   "execution_count": null,
   "metadata": {
    "ExecuteTime": {
     "end_time": "2019-11-08T09:48:51.568043Z",
     "start_time": "2019-11-08T09:48:51.555302Z"
    }
   },
   "outputs": [],
   "source": [
    "np.savez('multiple_arrays', arr, float_arr)"
   ]
  },
  {
   "cell_type": "code",
   "execution_count": null,
   "metadata": {
    "ExecuteTime": {
     "end_time": "2019-11-08T09:50:25.914127Z",
     "start_time": "2019-11-08T09:50:25.910745Z"
    }
   },
   "outputs": [],
   "source": [
    "arrays = np.load('multiple_arrays.npz')"
   ]
  },
  {
   "cell_type": "code",
   "execution_count": null,
   "metadata": {
    "ExecuteTime": {
     "end_time": "2019-11-08T09:50:36.881232Z",
     "start_time": "2019-11-08T09:50:36.875695Z"
    }
   },
   "outputs": [],
   "source": [
    "arrays.files"
   ]
  },
  {
   "cell_type": "code",
   "execution_count": null,
   "metadata": {
    "ExecuteTime": {
     "end_time": "2019-11-08T09:50:39.983704Z",
     "start_time": "2019-11-08T09:50:39.978213Z"
    }
   },
   "outputs": [],
   "source": [
    "arrays['arr_0']"
   ]
  },
  {
   "cell_type": "code",
   "execution_count": null,
   "metadata": {
    "ExecuteTime": {
     "end_time": "2019-11-08T09:51:12.386482Z",
     "start_time": "2019-11-08T09:51:12.380060Z"
    }
   },
   "outputs": [],
   "source": [
    "np.savez('multiple_arrays', int_array=arr, float_arr=float_arr)"
   ]
  },
  {
   "cell_type": "code",
   "execution_count": null,
   "metadata": {
    "ExecuteTime": {
     "end_time": "2019-11-08T09:51:13.246813Z",
     "start_time": "2019-11-08T09:51:13.242397Z"
    }
   },
   "outputs": [],
   "source": [
    "arrays = np.load('multiple_arrays.npz')"
   ]
  },
  {
   "cell_type": "code",
   "execution_count": null,
   "metadata": {
    "ExecuteTime": {
     "end_time": "2019-11-08T09:51:40.814276Z",
     "start_time": "2019-11-08T09:51:40.805699Z"
    }
   },
   "outputs": [],
   "source": [
    "arrays.files"
   ]
  },
  {
   "cell_type": "code",
   "execution_count": null,
   "metadata": {
    "ExecuteTime": {
     "end_time": "2019-11-08T09:51:48.100869Z",
     "start_time": "2019-11-08T09:51:48.095443Z"
    }
   },
   "outputs": [],
   "source": [
    "float_arr_read = arrays['float_arr']"
   ]
  },
  {
   "cell_type": "code",
   "execution_count": null,
   "metadata": {
    "ExecuteTime": {
     "end_time": "2019-11-08T09:51:50.134117Z",
     "start_time": "2019-11-08T09:51:50.127521Z"
    }
   },
   "outputs": [],
   "source": [
    "float_arr_read"
   ]
  },
  {
   "cell_type": "code",
   "execution_count": null,
   "metadata": {
    "ExecuteTime": {
     "end_time": "2019-11-08T09:51:50.333924Z",
     "start_time": "2019-11-08T09:51:50.322725Z"
    }
   },
   "outputs": [],
   "source": [
    "float_arr"
   ]
  },
  {
   "cell_type": "markdown",
   "metadata": {},
   "source": [
    "## Reading and writing text files"
   ]
  },
  {
   "cell_type": "code",
   "execution_count": null,
   "metadata": {
    "ExecuteTime": {
     "end_time": "2019-10-29T10:48:05.373522Z",
     "start_time": "2019-10-29T10:48:05.369701Z"
    }
   },
   "outputs": [],
   "source": [
    "from io import StringIO"
   ]
  },
  {
   "cell_type": "code",
   "execution_count": null,
   "metadata": {
    "ExecuteTime": {
     "end_time": "2019-10-29T10:48:07.158013Z",
     "start_time": "2019-10-29T10:48:07.150043Z"
    }
   },
   "outputs": [],
   "source": [
    "np.loadtxt(StringIO(\"1 2\\n3 4\"))"
   ]
  },
  {
   "cell_type": "code",
   "execution_count": null,
   "metadata": {
    "ExecuteTime": {
     "end_time": "2019-10-29T10:48:14.524983Z",
     "start_time": "2019-10-29T10:48:14.517382Z"
    }
   },
   "outputs": [],
   "source": [
    "np.loadtxt(StringIO(\"a b\\n1 2\\n3 4\"), skiprows=1)"
   ]
  },
  {
   "cell_type": "code",
   "execution_count": null,
   "metadata": {
    "ExecuteTime": {
     "end_time": "2019-10-29T10:48:17.664009Z",
     "start_time": "2019-10-29T10:48:17.545819Z"
    }
   },
   "outputs": [],
   "source": [
    "np.loadtxt(StringIO(\"a,b\\n1,2\\n3,4\"), skiprows=1)"
   ]
  },
  {
   "cell_type": "code",
   "execution_count": null,
   "metadata": {
    "ExecuteTime": {
     "end_time": "2019-10-29T10:48:29.486837Z",
     "start_time": "2019-10-29T10:48:29.479145Z"
    }
   },
   "outputs": [],
   "source": [
    "np.loadtxt(StringIO(\"a,b\\n1,2\\n3,4\"), skiprows=1, delimiter=',')"
   ]
  },
  {
   "cell_type": "code",
   "execution_count": null,
   "metadata": {
    "ExecuteTime": {
     "end_time": "2019-10-29T10:48:34.720834Z",
     "start_time": "2019-10-29T10:48:34.713680Z"
    }
   },
   "outputs": [],
   "source": [
    "np.savetxt('arr_text.csv', arr, delimiter=',', header=\"Fancy,header\", comments='')"
   ]
  },
  {
   "cell_type": "code",
   "execution_count": null,
   "metadata": {
    "ExecuteTime": {
     "end_time": "2019-10-29T10:48:42.365892Z",
     "start_time": "2019-10-29T10:48:42.294594Z"
    }
   },
   "outputs": [],
   "source": [
    "?np.savetxt"
   ]
  },
  {
   "cell_type": "code",
   "execution_count": null,
   "metadata": {
    "ExecuteTime": {
     "end_time": "2019-10-29T10:48:47.085286Z",
     "start_time": "2019-10-29T10:48:47.080223Z"
    }
   },
   "outputs": [],
   "source": [
    "arr"
   ]
  },
  {
   "cell_type": "code",
   "execution_count": null,
   "metadata": {
    "ExecuteTime": {
     "end_time": "2019-10-29T10:48:54.372516Z",
     "start_time": "2019-10-29T10:48:54.357639Z"
    }
   },
   "outputs": [],
   "source": [
    "?np.genfromtxt"
   ]
  },
  {
   "cell_type": "code",
   "execution_count": null,
   "metadata": {},
   "outputs": [],
   "source": []
  }
 ],
 "metadata": {
  "@webio": {
   "lastCommId": null,
   "lastKernelId": null
  },
  "kernelspec": {
   "display_name": "Python 3",
   "language": "python",
   "name": "python3"
  },
  "language_info": {
   "codemirror_mode": {
    "name": "ipython",
    "version": 3
   },
   "file_extension": ".py",
   "mimetype": "text/x-python",
   "name": "python",
   "nbconvert_exporter": "python",
   "pygments_lexer": "ipython3",
   "version": "3.8.12"
  }
 },
 "nbformat": 4,
 "nbformat_minor": 2
}
