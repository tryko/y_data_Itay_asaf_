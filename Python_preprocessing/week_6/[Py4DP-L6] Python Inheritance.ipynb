{
  "cells": [
    {
      "cell_type": "markdown",
      "metadata": {
        "id": "pi3V7Wfbywgp"
      },
      "source": [
        "# Inheritance in Python\n",
        "\n",
        "**Inheritance** is a powerful feature in object oriented programming.\\\n",
        "It refers to defining a **new class** with little or no modification to an existing class.\\\n",
        "The new class is called derived (or child) class and the one from which it inherits is called the base (or parent) class.\\\n",
        "Derived class inherits features from the base class where new features can be added to it. This results in re-usability of code."
      ]
    },
    {
      "cell_type": "markdown",
      "metadata": {
        "id": "K_Q0QpoZzISh"
      },
      "source": [
        "**Python Inheritance Syntax**\n",
        "\n",
        "```\n",
        "class BaseClass:\n",
        "  Body of base class\n",
        "\n",
        "class DerivedClass(BaseClass):\n",
        "  Body of derived class\n",
        "  ```\n",
        "\n"
      ]
    },
    {
      "cell_type": "markdown",
      "metadata": {
        "id": "sHVW4J0yzhoS"
      },
      "source": [
        "Example of Inheritance in Python\n",
        "To demonstrate the use of inheritance, let us take an example.\n",
        "\n",
        "A **polygon** is a closed figure with 3 or more sides. Let's define a class called Polygon.\\\n",
        "This class has data attributes to store the number of sides **n** and length of each side as a list called **sides**.\\\n",
        "The **inputSides()** method takes in the magnitude of each side and **dispSides()** displays these side lengths."
      ]
    },
    {
      "cell_type": "code",
      "execution_count": 5,
      "metadata": {
        "id": "yKJiLaY8yt0d"
      },
      "outputs": [],
      "source": [
        "class Polygon:\n",
        "    def __init__(self, no_of_sides):\n",
        "        self.n = no_of_sides\n",
        "        self.sides = [0 for i in range(no_of_sides)]\n",
        "\n",
        "    def inputSides(self):\n",
        "        self.sides = [float(input(\"Enter side \"+str(i+1)+\" : \")) for i in range(self.n)]\n",
        "\n",
        "    def dispSides(self):\n",
        "        for i in range(self.n):\n",
        "            print(\"Side\",i+1,\"is\",self.sides[i])"
      ]
    },
    {
      "cell_type": "code",
      "execution_count": 6,
      "metadata": {
        "id": "wlBYqB4Cz1VD"
      },
      "outputs": [
        {
          "ename": "ValueError",
          "evalue": "could not convert string to float: ''",
          "output_type": "error",
          "traceback": [
            "\u001b[1;31m---------------------------------------------------------------------------\u001b[0m",
            "\u001b[1;31mValueError\u001b[0m                                Traceback (most recent call last)",
            "Cell \u001b[1;32mIn[6], line 3\u001b[0m\n\u001b[0;32m      1\u001b[0m \u001b[39m# let's create an object from this class and use it\u001b[39;00m\n\u001b[0;32m      2\u001b[0m p \u001b[39m=\u001b[39m Polygon(\u001b[39m3\u001b[39m)\n\u001b[1;32m----> 3\u001b[0m p\u001b[39m.\u001b[39;49minputSides()\n\u001b[0;32m      4\u001b[0m p\u001b[39m.\u001b[39mdispSides()\n",
            "Cell \u001b[1;32mIn[5], line 7\u001b[0m, in \u001b[0;36mPolygon.inputSides\u001b[1;34m(self)\u001b[0m\n\u001b[0;32m      6\u001b[0m \u001b[39mdef\u001b[39;00m \u001b[39minputSides\u001b[39m(\u001b[39mself\u001b[39m):\n\u001b[1;32m----> 7\u001b[0m     \u001b[39mself\u001b[39m\u001b[39m.\u001b[39msides \u001b[39m=\u001b[39m [\u001b[39mfloat\u001b[39;49m(\u001b[39minput\u001b[39;49m(\u001b[39m\"\u001b[39;49m\u001b[39mEnter side \u001b[39;49m\u001b[39m\"\u001b[39;49m\u001b[39m+\u001b[39;49m\u001b[39mstr\u001b[39;49m(i\u001b[39m+\u001b[39;49m\u001b[39m1\u001b[39;49m)\u001b[39m+\u001b[39;49m\u001b[39m\"\u001b[39;49m\u001b[39m : \u001b[39;49m\u001b[39m\"\u001b[39;49m)) \u001b[39mfor\u001b[39;49;00m i \u001b[39min\u001b[39;49;00m \u001b[39mrange\u001b[39;49m(\u001b[39mself\u001b[39;49m\u001b[39m.\u001b[39;49mn)]\n",
            "Cell \u001b[1;32mIn[5], line 7\u001b[0m, in \u001b[0;36m<listcomp>\u001b[1;34m(.0)\u001b[0m\n\u001b[0;32m      6\u001b[0m \u001b[39mdef\u001b[39;00m \u001b[39minputSides\u001b[39m(\u001b[39mself\u001b[39m):\n\u001b[1;32m----> 7\u001b[0m     \u001b[39mself\u001b[39m\u001b[39m.\u001b[39msides \u001b[39m=\u001b[39m [\u001b[39mfloat\u001b[39;49m(\u001b[39minput\u001b[39;49m(\u001b[39m\"\u001b[39;49m\u001b[39mEnter side \u001b[39;49m\u001b[39m\"\u001b[39;49m\u001b[39m+\u001b[39;49m\u001b[39mstr\u001b[39;49m(i\u001b[39m+\u001b[39;49m\u001b[39m1\u001b[39;49m)\u001b[39m+\u001b[39;49m\u001b[39m\"\u001b[39;49m\u001b[39m : \u001b[39;49m\u001b[39m\"\u001b[39;49m)) \u001b[39mfor\u001b[39;00m i \u001b[39min\u001b[39;00m \u001b[39mrange\u001b[39m(\u001b[39mself\u001b[39m\u001b[39m.\u001b[39mn)]\n",
            "\u001b[1;31mValueError\u001b[0m: could not convert string to float: ''"
          ]
        }
      ],
      "source": [
        "# let's create an object from this class and use it\n",
        "p = Polygon(3)\n",
        "p.inputSides()\n",
        "p.dispSides()"
      ]
    },
    {
      "cell_type": "markdown",
      "metadata": {
        "id": "WCjIQaUZ0b6z"
      },
      "source": [
        "A **triangle** is a polygon with 3 sides. So, we can create a class called Triangle which inherits from Polygon. This makes all the attributes of Polygon class available to the Triangle class, so we don't need to define them again (code reusability).\\\n",
        "Let's define a class Triangle, that will also include a new method **findArea()** to find and print the area of the triangle.\\\n",
        "Note that we couldn't have defined that method in the base class Polygon, as area is calculated differently for differently sided polygons."
      ]
    },
    {
      "cell_type": "code",
      "execution_count": null,
      "metadata": {
        "id": "h_oUuMpY0bTf"
      },
      "outputs": [
        {
          "ename": "",
          "evalue": "",
          "output_type": "error",
          "traceback": [
            "\u001b[1;31mRunning cells with 'Python 3.11.0 64-bit' requires ipykernel package.\n",
            "\u001b[1;31mRun the following command to install 'ipykernel' into the Python environment. \n",
            "\u001b[1;31mCommand: 'c:/Users/itay8/AppData/Local/Programs/Python/Python311/python.exe -m pip install ipykernel -U --user --force-reinstall'"
          ]
        }
      ],
      "source": [
        "class Triangle(Polygon):\n",
        "    def __init__(self):\n",
        "        super().__init__(3) # this is like Polygon.__init__(self, 3), that calls the constructor of the base class\n",
        "\n",
        "    def findArea(self):\n",
        "        a, b, c = self.sides\n",
        "        # calculate the semi-perimeter\n",
        "        s = (a + b + c) / 2\n",
        "        area = (s*(s-a)*(s-b)*(s-c)) ** 0.5\n",
        "        print('The area of the triangle is %0.2f' %area)"
      ]
    },
    {
      "cell_type": "code",
      "execution_count": null,
      "metadata": {
        "id": "alGicmgU0PjU"
      },
      "outputs": [
        {
          "ename": "",
          "evalue": "",
          "output_type": "error",
          "traceback": [
            "\u001b[1;31mRunning cells with 'Python 3.11.0 64-bit' requires ipykernel package.\n",
            "\u001b[1;31mRun the following command to install 'ipykernel' into the Python environment. \n",
            "\u001b[1;31mCommand: 'c:/Users/itay8/AppData/Local/Programs/Python/Python311/python.exe -m pip install ipykernel -U --user --force-reinstall'"
          ]
        }
      ],
      "source": [
        "# let's create an object from Triangle class and use it\n",
        "t = Triangle()\n",
        "t.inputSides()\n",
        "t.dispSides() # using inherited method\n",
        "t.findArea() # using a method defined in the Triengle class"
      ]
    },
    {
      "cell_type": "markdown",
      "metadata": {
        "id": "_AVn-o1w14xO"
      },
      "source": [
        "We can see that even though we did not define methods like **inputSides()** or **dispSides()**\n",
        " for class Triangle separately, we were able to use them.\n",
        "\n",
        "If an attribute is not found in the class itself, the search continues to the base class. This repeats recursively, if the base class is itself derived from other classes."
      ]
    },
    {
      "cell_type": "markdown",
      "metadata": {
        "id": "EFUPjWXJ3UeR"
      },
      "source": [
        "## Method Overriding in Python\n",
        "\n",
        "In the above example, notice that `__init__()` method was defined in both classes, Triangle as well Polygon. When this happens, the method in the derived class **overrides** that in the base class. This is to say, `__init__()` in Triangle gets preference over the `__init__` in Polygon.\n",
        "\n",
        "Generally when overriding a base method, we tend to extend the definition rather than simply replace it. The same is being done by calling the method in base class from the one in derived class (calling `Polygon.__init__()` from `__init__()` in Triangle).\n",
        "\n",
        "A better option would be to use the built-in function super(). So, `super().__init__(3)` is equivalent to `Polygon.__init__(self,3)` and is preferred."
      ]
    },
    {
      "cell_type": "markdown",
      "metadata": {
        "id": "VEBh3ZQx4aKv"
      },
      "source": [
        "## Checking iheritance\n",
        "\n",
        "Two built-in functions `isinstance()` and `issubclass()` are used to check inheritances.\n",
        "\n",
        "The function `isinstance()` returns True if the object is an instance of the class or other classes derived from it. Each and every class in Python inherits from the base class `object`."
      ]
    },
    {
      "cell_type": "code",
      "execution_count": null,
      "metadata": {
        "id": "5qP-U-qI17l8"
      },
      "outputs": [
        {
          "ename": "",
          "evalue": "",
          "output_type": "error",
          "traceback": [
            "\u001b[1;31mRunning cells with 'Python 3.11.0 64-bit' requires ipykernel package.\n",
            "\u001b[1;31mRun the following command to install 'ipykernel' into the Python environment. \n",
            "\u001b[1;31mCommand: 'c:/Users/itay8/AppData/Local/Programs/Python/Python311/python.exe -m pip install ipykernel -U --user --force-reinstall'"
          ]
        }
      ],
      "source": [
        "isinstance(t,Triangle), isinstance(t,Polygon), isinstance(t,int), isinstance(t,object)"
      ]
    },
    {
      "cell_type": "markdown",
      "metadata": {
        "id": "0HjLbZmG43-2"
      },
      "source": [
        "Similarly, `issubclass()` is used to check for class inheritance."
      ]
    },
    {
      "cell_type": "code",
      "execution_count": null,
      "metadata": {
        "id": "-wO8DbHt4zIX"
      },
      "outputs": [],
      "source": [
        "issubclass(Polygon,Triangle), issubclass(Triangle,Polygon), issubclass(bool,int)"
      ]
    }
  ],
  "metadata": {
    "colab": {
      "provenance": []
    },
    "kernelspec": {
      "display_name": "Python 3.11.0 64-bit",
      "language": "python",
      "name": "python3"
    },
    "language_info": {
      "codemirror_mode": {
        "name": "ipython",
        "version": 3
      },
      "file_extension": ".py",
      "mimetype": "text/x-python",
      "name": "python",
      "nbconvert_exporter": "python",
      "pygments_lexer": "ipython3",
      "version": "3.11.0"
    },
    "vscode": {
      "interpreter": {
        "hash": "6d04047d2253f287091e9caf71fa3f6c1ebc788e61497cfe430ec057946d30f1"
      }
    }
  },
  "nbformat": 4,
  "nbformat_minor": 0
}
