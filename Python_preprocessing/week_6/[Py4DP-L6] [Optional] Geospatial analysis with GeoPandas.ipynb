{
 "cells": [
  {
   "cell_type": "code",
   "execution_count": null,
   "metadata": {
    "ExecuteTime": {
     "end_time": "2019-12-03T11:42:45.550693Z",
     "start_time": "2019-12-03T11:42:43.766333Z"
    }
   },
   "outputs": [],
   "source": [
    "%pylab inline\n",
    "plt.style.use('bmh')\n",
    "\n",
    "import seaborn as sns\n",
    "import numpy as np\n",
    "import pandas as pd\n",
    "import geopandas as gpd"
   ]
  },
  {
   "cell_type": "markdown",
   "metadata": {},
   "source": [
    "# Intro\n",
    "\n",
    "Pandas dataframes are great for data exploration. But they have some limitations. One of them is that it's not possible to use geospatial information in exploratory data analysis. GeoPandas aims at solving this problem.\n",
    "\n",
    "GeoPandas provides two abstractions: `GeoDataFrame` and `GeoSeries`. At their core, they are usual dataframes and series, but with each row being equipped with geometry. This allows to perform more complex queries, for example:\n",
    "\n",
    "- select all the rows, which are inside some area,\n",
    "- select all the rows with underlying geometry area above threshold.\n",
    "\n",
    "GeoPandas also provides a lot of typical geospatiial operations in a vectorized form similar to `apply`, `groupby` and `join`, as well as I/O operations like saving to PostGIS, or reading GeoJSON or shapefiles."
   ]
  },
  {
   "cell_type": "markdown",
   "metadata": {},
   "source": [
    "# Shapelly geometries\n",
    "\n",
    "The main Python package, which provides geometry operations, is **Shapely**. It contains all the main geometry primitives (points, lines, polygons, multi-ppolygons, etc.) and common operations on them.\n",
    "\n",
    "Shapely also knows how to visualize the geometry, which is very useful during EDA. Note, however, that Shapely knows nothing about coordinate reference systems, and this functionality is provided by other packages, which GeoPandas relies on."
   ]
  },
  {
   "cell_type": "code",
   "execution_count": null,
   "metadata": {
    "ExecuteTime": {
     "end_time": "2019-12-03T11:42:46.519151Z",
     "start_time": "2019-12-03T11:42:46.514074Z"
    }
   },
   "outputs": [],
   "source": [
    "import shapely"
   ]
  },
  {
   "cell_type": "markdown",
   "metadata": {},
   "source": [
    "The most simple primitive geometry type is point:"
   ]
  },
  {
   "cell_type": "code",
   "execution_count": null,
   "metadata": {
    "ExecuteTime": {
     "end_time": "2019-12-03T11:42:46.551740Z",
     "start_time": "2019-12-03T11:42:46.523131Z"
    }
   },
   "outputs": [],
   "source": [
    "point = shapely.geometry.Point(0.25, 0.5)\n",
    "point"
   ]
  },
  {
   "cell_type": "markdown",
   "metadata": {},
   "source": [
    "Naturally, point has no area:"
   ]
  },
  {
   "cell_type": "code",
   "execution_count": null,
   "metadata": {
    "ExecuteTime": {
     "end_time": "2019-12-03T11:42:46.571468Z",
     "start_time": "2019-12-03T11:42:46.555937Z"
    }
   },
   "outputs": [],
   "source": [
    "point.area"
   ]
  },
  {
   "cell_type": "markdown",
   "metadata": {},
   "source": [
    "Polygons are created from list of points or pairs of coordinates:"
   ]
  },
  {
   "cell_type": "code",
   "execution_count": null,
   "metadata": {
    "ExecuteTime": {
     "end_time": "2019-12-03T11:42:46.585640Z",
     "start_time": "2019-12-03T11:42:46.575592Z"
    }
   },
   "outputs": [],
   "source": [
    "polygon = shapely.geometry.Polygon([(0, 0), (0, 1), (1, 1), (1, 0)])\n",
    "polygon"
   ]
  },
  {
   "cell_type": "code",
   "execution_count": null,
   "metadata": {
    "ExecuteTime": {
     "end_time": "2019-12-03T11:42:46.598374Z",
     "start_time": "2019-12-03T11:42:46.589371Z"
    }
   },
   "outputs": [],
   "source": [
    "polygon = shapely.geometry.Polygon([(0, 0), (0, 1), (1, 1)])\n",
    "polygon"
   ]
  },
  {
   "cell_type": "markdown",
   "metadata": {},
   "source": [
    "We can easily calculate polygon area, or it's bounding box:"
   ]
  },
  {
   "cell_type": "code",
   "execution_count": null,
   "metadata": {
    "ExecuteTime": {
     "end_time": "2019-12-03T11:42:46.634705Z",
     "start_time": "2019-12-03T11:42:46.623196Z"
    }
   },
   "outputs": [],
   "source": [
    "polygon.area, polygon.bounds"
   ]
  },
  {
   "cell_type": "markdown",
   "metadata": {},
   "source": [
    "Polygon boundary may be extracted as well:"
   ]
  },
  {
   "cell_type": "code",
   "execution_count": null,
   "metadata": {
    "ExecuteTime": {
     "end_time": "2019-12-03T11:42:46.657536Z",
     "start_time": "2019-12-03T11:42:46.643246Z"
    }
   },
   "outputs": [],
   "source": [
    "polygon.boundary"
   ]
  },
  {
   "cell_type": "markdown",
   "metadata": {},
   "source": [
    "Note, that, again, point boundary is just empty:"
   ]
  },
  {
   "cell_type": "code",
   "execution_count": null,
   "metadata": {},
   "outputs": [],
   "source": [
    "point.boundary"
   ]
  },
  {
   "cell_type": "markdown",
   "metadata": {},
   "source": [
    "Let's check if polygon boundary is a polygon itself (it's not, of course):"
   ]
  },
  {
   "cell_type": "code",
   "execution_count": null,
   "metadata": {
    "ExecuteTime": {
     "end_time": "2019-12-03T11:42:46.677005Z",
     "start_time": "2019-12-03T11:42:46.663868Z"
    }
   },
   "outputs": [],
   "source": [
    "type(polygon.boundary), polygon.bounds"
   ]
  },
  {
   "cell_type": "markdown",
   "metadata": {},
   "source": [
    "We can create lines strings directly:"
   ]
  },
  {
   "cell_type": "code",
   "execution_count": null,
   "metadata": {
    "ExecuteTime": {
     "end_time": "2019-12-03T11:42:46.690556Z",
     "start_time": "2019-12-03T11:42:46.681019Z"
    }
   },
   "outputs": [],
   "source": [
    "line = shapely.geometry.LineString([(0, 0), (0, 1), (1, 1)])\n",
    "line"
   ]
  },
  {
   "cell_type": "markdown",
   "metadata": {},
   "source": [
    "Order of points matters for line strings:"
   ]
  },
  {
   "cell_type": "code",
   "execution_count": null,
   "metadata": {},
   "outputs": [],
   "source": [
    "line = shapely.geometry.LineString([(0, 0), (1, 1), (0, 1)])\n",
    "line"
   ]
  },
  {
   "cell_type": "markdown",
   "metadata": {},
   "source": [
    "Is it for polygon?"
   ]
  },
  {
   "cell_type": "code",
   "execution_count": null,
   "metadata": {},
   "outputs": [],
   "source": [
    "polygon = shapely.geometry.Polygon([(0, 0), (1, 1), (0, 1)])\n",
    "polygon"
   ]
  },
  {
   "cell_type": "markdown",
   "metadata": {},
   "source": [
    "Shapely provides binary geometric operations:"
   ]
  },
  {
   "cell_type": "code",
   "execution_count": null,
   "metadata": {
    "ExecuteTime": {
     "end_time": "2019-12-03T11:42:46.715220Z",
     "start_time": "2019-12-03T11:42:46.705466Z"
    }
   },
   "outputs": [],
   "source": [
    "point.within(polygon)"
   ]
  },
  {
   "cell_type": "code",
   "execution_count": null,
   "metadata": {
    "ExecuteTime": {
     "end_time": "2019-12-03T11:42:46.733417Z",
     "start_time": "2019-12-03T11:42:46.719859Z"
    }
   },
   "outputs": [],
   "source": [
    "polygon_alt = shapely.geometry.Polygon([(0, 1), (1, 1), (1, 0)])\n",
    "polygon_alt"
   ]
  },
  {
   "cell_type": "code",
   "execution_count": null,
   "metadata": {
    "ExecuteTime": {
     "end_time": "2019-12-03T11:42:46.754834Z",
     "start_time": "2019-12-03T11:42:46.739631Z"
    }
   },
   "outputs": [],
   "source": [
    "polygon.intersection(polygon_alt)"
   ]
  },
  {
   "cell_type": "code",
   "execution_count": null,
   "metadata": {
    "ExecuteTime": {
     "end_time": "2019-12-03T11:42:46.779392Z",
     "start_time": "2019-12-03T11:42:46.764995Z"
    }
   },
   "outputs": [],
   "source": [
    "polygon.union(polygon_alt)"
   ]
  },
  {
   "cell_type": "markdown",
   "metadata": {},
   "source": [
    "We can create simpler primitives directly (boxes are very common and there's a shortcut in Shapely):"
   ]
  },
  {
   "cell_type": "code",
   "execution_count": null,
   "metadata": {
    "ExecuteTime": {
     "end_time": "2019-12-03T11:42:46.804402Z",
     "start_time": "2019-12-03T11:42:46.791875Z"
    }
   },
   "outputs": [],
   "source": [
    "bbox = shapely.geometry.box(0.25, 0.25, 0.75, 0.75)\n",
    "bbox"
   ]
  },
  {
   "cell_type": "code",
   "execution_count": null,
   "metadata": {
    "ExecuteTime": {
     "end_time": "2019-12-03T11:42:46.823461Z",
     "start_time": "2019-12-03T11:42:46.810982Z"
    }
   },
   "outputs": [],
   "source": [
    "polygon.union(bbox)"
   ]
  },
  {
   "cell_type": "code",
   "execution_count": null,
   "metadata": {
    "ExecuteTime": {
     "end_time": "2019-12-03T11:42:46.843044Z",
     "start_time": "2019-12-03T11:42:46.830650Z"
    }
   },
   "outputs": [],
   "source": [
    "polygon.difference(bbox)"
   ]
  },
  {
   "cell_type": "code",
   "execution_count": null,
   "metadata": {
    "ExecuteTime": {
     "end_time": "2019-12-03T11:42:46.861379Z",
     "start_time": "2019-12-03T11:42:46.849398Z"
    }
   },
   "outputs": [],
   "source": [
    "polygon.symmetric_difference(bbox)"
   ]
  },
  {
   "cell_type": "markdown",
   "metadata": {},
   "source": [
    "# Reading shapefiles\n",
    "\n",
    "There are various formats to store geospatial data. One of the most common is shapefile. It's a binary format and is typically read with Fiona package or directly with GeoPandas.\n",
    "\n",
    "To experiment, we will download shapefile of London area from [London Datastore](https://data.london.gov.uk/dataset/statistical-gis-boundary-files-london).\n",
    "\n",
    "Specifically, we will use `London_Ward_CityMerged.shp`, extracted from `ESRI` directory in `statistical-gis-boundaries-london.zip`. Note, that you also need `.shx` file (it contains offset and other information for proper reading of shapefile). You can take these files directly from the campus, but we encourage you to play with other files on that page as well."
   ]
  },
  {
   "cell_type": "markdown",
   "metadata": {},
   "source": [
    "The main entry point for reading files with geospatial information is `gpd.read_file`:"
   ]
  },
  {
   "cell_type": "code",
   "execution_count": null,
   "metadata": {
    "ExecuteTime": {
     "end_time": "2019-12-03T11:42:47.025673Z",
     "start_time": "2019-12-03T11:42:46.867041Z"
    }
   },
   "outputs": [],
   "source": [
    "london_areas = gpd.read_file(\"London_Ward_CityMerged.shp\")"
   ]
  },
  {
   "cell_type": "markdown",
   "metadata": {},
   "source": [
    "Similar to usual dataframes, GeoPandas provides plotting directly on geo-dataframes. In this case we plot polygons and color them by their integer index (you can reverse-engineer the groupping of wards from the plot): "
   ]
  },
  {
   "cell_type": "code",
   "execution_count": null,
   "metadata": {
    "ExecuteTime": {
     "end_time": "2019-12-03T11:42:48.087964Z",
     "start_time": "2019-12-03T11:42:47.031193Z"
    }
   },
   "outputs": [],
   "source": [
    "london_areas.plot(column=london_areas.index.values)"
   ]
  },
  {
   "cell_type": "code",
   "execution_count": null,
   "metadata": {
    "ExecuteTime": {
     "end_time": "2019-12-03T11:42:48.116270Z",
     "start_time": "2019-12-03T11:42:48.092971Z"
    }
   },
   "outputs": [],
   "source": [
    "print(f\"Total area, km2: {london_areas.area.sum()/1e6}\")"
   ]
  },
  {
   "cell_type": "markdown",
   "metadata": {},
   "source": [
    "# Creating `GeoDataFrame` from a usual dataframe\n",
    "\n",
    "Now that we know how to read some shapefiles and can use them to filter our data, we need to create an actual `GeoDataFrame`. For this, we'll use assidents data from time series notebook. Note, that both London wards and accidents use easting and northing and not global `lat/lon` coordinates. This is typical when working with country level data, as local coordinates are linear and in meters and are much faster and convenient to work with."
   ]
  },
  {
   "cell_type": "code",
   "execution_count": null,
   "metadata": {
    "ExecuteTime": {
     "end_time": "2019-12-03T11:42:51.084170Z",
     "start_time": "2019-12-03T11:42:48.122225Z"
    }
   },
   "outputs": [],
   "source": [
    "df = pd.read_csv('accidents_2005_to_2007.csv.zip',\n",
    "                 usecols=[\"Accident_Index\", \"Accident_Severity\", \"Number_of_Vehicles\",\n",
    "                          \"Number_of_Casualties\", \"Year\",\n",
    "                          \"Location_Easting_OSGR\", \"Location_Northing_OSGR\"])"
   ]
  },
  {
   "cell_type": "markdown",
   "metadata": {},
   "source": [
    "We now create a `GeoDataFrame` by specifying the geometry directly:"
   ]
  },
  {
   "cell_type": "code",
   "execution_count": null,
   "metadata": {
    "ExecuteTime": {
     "end_time": "2019-12-03T11:43:02.102914Z",
     "start_time": "2019-12-03T11:42:51.088241Z"
    }
   },
   "outputs": [],
   "source": [
    "gdf = gpd.GeoDataFrame(df[[\"Accident_Index\", \"Year\", \"Accident_Severity\", \"Number_of_Vehicles\", \"Number_of_Casualties\"]],\n",
    "                       geometry=gpd.points_from_xy(*df[[\"Location_Easting_OSGR\", \"Location_Northing_OSGR\"]].values.T))\n",
    "gdf"
   ]
  },
  {
   "cell_type": "markdown",
   "metadata": {},
   "source": [
    "Coordinates are provided in separate columns, hence, we have to create geomerties manually. In general, GeoPandas knows how to handle `geometry` column in many formats, most common being WKT (Well Known Text).\n",
    "\n",
    "We can now easily perform mixed queries. For example, get all accidents in ward `0` (or any other geometry) with at least three vehicles involved:"
   ]
  },
  {
   "cell_type": "code",
   "execution_count": null,
   "metadata": {
    "ExecuteTime": {
     "end_time": "2019-12-03T11:43:08.190038Z",
     "start_time": "2019-12-03T11:43:02.108286Z"
    }
   },
   "outputs": [],
   "source": [
    "gdf[gdf.within(london_areas.geometry.iloc[0]) & (gdf.Number_of_Vehicles==3)]"
   ]
  },
  {
   "cell_type": "markdown",
   "metadata": {},
   "source": [
    "Or we can plot some query and color by some specific column (note how default Viridis colormap is used):"
   ]
  },
  {
   "cell_type": "code",
   "execution_count": null,
   "metadata": {
    "ExecuteTime": {
     "end_time": "2019-12-03T11:43:14.524287Z",
     "start_time": "2019-12-03T11:43:08.201000Z"
    }
   },
   "outputs": [],
   "source": [
    "gdf[gdf.within(london_areas.geometry.iloc[0]) & (gdf.Accident_Severity<=2)].plot(column=\"Number_of_Casualties\")"
   ]
  },
  {
   "cell_type": "markdown",
   "metadata": {},
   "source": [
    "# Common operations\n",
    "\n",
    "Various geospatial operations are very common when doing analysis on geographical data. For example, we may want to calculate number of accidents per ward in 2005.\n",
    "\n",
    "To do this, we perform **spatial join** between accidents dataset and London areas dataset.\n",
    "\n",
    "**Note:** join will fail, if we have missing coordinates, so let's remove those from the dataframe:"
   ]
  },
  {
   "cell_type": "code",
   "execution_count": null,
   "metadata": {
    "ExecuteTime": {
     "end_time": "2019-12-03T11:43:14.686719Z",
     "start_time": "2019-12-03T11:43:14.530046Z"
    }
   },
   "outputs": [],
   "source": [
    "gdf = gdf[df.Location_Easting_OSGR.notnull() & df.Location_Northing_OSGR.notnull()]"
   ]
  },
  {
   "cell_type": "code",
   "execution_count": null,
   "metadata": {},
   "outputs": [],
   "source": [
    "gdf.head()"
   ]
  },
  {
   "cell_type": "markdown",
   "metadata": {},
   "source": [
    "Spatial join is performed by `gpd.sjoin`:"
   ]
  },
  {
   "cell_type": "code",
   "execution_count": null,
   "metadata": {
    "ExecuteTime": {
     "end_time": "2019-12-03T11:44:07.289205Z",
     "start_time": "2019-12-03T11:43:14.694504Z"
    }
   },
   "outputs": [],
   "source": [
    "gpd_london = gpd.sjoin(gdf[gdf.Year==2005], london_areas)"
   ]
  },
  {
   "cell_type": "markdown",
   "metadata": {},
   "source": [
    "Note, that join can be performed with different types of geometric comparison and the default is `intersects` (sometimes you may need to go with `within`, but it's irrelevant in thi case as we have points in accidents dataset):"
   ]
  },
  {
   "cell_type": "code",
   "execution_count": null,
   "metadata": {},
   "outputs": [],
   "source": [
    "gpd.sjoin?"
   ]
  },
  {
   "cell_type": "markdown",
   "metadata": {
    "ExecuteTime": {
     "end_time": "2019-12-03T11:37:25.193465Z",
     "start_time": "2019-12-03T11:37:25.184289Z"
    }
   },
   "source": [
    "We now know, in which city area each accident happened. Note, that the resulting dataframe only contains those accidents, which happened in London (see dataframe shape):"
   ]
  },
  {
   "cell_type": "code",
   "execution_count": null,
   "metadata": {
    "ExecuteTime": {
     "end_time": "2019-12-03T11:44:07.343901Z",
     "start_time": "2019-12-03T11:44:07.292991Z"
    }
   },
   "outputs": [],
   "source": [
    "gpd_london"
   ]
  },
  {
   "cell_type": "markdown",
   "metadata": {},
   "source": [
    "One final touch:"
   ]
  },
  {
   "cell_type": "code",
   "execution_count": null,
   "metadata": {
    "ExecuteTime": {
     "end_time": "2019-12-03T11:44:07.376713Z",
     "start_time": "2019-12-03T11:44:07.356891Z"
    }
   },
   "outputs": [],
   "source": [
    "gpd_london.rename({\"index_right\":\"city_area\"}, axis=1, inplace=True)"
   ]
  },
  {
   "cell_type": "markdown",
   "metadata": {},
   "source": [
    "We can now perform generic analysis:"
   ]
  },
  {
   "cell_type": "code",
   "execution_count": null,
   "metadata": {
    "ExecuteTime": {
     "end_time": "2019-12-03T11:44:08.085522Z",
     "start_time": "2019-12-03T11:44:07.384956Z"
    }
   },
   "outputs": [],
   "source": [
    "plt.figure(figsize=(6,6))\n",
    "gpd_london.groupby(\"city_area\").size().plot(kind=\"hist\", range=(0, 1000), bins=10)\n",
    "plt.xlabel(\"Number of accidents per city area\");"
   ]
  },
  {
   "cell_type": "code",
   "execution_count": null,
   "metadata": {
    "ExecuteTime": {
     "end_time": "2019-12-03T11:44:08.673017Z",
     "start_time": "2019-12-03T11:44:08.089098Z"
    }
   },
   "outputs": [],
   "source": [
    "plt.figure(figsize=(6,6))\n",
    "(1e6*gpd_london.groupby(\"city_area\").size()/london_areas.area).plot(kind=\"hist\", range=(0, 500), bins=10)\n",
    "plt.xlabel(\"Number of accidents per city area/per km2\");"
   ]
  },
  {
   "cell_type": "markdown",
   "metadata": {},
   "source": [
    "However, it's interesting to look at the data we've got so far on a plot:"
   ]
  },
  {
   "cell_type": "code",
   "execution_count": null,
   "metadata": {},
   "outputs": [],
   "source": [
    "london_areas = london_areas.join(gpd_london.groupby(\"city_area\").size().rename(\"accidents_2005\"))"
   ]
  },
  {
   "cell_type": "code",
   "execution_count": null,
   "metadata": {},
   "outputs": [],
   "source": [
    "plt.figure(figsize=(6,6))\n",
    "london_areas.plot(column=\"accidents_2005\", ax=plt.gca())\n",
    "\n",
    "sns.despine(left=True, bottom=True)\n",
    "plt.gca().set_facecolor(\"white\")"
   ]
  },
  {
   "cell_type": "markdown",
   "metadata": {},
   "source": [
    "With this basic knowledge, you may dig deeper into the topic and explore relations with, for example, some demographic information (you'll need to search for it!) or other information. Try to figure out how to plot this on a map (you may find [Basemap Matplotlib toolkit](https://matplotlib.org/basemap/index.html) useful)."
   ]
  },
  {
   "cell_type": "code",
   "execution_count": null,
   "metadata": {},
   "outputs": [],
   "source": []
  }
 ],
 "metadata": {
  "@webio": {
   "lastCommId": null,
   "lastKernelId": null
  },
  "kernelspec": {
   "display_name": "Python 3",
   "language": "python",
   "name": "python3"
  },
  "language_info": {
   "codemirror_mode": {
    "name": "ipython",
    "version": 3
   },
   "file_extension": ".py",
   "mimetype": "text/x-python",
   "name": "python",
   "nbconvert_exporter": "python",
   "pygments_lexer": "ipython3",
   "version": "3.8.12"
  }
 },
 "nbformat": 4,
 "nbformat_minor": 2
}
