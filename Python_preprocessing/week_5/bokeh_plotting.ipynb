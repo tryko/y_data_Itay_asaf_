{
 "cells": [
  {
   "cell_type": "markdown",
   "metadata": {},
   "source": [
    "https://github.com/ydataschool/python-and-bokeh\n",
    "\n",
    "https://medium.com/y-data-stories/the-beginners-guide-to-creating-interactive-dashboards-with-python-and-bokeh-part-i-3826ea197a1b\n",
    "\n",
    "https://medium.com/y-data-stories/python-and-bokeh-part-ii-d81024c9578f\n",
    "\n",
    "https://medium.com/y-data-stories/python-and-bokeh-part-iii-tutorial-116aa2e873ebm\n"
   ]
  },
  {
   "cell_type": "markdown",
   "metadata": {},
   "source": [
    "https://missing.csail.mit.edu/"
   ]
  },
  {
   "cell_type": "markdown",
   "metadata": {},
   "source": []
  }
 ],
 "metadata": {
  "kernelspec": {
   "display_name": "Python 3.9.13 ('base')",
   "language": "python",
   "name": "python3"
  },
  "language_info": {
   "name": "python",
   "version": "3.9.13"
  },
  "orig_nbformat": 4,
  "vscode": {
   "interpreter": {
    "hash": "97bf5cac092693491f9f0c093044444828bd281c57f8a7f0d4a6df9d6c416292"
   }
  }
 },
 "nbformat": 4,
 "nbformat_minor": 2
}
